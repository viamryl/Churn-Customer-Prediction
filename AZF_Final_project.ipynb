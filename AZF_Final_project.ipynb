{
  "cells": [
    {
      "cell_type": "markdown",
      "metadata": {
        "id": "l9enocsRcIe7"
      },
      "source": [
        "<h1> Data Preparation </h1>"
      ]
    },
    {
      "cell_type": "code",
      "execution_count": null,
      "metadata": {
        "id": "BbmKl5ip-wdw"
      },
      "outputs": [],
      "source": [
        "import numpy as np\n",
        "np.set_printoptions(linewidth=80)\n",
        "\n",
        "import pandas as pd\n",
        "pd.set_option('max_rows', 100)\n",
        "pd.set_option('max_columns', 20)\n",
        "pd.set_option('display.max_colwidth', 100)\n",
        "from pandas.io.json import json_normalize\n",
        "\n",
        "import datetime\n",
        "import json\n",
        "import ast\n",
        "import csv\n",
        "import ast\n",
        "from datetime import date\n",
        "\n",
        "from geopy.geocoders import Nominatim\n",
        "\n",
        "import imblearn\n",
        "from imblearn.over_sampling import SMOTENC\n",
        "\n",
        "from sklearn.metrics import confusion_matrix\n",
        "from sklearn.metrics import classification_report\n",
        "from sklearn.metrics import accuracy_score, confusion_matrix,roc_curve, auc, \\\n",
        "roc_auc_score, precision_score, recall_score, precision_recall_curve\n",
        "from sklearn.model_selection import cross_validate, cross_val_score\n",
        "from sklearn.linear_model import LogisticRegression\n",
        "logreg = LogisticRegression(random_state=0)\n",
        "from sklearn.ensemble import RandomForestClassifier\n",
        "rfc = RandomForestClassifier(random_state=0)\n",
        "from sklearn.svm import LinearSVC\n",
        "lsvc = LinearSVC(random_state=0)\n",
        "from sklearn.naive_bayes import GaussianNB\n",
        "gnb = GaussianNB()\n",
        "\n",
        "import matplotlib.pyplot as plt\n",
        "import seaborn as sns\n",
        "import numpy as np\n",
        "from scipy import stats"
      ]
    },
    {
      "cell_type": "code",
      "execution_count": null,
      "metadata": {
        "colab": {
          "base_uri": "https://localhost:8080/"
        },
        "id": "MB0__M0H65_4",
        "outputId": "bfdd114b-c761-4b54-9679-cce6e479b15f"
      },
      "outputs": [
        {
          "output_type": "stream",
          "name": "stdout",
          "text": [
            "Mounted at /content/drive\n"
          ]
        }
      ],
      "source": [
        "from google.colab import drive\n",
        "drive.mount('/content/drive')"
      ]
    },
    {
      "cell_type": "code",
      "execution_count": null,
      "metadata": {
        "colab": {
          "base_uri": "https://localhost:8080/",
          "height": 35
        },
        "id": "ULj6cNdRcrPZ",
        "outputId": "3c5be84c-ca14-46c1-a013-8238782952ae"
      },
      "outputs": [
        {
          "data": {
            "application/vnd.google.colaboratory.intrinsic+json": {
              "type": "string"
            },
            "text/plain": [
              "\"from google.colab import files\\nclick_stream.to_csv('click_stream.csv', index=False) \\nfiles.download('click_stream.csv')\\n\""
            ]
          },
          "execution_count": 3,
          "metadata": {},
          "output_type": "execute_result"
        }
      ],
      "source": [
        "'''from google.colab import files\n",
        "click_stream.to_csv('click_stream.csv', index=False) \n",
        "files.download('click_stream.csv')\n",
        "'''\n",
        "\n"
      ]
    },
    {
      "cell_type": "code",
      "execution_count": null,
      "metadata": {
        "id": "vAdiwldaiqAH"
      },
      "outputs": [],
      "source": [
        "#transactions = pd.read_csv(\"/content/drive/MyDrive/Datasets/transactions2.csv\", converters={'product_metadata': ast.literal_eval})\n",
        "#click_stream = pd.read_csv('/content/drive/MyDrive/Datasets/click_stream2.csv', converters={'event_metadata': ast.literal_eval})"
      ]
    },
    {
      "cell_type": "code",
      "execution_count": null,
      "metadata": {
        "colab": {
          "base_uri": "https://localhost:8080/"
        },
        "id": "TBwE_GFB7FVK",
        "outputId": "1714eaf3-2bc5-4931-bb2b-a617b6a04446"
      },
      "outputs": [
        {
          "name": "stderr",
          "output_type": "stream",
          "text": [
            "b'Skipping line 6044: expected 10 fields, saw 11\\nSkipping line 6569: expected 10 fields, saw 11\\nSkipping line 7399: expected 10 fields, saw 11\\nSkipping line 7939: expected 10 fields, saw 11\\nSkipping line 9026: expected 10 fields, saw 11\\nSkipping line 10264: expected 10 fields, saw 11\\nSkipping line 10427: expected 10 fields, saw 11\\nSkipping line 10905: expected 10 fields, saw 11\\nSkipping line 11373: expected 10 fields, saw 11\\nSkipping line 11945: expected 10 fields, saw 11\\nSkipping line 14112: expected 10 fields, saw 11\\nSkipping line 14532: expected 10 fields, saw 11\\nSkipping line 15076: expected 10 fields, saw 12\\nSkipping line 29906: expected 10 fields, saw 11\\nSkipping line 31625: expected 10 fields, saw 11\\nSkipping line 33020: expected 10 fields, saw 11\\nSkipping line 35748: expected 10 fields, saw 11\\nSkipping line 35962: expected 10 fields, saw 11\\nSkipping line 37770: expected 10 fields, saw 11\\nSkipping line 38105: expected 10 fields, saw 11\\nSkipping line 38275: expected 10 fields, saw 11\\nSkipping line 38404: expected 10 fields, saw 12\\n'\n"
          ]
        }
      ],
      "source": [
        "# customer and product, from folder Mockup Datasets\n",
        "# transactions and click_stream, from folder Datasets\n",
        "\n",
        "product = pd.read_csv(\"/content/drive/MyDrive/Mockup Datasets/product.csv\", \n",
        "                      on_bad_lines='warn')"
      ]
    },
    {
      "cell_type": "code",
      "execution_count": null,
      "metadata": {
        "id": "OwA_pRbUQXct"
      },
      "outputs": [],
      "source": [
        "customer = pd.read_csv(\"/content/drive/MyDrive/Mockup Datasets/customer.csv\")"
      ]
    },
    {
      "cell_type": "code",
      "execution_count": null,
      "metadata": {
        "id": "nYw_Ns1xEXO2"
      },
      "outputs": [],
      "source": [
        "transactions = pd.read_csv(\"/content/drive/MyDrive/Mockup Datasets/transactions.csv\",\n",
        "                           parse_dates=['created_at', 'shipment_date_limit'])"
      ]
    },
    {
      "cell_type": "code",
      "execution_count": null,
      "metadata": {
        "id": "MF953fGa1Pzw"
      },
      "outputs": [],
      "source": [
        "click_stream = pd.read_csv('/content/drive/MyDrive/Mockup Datasets/click_stream.csv')"
      ]
    },
    {
      "cell_type": "code",
      "execution_count": null,
      "metadata": {
        "colab": {
          "base_uri": "https://localhost:8080/"
        },
        "id": "GF7HJgrN4LBb",
        "outputId": "ea24d49c-a499-4e11-8121-45872a2ba4f9"
      },
      "outputs": [
        {
          "data": {
            "text/plain": [
              "(44424, 10)"
            ]
          },
          "execution_count": 9,
          "metadata": {},
          "output_type": "execute_result"
        }
      ],
      "source": [
        "product.shape"
      ]
    },
    {
      "cell_type": "markdown",
      "metadata": {
        "id": "0-11D_SOZbf0"
      },
      "source": [
        "Untuk dataset product, terdapat beberapa rows yang memiliki 11 columns (default columns = 10). Ketika rows tersebut di skip, ternyata rows yang bermasalah adalah sekitar 22 (dihitung dari warning) dari 44446 rows secara keseluruhan. Oleh karena itu, rows yang bermasalah kami drop karena tidak terlalu memengaruhi kualitas dataset."
      ]
    },
    {
      "cell_type": "code",
      "execution_count": null,
      "metadata": {
        "colab": {
          "base_uri": "https://localhost:8080/",
          "height": 530
        },
        "id": "XvnOEqz5bL1v",
        "outputId": "6bb061d9-e858-461b-9b4e-2503a4d139f3"
      },
      "outputs": [
        {
          "data": {
            "text/html": [
              "\n",
              "  <div id=\"df-8fcd38d3-863e-4bca-a2ec-c9820bb0638e\">\n",
              "    <div class=\"colab-df-container\">\n",
              "      <div>\n",
              "<style scoped>\n",
              "    .dataframe tbody tr th:only-of-type {\n",
              "        vertical-align: middle;\n",
              "    }\n",
              "\n",
              "    .dataframe tbody tr th {\n",
              "        vertical-align: top;\n",
              "    }\n",
              "\n",
              "    .dataframe thead th {\n",
              "        text-align: right;\n",
              "    }\n",
              "</style>\n",
              "<table border=\"1\" class=\"dataframe\">\n",
              "  <thead>\n",
              "    <tr style=\"text-align: right;\">\n",
              "      <th></th>\n",
              "      <th>customer_id</th>\n",
              "      <th>first_name</th>\n",
              "      <th>last_name</th>\n",
              "      <th>username</th>\n",
              "      <th>email</th>\n",
              "      <th>gender</th>\n",
              "      <th>birthdate</th>\n",
              "      <th>device_type</th>\n",
              "      <th>device_id</th>\n",
              "      <th>device_version</th>\n",
              "      <th>home_location_lat</th>\n",
              "      <th>home_location_long</th>\n",
              "      <th>home_location</th>\n",
              "      <th>home_country</th>\n",
              "      <th>first_join_date</th>\n",
              "    </tr>\n",
              "  </thead>\n",
              "  <tbody>\n",
              "    <tr>\n",
              "      <th>0</th>\n",
              "      <td>2870</td>\n",
              "      <td>Lala</td>\n",
              "      <td>Maryati</td>\n",
              "      <td>671a0865-ac4e-4dc4-9c4f-c286a1176f7e</td>\n",
              "      <td>671a0865_ac4e_4dc4_9c4f_c286a1176f7e@startupcampus.id</td>\n",
              "      <td>F</td>\n",
              "      <td>1996-06-14</td>\n",
              "      <td>iOS</td>\n",
              "      <td>c9c0de76-0a6c-4ac2-843f-65264ab9fe63</td>\n",
              "      <td>iPhone; CPU iPhone OS 14_2_1 like Mac OS X</td>\n",
              "      <td>-1.043345</td>\n",
              "      <td>101.360523</td>\n",
              "      <td>Sumatera Barat</td>\n",
              "      <td>Indonesia</td>\n",
              "      <td>2019-07-21</td>\n",
              "    </tr>\n",
              "    <tr>\n",
              "      <th>1</th>\n",
              "      <td>8193</td>\n",
              "      <td>Maimunah</td>\n",
              "      <td>Laksmiwati</td>\n",
              "      <td>83be2ba7-8133-48a4-bbcb-b46a2762473f</td>\n",
              "      <td>83be2ba7_8133_48a4_bbcb_b46a2762473f@zakyfoundation.org</td>\n",
              "      <td>F</td>\n",
              "      <td>1993-08-16</td>\n",
              "      <td>Android</td>\n",
              "      <td>fb331c3d-f42e-40fe-afe2-b4b73a8a6e25</td>\n",
              "      <td>Android 2.2.1</td>\n",
              "      <td>-6.212489</td>\n",
              "      <td>106.818850</td>\n",
              "      <td>Jakarta Raya</td>\n",
              "      <td>Indonesia</td>\n",
              "      <td>2017-07-16</td>\n",
              "    </tr>\n",
              "    <tr>\n",
              "      <th>2</th>\n",
              "      <td>7279</td>\n",
              "      <td>Bakiman</td>\n",
              "      <td>Simanjuntak</td>\n",
              "      <td>3250e5a3-1d23-4675-a647-3281879d42be</td>\n",
              "      <td>3250e5a3_1d23_4675_a647_3281879d42be@startupcampus.id</td>\n",
              "      <td>M</td>\n",
              "      <td>1989-01-23</td>\n",
              "      <td>iOS</td>\n",
              "      <td>d13dde0a-6ae1-43c3-83a7-11bbb922730b</td>\n",
              "      <td>iPad; CPU iPad OS 4_2_1 like Mac OS X</td>\n",
              "      <td>-8.631607</td>\n",
              "      <td>116.428436</td>\n",
              "      <td>Nusa Tenggara Barat</td>\n",
              "      <td>Indonesia</td>\n",
              "      <td>2020-08-23</td>\n",
              "    </tr>\n",
              "    <tr>\n",
              "      <th>3</th>\n",
              "      <td>88813</td>\n",
              "      <td>Cahyadi</td>\n",
              "      <td>Maheswara</td>\n",
              "      <td>df797edf-b465-4a80-973b-9fbb612260c2</td>\n",
              "      <td>df797edf_b465_4a80_973b_9fbb612260c2@zakyfoundation.org</td>\n",
              "      <td>M</td>\n",
              "      <td>1991-01-05</td>\n",
              "      <td>iOS</td>\n",
              "      <td>f4c18515-c5be-419f-8142-f037be47c9cd</td>\n",
              "      <td>iPad; CPU iPad OS 14_2 like Mac OS X</td>\n",
              "      <td>1.299332</td>\n",
              "      <td>115.774934</td>\n",
              "      <td>Kalimantan Timur</td>\n",
              "      <td>Indonesia</td>\n",
              "      <td>2021-10-03</td>\n",
              "    </tr>\n",
              "    <tr>\n",
              "      <th>4</th>\n",
              "      <td>82542</td>\n",
              "      <td>Irnanto</td>\n",
              "      <td>Wijaya</td>\n",
              "      <td>36ab08e1-03de-42a8-9e3b-59528c798824</td>\n",
              "      <td>36ab08e1_03de_42a8_9e3b_59528c798824@startupcampus.id</td>\n",
              "      <td>M</td>\n",
              "      <td>2000-07-15</td>\n",
              "      <td>iOS</td>\n",
              "      <td>e46e4c36-4630-4736-8fcf-663db29ca3b0</td>\n",
              "      <td>iPhone; CPU iPhone OS 10_3_3 like Mac OS X</td>\n",
              "      <td>-2.980807</td>\n",
              "      <td>114.924675</td>\n",
              "      <td>Kalimantan Selatan</td>\n",
              "      <td>Indonesia</td>\n",
              "      <td>2021-04-11</td>\n",
              "    </tr>\n",
              "  </tbody>\n",
              "</table>\n",
              "</div>\n",
              "      <button class=\"colab-df-convert\" onclick=\"convertToInteractive('df-8fcd38d3-863e-4bca-a2ec-c9820bb0638e')\"\n",
              "              title=\"Convert this dataframe to an interactive table.\"\n",
              "              style=\"display:none;\">\n",
              "        \n",
              "  <svg xmlns=\"http://www.w3.org/2000/svg\" height=\"24px\"viewBox=\"0 0 24 24\"\n",
              "       width=\"24px\">\n",
              "    <path d=\"M0 0h24v24H0V0z\" fill=\"none\"/>\n",
              "    <path d=\"M18.56 5.44l.94 2.06.94-2.06 2.06-.94-2.06-.94-.94-2.06-.94 2.06-2.06.94zm-11 1L8.5 8.5l.94-2.06 2.06-.94-2.06-.94L8.5 2.5l-.94 2.06-2.06.94zm10 10l.94 2.06.94-2.06 2.06-.94-2.06-.94-.94-2.06-.94 2.06-2.06.94z\"/><path d=\"M17.41 7.96l-1.37-1.37c-.4-.4-.92-.59-1.43-.59-.52 0-1.04.2-1.43.59L10.3 9.45l-7.72 7.72c-.78.78-.78 2.05 0 2.83L4 21.41c.39.39.9.59 1.41.59.51 0 1.02-.2 1.41-.59l7.78-7.78 2.81-2.81c.8-.78.8-2.07 0-2.86zM5.41 20L4 18.59l7.72-7.72 1.47 1.35L5.41 20z\"/>\n",
              "  </svg>\n",
              "      </button>\n",
              "      \n",
              "  <style>\n",
              "    .colab-df-container {\n",
              "      display:flex;\n",
              "      flex-wrap:wrap;\n",
              "      gap: 12px;\n",
              "    }\n",
              "\n",
              "    .colab-df-convert {\n",
              "      background-color: #E8F0FE;\n",
              "      border: none;\n",
              "      border-radius: 50%;\n",
              "      cursor: pointer;\n",
              "      display: none;\n",
              "      fill: #1967D2;\n",
              "      height: 32px;\n",
              "      padding: 0 0 0 0;\n",
              "      width: 32px;\n",
              "    }\n",
              "\n",
              "    .colab-df-convert:hover {\n",
              "      background-color: #E2EBFA;\n",
              "      box-shadow: 0px 1px 2px rgba(60, 64, 67, 0.3), 0px 1px 3px 1px rgba(60, 64, 67, 0.15);\n",
              "      fill: #174EA6;\n",
              "    }\n",
              "\n",
              "    [theme=dark] .colab-df-convert {\n",
              "      background-color: #3B4455;\n",
              "      fill: #D2E3FC;\n",
              "    }\n",
              "\n",
              "    [theme=dark] .colab-df-convert:hover {\n",
              "      background-color: #434B5C;\n",
              "      box-shadow: 0px 1px 3px 1px rgba(0, 0, 0, 0.15);\n",
              "      filter: drop-shadow(0px 1px 2px rgba(0, 0, 0, 0.3));\n",
              "      fill: #FFFFFF;\n",
              "    }\n",
              "  </style>\n",
              "\n",
              "      <script>\n",
              "        const buttonEl =\n",
              "          document.querySelector('#df-8fcd38d3-863e-4bca-a2ec-c9820bb0638e button.colab-df-convert');\n",
              "        buttonEl.style.display =\n",
              "          google.colab.kernel.accessAllowed ? 'block' : 'none';\n",
              "\n",
              "        async function convertToInteractive(key) {\n",
              "          const element = document.querySelector('#df-8fcd38d3-863e-4bca-a2ec-c9820bb0638e');\n",
              "          const dataTable =\n",
              "            await google.colab.kernel.invokeFunction('convertToInteractive',\n",
              "                                                     [key], {});\n",
              "          if (!dataTable) return;\n",
              "\n",
              "          const docLinkHtml = 'Like what you see? Visit the ' +\n",
              "            '<a target=\"_blank\" href=https://colab.research.google.com/notebooks/data_table.ipynb>data table notebook</a>'\n",
              "            + ' to learn more about interactive tables.';\n",
              "          element.innerHTML = '';\n",
              "          dataTable['output_type'] = 'display_data';\n",
              "          await google.colab.output.renderOutput(dataTable, element);\n",
              "          const docLink = document.createElement('div');\n",
              "          docLink.innerHTML = docLinkHtml;\n",
              "          element.appendChild(docLink);\n",
              "        }\n",
              "      </script>\n",
              "    </div>\n",
              "  </div>\n",
              "  "
            ],
            "text/plain": [
              "   customer_id first_name    last_name                              username  \\\n",
              "0         2870       Lala      Maryati  671a0865-ac4e-4dc4-9c4f-c286a1176f7e   \n",
              "1         8193   Maimunah   Laksmiwati  83be2ba7-8133-48a4-bbcb-b46a2762473f   \n",
              "2         7279    Bakiman  Simanjuntak  3250e5a3-1d23-4675-a647-3281879d42be   \n",
              "3        88813    Cahyadi    Maheswara  df797edf-b465-4a80-973b-9fbb612260c2   \n",
              "4        82542    Irnanto       Wijaya  36ab08e1-03de-42a8-9e3b-59528c798824   \n",
              "\n",
              "                                                     email gender   birthdate  \\\n",
              "0    671a0865_ac4e_4dc4_9c4f_c286a1176f7e@startupcampus.id      F  1996-06-14   \n",
              "1  83be2ba7_8133_48a4_bbcb_b46a2762473f@zakyfoundation.org      F  1993-08-16   \n",
              "2    3250e5a3_1d23_4675_a647_3281879d42be@startupcampus.id      M  1989-01-23   \n",
              "3  df797edf_b465_4a80_973b_9fbb612260c2@zakyfoundation.org      M  1991-01-05   \n",
              "4    36ab08e1_03de_42a8_9e3b_59528c798824@startupcampus.id      M  2000-07-15   \n",
              "\n",
              "  device_type                             device_id  \\\n",
              "0         iOS  c9c0de76-0a6c-4ac2-843f-65264ab9fe63   \n",
              "1     Android  fb331c3d-f42e-40fe-afe2-b4b73a8a6e25   \n",
              "2         iOS  d13dde0a-6ae1-43c3-83a7-11bbb922730b   \n",
              "3         iOS  f4c18515-c5be-419f-8142-f037be47c9cd   \n",
              "4         iOS  e46e4c36-4630-4736-8fcf-663db29ca3b0   \n",
              "\n",
              "                               device_version  home_location_lat  \\\n",
              "0  iPhone; CPU iPhone OS 14_2_1 like Mac OS X          -1.043345   \n",
              "1                               Android 2.2.1          -6.212489   \n",
              "2       iPad; CPU iPad OS 4_2_1 like Mac OS X          -8.631607   \n",
              "3        iPad; CPU iPad OS 14_2 like Mac OS X           1.299332   \n",
              "4  iPhone; CPU iPhone OS 10_3_3 like Mac OS X          -2.980807   \n",
              "\n",
              "   home_location_long        home_location home_country first_join_date  \n",
              "0          101.360523       Sumatera Barat    Indonesia      2019-07-21  \n",
              "1          106.818850         Jakarta Raya    Indonesia      2017-07-16  \n",
              "2          116.428436  Nusa Tenggara Barat    Indonesia      2020-08-23  \n",
              "3          115.774934     Kalimantan Timur    Indonesia      2021-10-03  \n",
              "4          114.924675   Kalimantan Selatan    Indonesia      2021-04-11  "
            ]
          },
          "execution_count": 10,
          "metadata": {},
          "output_type": "execute_result"
        }
      ],
      "source": [
        "customer.head()"
      ]
    },
    {
      "cell_type": "markdown",
      "metadata": {
        "id": "wIRczouvQPjD"
      },
      "source": []
    },
    {
      "cell_type": "code",
      "execution_count": null,
      "metadata": {
        "colab": {
          "base_uri": "https://localhost:8080/",
          "height": 530
        },
        "id": "rqUmRFxdjxkl",
        "outputId": "e60d497f-5f5e-4e95-e1b6-83e570b194c7"
      },
      "outputs": [
        {
          "data": {
            "text/html": [
              "\n",
              "  <div id=\"df-4c7ba2ff-87ed-4f00-afab-46579921c1d2\">\n",
              "    <div class=\"colab-df-container\">\n",
              "      <div>\n",
              "<style scoped>\n",
              "    .dataframe tbody tr th:only-of-type {\n",
              "        vertical-align: middle;\n",
              "    }\n",
              "\n",
              "    .dataframe tbody tr th {\n",
              "        vertical-align: top;\n",
              "    }\n",
              "\n",
              "    .dataframe thead th {\n",
              "        text-align: right;\n",
              "    }\n",
              "</style>\n",
              "<table border=\"1\" class=\"dataframe\">\n",
              "  <thead>\n",
              "    <tr style=\"text-align: right;\">\n",
              "      <th></th>\n",
              "      <th>created_at</th>\n",
              "      <th>customer_id</th>\n",
              "      <th>booking_id</th>\n",
              "      <th>session_id</th>\n",
              "      <th>product_metadata</th>\n",
              "      <th>payment_method</th>\n",
              "      <th>payment_status</th>\n",
              "      <th>promo_amount</th>\n",
              "      <th>promo_code</th>\n",
              "      <th>shipment_fee</th>\n",
              "      <th>shipment_date_limit</th>\n",
              "      <th>shipment_location_lat</th>\n",
              "      <th>shipment_location_long</th>\n",
              "      <th>total_amount</th>\n",
              "    </tr>\n",
              "  </thead>\n",
              "  <tbody>\n",
              "    <tr>\n",
              "      <th>0</th>\n",
              "      <td>2018-07-29 15:22:01.458193+00:00</td>\n",
              "      <td>5868</td>\n",
              "      <td>186e2bee-0637-4710-8981-50c2d737bc42</td>\n",
              "      <td>3abaa6ce-e320-4e51-9469-d9f3fa328e86</td>\n",
              "      <td>[{'product_id': 54728, 'quantity': 1, 'item_price': 191247}]</td>\n",
              "      <td>Debit Card</td>\n",
              "      <td>Success</td>\n",
              "      <td>1415</td>\n",
              "      <td>WEEKENDSERU</td>\n",
              "      <td>10000</td>\n",
              "      <td>2018-08-03 05:07:24.812676+00:00</td>\n",
              "      <td>-8.227893</td>\n",
              "      <td>111.969107</td>\n",
              "      <td>199832</td>\n",
              "    </tr>\n",
              "    <tr>\n",
              "      <th>1</th>\n",
              "      <td>2018-07-30 12:40:22.365620+00:00</td>\n",
              "      <td>4774</td>\n",
              "      <td>caadb57b-e808-4f94-9e96-8a7d4c9898db</td>\n",
              "      <td>2ee5ead1-f13e-4759-92df-7ff48475e970</td>\n",
              "      <td>[{'product_id': 16193, 'quantity': 1, 'item_price': 145526}]</td>\n",
              "      <td>Credit Card</td>\n",
              "      <td>Success</td>\n",
              "      <td>0</td>\n",
              "      <td>NaN</td>\n",
              "      <td>10000</td>\n",
              "      <td>2018-08-03 01:29:03.415705+00:00</td>\n",
              "      <td>3.013470</td>\n",
              "      <td>107.802514</td>\n",
              "      <td>155526</td>\n",
              "    </tr>\n",
              "    <tr>\n",
              "      <th>2</th>\n",
              "      <td>2018-09-15 11:51:17.365620+00:00</td>\n",
              "      <td>4774</td>\n",
              "      <td>6000fffb-9c1a-4f4a-9296-bc8f6b622b50</td>\n",
              "      <td>93325fb6-eb00-4268-bb0e-6471795a0ad0</td>\n",
              "      <td>[{'product_id': 53686, 'quantity': 4, 'item_price': 135174}]</td>\n",
              "      <td>OVO</td>\n",
              "      <td>Success</td>\n",
              "      <td>0</td>\n",
              "      <td>NaN</td>\n",
              "      <td>10000</td>\n",
              "      <td>2018-09-18 08:41:49.422380+00:00</td>\n",
              "      <td>-2.579428</td>\n",
              "      <td>115.743885</td>\n",
              "      <td>550696</td>\n",
              "    </tr>\n",
              "    <tr>\n",
              "      <th>3</th>\n",
              "      <td>2018-11-01 11:23:48.365620+00:00</td>\n",
              "      <td>4774</td>\n",
              "      <td>f5e530a7-4350-4cd1-a3bc-525b5037bcab</td>\n",
              "      <td>bcad5a61-1b67-448d-8ff4-781d67bc56e4</td>\n",
              "      <td>[{'product_id': 20228, 'quantity': 1, 'item_price': 271012}]</td>\n",
              "      <td>Credit Card</td>\n",
              "      <td>Success</td>\n",
              "      <td>0</td>\n",
              "      <td>NaN</td>\n",
              "      <td>0</td>\n",
              "      <td>2018-11-05 17:42:27.954235+00:00</td>\n",
              "      <td>-3.602334</td>\n",
              "      <td>120.363824</td>\n",
              "      <td>271012</td>\n",
              "    </tr>\n",
              "    <tr>\n",
              "      <th>4</th>\n",
              "      <td>2018-12-18 11:20:30.365620+00:00</td>\n",
              "      <td>4774</td>\n",
              "      <td>0efc0594-dbbf-4f9a-b0b0-a488cfddf8a2</td>\n",
              "      <td>df1042ab-13e6-4072-b9d2-64a81974c51a</td>\n",
              "      <td>[{'product_id': 55220, 'quantity': 1, 'item_price': 198753}]</td>\n",
              "      <td>Credit Card</td>\n",
              "      <td>Success</td>\n",
              "      <td>0</td>\n",
              "      <td>NaN</td>\n",
              "      <td>0</td>\n",
              "      <td>2018-12-23 17:24:07.361785+00:00</td>\n",
              "      <td>-3.602334</td>\n",
              "      <td>120.363824</td>\n",
              "      <td>198753</td>\n",
              "    </tr>\n",
              "  </tbody>\n",
              "</table>\n",
              "</div>\n",
              "      <button class=\"colab-df-convert\" onclick=\"convertToInteractive('df-4c7ba2ff-87ed-4f00-afab-46579921c1d2')\"\n",
              "              title=\"Convert this dataframe to an interactive table.\"\n",
              "              style=\"display:none;\">\n",
              "        \n",
              "  <svg xmlns=\"http://www.w3.org/2000/svg\" height=\"24px\"viewBox=\"0 0 24 24\"\n",
              "       width=\"24px\">\n",
              "    <path d=\"M0 0h24v24H0V0z\" fill=\"none\"/>\n",
              "    <path d=\"M18.56 5.44l.94 2.06.94-2.06 2.06-.94-2.06-.94-.94-2.06-.94 2.06-2.06.94zm-11 1L8.5 8.5l.94-2.06 2.06-.94-2.06-.94L8.5 2.5l-.94 2.06-2.06.94zm10 10l.94 2.06.94-2.06 2.06-.94-2.06-.94-.94-2.06-.94 2.06-2.06.94z\"/><path d=\"M17.41 7.96l-1.37-1.37c-.4-.4-.92-.59-1.43-.59-.52 0-1.04.2-1.43.59L10.3 9.45l-7.72 7.72c-.78.78-.78 2.05 0 2.83L4 21.41c.39.39.9.59 1.41.59.51 0 1.02-.2 1.41-.59l7.78-7.78 2.81-2.81c.8-.78.8-2.07 0-2.86zM5.41 20L4 18.59l7.72-7.72 1.47 1.35L5.41 20z\"/>\n",
              "  </svg>\n",
              "      </button>\n",
              "      \n",
              "  <style>\n",
              "    .colab-df-container {\n",
              "      display:flex;\n",
              "      flex-wrap:wrap;\n",
              "      gap: 12px;\n",
              "    }\n",
              "\n",
              "    .colab-df-convert {\n",
              "      background-color: #E8F0FE;\n",
              "      border: none;\n",
              "      border-radius: 50%;\n",
              "      cursor: pointer;\n",
              "      display: none;\n",
              "      fill: #1967D2;\n",
              "      height: 32px;\n",
              "      padding: 0 0 0 0;\n",
              "      width: 32px;\n",
              "    }\n",
              "\n",
              "    .colab-df-convert:hover {\n",
              "      background-color: #E2EBFA;\n",
              "      box-shadow: 0px 1px 2px rgba(60, 64, 67, 0.3), 0px 1px 3px 1px rgba(60, 64, 67, 0.15);\n",
              "      fill: #174EA6;\n",
              "    }\n",
              "\n",
              "    [theme=dark] .colab-df-convert {\n",
              "      background-color: #3B4455;\n",
              "      fill: #D2E3FC;\n",
              "    }\n",
              "\n",
              "    [theme=dark] .colab-df-convert:hover {\n",
              "      background-color: #434B5C;\n",
              "      box-shadow: 0px 1px 3px 1px rgba(0, 0, 0, 0.15);\n",
              "      filter: drop-shadow(0px 1px 2px rgba(0, 0, 0, 0.3));\n",
              "      fill: #FFFFFF;\n",
              "    }\n",
              "  </style>\n",
              "\n",
              "      <script>\n",
              "        const buttonEl =\n",
              "          document.querySelector('#df-4c7ba2ff-87ed-4f00-afab-46579921c1d2 button.colab-df-convert');\n",
              "        buttonEl.style.display =\n",
              "          google.colab.kernel.accessAllowed ? 'block' : 'none';\n",
              "\n",
              "        async function convertToInteractive(key) {\n",
              "          const element = document.querySelector('#df-4c7ba2ff-87ed-4f00-afab-46579921c1d2');\n",
              "          const dataTable =\n",
              "            await google.colab.kernel.invokeFunction('convertToInteractive',\n",
              "                                                     [key], {});\n",
              "          if (!dataTable) return;\n",
              "\n",
              "          const docLinkHtml = 'Like what you see? Visit the ' +\n",
              "            '<a target=\"_blank\" href=https://colab.research.google.com/notebooks/data_table.ipynb>data table notebook</a>'\n",
              "            + ' to learn more about interactive tables.';\n",
              "          element.innerHTML = '';\n",
              "          dataTable['output_type'] = 'display_data';\n",
              "          await google.colab.output.renderOutput(dataTable, element);\n",
              "          const docLink = document.createElement('div');\n",
              "          docLink.innerHTML = docLinkHtml;\n",
              "          element.appendChild(docLink);\n",
              "        }\n",
              "      </script>\n",
              "    </div>\n",
              "  </div>\n",
              "  "
            ],
            "text/plain": [
              "                        created_at  customer_id  \\\n",
              "0 2018-07-29 15:22:01.458193+00:00         5868   \n",
              "1 2018-07-30 12:40:22.365620+00:00         4774   \n",
              "2 2018-09-15 11:51:17.365620+00:00         4774   \n",
              "3 2018-11-01 11:23:48.365620+00:00         4774   \n",
              "4 2018-12-18 11:20:30.365620+00:00         4774   \n",
              "\n",
              "                             booking_id                            session_id  \\\n",
              "0  186e2bee-0637-4710-8981-50c2d737bc42  3abaa6ce-e320-4e51-9469-d9f3fa328e86   \n",
              "1  caadb57b-e808-4f94-9e96-8a7d4c9898db  2ee5ead1-f13e-4759-92df-7ff48475e970   \n",
              "2  6000fffb-9c1a-4f4a-9296-bc8f6b622b50  93325fb6-eb00-4268-bb0e-6471795a0ad0   \n",
              "3  f5e530a7-4350-4cd1-a3bc-525b5037bcab  bcad5a61-1b67-448d-8ff4-781d67bc56e4   \n",
              "4  0efc0594-dbbf-4f9a-b0b0-a488cfddf8a2  df1042ab-13e6-4072-b9d2-64a81974c51a   \n",
              "\n",
              "                                               product_metadata  \\\n",
              "0  [{'product_id': 54728, 'quantity': 1, 'item_price': 191247}]   \n",
              "1  [{'product_id': 16193, 'quantity': 1, 'item_price': 145526}]   \n",
              "2  [{'product_id': 53686, 'quantity': 4, 'item_price': 135174}]   \n",
              "3  [{'product_id': 20228, 'quantity': 1, 'item_price': 271012}]   \n",
              "4  [{'product_id': 55220, 'quantity': 1, 'item_price': 198753}]   \n",
              "\n",
              "  payment_method payment_status  promo_amount   promo_code  shipment_fee  \\\n",
              "0     Debit Card        Success          1415  WEEKENDSERU         10000   \n",
              "1    Credit Card        Success             0          NaN         10000   \n",
              "2            OVO        Success             0          NaN         10000   \n",
              "3    Credit Card        Success             0          NaN             0   \n",
              "4    Credit Card        Success             0          NaN             0   \n",
              "\n",
              "               shipment_date_limit  shipment_location_lat  \\\n",
              "0 2018-08-03 05:07:24.812676+00:00              -8.227893   \n",
              "1 2018-08-03 01:29:03.415705+00:00               3.013470   \n",
              "2 2018-09-18 08:41:49.422380+00:00              -2.579428   \n",
              "3 2018-11-05 17:42:27.954235+00:00              -3.602334   \n",
              "4 2018-12-23 17:24:07.361785+00:00              -3.602334   \n",
              "\n",
              "   shipment_location_long  total_amount  \n",
              "0              111.969107        199832  \n",
              "1              107.802514        155526  \n",
              "2              115.743885        550696  \n",
              "3              120.363824        271012  \n",
              "4              120.363824        198753  "
            ]
          },
          "execution_count": 11,
          "metadata": {},
          "output_type": "execute_result"
        }
      ],
      "source": [
        "transactions.head()"
      ]
    },
    {
      "cell_type": "code",
      "execution_count": null,
      "metadata": {
        "colab": {
          "base_uri": "https://localhost:8080/",
          "height": 206
        },
        "id": "hcUZjhpd-173",
        "outputId": "6bf8af65-381e-4bed-ef7c-2d5d2b85401a"
      },
      "outputs": [
        {
          "data": {
            "text/html": [
              "\n",
              "  <div id=\"df-418b8ea3-513e-4e6e-ae89-1a92b63d19c9\">\n",
              "    <div class=\"colab-df-container\">\n",
              "      <div>\n",
              "<style scoped>\n",
              "    .dataframe tbody tr th:only-of-type {\n",
              "        vertical-align: middle;\n",
              "    }\n",
              "\n",
              "    .dataframe tbody tr th {\n",
              "        vertical-align: top;\n",
              "    }\n",
              "\n",
              "    .dataframe thead th {\n",
              "        text-align: right;\n",
              "    }\n",
              "</style>\n",
              "<table border=\"1\" class=\"dataframe\">\n",
              "  <thead>\n",
              "    <tr style=\"text-align: right;\">\n",
              "      <th></th>\n",
              "      <th>id</th>\n",
              "      <th>gender</th>\n",
              "      <th>masterCategory</th>\n",
              "      <th>subCategory</th>\n",
              "      <th>articleType</th>\n",
              "      <th>baseColour</th>\n",
              "      <th>season</th>\n",
              "      <th>year</th>\n",
              "      <th>usage</th>\n",
              "      <th>productDisplayName</th>\n",
              "    </tr>\n",
              "  </thead>\n",
              "  <tbody>\n",
              "    <tr>\n",
              "      <th>0</th>\n",
              "      <td>15970</td>\n",
              "      <td>Men</td>\n",
              "      <td>Apparel</td>\n",
              "      <td>Topwear</td>\n",
              "      <td>Shirts</td>\n",
              "      <td>Navy Blue</td>\n",
              "      <td>Fall</td>\n",
              "      <td>2011.0</td>\n",
              "      <td>Casual</td>\n",
              "      <td>Turtle Check Men Navy Blue Shirt</td>\n",
              "    </tr>\n",
              "    <tr>\n",
              "      <th>1</th>\n",
              "      <td>39386</td>\n",
              "      <td>Men</td>\n",
              "      <td>Apparel</td>\n",
              "      <td>Bottomwear</td>\n",
              "      <td>Jeans</td>\n",
              "      <td>Blue</td>\n",
              "      <td>Summer</td>\n",
              "      <td>2012.0</td>\n",
              "      <td>Casual</td>\n",
              "      <td>Peter England Men Party Blue Jeans</td>\n",
              "    </tr>\n",
              "    <tr>\n",
              "      <th>2</th>\n",
              "      <td>59263</td>\n",
              "      <td>Women</td>\n",
              "      <td>Accessories</td>\n",
              "      <td>Watches</td>\n",
              "      <td>Watches</td>\n",
              "      <td>Silver</td>\n",
              "      <td>Winter</td>\n",
              "      <td>2016.0</td>\n",
              "      <td>Casual</td>\n",
              "      <td>Titan Women Silver Watch</td>\n",
              "    </tr>\n",
              "    <tr>\n",
              "      <th>3</th>\n",
              "      <td>21379</td>\n",
              "      <td>Men</td>\n",
              "      <td>Apparel</td>\n",
              "      <td>Bottomwear</td>\n",
              "      <td>Track Pants</td>\n",
              "      <td>Black</td>\n",
              "      <td>Fall</td>\n",
              "      <td>2011.0</td>\n",
              "      <td>Casual</td>\n",
              "      <td>Manchester United Men Solid Black Track Pants</td>\n",
              "    </tr>\n",
              "    <tr>\n",
              "      <th>4</th>\n",
              "      <td>53759</td>\n",
              "      <td>Men</td>\n",
              "      <td>Apparel</td>\n",
              "      <td>Topwear</td>\n",
              "      <td>Tshirts</td>\n",
              "      <td>Grey</td>\n",
              "      <td>Summer</td>\n",
              "      <td>2012.0</td>\n",
              "      <td>Casual</td>\n",
              "      <td>Puma Men Grey T-shirt</td>\n",
              "    </tr>\n",
              "  </tbody>\n",
              "</table>\n",
              "</div>\n",
              "      <button class=\"colab-df-convert\" onclick=\"convertToInteractive('df-418b8ea3-513e-4e6e-ae89-1a92b63d19c9')\"\n",
              "              title=\"Convert this dataframe to an interactive table.\"\n",
              "              style=\"display:none;\">\n",
              "        \n",
              "  <svg xmlns=\"http://www.w3.org/2000/svg\" height=\"24px\"viewBox=\"0 0 24 24\"\n",
              "       width=\"24px\">\n",
              "    <path d=\"M0 0h24v24H0V0z\" fill=\"none\"/>\n",
              "    <path d=\"M18.56 5.44l.94 2.06.94-2.06 2.06-.94-2.06-.94-.94-2.06-.94 2.06-2.06.94zm-11 1L8.5 8.5l.94-2.06 2.06-.94-2.06-.94L8.5 2.5l-.94 2.06-2.06.94zm10 10l.94 2.06.94-2.06 2.06-.94-2.06-.94-.94-2.06-.94 2.06-2.06.94z\"/><path d=\"M17.41 7.96l-1.37-1.37c-.4-.4-.92-.59-1.43-.59-.52 0-1.04.2-1.43.59L10.3 9.45l-7.72 7.72c-.78.78-.78 2.05 0 2.83L4 21.41c.39.39.9.59 1.41.59.51 0 1.02-.2 1.41-.59l7.78-7.78 2.81-2.81c.8-.78.8-2.07 0-2.86zM5.41 20L4 18.59l7.72-7.72 1.47 1.35L5.41 20z\"/>\n",
              "  </svg>\n",
              "      </button>\n",
              "      \n",
              "  <style>\n",
              "    .colab-df-container {\n",
              "      display:flex;\n",
              "      flex-wrap:wrap;\n",
              "      gap: 12px;\n",
              "    }\n",
              "\n",
              "    .colab-df-convert {\n",
              "      background-color: #E8F0FE;\n",
              "      border: none;\n",
              "      border-radius: 50%;\n",
              "      cursor: pointer;\n",
              "      display: none;\n",
              "      fill: #1967D2;\n",
              "      height: 32px;\n",
              "      padding: 0 0 0 0;\n",
              "      width: 32px;\n",
              "    }\n",
              "\n",
              "    .colab-df-convert:hover {\n",
              "      background-color: #E2EBFA;\n",
              "      box-shadow: 0px 1px 2px rgba(60, 64, 67, 0.3), 0px 1px 3px 1px rgba(60, 64, 67, 0.15);\n",
              "      fill: #174EA6;\n",
              "    }\n",
              "\n",
              "    [theme=dark] .colab-df-convert {\n",
              "      background-color: #3B4455;\n",
              "      fill: #D2E3FC;\n",
              "    }\n",
              "\n",
              "    [theme=dark] .colab-df-convert:hover {\n",
              "      background-color: #434B5C;\n",
              "      box-shadow: 0px 1px 3px 1px rgba(0, 0, 0, 0.15);\n",
              "      filter: drop-shadow(0px 1px 2px rgba(0, 0, 0, 0.3));\n",
              "      fill: #FFFFFF;\n",
              "    }\n",
              "  </style>\n",
              "\n",
              "      <script>\n",
              "        const buttonEl =\n",
              "          document.querySelector('#df-418b8ea3-513e-4e6e-ae89-1a92b63d19c9 button.colab-df-convert');\n",
              "        buttonEl.style.display =\n",
              "          google.colab.kernel.accessAllowed ? 'block' : 'none';\n",
              "\n",
              "        async function convertToInteractive(key) {\n",
              "          const element = document.querySelector('#df-418b8ea3-513e-4e6e-ae89-1a92b63d19c9');\n",
              "          const dataTable =\n",
              "            await google.colab.kernel.invokeFunction('convertToInteractive',\n",
              "                                                     [key], {});\n",
              "          if (!dataTable) return;\n",
              "\n",
              "          const docLinkHtml = 'Like what you see? Visit the ' +\n",
              "            '<a target=\"_blank\" href=https://colab.research.google.com/notebooks/data_table.ipynb>data table notebook</a>'\n",
              "            + ' to learn more about interactive tables.';\n",
              "          element.innerHTML = '';\n",
              "          dataTable['output_type'] = 'display_data';\n",
              "          await google.colab.output.renderOutput(dataTable, element);\n",
              "          const docLink = document.createElement('div');\n",
              "          docLink.innerHTML = docLinkHtml;\n",
              "          element.appendChild(docLink);\n",
              "        }\n",
              "      </script>\n",
              "    </div>\n",
              "  </div>\n",
              "  "
            ],
            "text/plain": [
              "      id gender masterCategory subCategory  articleType baseColour  season  \\\n",
              "0  15970    Men        Apparel     Topwear       Shirts  Navy Blue    Fall   \n",
              "1  39386    Men        Apparel  Bottomwear        Jeans       Blue  Summer   \n",
              "2  59263  Women    Accessories     Watches      Watches     Silver  Winter   \n",
              "3  21379    Men        Apparel  Bottomwear  Track Pants      Black    Fall   \n",
              "4  53759    Men        Apparel     Topwear      Tshirts       Grey  Summer   \n",
              "\n",
              "     year   usage                             productDisplayName  \n",
              "0  2011.0  Casual               Turtle Check Men Navy Blue Shirt  \n",
              "1  2012.0  Casual             Peter England Men Party Blue Jeans  \n",
              "2  2016.0  Casual                       Titan Women Silver Watch  \n",
              "3  2011.0  Casual  Manchester United Men Solid Black Track Pants  \n",
              "4  2012.0  Casual                          Puma Men Grey T-shirt  "
            ]
          },
          "execution_count": 12,
          "metadata": {},
          "output_type": "execute_result"
        }
      ],
      "source": [
        "product.head()"
      ]
    },
    {
      "cell_type": "code",
      "execution_count": null,
      "metadata": {
        "colab": {
          "base_uri": "https://localhost:8080/",
          "height": 337
        },
        "id": "s2JkCHGLbe34",
        "outputId": "a9afbaa2-d453-4701-fc69-e29f4428fb6d"
      },
      "outputs": [
        {
          "data": {
            "text/html": [
              "\n",
              "  <div id=\"df-8f43ee9d-0235-4c3f-80e8-38c34203ecbd\">\n",
              "    <div class=\"colab-df-container\">\n",
              "      <div>\n",
              "<style scoped>\n",
              "    .dataframe tbody tr th:only-of-type {\n",
              "        vertical-align: middle;\n",
              "    }\n",
              "\n",
              "    .dataframe tbody tr th {\n",
              "        vertical-align: top;\n",
              "    }\n",
              "\n",
              "    .dataframe thead th {\n",
              "        text-align: right;\n",
              "    }\n",
              "</style>\n",
              "<table border=\"1\" class=\"dataframe\">\n",
              "  <thead>\n",
              "    <tr style=\"text-align: right;\">\n",
              "      <th></th>\n",
              "      <th>session_id</th>\n",
              "      <th>event_name</th>\n",
              "      <th>event_time</th>\n",
              "      <th>event_id</th>\n",
              "      <th>traffic_source</th>\n",
              "      <th>event_metadata</th>\n",
              "    </tr>\n",
              "  </thead>\n",
              "  <tbody>\n",
              "    <tr>\n",
              "      <th>0</th>\n",
              "      <td>fb0abf9e-fd1a-44dd-b5c0-2834d5a4b81c</td>\n",
              "      <td>HOMEPAGE</td>\n",
              "      <td>2019-09-06T15:54:32.821085Z</td>\n",
              "      <td>9c4388c4-c95b-4678-b5ca-e9cbc0734109</td>\n",
              "      <td>MOBILE</td>\n",
              "      <td>NaN</td>\n",
              "    </tr>\n",
              "    <tr>\n",
              "      <th>1</th>\n",
              "      <td>fb0abf9e-fd1a-44dd-b5c0-2834d5a4b81c</td>\n",
              "      <td>SCROLL</td>\n",
              "      <td>2019-09-06T16:03:57.821085Z</td>\n",
              "      <td>4690e1f5-3f99-42d3-84a5-22c4c4d8500a</td>\n",
              "      <td>MOBILE</td>\n",
              "      <td>NaN</td>\n",
              "    </tr>\n",
              "    <tr>\n",
              "      <th>2</th>\n",
              "      <td>7d440441-e67a-4d36-b324-80ffd636d166</td>\n",
              "      <td>HOMEPAGE</td>\n",
              "      <td>2019-09-01T12:05:10.322763Z</td>\n",
              "      <td>88aeaeb5-ec98-4859-852c-8abb483faf31</td>\n",
              "      <td>MOBILE</td>\n",
              "      <td>NaN</td>\n",
              "    </tr>\n",
              "    <tr>\n",
              "      <th>3</th>\n",
              "      <td>7d440441-e67a-4d36-b324-80ffd636d166</td>\n",
              "      <td>ADD_TO_CART</td>\n",
              "      <td>2019-09-01T12:06:33.322763Z</td>\n",
              "      <td>934e306e-ecc6-472f-9ccb-12c8536910a2</td>\n",
              "      <td>MOBILE</td>\n",
              "      <td>{'product_id': 15315, 'quantity': 4, 'item_price': 313529}</td>\n",
              "    </tr>\n",
              "    <tr>\n",
              "      <th>4</th>\n",
              "      <td>7d440441-e67a-4d36-b324-80ffd636d166</td>\n",
              "      <td>BOOKING</td>\n",
              "      <td>2019-09-01T12:15:29.425431Z</td>\n",
              "      <td>9f4767a1-40fa-4c9c-9524-dfad18634d56</td>\n",
              "      <td>MOBILE</td>\n",
              "      <td>{'payment_status': 'Success'}</td>\n",
              "    </tr>\n",
              "  </tbody>\n",
              "</table>\n",
              "</div>\n",
              "      <button class=\"colab-df-convert\" onclick=\"convertToInteractive('df-8f43ee9d-0235-4c3f-80e8-38c34203ecbd')\"\n",
              "              title=\"Convert this dataframe to an interactive table.\"\n",
              "              style=\"display:none;\">\n",
              "        \n",
              "  <svg xmlns=\"http://www.w3.org/2000/svg\" height=\"24px\"viewBox=\"0 0 24 24\"\n",
              "       width=\"24px\">\n",
              "    <path d=\"M0 0h24v24H0V0z\" fill=\"none\"/>\n",
              "    <path d=\"M18.56 5.44l.94 2.06.94-2.06 2.06-.94-2.06-.94-.94-2.06-.94 2.06-2.06.94zm-11 1L8.5 8.5l.94-2.06 2.06-.94-2.06-.94L8.5 2.5l-.94 2.06-2.06.94zm10 10l.94 2.06.94-2.06 2.06-.94-2.06-.94-.94-2.06-.94 2.06-2.06.94z\"/><path d=\"M17.41 7.96l-1.37-1.37c-.4-.4-.92-.59-1.43-.59-.52 0-1.04.2-1.43.59L10.3 9.45l-7.72 7.72c-.78.78-.78 2.05 0 2.83L4 21.41c.39.39.9.59 1.41.59.51 0 1.02-.2 1.41-.59l7.78-7.78 2.81-2.81c.8-.78.8-2.07 0-2.86zM5.41 20L4 18.59l7.72-7.72 1.47 1.35L5.41 20z\"/>\n",
              "  </svg>\n",
              "      </button>\n",
              "      \n",
              "  <style>\n",
              "    .colab-df-container {\n",
              "      display:flex;\n",
              "      flex-wrap:wrap;\n",
              "      gap: 12px;\n",
              "    }\n",
              "\n",
              "    .colab-df-convert {\n",
              "      background-color: #E8F0FE;\n",
              "      border: none;\n",
              "      border-radius: 50%;\n",
              "      cursor: pointer;\n",
              "      display: none;\n",
              "      fill: #1967D2;\n",
              "      height: 32px;\n",
              "      padding: 0 0 0 0;\n",
              "      width: 32px;\n",
              "    }\n",
              "\n",
              "    .colab-df-convert:hover {\n",
              "      background-color: #E2EBFA;\n",
              "      box-shadow: 0px 1px 2px rgba(60, 64, 67, 0.3), 0px 1px 3px 1px rgba(60, 64, 67, 0.15);\n",
              "      fill: #174EA6;\n",
              "    }\n",
              "\n",
              "    [theme=dark] .colab-df-convert {\n",
              "      background-color: #3B4455;\n",
              "      fill: #D2E3FC;\n",
              "    }\n",
              "\n",
              "    [theme=dark] .colab-df-convert:hover {\n",
              "      background-color: #434B5C;\n",
              "      box-shadow: 0px 1px 3px 1px rgba(0, 0, 0, 0.15);\n",
              "      filter: drop-shadow(0px 1px 2px rgba(0, 0, 0, 0.3));\n",
              "      fill: #FFFFFF;\n",
              "    }\n",
              "  </style>\n",
              "\n",
              "      <script>\n",
              "        const buttonEl =\n",
              "          document.querySelector('#df-8f43ee9d-0235-4c3f-80e8-38c34203ecbd button.colab-df-convert');\n",
              "        buttonEl.style.display =\n",
              "          google.colab.kernel.accessAllowed ? 'block' : 'none';\n",
              "\n",
              "        async function convertToInteractive(key) {\n",
              "          const element = document.querySelector('#df-8f43ee9d-0235-4c3f-80e8-38c34203ecbd');\n",
              "          const dataTable =\n",
              "            await google.colab.kernel.invokeFunction('convertToInteractive',\n",
              "                                                     [key], {});\n",
              "          if (!dataTable) return;\n",
              "\n",
              "          const docLinkHtml = 'Like what you see? Visit the ' +\n",
              "            '<a target=\"_blank\" href=https://colab.research.google.com/notebooks/data_table.ipynb>data table notebook</a>'\n",
              "            + ' to learn more about interactive tables.';\n",
              "          element.innerHTML = '';\n",
              "          dataTable['output_type'] = 'display_data';\n",
              "          await google.colab.output.renderOutput(dataTable, element);\n",
              "          const docLink = document.createElement('div');\n",
              "          docLink.innerHTML = docLinkHtml;\n",
              "          element.appendChild(docLink);\n",
              "        }\n",
              "      </script>\n",
              "    </div>\n",
              "  </div>\n",
              "  "
            ],
            "text/plain": [
              "                             session_id   event_name  \\\n",
              "0  fb0abf9e-fd1a-44dd-b5c0-2834d5a4b81c     HOMEPAGE   \n",
              "1  fb0abf9e-fd1a-44dd-b5c0-2834d5a4b81c       SCROLL   \n",
              "2  7d440441-e67a-4d36-b324-80ffd636d166     HOMEPAGE   \n",
              "3  7d440441-e67a-4d36-b324-80ffd636d166  ADD_TO_CART   \n",
              "4  7d440441-e67a-4d36-b324-80ffd636d166      BOOKING   \n",
              "\n",
              "                    event_time                              event_id  \\\n",
              "0  2019-09-06T15:54:32.821085Z  9c4388c4-c95b-4678-b5ca-e9cbc0734109   \n",
              "1  2019-09-06T16:03:57.821085Z  4690e1f5-3f99-42d3-84a5-22c4c4d8500a   \n",
              "2  2019-09-01T12:05:10.322763Z  88aeaeb5-ec98-4859-852c-8abb483faf31   \n",
              "3  2019-09-01T12:06:33.322763Z  934e306e-ecc6-472f-9ccb-12c8536910a2   \n",
              "4  2019-09-01T12:15:29.425431Z  9f4767a1-40fa-4c9c-9524-dfad18634d56   \n",
              "\n",
              "  traffic_source                                              event_metadata  \n",
              "0         MOBILE                                                         NaN  \n",
              "1         MOBILE                                                         NaN  \n",
              "2         MOBILE                                                         NaN  \n",
              "3         MOBILE  {'product_id': 15315, 'quantity': 4, 'item_price': 313529}  \n",
              "4         MOBILE                               {'payment_status': 'Success'}  "
            ]
          },
          "execution_count": 13,
          "metadata": {},
          "output_type": "execute_result"
        }
      ],
      "source": [
        "click_stream.head()"
      ]
    },
    {
      "cell_type": "code",
      "execution_count": null,
      "metadata": {
        "colab": {
          "base_uri": "https://localhost:8080/"
        },
        "id": "evfrYVDDbnyq",
        "outputId": "9cf88942-b108-4f58-befd-336dca3fb2e5"
      },
      "outputs": [
        {
          "data": {
            "text/plain": [
              "(100000, 15)"
            ]
          },
          "execution_count": 14,
          "metadata": {},
          "output_type": "execute_result"
        }
      ],
      "source": [
        "customer.shape"
      ]
    },
    {
      "cell_type": "code",
      "execution_count": null,
      "metadata": {
        "colab": {
          "base_uri": "https://localhost:8080/"
        },
        "id": "eHupDR8Fbq5r",
        "outputId": "4e58177b-9e96-4a36-8a6c-61a69de03ea1"
      },
      "outputs": [
        {
          "data": {
            "text/plain": [
              "(852584, 14)"
            ]
          },
          "execution_count": 15,
          "metadata": {},
          "output_type": "execute_result"
        }
      ],
      "source": [
        "transactions.shape"
      ]
    },
    {
      "cell_type": "code",
      "execution_count": null,
      "metadata": {
        "colab": {
          "base_uri": "https://localhost:8080/"
        },
        "id": "6V3we8vQbuED",
        "outputId": "7feec64d-77fd-45e1-abd9-0343bc9ac05d"
      },
      "outputs": [
        {
          "data": {
            "text/plain": [
              "(44424, 10)"
            ]
          },
          "execution_count": 16,
          "metadata": {},
          "output_type": "execute_result"
        }
      ],
      "source": [
        "product.shape"
      ]
    },
    {
      "cell_type": "code",
      "execution_count": null,
      "metadata": {
        "colab": {
          "base_uri": "https://localhost:8080/"
        },
        "id": "sHbSqabUbv-h",
        "outputId": "96043fb2-fc30-4e65-cdac-db73898d6f7a"
      },
      "outputs": [
        {
          "data": {
            "text/plain": [
              "(12833602, 6)"
            ]
          },
          "execution_count": 17,
          "metadata": {},
          "output_type": "execute_result"
        }
      ],
      "source": [
        "click_stream.shape"
      ]
    },
    {
      "cell_type": "code",
      "execution_count": null,
      "metadata": {
        "colab": {
          "base_uri": "https://localhost:8080/"
        },
        "id": "C8HPHr_siO9I",
        "outputId": "658cfdea-2ee9-48bb-9d60-b2fb32fd35b6"
      },
      "outputs": [
        {
          "data": {
            "text/plain": [
              "Index(['customer_id', 'first_name', 'last_name', 'username', 'email', 'gender',\n",
              "       'birthdate', 'device_type', 'device_id', 'device_version',\n",
              "       'home_location_lat', 'home_location_long', 'home_location',\n",
              "       'home_country', 'first_join_date'],\n",
              "      dtype='object')"
            ]
          },
          "execution_count": 18,
          "metadata": {},
          "output_type": "execute_result"
        }
      ],
      "source": [
        "customer.columns"
      ]
    },
    {
      "cell_type": "code",
      "execution_count": null,
      "metadata": {
        "colab": {
          "base_uri": "https://localhost:8080/"
        },
        "id": "vUsPdEGMiSdP",
        "outputId": "5dd9204f-613f-4858-e593-aecc1a87c39a"
      },
      "outputs": [
        {
          "data": {
            "text/plain": [
              "Index(['created_at', 'customer_id', 'booking_id', 'session_id',\n",
              "       'product_metadata', 'payment_method', 'payment_status', 'promo_amount',\n",
              "       'promo_code', 'shipment_fee', 'shipment_date_limit',\n",
              "       'shipment_location_lat', 'shipment_location_long', 'total_amount'],\n",
              "      dtype='object')"
            ]
          },
          "execution_count": 19,
          "metadata": {},
          "output_type": "execute_result"
        }
      ],
      "source": [
        "transactions.columns"
      ]
    },
    {
      "cell_type": "code",
      "execution_count": null,
      "metadata": {
        "colab": {
          "base_uri": "https://localhost:8080/"
        },
        "id": "ikSbnCLziVof",
        "outputId": "a2970d85-0451-47f3-b8ee-35480bfcec68"
      },
      "outputs": [
        {
          "data": {
            "text/plain": [
              "Index(['id', 'gender', 'masterCategory', 'subCategory', 'articleType',\n",
              "       'baseColour', 'season', 'year', 'usage', 'productDisplayName'],\n",
              "      dtype='object')"
            ]
          },
          "execution_count": 20,
          "metadata": {},
          "output_type": "execute_result"
        }
      ],
      "source": [
        "product.columns"
      ]
    },
    {
      "cell_type": "code",
      "execution_count": null,
      "metadata": {
        "colab": {
          "base_uri": "https://localhost:8080/"
        },
        "id": "_c8gVjcZiYOu",
        "outputId": "33f0ca48-8e82-4f09-fe4d-3d35ae951eca"
      },
      "outputs": [
        {
          "data": {
            "text/plain": [
              "Index(['session_id', 'event_name', 'event_time', 'event_id', 'traffic_source',\n",
              "       'event_metadata'],\n",
              "      dtype='object')"
            ]
          },
          "execution_count": 21,
          "metadata": {},
          "output_type": "execute_result"
        }
      ],
      "source": [
        "click_stream.columns"
      ]
    },
    {
      "cell_type": "code",
      "source": [
        "customer2 = customer.copy()\n",
        "transactions2 = transactions.copy()"
      ],
      "metadata": {
        "id": "ONKHzWYQm0B0"
      },
      "execution_count": null,
      "outputs": []
    },
    {
      "cell_type": "markdown",
      "metadata": {
        "id": "6d3QwEEFb-xB"
      },
      "source": [
        "<h1> Week 1: Exploratory Data Analysis </h1>"
      ]
    },
    {
      "cell_type": "markdown",
      "source": [
        "memberikan insight untuk tim UI/UX"
      ],
      "metadata": {
        "id": "1Cm3cNs0xvhk"
      }
    },
    {
      "cell_type": "markdown",
      "metadata": {
        "id": "EZQJsVxVex57"
      },
      "source": [
        "<h2> Dataset customer </h2>"
      ]
    },
    {
      "cell_type": "markdown",
      "source": [
        "<h3> Banyaknya customer yang pernah membeli </h3>"
      ],
      "metadata": {
        "id": "Z4RIkDcFmGpR"
      }
    },
    {
      "cell_type": "code",
      "source": [
        "cust_payment_success = transactions2[['customer_id', 'payment_status']][transactions['payment_status']=='Success']\n",
        "cust_payment_success = cust_payment_success['customer_id'].unique()"
      ],
      "metadata": {
        "id": "21q4VBHTmLZ6"
      },
      "execution_count": null,
      "outputs": []
    },
    {
      "cell_type": "code",
      "source": [
        "cust_all = customer2['customer_id']"
      ],
      "metadata": {
        "id": "cThusDMHm896"
      },
      "execution_count": null,
      "outputs": []
    },
    {
      "cell_type": "code",
      "source": [
        "cust_have_payment = len(cust_payment_success) / 100000\n",
        "cust_not_have_payment = 1 - cust_have_payment"
      ],
      "metadata": {
        "id": "zARDDr4Hm6Yy"
      },
      "execution_count": null,
      "outputs": []
    },
    {
      "cell_type": "code",
      "source": [
        "print('Registered Customers:', len(customer['customer_id']), 'customers')\n",
        "print('Customers have purchased at least 1 item:', int(cust_have_payment*100000), 'customers')\n",
        "print('Customers never purchase yet:', int(cust_not_have_payment*100000), 'customers')"
      ],
      "metadata": {
        "colab": {
          "base_uri": "https://localhost:8080/"
        },
        "id": "oQBwSZc1nBua",
        "outputId": "e58dac90-ef96-4f76-e0a6-9b20f38cca09"
      },
      "execution_count": null,
      "outputs": [
        {
          "output_type": "stream",
          "name": "stdout",
          "text": [
            "Registered Customers: 100000 customers\n",
            "Customers have purchased at least 1 item: 50242 customers\n",
            "Customers never purchase yet: 49758 customers\n"
          ]
        }
      ]
    },
    {
      "cell_type": "code",
      "source": [
        "# declaring data\n",
        "data = [cust_have_payment, cust_not_have_payment]\n",
        "keys = ['Customers have purchased at least 1 item', 'Customers never purchase yet']\n",
        "  \n",
        "# define Seaborn color palette to use\n",
        "palette_color = sns.color_palette('bright')\n",
        "  \n",
        "# plotting data on chart\n",
        "plt.figure(figsize=(10, 5))\n",
        "plt.pie(data, labels=keys, colors=palette_color, autopct='%.0f%%')\n",
        "plt.title('')\n",
        "  \n",
        "# displaying chart\n",
        "\n",
        "plt.show()"
      ],
      "metadata": {
        "colab": {
          "base_uri": "https://localhost:8080/",
          "height": 303
        },
        "id": "dSxyxPf8nH8V",
        "outputId": "75b89897-b73e-4000-808c-bb84d7fd1d73"
      },
      "execution_count": null,
      "outputs": [
        {
          "output_type": "display_data",
          "data": {
            "text/plain": [
              "<Figure size 720x360 with 1 Axes>"
            ],
            "image/png": "[encoded data removed]"
          },
          "metadata": {}
        }
      ]
    },
    {
      "cell_type": "markdown",
      "metadata": {
        "id": "VKhBRdb6amE3"
      },
      "source": [
        "<h3> Jenis kelamin customer</h3>"
      ]
    },
    {
      "cell_type": "code",
      "execution_count": null,
      "metadata": {
        "colab": {
          "base_uri": "https://localhost:8080/",
          "height": 312
        },
        "id": "9Z1qZrSXcHIj",
        "outputId": "e92322c8-d438-494b-8ccb-76d451b75679"
      },
      "outputs": [
        {
          "data": {
            "text/plain": [
              "Text(0.5, 1.0, 'Jenis Kelamin Customer')"
            ]
          },
          "execution_count": 32,
          "metadata": {},
          "output_type": "execute_result"
        },
        {
          "data": {
            "image/png": "[encoded data removed]",
            "text/plain": [
              "<Figure size 432x288 with 1 Axes>"
            ]
          },
          "metadata": {},
          "output_type": "display_data"
        }
      ],
      "source": [
        "sns.countplot(data=customer, x='gender')\n",
        "plt.title(\"Jenis Kelamin Customer\")"
      ]
    },
    {
      "cell_type": "markdown",
      "metadata": {
        "id": "XI3Io-yrafOu"
      },
      "source": [
        "Kebanyakan jenis kelamin customer adalah wanita\n",
        "\n"
      ]
    },
    {
      "cell_type": "markdown",
      "metadata": {
        "id": "jCBM3u9Ka5GX"
      },
      "source": [
        "<h3> Tipe Perangkat yang dimiliki Customer </h3>\n"
      ]
    },
    {
      "cell_type": "code",
      "execution_count": null,
      "metadata": {
        "colab": {
          "base_uri": "https://localhost:8080/",
          "height": 313
        },
        "id": "P_AJ_mcyaNt_",
        "outputId": "73cb5d19-5c8b-45f3-b4b8-d27c9483085a"
      },
      "outputs": [
        {
          "data": {
            "text/plain": [
              "Text(0.5, 1.0, 'Tipe Perangkat yang dimiliki Customer')"
            ]
          },
          "execution_count": 33,
          "metadata": {},
          "output_type": "execute_result"
        },
        {
          "data": {
            "image/png": "[encoded data removed]",
            "text/plain": [
              "<Figure size 432x288 with 1 Axes>"
            ]
          },
          "metadata": {},
          "output_type": "display_data"
        }
      ],
      "source": [
        "sns.countplot(data=customer, x='device_type')\n",
        "plt.title(\"Tipe Perangkat yang dimiliki Customer\")"
      ]
    },
    {
      "cell_type": "markdown",
      "metadata": {
        "id": "_SjXeULCaeBQ"
      },
      "source": [
        "Perangkat Android lebih banyak dimiliki oleh Customer daripada iOS"
      ]
    },
    {
      "cell_type": "markdown",
      "metadata": {
        "id": "yiElp0XogKHo"
      },
      "source": [
        "<h3> Umur customer </h3>"
      ]
    },
    {
      "cell_type": "code",
      "execution_count": null,
      "metadata": {
        "colab": {
          "base_uri": "https://localhost:8080/"
        },
        "id": "_sqVuu8PgM3I",
        "outputId": "543d07be-58b3-4e20-cb7e-7c385ad70f79"
      },
      "outputs": [
        {
          "name": "stdout",
          "output_type": "stream",
          "text": [
            "<class 'pandas.core.frame.DataFrame'>\n",
            "RangeIndex: 100000 entries, 0 to 99999\n",
            "Data columns (total 15 columns):\n",
            " #   Column              Non-Null Count   Dtype  \n",
            "---  ------              --------------   -----  \n",
            " 0   customer_id         100000 non-null  int64  \n",
            " 1   first_name          100000 non-null  object \n",
            " 2   last_name           100000 non-null  object \n",
            " 3   username            100000 non-null  object \n",
            " 4   email               100000 non-null  object \n",
            " 5   gender              100000 non-null  object \n",
            " 6   birthdate           100000 non-null  object \n",
            " 7   device_type         100000 non-null  object \n",
            " 8   device_id           100000 non-null  object \n",
            " 9   device_version      100000 non-null  object \n",
            " 10  home_location_lat   100000 non-null  float64\n",
            " 11  home_location_long  100000 non-null  float64\n",
            " 12  home_location       100000 non-null  object \n",
            " 13  home_country        100000 non-null  object \n",
            " 14  first_join_date     100000 non-null  object \n",
            "dtypes: float64(2), int64(1), object(12)\n",
            "memory usage: 11.4+ MB\n"
          ]
        }
      ],
      "source": [
        "customer.info()"
      ]
    },
    {
      "cell_type": "code",
      "execution_count": null,
      "metadata": {
        "id": "wpADm32ggiYH"
      },
      "outputs": [],
      "source": [
        "birthdate_year = pd.to_datetime(customer['birthdate'], format='%Y-%m-%d').dt.year"
      ]
    },
    {
      "cell_type": "code",
      "execution_count": null,
      "metadata": {
        "id": "VVzDPWTFAxrJ"
      },
      "outputs": [],
      "source": [
        "customer['age'] = date.today().year - birthdate_year"
      ]
    },
    {
      "cell_type": "code",
      "execution_count": null,
      "metadata": {
        "colab": {
          "base_uri": "https://localhost:8080/",
          "height": 296
        },
        "id": "rXeXbS6WBW6k",
        "outputId": "90d43b94-3ff3-425b-a91d-b493b370398e"
      },
      "outputs": [
        {
          "data": {
            "text/plain": [
              "<matplotlib.axes._subplots.AxesSubplot at 0x7f5d14f26a10>"
            ]
          },
          "execution_count": 37,
          "metadata": {},
          "output_type": "execute_result"
        },
        {
          "data": {
            "image/png": "[encoded data removed]",
            "text/plain": [
              "<Figure size 432x288 with 1 Axes>"
            ]
          },
          "metadata": {},
          "output_type": "display_data"
        }
      ],
      "source": [
        "sns.histplot(data=customer, x=customer['age'], kde=True)"
      ]
    },
    {
      "cell_type": "markdown",
      "metadata": {
        "id": "6jS2iILsCDtI"
      },
      "source": [
        "terlihat bahwa kebanyakan customer memiliki umur sekitar 20-30 tahun"
      ]
    },
    {
      "cell_type": "markdown",
      "metadata": {
        "id": "_Ar5bUVRa7tp"
      },
      "source": [
        "<h3> Asal kota customer </h3>"
      ]
    },
    {
      "cell_type": "code",
      "execution_count": null,
      "metadata": {
        "colab": {
          "base_uri": "https://localhost:8080/"
        },
        "id": "WUkooqqRdSk-",
        "outputId": "fc03f1d6-05d9-4d3b-a62d-c2fb8231c438"
      },
      "outputs": [
        {
          "data": {
            "text/plain": [
              "array(['Indonesia'], dtype=object)"
            ]
          },
          "execution_count": 38,
          "metadata": {},
          "output_type": "execute_result"
        }
      ],
      "source": [
        "customer['home_country'].unique()"
      ]
    },
    {
      "cell_type": "markdown",
      "metadata": {
        "id": "IkwvZYqgdn7y"
      },
      "source": [
        "Semua customer berasal dari Indonesia"
      ]
    },
    {
      "cell_type": "code",
      "execution_count": null,
      "metadata": {
        "id": "JJ5AMMyTa7Tt"
      },
      "outputs": [],
      "source": [
        "top_10_city = customer['home_location'].value_counts().head(10)"
      ]
    },
    {
      "cell_type": "code",
      "execution_count": null,
      "metadata": {
        "colab": {
          "base_uri": "https://localhost:8080/",
          "height": 298
        },
        "id": "4nBEPPRJaso1",
        "outputId": "ee2c247a-49a3-4c97-8037-700d6268b3b1"
      },
      "outputs": [
        {
          "data": {
            "text/plain": [
              "Text(0.5, 1.0, '10 Besar Asal Kota Customer')"
            ]
          },
          "execution_count": 40,
          "metadata": {},
          "output_type": "execute_result"
        },
        {
          "data": {
            "image/png": "[encoded data removed]",
            "text/plain": [
              "<Figure size 432x288 with 1 Axes>"
            ]
          },
          "metadata": {},
          "output_type": "display_data"
        }
      ],
      "source": [
        "sns.barplot(x=top_10_city.values, y=top_10_city.index)\n",
        "plt.title(\"10 Besar Asal Kota Customer\")"
      ]
    },
    {
      "cell_type": "markdown",
      "metadata": {
        "id": "WEgDVv5xdJ99"
      },
      "source": [
        "terlihat bahwa asal kota customer terbesar berasal dari Jakarta Raya, kemudian Jawa Barat dan Jawa Tengah"
      ]
    },
    {
      "cell_type": "markdown",
      "metadata": {
        "id": "y2npfNfje3W1"
      },
      "source": [
        "<h2> Dataset transactions </h2>"
      ]
    },
    {
      "cell_type": "markdown",
      "metadata": {
        "id": "-AUPENm2N4kB"
      },
      "source": [
        "<h3> Metode Pembayaran </h3>"
      ]
    },
    {
      "cell_type": "code",
      "execution_count": null,
      "metadata": {
        "id": "LyLnwPlEMNY_"
      },
      "outputs": [],
      "source": [
        "pm = transactions['payment_method'].value_counts().head()"
      ]
    },
    {
      "cell_type": "code",
      "execution_count": null,
      "metadata": {
        "colab": {
          "base_uri": "https://localhost:8080/",
          "height": 298
        },
        "id": "iWnOYNbdfEvS",
        "outputId": "c5b850d1-0eeb-4984-8992-9a9da86a42e8"
      },
      "outputs": [
        {
          "data": {
            "text/plain": [
              "Text(0.5, 1.0, 'Metode Pembayaran')"
            ]
          },
          "execution_count": 42,
          "metadata": {},
          "output_type": "execute_result"
        },
        {
          "data": {
            "image/png": "[encoded data removed]",
            "text/plain": [
              "<Figure size 432x288 with 1 Axes>"
            ]
          },
          "metadata": {},
          "output_type": "display_data"
        }
      ],
      "source": [
        "sns.barplot(x=pm.index, y=pm.values)\n",
        "plt.title(\"Metode Pembayaran\")"
      ]
    },
    {
      "cell_type": "markdown",
      "metadata": {
        "id": "-G_f9HgwNwTs"
      },
      "source": [
        "metode pembayaran terbanyak oleh customer menggunakan credit card, kemudian Gopay dan OVO"
      ]
    },
    {
      "cell_type": "markdown",
      "metadata": {
        "id": "DIsj0VmyxC69"
      },
      "source": [
        "<h3> Promo </h3>"
      ]
    },
    {
      "cell_type": "code",
      "execution_count": null,
      "metadata": {
        "colab": {
          "base_uri": "https://localhost:8080/"
        },
        "id": "YwgJis8j0L6_",
        "outputId": "fca63f85-1cdf-47c8-defa-fe1dd42a7efb"
      },
      "outputs": [
        {
          "data": {
            "text/plain": [
              "326536"
            ]
          },
          "execution_count": 43,
          "metadata": {},
          "output_type": "execute_result"
        }
      ],
      "source": [
        "promo_count = transactions.groupby(['customer_id']).agg({'promo_code': 'count'})\n",
        "promo_count['promo_code'].sum()"
      ]
    },
    {
      "cell_type": "code",
      "execution_count": null,
      "metadata": {
        "id": "-aL8iF4ox9Rf"
      },
      "outputs": [],
      "source": [
        "promo = transactions['promo_code'].shape[0]"
      ]
    },
    {
      "cell_type": "code",
      "execution_count": null,
      "metadata": {
        "id": "qnH1ZAJF3zak"
      },
      "outputs": [],
      "source": [
        "promo_not_null = (promo_count['promo_code'].sum()/promo) * 100\n",
        "promo_null = 100 - promo_not_null"
      ]
    },
    {
      "cell_type": "code",
      "execution_count": null,
      "metadata": {
        "colab": {
          "base_uri": "https://localhost:8080/",
          "height": 319
        },
        "id": "ZAC3_5Od2sCY",
        "outputId": "934af673-2540-44b9-d7d7-54d9ca2d2666"
      },
      "outputs": [
        {
          "data": {
            "image/png": "[encoded data removed]",
            "text/plain": [
              "<Figure size 720x360 with 1 Axes>"
            ]
          },
          "metadata": {},
          "output_type": "display_data"
        }
      ],
      "source": [
        "shares = [promo_not_null, promo_null]\n",
        "labels = [\"Memakai kode promo\", \"Tidak memakai kode promo\"]\n",
        "\n",
        "plt.figure(figsize=(10, 5))\n",
        "plt.pie(shares, labels = labels, autopct='%.0f%%')\n",
        "plt.title(\"Persentase Customer yang Memakai Kode Promo\")\n",
        "plt.show()"
      ]
    },
    {
      "cell_type": "markdown",
      "metadata": {
        "id": "hGwKbcKV1LTs"
      },
      "source": [
        "Hal yang unik adalah persentase customer yang menggunakan kode promo adalah sekitar 38%, sehingga dapat dikatakan promo kurang diminati customer. Namun, perlu juga disertai dengan analisis lainnya"
      ]
    },
    {
      "cell_type": "markdown",
      "metadata": {
        "id": "nYh2XDiOe7UH"
      },
      "source": [
        "<h2> Dataset product </h2>"
      ]
    },
    {
      "cell_type": "markdown",
      "metadata": {
        "id": "kzPRY83mYBlQ"
      },
      "source": [
        "Note: Analisis dataset produk ini adalah produk yang ditawarkan, BUKAN produk yang dibeli oleh customer"
      ]
    },
    {
      "cell_type": "markdown",
      "metadata": {
        "id": "kGJj-CK-QpA_"
      },
      "source": [
        "<h3> Jenis Produk yang Ditawarkan (Jenis Kelamin) </h3>"
      ]
    },
    {
      "cell_type": "code",
      "execution_count": null,
      "metadata": {
        "colab": {
          "base_uri": "https://localhost:8080/"
        },
        "id": "HSYSOQWFfFVC",
        "outputId": "1a3b2e88-ed31-4772-9cb1-a6bf2ac3060b"
      },
      "outputs": [
        {
          "data": {
            "text/plain": [
              "Men       22147\n",
              "Women     18631\n",
              "Unisex     2161\n",
              "Boys        830\n",
              "Girls       655\n",
              "Name: gender, dtype: int64"
            ]
          },
          "execution_count": 47,
          "metadata": {},
          "output_type": "execute_result"
        }
      ],
      "source": [
        "product_supply = product['gender'].value_counts()\n",
        "product_supply"
      ]
    },
    {
      "cell_type": "code",
      "execution_count": null,
      "metadata": {
        "colab": {
          "base_uri": "https://localhost:8080/",
          "height": 298
        },
        "id": "zLouAqirOe4U",
        "outputId": "c82d67bc-dae6-4dbd-8627-4250b37a56c9"
      },
      "outputs": [
        {
          "data": {
            "text/plain": [
              "Text(0.5, 1.0, 'Jenis Produk yang Ditawarkan (Jenis Kelamin)')"
            ]
          },
          "execution_count": 48,
          "metadata": {},
          "output_type": "execute_result"
        },
        {
          "data": {
            "image/png": "[encoded data removed]",
            "text/plain": [
              "<Figure size 432x288 with 1 Axes>"
            ]
          },
          "metadata": {},
          "output_type": "display_data"
        }
      ],
      "source": [
        "sns.barplot(x=product_supply.index, y=product_supply.values)\n",
        "plt.title(\"Jenis Produk yang Ditawarkan (Jenis Kelamin)\")"
      ]
    },
    {
      "cell_type": "markdown",
      "metadata": {
        "id": "beTzlKTVO8c8"
      },
      "source": [
        "jenis produk yang ditawarkan kebanyakan untuk men, kemudian woman dan unisex. <br>\n",
        "keterangan: <br>\n",
        "<ol>\n",
        "  <li>Men: Pria Dewasa</li>\n",
        "  <li>Women: Wanita Dewasa</li>\n",
        "  <li>Unisex: Bisa digunakan pria maupun wanita</li>\n",
        "  <li>Boys: Anak laki-laki</li>\n",
        "  <li>Girls: Anak perempuan</li>\n",
        "</ol>"
      ]
    },
    {
      "cell_type": "markdown",
      "metadata": {
        "id": "pXdmL-WNQyUB"
      },
      "source": [
        "<h3> Jenis Produk yang Ditawarkan (Kategori Pertama) </h3>"
      ]
    },
    {
      "cell_type": "markdown",
      "metadata": {
        "id": "l-uLKMz3Vziy"
      },
      "source": [
        "Jenis produk yang ditawarkan, secara kategori memiliki beberapa macam: <br>\n",
        "<ol>\n",
        "  <li>Kategori pertama: merupakan kategori yang dikelompokkan secara umum, misal: apparel (apparel secara keseluruhan)</li>\n",
        "  <li>Kategori kedua: merupakan kategori turunan dari kategori pertama, misal: topwear (pakaian atas) yang merupakan turunan dari apparel</li>\n",
        "  <li>Kategori ketiga: merupakan kategori turunan dari kategori kedua, misal: tshirts yang merupakan turunan dari topwear</li>\n",
        "</ol>"
      ]
    },
    {
      "cell_type": "code",
      "execution_count": null,
      "metadata": {
        "id": "vDBV4w1IQ0je"
      },
      "outputs": [],
      "source": [
        "masterCategory = product['masterCategory'].value_counts()"
      ]
    },
    {
      "cell_type": "code",
      "execution_count": null,
      "metadata": {
        "colab": {
          "base_uri": "https://localhost:8080/",
          "height": 353
        },
        "id": "Uqh4EtAFRB4V",
        "outputId": "b22efad1-ac89-45aa-bc2d-f3c18fbd40c8"
      },
      "outputs": [
        {
          "data": {
            "text/plain": [
              "Text(0.5, 1.0, 'Jenis Produk yang Ditawarkan (Kategori Pertama)')"
            ]
          },
          "execution_count": 50,
          "metadata": {},
          "output_type": "execute_result"
        },
        {
          "data": {
            "image/png": "[encoded data removed]",
            "text/plain": [
              "<Figure size 720x360 with 1 Axes>"
            ]
          },
          "metadata": {},
          "output_type": "display_data"
        }
      ],
      "source": [
        "plt.figure(figsize=(10, 5))\n",
        "sns.barplot(x=masterCategory.index, y=masterCategory.values)\n",
        "plt.title(\"Jenis Produk yang Ditawarkan (Kategori Pertama)\")"
      ]
    },
    {
      "cell_type": "markdown",
      "metadata": {
        "id": "Qe0xLTGvRrAJ"
      },
      "source": [
        "Jenis produk yang ditawarkan (secara kategori pertama) terbanyak adalah apparel, kemudian accessories dan footwear"
      ]
    },
    {
      "cell_type": "markdown",
      "metadata": {
        "id": "heDBL8q4SOPk"
      },
      "source": [
        "<h3> Jenis Produk yang Ditawarkan (Kategori Turunan Kedua) </h3>"
      ]
    },
    {
      "cell_type": "code",
      "execution_count": null,
      "metadata": {
        "id": "W4Fi0utJSO6Z"
      },
      "outputs": [],
      "source": [
        "subCategory = product['subCategory'].value_counts().head(10)"
      ]
    },
    {
      "cell_type": "code",
      "execution_count": null,
      "metadata": {
        "colab": {
          "base_uri": "https://localhost:8080/",
          "height": 353
        },
        "id": "e9KthveWSlvV",
        "outputId": "21ad7ab9-514a-49cd-e67d-39b470fb3077"
      },
      "outputs": [
        {
          "data": {
            "text/plain": [
              "Text(0.5, 1.0, 'Jenis Produk yang Ditawarkan (Kategori Turunan Kedua)')"
            ]
          },
          "execution_count": 52,
          "metadata": {},
          "output_type": "execute_result"
        },
        {
          "data": {
            "image/png": "[encoded data removed]",
            "text/plain": [
              "<Figure size 720x360 with 1 Axes>"
            ]
          },
          "metadata": {},
          "output_type": "display_data"
        }
      ],
      "source": [
        "plt.figure(figsize=(10, 5))\n",
        "sns.barplot(x=subCategory.values, y=subCategory.index)\n",
        "plt.title(\"Jenis Produk yang Ditawarkan (Kategori Turunan Kedua)\")"
      ]
    },
    {
      "cell_type": "markdown",
      "metadata": {
        "id": "utkBhzSHTIvd"
      },
      "source": [
        "Jenis produk yang ditawarkan (secara kategori turunan kedua) terbanyak adalah topwear, kemudian shoes dan bags"
      ]
    },
    {
      "cell_type": "markdown",
      "metadata": {
        "id": "QWTNp2pzTgK1"
      },
      "source": [
        "<h3> Jenis Produk yang Ditawarkan (Kategori Turunan Ketiga) </h3>"
      ]
    },
    {
      "cell_type": "code",
      "execution_count": null,
      "metadata": {
        "id": "WMzr5PEmTgy4"
      },
      "outputs": [],
      "source": [
        "articleType = product['articleType'].value_counts().head(10)"
      ]
    },
    {
      "cell_type": "code",
      "execution_count": null,
      "metadata": {
        "colab": {
          "base_uri": "https://localhost:8080/",
          "height": 353
        },
        "id": "MXeukW3rUPLv",
        "outputId": "405404a5-8ce3-4105-9bd7-462a6cb60c76"
      },
      "outputs": [
        {
          "data": {
            "text/plain": [
              "Text(0.5, 1.0, 'Jenis Produk yang Ditawarkan (Kategori Turunan Ketiga)')"
            ]
          },
          "execution_count": 54,
          "metadata": {},
          "output_type": "execute_result"
        },
        {
          "data": {
            "image/png": "[encoded data removed]",
            "text/plain": [
              "<Figure size 720x360 with 1 Axes>"
            ]
          },
          "metadata": {},
          "output_type": "display_data"
        }
      ],
      "source": [
        "plt.figure(figsize=(10, 5))\n",
        "sns.barplot(x=articleType.values, y=articleType.index)\n",
        "plt.title(\"Jenis Produk yang Ditawarkan (Kategori Turunan Ketiga)\")"
      ]
    },
    {
      "cell_type": "markdown",
      "metadata": {
        "id": "bQLCYGL8Vcru"
      },
      "source": [
        "jenis produk yang ditawarkan (secara kategori turunan ketiga) terbanyak adalah tshirts, kemudian shirts dan casual shoes"
      ]
    },
    {
      "cell_type": "markdown",
      "metadata": {
        "id": "8uRm7IkbeQtT"
      },
      "source": [
        "<h3> Jenis Pemakaian Produk yang Ditawarkan </h3>"
      ]
    },
    {
      "cell_type": "code",
      "execution_count": null,
      "metadata": {
        "id": "hrVGsEd6XNcR"
      },
      "outputs": [],
      "source": [
        "usage = product['usage'].value_counts()"
      ]
    },
    {
      "cell_type": "code",
      "execution_count": null,
      "metadata": {
        "colab": {
          "base_uri": "https://localhost:8080/",
          "height": 353
        },
        "id": "HwRipuxgXgyF",
        "outputId": "1d52384c-fa3f-42fd-d8f3-7f269be51147"
      },
      "outputs": [
        {
          "data": {
            "text/plain": [
              "Text(0.5, 1.0, 'Jenis Pemakaian Produk yang Ditawarkan')"
            ]
          },
          "execution_count": 56,
          "metadata": {},
          "output_type": "execute_result"
        },
        {
          "data": {
            "image/png": "[encoded data removed]",
            "text/plain": [
              "<Figure size 720x360 with 1 Axes>"
            ]
          },
          "metadata": {},
          "output_type": "display_data"
        }
      ],
      "source": [
        "plt.figure(figsize=(10, 5))\n",
        "sns.barplot(x=usage.index, y=usage.values)\n",
        "plt.title(\"Jenis Pemakaian Produk yang Ditawarkan\")"
      ]
    },
    {
      "cell_type": "markdown",
      "metadata": {
        "id": "Cpu2V0jBYX5Y"
      },
      "source": [
        "Jenis pemakaian produk yang ditawarkan terbanyak adalah casual, sports dan ethnic"
      ]
    },
    {
      "cell_type": "markdown",
      "metadata": {
        "id": "klIzBctae_Zw"
      },
      "source": [
        "<h2> Dataset click_stream </h2>"
      ]
    },
    {
      "cell_type": "markdown",
      "metadata": {
        "id": "zEP6TwCJeQaI"
      },
      "source": [
        "<h3> Traffic sources </h3>"
      ]
    },
    {
      "cell_type": "code",
      "execution_count": null,
      "metadata": {
        "id": "p5l0fgBKds5o"
      },
      "outputs": [],
      "source": [
        "ts = click_stream['traffic_source'].value_counts()"
      ]
    },
    {
      "cell_type": "code",
      "execution_count": null,
      "metadata": {
        "colab": {
          "base_uri": "https://localhost:8080/",
          "height": 298
        },
        "id": "HI7kb42lefBZ",
        "outputId": "fec3aab7-0bef-49df-d6a9-ae70c6fded20"
      },
      "outputs": [
        {
          "data": {
            "text/plain": [
              "Text(0.5, 1.0, 'Sumber Trafik Customer')"
            ]
          },
          "execution_count": 58,
          "metadata": {},
          "output_type": "execute_result"
        },
        {
          "data": {
            "image/png": "[encoded data removed]",
            "text/plain": [
              "<Figure size 432x288 with 1 Axes>"
            ]
          },
          "metadata": {},
          "output_type": "display_data"
        }
      ],
      "source": [
        "sns.barplot(x=ts.index, y=ts.values)\n",
        "plt.title(\"Sumber Trafik Customer\")"
      ]
    },
    {
      "cell_type": "markdown",
      "metadata": {
        "id": "1Vc90WVrfHjG"
      },
      "source": [
        "terlihat bahwa sumber traffic customer terbesar adalah dari mobile (smart phone) kemudian dari web"
      ]
    },
    {
      "cell_type": "markdown",
      "metadata": {
        "id": "RyZKE7Jscgsw"
      },
      "source": [
        "<h1> Week 2: Feature Engineering </h1>\n",
        "\n",
        "\n",
        "\n"
      ]
    },
    {
      "cell_type": "markdown",
      "metadata": {
        "id": "qojWICXzNhzy"
      },
      "source": [
        "untuk feature engineering ini, kami melakukan beberapa save terhadap tahapan-tahapan dari feature engineering ini dikarenakan RAM yang disediakan oleh Google Colab free tidak mencukupi. <br>\n",
        "Untuk hasil final dataset, kami menyimpannya secara pd.to_csv kemudian tinggal mengaksesnya melalui Google Drive. <br>\n",
        "Oleh karena itu, untuk week 2 ini kebanyakan terdapat coding yang kami jadikan comment karena tidak perlu di-run lagi (namun masih tetap diperlukan bila terdapat kebutuhan ke depannya)"
      ]
    },
    {
      "cell_type": "markdown",
      "metadata": {
        "id": "K7JHYNjd4dNF"
      },
      "source": [
        "<h2> Customer dataset </h2>"
      ]
    },
    {
      "cell_type": "code",
      "execution_count": null,
      "metadata": {
        "colab": {
          "base_uri": "https://localhost:8080/",
          "height": 52
        },
        "id": "r0I5AGmxxidp",
        "outputId": "c6b4a727-ec25-4a4e-e6ce-ce91e21c85b6"
      },
      "outputs": [
        {
          "data": {
            "application/vnd.google.colaboratory.intrinsic+json": {
              "type": "string"
            },
            "text/plain": [
              "'customer2 = pd.read_csv(\"/content/drive/MyDrive/Datasets/customer2.csv\",\\n                        parse_dates=[\\'birthdate\\',\\'first_join_date\\'])\\n                        '"
            ]
          },
          "execution_count": 59,
          "metadata": {},
          "output_type": "execute_result"
        }
      ],
      "source": [
        "'''customer2 = pd.read_csv(\"/content/drive/MyDrive/Datasets/customer2.csv\",\n",
        "                        parse_dates=['birthdate','first_join_date'])\n",
        "                        '''"
      ]
    },
    {
      "cell_type": "code",
      "execution_count": null,
      "metadata": {
        "id": "9AipXfqd0Bu0"
      },
      "outputs": [],
      "source": [
        "#customer3 = customer2.copy()\n",
        "#customer3.head()"
      ]
    },
    {
      "cell_type": "markdown",
      "metadata": {
        "id": "FJMog2WVoFtt"
      },
      "source": [
        "<h3> Adding age </h3>"
      ]
    },
    {
      "cell_type": "code",
      "execution_count": null,
      "metadata": {
        "id": "lZqWrn7Bnq_x"
      },
      "outputs": [],
      "source": [
        "#birthdate_year = pd.to_datetime(customer3['birthdate'], format='%Y-%m-%d').dt.year\n",
        "#year = customer3['age'] = date.today().year - birthdate_year\n",
        "#year"
      ]
    },
    {
      "cell_type": "code",
      "execution_count": null,
      "metadata": {
        "id": "EMOJCwPQnyfC"
      },
      "outputs": [],
      "source": [
        "#customer3.head()"
      ]
    },
    {
      "cell_type": "markdown",
      "metadata": {
        "id": "8beAgbkTuaso"
      },
      "source": [
        "<h3> Adding age_from_first_join_date </h3>"
      ]
    },
    {
      "cell_type": "markdown",
      "metadata": {
        "id": "JBHZdV4xufck"
      },
      "source": [
        "Kolom age_from_first_join_date adalah rentang waktu pelanggan pertama kali mendaftar di Fashion Campus sampai sekarang (dalam tahun)"
      ]
    },
    {
      "cell_type": "code",
      "execution_count": null,
      "metadata": {
        "colab": {
          "base_uri": "https://localhost:8080/",
          "height": 52
        },
        "id": "4lJ-mhsRpk-C",
        "outputId": "d82654fe-a813-404f-ed04-0c73b294a77e"
      },
      "outputs": [
        {
          "data": {
            "application/vnd.google.colaboratory.intrinsic+json": {
              "type": "string"
            },
            "text/plain": [
              "\"age_from_first_join_date = pd.to_datetime(customer2['first_join_date'], \\n                                          format='%Y-%m-%d').dt.year\\ncustomer3['age_from_first_join_date'] = date.today().year - age_from_first_join_date\\n\""
            ]
          },
          "execution_count": 63,
          "metadata": {},
          "output_type": "execute_result"
        }
      ],
      "source": [
        "'''age_from_first_join_date = pd.to_datetime(customer2['first_join_date'], \n",
        "                                          format='%Y-%m-%d').dt.year\n",
        "customer3['age_from_first_join_date'] = date.today().year - age_from_first_join_date\n",
        "'''"
      ]
    },
    {
      "cell_type": "code",
      "execution_count": null,
      "metadata": {
        "id": "ujHb-1_E2Xo6"
      },
      "outputs": [],
      "source": [
        "#date.today().month"
      ]
    },
    {
      "cell_type": "code",
      "execution_count": null,
      "metadata": {
        "id": "_YteFamq08Jj"
      },
      "outputs": [],
      "source": [
        "#customer3.loc[0, 'first_join_date'].year"
      ]
    },
    {
      "cell_type": "code",
      "execution_count": null,
      "metadata": {
        "id": "2w9lLtge1jsI"
      },
      "outputs": [],
      "source": [
        "#customer3['first_join_date'].min()"
      ]
    },
    {
      "cell_type": "code",
      "execution_count": null,
      "metadata": {
        "id": "CyXzhzOs2Efo"
      },
      "outputs": [],
      "source": [
        "#customer3['age_from_first_join_date_inMonth'] = pd.NA"
      ]
    },
    {
      "cell_type": "code",
      "execution_count": null,
      "metadata": {
        "colab": {
          "base_uri": "https://localhost:8080/",
          "height": 139
        },
        "id": "REGsuvNbz-3Y",
        "outputId": "1aa1c4b1-e8f7-4ddc-a3c8-af761f9f8731"
      },
      "outputs": [
        {
          "data": {
            "application/vnd.google.colaboratory.intrinsic+json": {
              "type": "string"
            },
            "text/plain": [
              "\"for i in range(0, len(customer3['first_join_date'])):\\n  if customer3.loc[i, 'first_join_date'].year == 2022:\\n    customer3.loc[i, 'age_from_first_join_date_inMonth'] = customer3.loc[i, 'first_join_date'].month\\n  elif customer3.loc[i, 'first_join_date'].year == 2021:\\n    customer3.loc[i, 'age_from_first_join_date_inMonth'] = customer3.loc[i, 'first_join_date'].month + 12\\n  elif customer3.loc[i, 'first_join_date'].year == 2020:\\n    customer3.loc[i, 'age_from_first_join_date_inMonth'] = customer3.loc[i, 'first_join_date'].month + 24\\n  elif customer3.loc[i, 'first_join_date'].year == 2019:\\n    customer3.loc[i, 'age_from_first_join_date_inMonth'] = customer3.loc[i, 'first_join_date'].month + 36\\n  elif customer3.loc[i, 'first_join_date'].year == 2018:\\n    customer3.loc[i, 'age_from_first_join_date_inMonth'] = customer3.loc[i, 'first_join_date'].month + 48\\n  elif customer3.loc[i, 'first_join_date'].year == 2017:\\n    customer3.loc[i, 'age_from_first_join_date_inMonth'] = customer3.loc[i, 'first_join_date'].month + 60\\n  elif customer3.loc[i, 'first_join_date'].year == 2016:\\n    customer3.loc[i, 'age_from_first_join_date_inMonth'] = customer3.loc[i, 'first_join_date'].month + 72\\n    \""
            ]
          },
          "execution_count": 68,
          "metadata": {},
          "output_type": "execute_result"
        }
      ],
      "source": [
        "'''for i in range(0, len(customer3['first_join_date'])):\n",
        "  if customer3.loc[i, 'first_join_date'].year == 2022:\n",
        "    customer3.loc[i, 'age_from_first_join_date_inMonth'] = customer3.loc[i, 'first_join_date'].month\n",
        "  elif customer3.loc[i, 'first_join_date'].year == 2021:\n",
        "    customer3.loc[i, 'age_from_first_join_date_inMonth'] = customer3.loc[i, 'first_join_date'].month + 12\n",
        "  elif customer3.loc[i, 'first_join_date'].year == 2020:\n",
        "    customer3.loc[i, 'age_from_first_join_date_inMonth'] = customer3.loc[i, 'first_join_date'].month + 24\n",
        "  elif customer3.loc[i, 'first_join_date'].year == 2019:\n",
        "    customer3.loc[i, 'age_from_first_join_date_inMonth'] = customer3.loc[i, 'first_join_date'].month + 36\n",
        "  elif customer3.loc[i, 'first_join_date'].year == 2018:\n",
        "    customer3.loc[i, 'age_from_first_join_date_inMonth'] = customer3.loc[i, 'first_join_date'].month + 48\n",
        "  elif customer3.loc[i, 'first_join_date'].year == 2017:\n",
        "    customer3.loc[i, 'age_from_first_join_date_inMonth'] = customer3.loc[i, 'first_join_date'].month + 60\n",
        "  elif customer3.loc[i, 'first_join_date'].year == 2016:\n",
        "    customer3.loc[i, 'age_from_first_join_date_inMonth'] = customer3.loc[i, 'first_join_date'].month + 72\n",
        "    '''"
      ]
    },
    {
      "cell_type": "code",
      "execution_count": null,
      "metadata": {
        "id": "qNyEBHX10QmL"
      },
      "outputs": [],
      "source": [
        "#customer3.head()"
      ]
    },
    {
      "cell_type": "markdown",
      "metadata": {
        "id": "NOO0iPuN6jy3"
      },
      "source": [
        "<h3> Take customers who have bought at least once </h3>"
      ]
    },
    {
      "cell_type": "code",
      "execution_count": null,
      "metadata": {
        "id": "DE6t8EcAt8Wz"
      },
      "outputs": [],
      "source": [
        "#customer_id_transactions2 = transactions2['customer_id'].unique().tolist()"
      ]
    },
    {
      "cell_type": "code",
      "execution_count": null,
      "metadata": {
        "id": "sK1phYRl6_3Q"
      },
      "outputs": [],
      "source": [
        "#type(customer_id_transactions2)"
      ]
    },
    {
      "cell_type": "code",
      "execution_count": null,
      "metadata": {
        "id": "tL8zBxdW7pVK"
      },
      "outputs": [],
      "source": [
        "#customer_id_transactions2_series = pd.Series(customer_id_transactions2).rename('customer_id_transactions2_series')"
      ]
    },
    {
      "cell_type": "code",
      "execution_count": null,
      "metadata": {
        "id": "-ASys0SD9g_R"
      },
      "outputs": [],
      "source": [
        "#customer_id_transactions2_series"
      ]
    },
    {
      "cell_type": "code",
      "execution_count": null,
      "metadata": {
        "colab": {
          "base_uri": "https://localhost:8080/",
          "height": 52
        },
        "id": "0ajY-bNn9RI9",
        "outputId": "8018e9c2-8743-4606-d696-4d2899682cb4"
      },
      "outputs": [
        {
          "data": {
            "application/vnd.google.colaboratory.intrinsic+json": {
              "type": "string"
            },
            "text/plain": [
              "\"customer3 = pd.merge(customer2, customer_id_transactions2_series, how='inner', \\n            right_on='customer_id_transactions2_series', left_on='customer_id')\\n\""
            ]
          },
          "execution_count": 74,
          "metadata": {},
          "output_type": "execute_result"
        }
      ],
      "source": [
        "'''customer3 = pd.merge(customer2, customer_id_transactions2_series, how='inner', \n",
        "            right_on='customer_id_transactions2_series', left_on='customer_id')\n",
        "'''"
      ]
    },
    {
      "cell_type": "code",
      "execution_count": null,
      "metadata": {
        "id": "Viv-Uhgb-VY8"
      },
      "outputs": [],
      "source": [
        "#customer3.drop('customer_id_transactions2_series', axis=1, inplace=True)"
      ]
    },
    {
      "cell_type": "code",
      "execution_count": null,
      "metadata": {
        "id": "Rva6YPWc-MUK"
      },
      "outputs": [],
      "source": [
        "#customer3.shape"
      ]
    },
    {
      "cell_type": "markdown",
      "metadata": {
        "id": "zRAQCecn4jpA"
      },
      "source": [
        "<h2> Transactions dataset</h2>"
      ]
    },
    {
      "cell_type": "code",
      "execution_count": null,
      "metadata": {
        "id": "LQWQxiTet1Np"
      },
      "outputs": [],
      "source": [
        "#transactions2 = transactions.copy()"
      ]
    },
    {
      "cell_type": "code",
      "execution_count": null,
      "metadata": {
        "id": "_CiKHiqL9MNI"
      },
      "outputs": [],
      "source": [
        "#transactions2['index'] = transactions2.index"
      ]
    },
    {
      "cell_type": "code",
      "execution_count": null,
      "metadata": {
        "id": "LAgEo8bct61e"
      },
      "outputs": [],
      "source": [
        "#transactions2['product_metadata'] = transactions2['product_metadata'].str.replace('[', '')\n",
        "#transactions2['product_metadata'] = transactions2['product_metadata'].str.replace(']', '')"
      ]
    },
    {
      "cell_type": "code",
      "execution_count": null,
      "metadata": {
        "id": "qk0qw9mtNa45"
      },
      "outputs": [],
      "source": [
        "#transactions2.head(1)"
      ]
    },
    {
      "cell_type": "code",
      "execution_count": null,
      "metadata": {
        "colab": {
          "base_uri": "https://localhost:8080/",
          "height": 52
        },
        "id": "Sn0dznDy-V0t",
        "outputId": "6d7e9114-f902-43c4-bc8b-288a3c51ba22"
      },
      "outputs": [
        {
          "data": {
            "application/vnd.google.colaboratory.intrinsic+json": {
              "type": "string"
            },
            "text/plain": [
              "\"explode_index = []\\nnon_explode_index = []\\n\\nfor i in range(0, len(transactions2)):\\n  if type(transactions2['product_metadata'].iloc[i]) == tuple:\\n    explode_index.append(i)\\n  else:\\n    non_explode_index.append(i)\\n\""
            ]
          },
          "execution_count": 81,
          "metadata": {},
          "output_type": "execute_result"
        }
      ],
      "source": [
        "# speeding up process\n",
        "'''explode_index = []\n",
        "non_explode_index = []\n",
        "\n",
        "for i in range(0, len(transactions2)):\n",
        "  if type(transactions2['product_metadata'].iloc[i]) == tuple:\n",
        "    explode_index.append(i)\n",
        "  else:\n",
        "    non_explode_index.append(i)\n",
        "'''"
      ]
    },
    {
      "cell_type": "code",
      "execution_count": null,
      "metadata": {
        "id": "pvjYQQEhZQRe"
      },
      "outputs": [],
      "source": [
        "#non_explode_cols = transactions2.iloc[non_explode_index, :]"
      ]
    },
    {
      "cell_type": "code",
      "execution_count": null,
      "metadata": {
        "id": "1YBuRkwpLFKS"
      },
      "outputs": [],
      "source": [
        "#explode_cols = transactions2.iloc[explode_index, :]"
      ]
    },
    {
      "cell_type": "code",
      "execution_count": null,
      "metadata": {
        "id": "IW_HNiiOY9LZ"
      },
      "outputs": [],
      "source": [
        "#explode_cols = explode_cols.explode('product_metadata')"
      ]
    },
    {
      "cell_type": "code",
      "execution_count": null,
      "metadata": {
        "id": "ID7-ZB8qZ2mr"
      },
      "outputs": [],
      "source": [
        "#transactions3 = pd.concat([explode_cols, non_explode_cols]).sort_index()"
      ]
    },
    {
      "cell_type": "code",
      "execution_count": null,
      "metadata": {
        "id": "kUyAlniKb4w-"
      },
      "outputs": [],
      "source": [
        "#transactions3.drop(['Unnamed: 0', 'index'], axis=1, inplace=True)"
      ]
    },
    {
      "cell_type": "code",
      "execution_count": null,
      "metadata": {
        "id": "GEYbR5ZVbVcX"
      },
      "outputs": [],
      "source": [
        "#transactions3.columns"
      ]
    },
    {
      "cell_type": "code",
      "execution_count": null,
      "metadata": {
        "id": "81xKwN31nIhi"
      },
      "outputs": [],
      "source": [
        "#transactions3.shape"
      ]
    },
    {
      "cell_type": "code",
      "execution_count": null,
      "metadata": {
        "id": "Voi5LruxdNXm"
      },
      "outputs": [],
      "source": [
        "#transactions3[['product_id', 'quantity', 'item_price']] = transactions3['product_metadata'].apply(pd.Series)"
      ]
    },
    {
      "cell_type": "code",
      "execution_count": null,
      "metadata": {
        "id": "CjCVsqCXN0uE"
      },
      "outputs": [],
      "source": [
        "#transactions2.drop(['Unnamed: 0'], axis=1, inplace=True)"
      ]
    },
    {
      "cell_type": "code",
      "execution_count": null,
      "metadata": {
        "id": "A_xzvbpFi3XJ"
      },
      "outputs": [],
      "source": [
        "#transactions2.head()"
      ]
    },
    {
      "cell_type": "code",
      "execution_count": null,
      "metadata": {
        "id": "2jsdbifJORK0"
      },
      "outputs": [],
      "source": [
        "#transactions2.columns"
      ]
    },
    {
      "cell_type": "code",
      "execution_count": null,
      "metadata": {
        "id": "zM0AAPYG8tei"
      },
      "outputs": [],
      "source": [
        "#type(transactions2['created_at'][0])"
      ]
    },
    {
      "cell_type": "code",
      "execution_count": null,
      "metadata": {
        "colab": {
          "base_uri": "https://localhost:8080/",
          "height": 52
        },
        "id": "cI4HwBng5FVc",
        "outputId": "7c125a0d-f233-4f3e-e126-bd453ed6f265"
      },
      "outputs": [
        {
          "data": {
            "application/vnd.google.colaboratory.intrinsic+json": {
              "type": "string"
            },
            "text/plain": [
              "\"x = []\\nfor i in range(0, len(transactions2)):\\n  x.append(str(transactions2['shipment_location_lat'][i]) + ',' + str(transactions2['shipment_location_long'][i]))\\n\""
            ]
          },
          "execution_count": 94,
          "metadata": {},
          "output_type": "execute_result"
        }
      ],
      "source": [
        "'''x = []\n",
        "for i in range(0, len(transactions2)):\n",
        "  x.append(str(transactions2['shipment_location_lat'][i]) + ',' + str(transactions2['shipment_location_long'][i]))\n",
        "'''"
      ]
    },
    {
      "cell_type": "code",
      "execution_count": null,
      "metadata": {
        "id": "m_v5-mF16-2u"
      },
      "outputs": [],
      "source": [
        "#len(x)"
      ]
    },
    {
      "cell_type": "code",
      "execution_count": null,
      "metadata": {
        "id": "_oYestFl5bLu"
      },
      "outputs": [],
      "source": [
        "#len(set(x))"
      ]
    },
    {
      "cell_type": "code",
      "execution_count": null,
      "metadata": {
        "id": "5Czaq6gyXNea"
      },
      "outputs": [],
      "source": [
        "#geolocator = Nominatim(user_agent=\"geoapiExercises\")"
      ]
    },
    {
      "cell_type": "code",
      "execution_count": null,
      "metadata": {
        "colab": {
          "base_uri": "https://localhost:8080/",
          "height": 35
        },
        "id": "1CKm60D0ZNFy",
        "outputId": "973361d3-9a19-4905-e08c-a8c2c3c22620"
      },
      "outputs": [
        {
          "data": {
            "application/vnd.google.colaboratory.intrinsic+json": {
              "type": "string"
            },
            "text/plain": [
              "'Latitude = \"-8.227893\"\\nLongitude = \"111.969107\"\\n \\nlocation = geolocator.reverse(Latitude+\",\"+Longitude)\\n \\n# Display\\nprint(location)\\n'"
            ]
          },
          "execution_count": 98,
          "metadata": {},
          "output_type": "execute_result"
        }
      ],
      "source": [
        "'''Latitude = \"-8.227893\"\n",
        "Longitude = \"111.969107\"\n",
        " \n",
        "location = geolocator.reverse(Latitude+\",\"+Longitude)\n",
        " \n",
        "# Display\n",
        "print(location)\n",
        "'''"
      ]
    },
    {
      "cell_type": "code",
      "execution_count": null,
      "metadata": {
        "id": "gkCKg3VcZaeY"
      },
      "outputs": [],
      "source": [
        "#address = location.raw['address']\n",
        "#print(address)"
      ]
    },
    {
      "cell_type": "code",
      "execution_count": null,
      "metadata": {
        "id": "9-e10o8oZl2-"
      },
      "outputs": [],
      "source": [
        "#state = address.get('state', '')\n",
        "#print('State : ',state)"
      ]
    },
    {
      "cell_type": "code",
      "execution_count": null,
      "metadata": {
        "id": "hXEjFx9VaoXu"
      },
      "outputs": [],
      "source": [
        "#transactions2_loc = transactions2[['booking_id', 'shipment_location_lat', 'shipment_location_long']]"
      ]
    },
    {
      "cell_type": "code",
      "execution_count": null,
      "metadata": {
        "id": "wV4h3OMabDFL"
      },
      "outputs": [],
      "source": [
        "#transactions2_loc[['shipment_location_lat', 'shipment_location_long']] = \\\n",
        "#transactions2_loc[['shipment_location_lat', 'shipment_location_long']].astype('str')"
      ]
    },
    {
      "cell_type": "code",
      "execution_count": null,
      "metadata": {
        "id": "lPrhUK08b3Tc"
      },
      "outputs": [],
      "source": [
        "#transactions2_loc.head()"
      ]
    },
    {
      "cell_type": "code",
      "execution_count": null,
      "metadata": {
        "colab": {
          "base_uri": "https://localhost:8080/",
          "height": 70
        },
        "id": "rE4F3kR6aTky",
        "outputId": "332a503f-6b8d-4fb3-baf7-030325066038"
      },
      "outputs": [
        {
          "data": {
            "application/vnd.google.colaboratory.intrinsic+json": {
              "type": "string"
            },
            "text/plain": [
              "'temp = []\\n\\nfor i in range(0, len(transactions2_loc)):\\n  Latitude = transactions2_loc[\\'shipment_location_lat\\'].iloc[i]\\n  Longitude = transactions2_loc[\\'shipment_location_long\\'].iloc[i]\\n \\n  location = geolocator.reverse(Latitude+\",\"+Longitude)\\n\\n  address = location.raw[\\'address\\']\\n\\n  state = address.get(\\'state\\', \\'\\')\\n  temp.append(state)\\n'"
            ]
          },
          "execution_count": 104,
          "metadata": {},
          "output_type": "execute_result"
        }
      ],
      "source": [
        "'''temp = []\n",
        "\n",
        "for i in range(0, len(transactions2_loc)):\n",
        "  Latitude = transactions2_loc['shipment_location_lat'].iloc[i]\n",
        "  Longitude = transactions2_loc['shipment_location_long'].iloc[i]\n",
        " \n",
        "  location = geolocator.reverse(Latitude+\",\"+Longitude)\n",
        "\n",
        "  address = location.raw['address']\n",
        "\n",
        "  state = address.get('state', '')\n",
        "  temp.append(state)\n",
        "'''"
      ]
    },
    {
      "cell_type": "code",
      "execution_count": null,
      "metadata": {
        "id": "hsgjG7Nndf9A"
      },
      "outputs": [],
      "source": [
        "#pd.Series(temp)"
      ]
    },
    {
      "cell_type": "code",
      "execution_count": null,
      "metadata": {
        "colab": {
          "base_uri": "https://localhost:8080/",
          "height": 70
        },
        "id": "hKn2IdH8yM2P",
        "outputId": "badc8d1d-35d6-44be-d78d-00a72dc6652a"
      },
      "outputs": [
        {
          "data": {
            "application/vnd.google.colaboratory.intrinsic+json": {
              "type": "string"
            },
            "text/plain": [
              "\"transactions3 = pd.merge(transactions2, customer2[['home_location_lat', \\n                                                   'home_location_long', \\n                                                   'home_location']], \\n                how='left', left_on=['shipment_location_lat', \\n                                     'shipment_location_long'],\\n                right_on=['home_location_lat', 'home_location_long'])\\n\""
            ]
          },
          "execution_count": 106,
          "metadata": {},
          "output_type": "execute_result"
        }
      ],
      "source": [
        "'''transactions3 = pd.merge(transactions2, customer2[['home_location_lat', \n",
        "                                                   'home_location_long', \n",
        "                                                   'home_location']], \n",
        "                how='left', left_on=['shipment_location_lat', \n",
        "                                     'shipment_location_long'],\n",
        "                right_on=['home_location_lat', 'home_location_long'])\n",
        "'''"
      ]
    },
    {
      "cell_type": "code",
      "execution_count": null,
      "metadata": {
        "id": "3Gd_kZKfzW3V"
      },
      "outputs": [],
      "source": [
        "#transactions3['home_location'].isnull().sum()"
      ]
    },
    {
      "cell_type": "code",
      "execution_count": null,
      "metadata": {
        "id": "h71LV-58CavI"
      },
      "outputs": [],
      "source": [
        "#transactions2[transactions2['customer_id']==4774]"
      ]
    },
    {
      "cell_type": "markdown",
      "metadata": {
        "id": "PhHNW3O7VfD6"
      },
      "source": [
        "<h2> Product dataset </h2>"
      ]
    },
    {
      "cell_type": "code",
      "execution_count": null,
      "metadata": {
        "id": "xj9J8H1_VisM"
      },
      "outputs": [],
      "source": [
        "#product2 = product.copy()"
      ]
    },
    {
      "cell_type": "code",
      "execution_count": null,
      "metadata": {
        "id": "Z41OOyC9wVzO"
      },
      "outputs": [],
      "source": [
        "#product2.head()"
      ]
    },
    {
      "cell_type": "markdown",
      "metadata": {
        "id": "OOM5liTCxSrH"
      },
      "source": [
        "<h3> Adding age product </h3>"
      ]
    },
    {
      "cell_type": "code",
      "execution_count": null,
      "metadata": {
        "id": "vw7rBhgnwkyi"
      },
      "outputs": [],
      "source": [
        "#product_add_age = product2['age'] = date.today().year - product2['year']\n",
        "#product_add_age"
      ]
    },
    {
      "cell_type": "markdown",
      "metadata": {
        "id": "26qlseXCVjLE"
      },
      "source": [
        "<h2> click_stream dataset </h2>"
      ]
    },
    {
      "cell_type": "code",
      "execution_count": null,
      "metadata": {
        "id": "Dn_1B8b1iwnY"
      },
      "outputs": [],
      "source": [
        "#click_stream.head()"
      ]
    },
    {
      "cell_type": "code",
      "execution_count": null,
      "metadata": {
        "id": "aQAdyckBZ4a1"
      },
      "outputs": [],
      "source": [
        "#click_stream2 = click_stream.copy()\n",
        "#click_stream2.drop('Unnamed: 0', axis=1, inplace=True)"
      ]
    },
    {
      "cell_type": "code",
      "execution_count": null,
      "metadata": {
        "id": "rhsPRDG9Xegu"
      },
      "outputs": [],
      "source": [
        "#click_stream2['event_metadata'].shape"
      ]
    },
    {
      "cell_type": "code",
      "execution_count": null,
      "metadata": {
        "colab": {
          "base_uri": "https://localhost:8080/",
          "height": 52
        },
        "id": "yrmcuINAVm7G",
        "outputId": "05ed361d-752f-4686-c4fd-3edb41395eae"
      },
      "outputs": [
        {
          "data": {
            "application/vnd.google.colaboratory.intrinsic+json": {
              "type": "string"
            },
            "text/plain": [
              "\"x = []\\n\\nfor i in range(0, len(click_stream2['event_metadata'])):\\n  if type(click_stream2['event_metadata'][i]) != tuple:\\n    x.append(list(click_stream2['event_metadata'][i].keys()))\\n\""
            ]
          },
          "execution_count": 115,
          "metadata": {},
          "output_type": "execute_result"
        }
      ],
      "source": [
        "'''x = []\n",
        "\n",
        "for i in range(0, len(click_stream2['event_metadata'])):\n",
        "  if type(click_stream2['event_metadata'][i]) != tuple:\n",
        "    x.append(list(click_stream2['event_metadata'][i].keys()))\n",
        "'''"
      ]
    },
    {
      "cell_type": "code",
      "execution_count": null,
      "metadata": {
        "id": "LUWAL-GtQdZC"
      },
      "outputs": [],
      "source": [
        "#np.unique(x)"
      ]
    },
    {
      "cell_type": "code",
      "execution_count": null,
      "metadata": {
        "colab": {
          "base_uri": "https://localhost:8080/",
          "height": 52
        },
        "id": "OeDQmqI0ftiV",
        "outputId": "8b21d5e9-b2c6-487b-d741-0ea973411101"
      },
      "outputs": [
        {
          "data": {
            "application/vnd.google.colaboratory.intrinsic+json": {
              "type": "string"
            },
            "text/plain": [
              "\"array([list(['payment_status']),\\n       list(['product_id', 'quantity', 'item_price']),\\n       list(['promo_code', 'promo_amount']), list(['search_keywords'])],\\n      dtype=object)\\n\""
            ]
          },
          "execution_count": 117,
          "metadata": {},
          "output_type": "execute_result"
        }
      ],
      "source": [
        "# output\n",
        "'''array([list(['payment_status']),\n",
        "       list(['product_id', 'quantity', 'item_price']),\n",
        "       list(['promo_code', 'promo_amount']), list(['search_keywords'])],\n",
        "      dtype=object)\n",
        "'''"
      ]
    },
    {
      "cell_type": "code",
      "execution_count": null,
      "metadata": {
        "colab": {
          "base_uri": "https://localhost:8080/",
          "height": 52
        },
        "id": "uM3F1bRlknMN",
        "outputId": "6148de2d-cf66-43e1-8743-75b2a7ea7c2f"
      },
      "outputs": [
        {
          "data": {
            "application/vnd.google.colaboratory.intrinsic+json": {
              "type": "string"
            },
            "text/plain": [
              "\"multiple_dict = []\\n\\nfor i in range(0, len(click_stream2['event_metadata'])):\\n  if type(click_stream2['event_metadata'][i]) == tuple:\\n    multiple_dict.append(i)\\n\""
            ]
          },
          "execution_count": 118,
          "metadata": {},
          "output_type": "execute_result"
        }
      ],
      "source": [
        "'''multiple_dict = []\n",
        "\n",
        "for i in range(0, len(click_stream2['event_metadata'])):\n",
        "  if type(click_stream2['event_metadata'][i]) == tuple:\n",
        "    multiple_dict.append(i)\n",
        "'''"
      ]
    },
    {
      "cell_type": "code",
      "execution_count": null,
      "metadata": {
        "id": "6XQXeHMIlUmG"
      },
      "outputs": [],
      "source": [
        "#click_stream2.iloc[multiple_dict, -1].unique()"
      ]
    },
    {
      "cell_type": "code",
      "execution_count": null,
      "metadata": {
        "id": "CVufvX2RmWmO"
      },
      "outputs": [],
      "source": [
        "# output\n",
        "# array([()], dtype=object)"
      ]
    },
    {
      "cell_type": "code",
      "execution_count": null,
      "metadata": {
        "colab": {
          "base_uri": "https://localhost:8080/",
          "height": 122
        },
        "id": "j5MEb1FDYUNv",
        "outputId": "bb818d81-f2eb-4f01-c2da-9f87fd626d7e"
      },
      "outputs": [
        {
          "data": {
            "application/vnd.google.colaboratory.intrinsic+json": {
              "type": "string"
            },
            "text/plain": [
              "\"payment_status_index = []\\nproduct_id_quantity_item_price_index = []\\npromo_code_promo_amount_index = []\\nsearch_keywords_index = []\\n\\nfor i in range(0, len(click_stream2['event_metadata'])):\\n  if type(click_stream2['event_metadata'][i]) == tuple:\\n    pass\\n  elif list(click_stream2['event_metadata'][i].keys()) == ['payment_status']:\\n    payment_status_index.append(i)\\n  elif list(click_stream2['event_metadata'][i].keys()) == ['product_id', 'quantity', 'item_price']:\\n    product_id_quantity_item_price_index.append(i)\\n  elif list(click_stream2['event_metadata'][i].keys()) == ['promo_code', 'promo_amount']:\\n    promo_code_promo_amount_index.append(i)\\n  elif list(click_stream2['event_metadata'][i].keys()) == ['search_keywords']:\\n    search_keywords_index.append(i)\\n\""
            ]
          },
          "execution_count": 121,
          "metadata": {},
          "output_type": "execute_result"
        }
      ],
      "source": [
        "'''payment_status_index = []\n",
        "product_id_quantity_item_price_index = []\n",
        "promo_code_promo_amount_index = []\n",
        "search_keywords_index = []\n",
        "\n",
        "for i in range(0, len(click_stream2['event_metadata'])):\n",
        "  if type(click_stream2['event_metadata'][i]) == tuple:\n",
        "    pass\n",
        "  elif list(click_stream2['event_metadata'][i].keys()) == ['payment_status']:\n",
        "    payment_status_index.append(i)\n",
        "  elif list(click_stream2['event_metadata'][i].keys()) == ['product_id', 'quantity', 'item_price']:\n",
        "    product_id_quantity_item_price_index.append(i)\n",
        "  elif list(click_stream2['event_metadata'][i].keys()) == ['promo_code', 'promo_amount']:\n",
        "    promo_code_promo_amount_index.append(i)\n",
        "  elif list(click_stream2['event_metadata'][i].keys()) == ['search_keywords']:\n",
        "    search_keywords_index.append(i)\n",
        "'''"
      ]
    },
    {
      "cell_type": "code",
      "execution_count": null,
      "metadata": {
        "id": "PJfE-mwpTlFh"
      },
      "outputs": [],
      "source": [
        "#click_stream2.head()"
      ]
    },
    {
      "cell_type": "markdown",
      "metadata": {
        "id": "uiL6fey0HeQY"
      },
      "source": [
        "<h3> payment_status </h3>"
      ]
    },
    {
      "cell_type": "code",
      "execution_count": null,
      "metadata": {
        "id": "p1yLOj7Dgr2H"
      },
      "outputs": [],
      "source": [
        "#payment_status_df = click_stream2.iloc[payment_status_index, :]"
      ]
    },
    {
      "cell_type": "code",
      "execution_count": null,
      "metadata": {
        "id": "mnXHvA-nFI36"
      },
      "outputs": [],
      "source": [
        "#payment_status_df.head()"
      ]
    },
    {
      "cell_type": "code",
      "execution_count": null,
      "metadata": {
        "id": "bXaOEjOg_X-G"
      },
      "outputs": [],
      "source": [
        "#payment_status_df['payment_status'] = payment_status_df['event_metadata'].apply(pd.Series)"
      ]
    },
    {
      "cell_type": "code",
      "execution_count": null,
      "metadata": {
        "id": "1msJmEdf_ykK"
      },
      "outputs": [],
      "source": [
        "#payment_status_df.head()"
      ]
    },
    {
      "cell_type": "code",
      "execution_count": null,
      "metadata": {
        "id": "yLZWHOGIG8KW"
      },
      "outputs": [],
      "source": [
        "#payment_status_df_1 = payment_status_df[['event_id', 'payment_status']]"
      ]
    },
    {
      "cell_type": "code",
      "execution_count": null,
      "metadata": {
        "id": "v-w48b-fHEOh"
      },
      "outputs": [],
      "source": [
        "#payment_status_df_1.head()"
      ]
    },
    {
      "cell_type": "markdown",
      "metadata": {
        "id": "6mTXEIPdHn7A"
      },
      "source": [
        "<h3> product_id_quantity_item_price </h3>"
      ]
    },
    {
      "cell_type": "code",
      "execution_count": null,
      "metadata": {
        "id": "JD0jHdZ8Hvnx"
      },
      "outputs": [],
      "source": [
        "#product_id_quantity_item_price_df = click_stream2.iloc[product_id_quantity_item_price_index, :]"
      ]
    },
    {
      "cell_type": "code",
      "execution_count": null,
      "metadata": {
        "id": "8D6vyMqVH31D"
      },
      "outputs": [],
      "source": [
        "#product_id_quantity_item_price_df.head()"
      ]
    },
    {
      "cell_type": "code",
      "execution_count": null,
      "metadata": {
        "id": "sAgOJoGWUu-g"
      },
      "outputs": [],
      "source": [
        "#product_id_quantity_item_price_df_1 = product_id_quantity_item_price_df[['event_id', 'event_metadata']]"
      ]
    },
    {
      "cell_type": "code",
      "execution_count": null,
      "metadata": {
        "id": "zq0-lGyUUu-h"
      },
      "outputs": [],
      "source": [
        "#product_id_quantity_item_price_df_1.head()"
      ]
    },
    {
      "cell_type": "code",
      "execution_count": null,
      "metadata": {
        "id": "6XEnmSQaIhFK"
      },
      "outputs": [],
      "source": [
        "#product_id_quantity_item_price_df_1[['product_id', 'quantity', 'item_price']] = product_id_quantity_item_price_df_1['event_metadata'].apply(pd.Series)"
      ]
    },
    {
      "cell_type": "code",
      "execution_count": null,
      "metadata": {
        "id": "1Sx3TEVEJ2pB"
      },
      "outputs": [],
      "source": [
        "#product_id_quantity_item_price_df_1.tail()"
      ]
    },
    {
      "cell_type": "code",
      "execution_count": null,
      "metadata": {
        "id": "xXunOpHpUu-j"
      },
      "outputs": [],
      "source": [
        "#product_id_quantity_item_price_df_1.shape"
      ]
    },
    {
      "cell_type": "code",
      "execution_count": null,
      "metadata": {
        "id": "-vv0dnIPUu-k"
      },
      "outputs": [],
      "source": [
        "#product_id_quantity_item_price_df_1.to_csv('product_id_quantity_item_price_df_1.csv')"
      ]
    },
    {
      "cell_type": "markdown",
      "metadata": {
        "id": "WgkxgHduKF-p"
      },
      "source": [
        "<h3> promo_code_promo_amount </h3>"
      ]
    },
    {
      "cell_type": "code",
      "execution_count": null,
      "metadata": {
        "id": "0dv0XyfQKInp"
      },
      "outputs": [],
      "source": [
        "#promo_code_promo_amount_df = click_stream2.iloc[promo_code_promo_amount_index, :]"
      ]
    },
    {
      "cell_type": "code",
      "execution_count": null,
      "metadata": {
        "id": "WQZ12nx7Uu-l"
      },
      "outputs": [],
      "source": [
        "#promo_code_promo_amount_df.head()"
      ]
    },
    {
      "cell_type": "code",
      "execution_count": null,
      "metadata": {
        "id": "iForhBHXUu-m"
      },
      "outputs": [],
      "source": [
        "#promo_code_promo_amount_df.shape"
      ]
    },
    {
      "cell_type": "code",
      "execution_count": null,
      "metadata": {
        "id": "XYgXfggnUu-n"
      },
      "outputs": [],
      "source": [
        "#promo_code_promo_amount_df_1 = promo_code_promo_amount_df[['event_id', 'event_metadata']]"
      ]
    },
    {
      "cell_type": "code",
      "execution_count": null,
      "metadata": {
        "id": "Et7JmvLVUu-o"
      },
      "outputs": [],
      "source": [
        "#promo_code_promo_amount_df_1.head()"
      ]
    },
    {
      "cell_type": "code",
      "execution_count": null,
      "metadata": {
        "id": "LTzkTV8VUu-o"
      },
      "outputs": [],
      "source": [
        "#promo_code_promo_amount_df_1[['promo_code', 'promo_amount']] = promo_code_promo_amount_df_1['event_metadata'].apply(pd.Series)"
      ]
    },
    {
      "cell_type": "code",
      "execution_count": null,
      "metadata": {
        "id": "wha9IcrNUu-p"
      },
      "outputs": [],
      "source": [
        "#promo_code_promo_amount_df_1.head()"
      ]
    },
    {
      "cell_type": "code",
      "execution_count": null,
      "metadata": {
        "id": "62TW5E2HUu-q"
      },
      "outputs": [],
      "source": [
        "#promo_code_promo_amount_df_1.to_csv('promo_code_promo_amount_df_1.csv')"
      ]
    },
    {
      "cell_type": "markdown",
      "metadata": {
        "id": "sxo69drdUu-r"
      },
      "source": [
        "<h3> search_keywords </h3>"
      ]
    },
    {
      "cell_type": "code",
      "execution_count": null,
      "metadata": {
        "id": "2szUvi5LUu-r"
      },
      "outputs": [],
      "source": [
        "#search_keywords_df = click_stream2.iloc[search_keywords_index, :]"
      ]
    },
    {
      "cell_type": "code",
      "execution_count": null,
      "metadata": {
        "id": "wynNAnWJUu-s"
      },
      "outputs": [],
      "source": [
        "#search_keywords_df.head()"
      ]
    },
    {
      "cell_type": "code",
      "execution_count": null,
      "metadata": {
        "id": "bbN6mHrpUu-v"
      },
      "outputs": [],
      "source": [
        "#search_keywords_df.shape"
      ]
    },
    {
      "cell_type": "code",
      "execution_count": null,
      "metadata": {
        "id": "AqfE0sMIUu-v"
      },
      "outputs": [],
      "source": [
        "#search_keywords_df_1 = search_keywords_df[['event_id', 'event_metadata']]"
      ]
    },
    {
      "cell_type": "code",
      "execution_count": null,
      "metadata": {
        "id": "8k6-ifgvUu-w"
      },
      "outputs": [],
      "source": [
        "#search_keywords_df_1.head()"
      ]
    },
    {
      "cell_type": "code",
      "execution_count": null,
      "metadata": {
        "id": "YYnH3yf0Uu-x"
      },
      "outputs": [],
      "source": [
        "#search_keywords_df_1.loc[:, 'search_keywords'] = search_keywords_df_1.loc[:, 'event_metadata'].apply(pd.Series)"
      ]
    },
    {
      "cell_type": "code",
      "execution_count": null,
      "metadata": {
        "id": "iiap_kXRUu-x"
      },
      "outputs": [],
      "source": [
        "#search_keywords_df_1.head()"
      ]
    },
    {
      "cell_type": "code",
      "execution_count": null,
      "metadata": {
        "id": "5r47hB-9Uu-y"
      },
      "outputs": [],
      "source": [
        "#search_keywords_df_1"
      ]
    },
    {
      "cell_type": "code",
      "execution_count": null,
      "metadata": {
        "id": "0awlZkP9Uu-y"
      },
      "outputs": [],
      "source": [
        "#search_keywords_df_1.to_csv('search_keywords_df_1.csv')"
      ]
    },
    {
      "cell_type": "markdown",
      "metadata": {
        "id": "9rmGJpbcH6Sa"
      },
      "source": [
        "<h3> Merging for click_stream dataset </h3>"
      ]
    },
    {
      "cell_type": "code",
      "execution_count": null,
      "metadata": {
        "id": "IP0RItZCUu-z"
      },
      "outputs": [],
      "source": [
        "#payment_status_df_1 = pd.read_csv(r\"E:\\zz Achmad Zaky Foundation - modules\\06_Final Project\\click_stream_temp\\payment_status_df_1.csv\")\n",
        "#product_id_quantity_item_price_df_1 = pd.read_csv(r\"E:\\zz Achmad Zaky Foundation - modules\\06_Final Project\\click_stream_temp\\product_id_quantity_item_price_df_1.csv\")\n",
        "#promo_code_promo_amount_df_1 = pd.read_csv(r\"E:\\zz Achmad Zaky Foundation - modules\\06_Final Project\\click_stream_temp\\promo_code_promo_amount_df_1.csv\")\n",
        "#search_keywords_df_1 = pd.read_csv(r\"E:\\zz Achmad Zaky Foundation - modules\\06_Final Project\\click_stream_temp\\search_keywords_df_1.csv\")"
      ]
    },
    {
      "cell_type": "code",
      "execution_count": null,
      "metadata": {
        "id": "yf1yvx7HUu-0"
      },
      "outputs": [],
      "source": [
        "#payment_status_df_1.drop('Unnamed: 0', axis=1, inplace=True)\n",
        "#product_id_quantity_item_price_df_1.drop(['Unnamed: 0', 'event_metadata'], axis=1, inplace=True)\n",
        "#promo_code_promo_amount_df_1.drop(['Unnamed: 0', 'event_metadata'], axis=1, inplace=True)\n",
        "#search_keywords_df_1.drop(['Unnamed: 0', 'event_metadata'], axis=1, inplace=True)"
      ]
    },
    {
      "cell_type": "code",
      "execution_count": null,
      "metadata": {
        "id": "kU0PGV6gUu-0"
      },
      "outputs": [],
      "source": [
        "#search_keywords_df_1.head()"
      ]
    },
    {
      "cell_type": "code",
      "execution_count": null,
      "metadata": {
        "id": "7pRKD8UmUu-1"
      },
      "outputs": [],
      "source": [
        "#click_stream2_merge_1 = click_stream2.merge(payment_status_df_1, how='left', on='event_id')"
      ]
    },
    {
      "cell_type": "code",
      "execution_count": null,
      "metadata": {
        "id": "Wuam5xP5Uu-1"
      },
      "outputs": [],
      "source": [
        "#click_stream2_merge_2 = click_stream2_merge_1.merge(product_id_quantity_item_price_df_1, how='left', on='event_id')"
      ]
    },
    {
      "cell_type": "code",
      "execution_count": null,
      "metadata": {
        "id": "IOuMgFVSUu-2"
      },
      "outputs": [],
      "source": [
        "#click_stream2_merge_3 = click_stream2_merge_2.merge(promo_code_promo_amount_df_1, how='left', on='event_id')"
      ]
    },
    {
      "cell_type": "code",
      "execution_count": null,
      "metadata": {
        "id": "POSV7hHrUu-2"
      },
      "outputs": [],
      "source": [
        "#click_stream3 = click_stream2_merge_3.merge(search_keywords_df_1, how='left', on='event_id')"
      ]
    },
    {
      "cell_type": "code",
      "execution_count": null,
      "metadata": {
        "id": "6eLTkDFSUu-3"
      },
      "outputs": [],
      "source": [
        "#click_stream3.tail()"
      ]
    },
    {
      "cell_type": "code",
      "execution_count": null,
      "metadata": {
        "id": "iV7m2O0JUu-3"
      },
      "outputs": [],
      "source": [
        "#click_stream3.to_csv('click_stream3.csv')"
      ]
    },
    {
      "cell_type": "code",
      "execution_count": null,
      "metadata": {
        "id": "fgoa1YVsV9BK"
      },
      "outputs": [],
      "source": [
        "#click_stream2 = click_stream.copy()"
      ]
    },
    {
      "cell_type": "code",
      "execution_count": null,
      "metadata": {
        "id": "PYQU6bwKem1T"
      },
      "outputs": [],
      "source": [
        "#click_stream2.drop(['Unnamed: 0'], axis=1, inplace=True)"
      ]
    },
    {
      "cell_type": "code",
      "execution_count": null,
      "metadata": {
        "id": "AaWMMaTAe0N0"
      },
      "outputs": [],
      "source": [
        "#click_stream2.head()"
      ]
    },
    {
      "cell_type": "markdown",
      "metadata": {
        "id": "PSwz126aefpC"
      },
      "source": [
        "<h3> Making churn labelling </h3>"
      ]
    },
    {
      "cell_type": "code",
      "execution_count": null,
      "metadata": {
        "id": "kqyN8ezDemVs"
      },
      "outputs": [],
      "source": [
        "#transactions3['created_at'].min()"
      ]
    },
    {
      "cell_type": "code",
      "execution_count": null,
      "metadata": {
        "id": "SG1oO_joe036"
      },
      "outputs": [],
      "source": [
        "#transactions3['created_at'].max()"
      ]
    },
    {
      "cell_type": "code",
      "execution_count": null,
      "metadata": {
        "id": "g97r_1-7kiBt"
      },
      "outputs": [],
      "source": [
        "#type(transactions3['created_at'][0].year)"
      ]
    },
    {
      "cell_type": "code",
      "execution_count": null,
      "metadata": {
        "colab": {
          "base_uri": "https://localhost:8080/",
          "height": 52
        },
        "id": "5ye_b2QEe476",
        "outputId": "09f0754b-54d0-4fda-c7a6-071e5a1d0941"
      },
      "outputs": [
        {
          "data": {
            "application/vnd.google.colaboratory.intrinsic+json": {
              "type": "string"
            },
            "text/plain": [
              "\"transactions4 = transactions3[['customer_id', 'created_at', 'payment_status']]                   .sort_values(by=['customer_id'], ignore_index=True)\\n\""
            ]
          },
          "execution_count": 169,
          "metadata": {},
          "output_type": "execute_result"
        }
      ],
      "source": [
        "'''transactions4 = transactions3[['customer_id', 'created_at', 'payment_status']] \\\n",
        "                  .sort_values(by=['customer_id'], ignore_index=True)\n",
        "'''"
      ]
    },
    {
      "cell_type": "code",
      "execution_count": null,
      "metadata": {
        "id": "4Nm2SCxNm17s"
      },
      "outputs": [],
      "source": [
        "# taking for payment_status == Success only\n",
        "#transactions4 = transactions4[transactions4['payment_status']=='Success'].reset_index()\n",
        "#transactions4.drop('index', axis=1, inplace=True)"
      ]
    },
    {
      "cell_type": "code",
      "execution_count": null,
      "metadata": {
        "id": "xf00bC60vZ4q"
      },
      "outputs": [],
      "source": [
        "#transactions4.head()"
      ]
    },
    {
      "cell_type": "code",
      "execution_count": null,
      "metadata": {
        "id": "WEsK41YvoLg1"
      },
      "outputs": [],
      "source": [
        "# customer_id yang pernah melakukan transaksi\n",
        "#customer_id_unique = transactions4['customer_id'].unique().tolist()"
      ]
    },
    {
      "cell_type": "code",
      "execution_count": null,
      "metadata": {
        "colab": {
          "base_uri": "https://localhost:8080/",
          "height": 139
        },
        "id": "eQPf26ZVlbBM",
        "outputId": "5209cda0-780e-4ff8-be19-9f054ba97e00"
      },
      "outputs": [
        {
          "data": {
            "application/vnd.google.colaboratory.intrinsic+json": {
              "type": "string"
            },
            "text/plain": [
              "\"churn_windowing = pd.DataFrame(columns=['customer_id', 'Jun 16', 'Jul 16', 'Aug 16', 'Sep 16', 'Oct 16', 'Nov 16', 'Dec 16',\\n                                        'Jan 17', 'Feb 17', 'Mar 17', 'Apr 17', 'May 17', 'Jun 17', 'Jul 17', 'Aug 17', 'Sep 17', 'Oct 17', 'Nov 17', 'Dec 17',\\n                                        'Jan 18', 'Feb 18', 'Mar 18', 'Apr 18', 'May 18', 'Jun 18', 'Jul 18', 'Aug 18', 'Sep 18', 'Oct 18', 'Nov 18', 'Dec 18',\\n                                        'Jan 19', 'Feb 19', 'Mar 19', 'Apr 19', 'May 19', 'Jun 19', 'Jul 19', 'Aug 19', 'Sep 19', 'Oct 19', 'Nov 19', 'Dec 19',\\n                                        'Jan 20', 'Feb 20', 'Mar 20', 'Apr 20', 'May 20', 'Jun 20', 'Jul 20', 'Aug 20', 'Sep 20', 'Oct 20', 'Nov 20', 'Dec 20',\\n                                        'Jan 21', 'Feb 21', 'Mar 21', 'Apr 21', 'May 21', 'Jun 21', 'Jul 21', 'Aug 21', 'Sep 21', 'Oct 21', 'Nov 21', 'Dec 21',\\n                                        'Jan 22', 'Feb 22', 'Mar 22', 'Apr 22', 'May 22', 'Jun 22', 'Jul 22'])\\n\""
            ]
          },
          "execution_count": 173,
          "metadata": {},
          "output_type": "execute_result"
        }
      ],
      "source": [
        "'''churn_windowing = pd.DataFrame(columns=['customer_id', 'Jun 16', 'Jul 16', 'Aug 16', 'Sep 16', 'Oct 16', 'Nov 16', 'Dec 16',\n",
        "                                        'Jan 17', 'Feb 17', 'Mar 17', 'Apr 17', 'May 17', 'Jun 17', 'Jul 17', 'Aug 17', 'Sep 17', 'Oct 17', 'Nov 17', 'Dec 17',\n",
        "                                        'Jan 18', 'Feb 18', 'Mar 18', 'Apr 18', 'May 18', 'Jun 18', 'Jul 18', 'Aug 18', 'Sep 18', 'Oct 18', 'Nov 18', 'Dec 18',\n",
        "                                        'Jan 19', 'Feb 19', 'Mar 19', 'Apr 19', 'May 19', 'Jun 19', 'Jul 19', 'Aug 19', 'Sep 19', 'Oct 19', 'Nov 19', 'Dec 19',\n",
        "                                        'Jan 20', 'Feb 20', 'Mar 20', 'Apr 20', 'May 20', 'Jun 20', 'Jul 20', 'Aug 20', 'Sep 20', 'Oct 20', 'Nov 20', 'Dec 20',\n",
        "                                        'Jan 21', 'Feb 21', 'Mar 21', 'Apr 21', 'May 21', 'Jun 21', 'Jul 21', 'Aug 21', 'Sep 21', 'Oct 21', 'Nov 21', 'Dec 21',\n",
        "                                        'Jan 22', 'Feb 22', 'Mar 22', 'Apr 22', 'May 22', 'Jun 22', 'Jul 22'])\n",
        "'''"
      ]
    },
    {
      "cell_type": "code",
      "execution_count": null,
      "metadata": {
        "id": "HDm-XESJoHTd"
      },
      "outputs": [],
      "source": [
        "#churn_windowing['customer_id'] = customer_id_unique"
      ]
    },
    {
      "cell_type": "code",
      "execution_count": null,
      "metadata": {
        "colab": {
          "base_uri": "https://localhost:8080/",
          "height": 122
        },
        "id": "dcf4AYSMAaZm",
        "outputId": "1964f05b-efba-4ab6-e9b3-fa18cb7a3ad7"
      },
      "outputs": [
        {
          "data": {
            "application/vnd.google.colaboratory.intrinsic+json": {
              "type": "string"
            },
            "text/plain": [
              "\"churn_windowing[['Jun 16', 'Jul 16', 'Aug 16', 'Sep 16', 'Oct 16', 'Nov 16', 'Dec 16',\\n                 'Jan 17', 'Feb 17', 'Mar 17', 'Apr 17', 'May 17', 'Jun 17', 'Jul 17', 'Aug 17', 'Sep 17', 'Oct 17', 'Nov 17', 'Dec 17',\\n                 'Jan 18', 'Feb 18', 'Mar 18', 'Apr 18', 'May 18', 'Jun 18', 'Jul 18', 'Aug 18', 'Sep 18', 'Oct 18', 'Nov 18', 'Dec 18',\\n                 'Jan 19', 'Feb 19', 'Mar 19', 'Apr 19', 'May 19', 'Jun 19', 'Jul 19', 'Aug 19', 'Sep 19', 'Oct 19', 'Nov 19', 'Dec 19',\\n                 'Jan 20', 'Feb 20', 'Mar 20', 'Apr 20', 'May 20', 'Jun 20', 'Jul 20', 'Aug 20', 'Sep 20', 'Oct 20', 'Nov 20', 'Dec 20',\\n                 'Jan 21', 'Feb 21', 'Mar 21', 'Apr 21', 'May 21', 'Jun 21', 'Jul 21', 'Aug 21', 'Sep 21', 'Oct 21', 'Nov 21', 'Dec 21',\\n                 'Jan 22', 'Feb 22', 'Mar 22', 'Apr 22', 'May 22', 'Jun 22', 'Jul 22']] = pd.NA\\n\""
            ]
          },
          "execution_count": 175,
          "metadata": {},
          "output_type": "execute_result"
        }
      ],
      "source": [
        "'''churn_windowing[['Jun 16', 'Jul 16', 'Aug 16', 'Sep 16', 'Oct 16', 'Nov 16', 'Dec 16',\n",
        "                 'Jan 17', 'Feb 17', 'Mar 17', 'Apr 17', 'May 17', 'Jun 17', 'Jul 17', 'Aug 17', 'Sep 17', 'Oct 17', 'Nov 17', 'Dec 17',\n",
        "                 'Jan 18', 'Feb 18', 'Mar 18', 'Apr 18', 'May 18', 'Jun 18', 'Jul 18', 'Aug 18', 'Sep 18', 'Oct 18', 'Nov 18', 'Dec 18',\n",
        "                 'Jan 19', 'Feb 19', 'Mar 19', 'Apr 19', 'May 19', 'Jun 19', 'Jul 19', 'Aug 19', 'Sep 19', 'Oct 19', 'Nov 19', 'Dec 19',\n",
        "                 'Jan 20', 'Feb 20', 'Mar 20', 'Apr 20', 'May 20', 'Jun 20', 'Jul 20', 'Aug 20', 'Sep 20', 'Oct 20', 'Nov 20', 'Dec 20',\n",
        "                 'Jan 21', 'Feb 21', 'Mar 21', 'Apr 21', 'May 21', 'Jun 21', 'Jul 21', 'Aug 21', 'Sep 21', 'Oct 21', 'Nov 21', 'Dec 21',\n",
        "                 'Jan 22', 'Feb 22', 'Mar 22', 'Apr 22', 'May 22', 'Jun 22', 'Jul 22']] = pd.NA\n",
        "'''"
      ]
    },
    {
      "cell_type": "code",
      "execution_count": null,
      "metadata": {
        "id": "BIAK46POlhON"
      },
      "outputs": [],
      "source": [
        "#churn_windowing.head()"
      ]
    },
    {
      "cell_type": "code",
      "execution_count": null,
      "metadata": {
        "id": "vR4Wg-1eA6B9"
      },
      "outputs": [],
      "source": [
        "#type(churn_windowing.loc[0, 'Jun 16'])"
      ]
    },
    {
      "cell_type": "code",
      "execution_count": null,
      "metadata": {
        "id": "O58-lBG18t1t"
      },
      "outputs": [],
      "source": [
        "#churn_windowing.loc[churn_windowing[\"customer_id\"]==3, \"Jun 16\"] = 1"
      ]
    },
    {
      "cell_type": "code",
      "execution_count": null,
      "metadata": {
        "colab": {
          "base_uri": "https://localhost:8080/",
          "height": 139
        },
        "id": "nvvQ4x_vwOv1",
        "outputId": "f0a976c4-3a15-4db9-9d17-ba2cd53b0dfc"
      },
      "outputs": [
        {
          "data": {
            "application/vnd.google.colaboratory.intrinsic+json": {
              "type": "string"
            },
            "text/plain": [
              "'for i in range(0, len(transactions4)):\\n  j = transactions4[\\'customer_id\\'][i]\\n  if transactions4[\\'created_at\\'][i].year == 2016:\\n    if transactions4[\\'created_at\\'][i].month == 6:\\n      churn_windowing.loc[churn_windowing[\"customer_id\"]==j, \"Jun 16\"] = 0\\n    elif transactions4[\\'created_at\\'][i].month == 7:\\n      churn_windowing.loc[churn_windowing[\"customer_id\"]==j, \"Jul 16\"] = 0\\n    elif transactions4[\\'created_at\\'][i].month == 8:\\n      churn_windowing.loc[churn_windowing[\"customer_id\"]==j, \"Aug 16\"] = 0\\n    elif transactions4[\\'created_at\\'][i].month == 9:\\n      churn_windowing.loc[churn_windowing[\"customer_id\"]==j, \"Sep 16\"] = 0\\n    elif transactions4[\\'created_at\\'][i].month == 10:\\n      churn_windowing.loc[churn_windowing[\"customer_id\"]==j, \"Oct 16\"] = 0\\n    elif transactions4[\\'created_at\\'][i].month == 11:\\n      churn_windowing.loc[churn_windowing[\"customer_id\"]==j, \"Nov 16\"] = 0\\n    elif transactions4[\\'created_at\\'][i].month == 12:\\n      churn_windowing.loc[churn_windowing[\"customer_id\"]==j, \"Dec 16\"] = 0\\n\\n  elif transactions4[\\'created_at\\'][i].year == 2017:\\n    if transactions4[\\'created_at\\'][i].month == 1:\\n      churn_windowing.loc[churn_windowing[\"customer_id\"]==j, \"Jan 17\"] = 0\\n    elif transactions4[\\'created_at\\'][i].month == 2:\\n      churn_windowing.loc[churn_windowing[\"customer_id\"]==j, \"Feb 17\"] = 0\\n    elif transactions4[\\'created_at\\'][i].month == 3:\\n      churn_windowing.loc[churn_windowing[\"customer_id\"]==j, \"Mar 17\"] = 0\\n    elif transactions4[\\'created_at\\'][i].month == 4:\\n      churn_windowing.loc[churn_windowing[\"customer_id\"]==j, \"Apr 17\"] = 0\\n    elif transactions4[\\'created_at\\'][i].month == 5:\\n      churn_windowing.loc[churn_windowing[\"customer_id\"]==j, \"May 17\"] = 0\\n    elif transactions4[\\'created_at\\'][i].month == 6:\\n      churn_windowing.loc[churn_windowing[\"customer_id\"]==j, \"Jun 17\"] = 0\\n    elif transactions4[\\'created_at\\'][i].month == 7:\\n      churn_windowing.loc[churn_windowing[\"customer_id\"]==j, \"Jul 17\"] = 0\\n    elif transactions4[\\'created_at\\'][i].month == 8:\\n      churn_windowing.loc[churn_windowing[\"customer_id\"]==j, \"Aug 17\"] = 0\\n    elif transactions4[\\'created_at\\'][i].month == 9:\\n      churn_windowing.loc[churn_windowing[\"customer_id\"]==j, \"Sep 17\"] = 0\\n    elif transactions4[\\'created_at\\'][i].month == 10:\\n      churn_windowing.loc[churn_windowing[\"customer_id\"]==j, \"Oct 17\"] = 0\\n    elif transactions4[\\'created_at\\'][i].month == 11:\\n      churn_windowing.loc[churn_windowing[\"customer_id\"]==j, \"Nov 17\"] = 0\\n    elif transactions4[\\'created_at\\'][i].month == 12:\\n      churn_windowing.loc[churn_windowing[\"customer_id\"]==j, \"Dec 17\"] = 0\\n  \\n  elif transactions4[\\'created_at\\'][i].year == 2018:\\n    if transactions4[\\'created_at\\'][i].month == 1:\\n      churn_windowing.loc[churn_windowing[\"customer_id\"]==j, \"Jan 18\"] = 0\\n    elif transactions4[\\'created_at\\'][i].month == 2:\\n      churn_windowing.loc[churn_windowing[\"customer_id\"]==j, \"Feb 18\"] = 0\\n    elif transactions4[\\'created_at\\'][i].month == 3:\\n      churn_windowing.loc[churn_windowing[\"customer_id\"]==j, \"Mar 18\"] = 0\\n    elif transactions4[\\'created_at\\'][i].month == 4:\\n      churn_windowing.loc[churn_windowing[\"customer_id\"]==j, \"Apr 18\"] = 0\\n    elif transactions4[\\'created_at\\'][i].month == 5:\\n      churn_windowing.loc[churn_windowing[\"customer_id\"]==j, \"May 18\"] = 0\\n    elif transactions4[\\'created_at\\'][i].month == 6:\\n      churn_windowing.loc[churn_windowing[\"customer_id\"]==j, \"Jun 18\"] = 0\\n    elif transactions4[\\'created_at\\'][i].month == 7:\\n      churn_windowing.loc[churn_windowing[\"customer_id\"]==j, \"Jul 18\"] = 0\\n    elif transactions4[\\'created_at\\'][i].month == 8:\\n      churn_windowing.loc[churn_windowing[\"customer_id\"]==j, \"Aug 18\"] = 0\\n    elif transactions4[\\'created_at\\'][i].month == 9:\\n      churn_windowing.loc[churn_windowing[\"customer_id\"]==j, \"Sep 18\"] = 0\\n    elif transactions4[\\'created_at\\'][i].month == 10:\\n      churn_windowing.loc[churn_windowing[\"customer_id\"]==j, \"Oct 18\"] = 0\\n    elif transactions4[\\'created_at\\'][i].month == 11:\\n      churn_windowing.loc[churn_windowing[\"customer_id\"]==j, \"Nov 18\"] = 0\\n    elif transactions4[\\'created_at\\'][i].month == 12:\\n      churn_windowing.loc[churn_windowing[\"customer_id\"]==j, \"Dec 18\"] = 0\\n  \\n  elif transactions4[\\'created_at\\'][i].year == 2019:\\n    if transactions4[\\'created_at\\'][i].month == 1:\\n      churn_windowing.loc[churn_windowing[\"customer_id\"]==j, \"Jan 19\"] = 0\\n    elif transactions4[\\'created_at\\'][i].month == 2:\\n      churn_windowing.loc[churn_windowing[\"customer_id\"]==j, \"Feb 19\"] = 0\\n    elif transactions4[\\'created_at\\'][i].month == 3:\\n      churn_windowing.loc[churn_windowing[\"customer_id\"]==j, \"Mar 19\"] = 0\\n    elif transactions4[\\'created_at\\'][i].month == 4:\\n      churn_windowing.loc[churn_windowing[\"customer_id\"]==j, \"Apr 19\"] = 0\\n    elif transactions4[\\'created_at\\'][i].month == 5:\\n      churn_windowing.loc[churn_windowing[\"customer_id\"]==j, \"May 19\"] = 0\\n    elif transactions4[\\'created_at\\'][i].month == 6:\\n      churn_windowing.loc[churn_windowing[\"customer_id\"]==j, \"Jun 19\"] = 0\\n    elif transactions4[\\'created_at\\'][i].month == 7:\\n      churn_windowing.loc[churn_windowing[\"customer_id\"]==j, \"Jul 19\"] = 0\\n    elif transactions4[\\'created_at\\'][i].month == 8:\\n      churn_windowing.loc[churn_windowing[\"customer_id\"]==j, \"Aug 19\"] = 0\\n    elif transactions4[\\'created_at\\'][i].month == 9:\\n      churn_windowing.loc[churn_windowing[\"customer_id\"]==j, \"Sep 19\"] = 0\\n    elif transactions4[\\'created_at\\'][i].month == 10:\\n      churn_windowing.loc[churn_windowing[\"customer_id\"]==j, \"Oct 19\"] = 0\\n    elif transactions4[\\'created_at\\'][i].month == 11:\\n      churn_windowing.loc[churn_windowing[\"customer_id\"]==j, \"Nov 19\"] = 0\\n    elif transactions4[\\'created_at\\'][i].month == 12:\\n      churn_windowing.loc[churn_windowing[\"customer_id\"]==j, \"Dec 19\"] = 0\\n\\n  elif transactions4[\\'created_at\\'][i].year == 2020:\\n    if transactions4[\\'created_at\\'][i].month == 1:\\n      churn_windowing.loc[churn_windowing[\"customer_id\"]==j, \"Jan 20\"] = 0\\n    elif transactions4[\\'created_at\\'][i].month == 2:\\n      churn_windowing.loc[churn_windowing[\"customer_id\"]==j, \"Feb 20\"] = 0\\n    elif transactions4[\\'created_at\\'][i].month == 3:\\n      churn_windowing.loc[churn_windowing[\"customer_id\"]==j, \"Mar 20\"] = 0\\n    elif transactions4[\\'created_at\\'][i].month == 4:\\n      churn_windowing.loc[churn_windowing[\"customer_id\"]==j, \"Apr 20\"] = 0\\n    elif transactions4[\\'created_at\\'][i].month == 5:\\n      churn_windowing.loc[churn_windowing[\"customer_id\"]==j, \"May 20\"] = 0\\n    elif transactions4[\\'created_at\\'][i].month == 6:\\n      churn_windowing.loc[churn_windowing[\"customer_id\"]==j, \"Jun 20\"] = 0\\n    elif transactions4[\\'created_at\\'][i].month == 7:\\n      churn_windowing.loc[churn_windowing[\"customer_id\"]==j, \"Jul 20\"] = 0\\n    elif transactions4[\\'created_at\\'][i].month == 8:\\n      churn_windowing.loc[churn_windowing[\"customer_id\"]==j, \"Aug 20\"] = 0\\n    elif transactions4[\\'created_at\\'][i].month == 9:\\n      churn_windowing.loc[churn_windowing[\"customer_id\"]==j, \"Sep 20\"] = 0\\n    elif transactions4[\\'created_at\\'][i].month == 10:\\n      churn_windowing.loc[churn_windowing[\"customer_id\"]==j, \"Oct 20\"] = 0\\n    elif transactions4[\\'created_at\\'][i].month == 11:\\n      churn_windowing.loc[churn_windowing[\"customer_id\"]==j, \"Nov 20\"] = 0\\n    elif transactions4[\\'created_at\\'][i].month == 12:\\n      churn_windowing.loc[churn_windowing[\"customer_id\"]==j, \"Dec 20\"] = 0\\n\\n  elif transactions4[\\'created_at\\'][i].year == 2021:\\n    if transactions4[\\'created_at\\'][i].month == 1:\\n      churn_windowing.loc[churn_windowing[\"customer_id\"]==j, \"Jan 21\"] = 0\\n    elif transactions4[\\'created_at\\'][i].month == 2:\\n      churn_windowing.loc[churn_windowing[\"customer_id\"]==j, \"Feb 21\"] = 0\\n    elif transactions4[\\'created_at\\'][i].month == 3:\\n      churn_windowing.loc[churn_windowing[\"customer_id\"]==j, \"Mar 21\"] = 0\\n    elif transactions4[\\'created_at\\'][i].month == 4:\\n      churn_windowing.loc[churn_windowing[\"customer_id\"]==j, \"Apr 21\"] = 0\\n    elif transactions4[\\'created_at\\'][i].month == 5:\\n      churn_windowing.loc[churn_windowing[\"customer_id\"]==j, \"May 21\"] = 0\\n    elif transactions4[\\'created_at\\'][i].month == 6:\\n      churn_windowing.loc[churn_windowing[\"customer_id\"]==j, \"Jun 21\"] = 0\\n    elif transactions4[\\'created_at\\'][i].month == 7:\\n      churn_windowing.loc[churn_windowing[\"customer_id\"]==j, \"Jul 21\"] = 0\\n    elif transactions4[\\'created_at\\'][i].month == 8:\\n      churn_windowing.loc[churn_windowing[\"customer_id\"]==j, \"Aug 21\"] = 0\\n    elif transactions4[\\'created_at\\'][i].month == 9:\\n      churn_windowing.loc[churn_windowing[\"customer_id\"]==j, \"Sep 21\"] = 0\\n    elif transactions4[\\'created_at\\'][i].month == 10:\\n      churn_windowing.loc[churn_windowing[\"customer_id\"]==j, \"Oct 21\"] = 0\\n    elif transactions4[\\'created_at\\'][i].month == 11:\\n      churn_windowing.loc[churn_windowing[\"customer_id\"]==j, \"Nov 21\"] = 0\\n    elif transactions4[\\'created_at\\'][i].month == 12:\\n      churn_windowing.loc[churn_windowing[\"customer_id\"]==j, \"Dec 21\"] = 0\\n\\n  elif transactions4[\\'created_at\\'][i].year == 2022:\\n    if transactions4[\\'created_at\\'][i].month == 1:\\n      churn_windowing.loc[churn_windowing[\"customer_id\"]==j, \"Jan 22\"] = 0\\n    elif transactions4[\\'created_at\\'][i].month == 2:\\n      churn_windowing.loc[churn_windowing[\"customer_id\"]==j, \"Feb 22\"] = 0\\n    elif transactions4[\\'created_at\\'][i].month == 3:\\n      churn_windowing.loc[churn_windowing[\"customer_id\"]==j, \"Mar 22\"] = 0\\n    elif transactions4[\\'created_at\\'][i].month == 4:\\n      churn_windowing.loc[churn_windowing[\"customer_id\"]==j, \"Apr 22\"] = 0\\n    elif transactions4[\\'created_at\\'][i].month == 5:\\n      churn_windowing.loc[churn_windowing[\"customer_id\"]==j, \"May 22\"] = 0\\n    elif transactions4[\\'created_at\\'][i].month == 6:\\n      churn_windowing.loc[churn_windowing[\"customer_id\"]==j, \"Jun 22\"] = 0\\n    elif transactions4[\\'created_at\\'][i].month == 7:\\n      churn_windowing.loc[churn_windowing[\"customer_id\"]==j, \"Jul 22\"] = 0\\n'"
            ]
          },
          "execution_count": 179,
          "metadata": {},
          "output_type": "execute_result"
        }
      ],
      "source": [
        "# churned = 1\n",
        "# not churned = 0\n",
        "\n",
        "'''for i in range(0, len(transactions4)):\n",
        "  j = transactions4['customer_id'][i]\n",
        "  if transactions4['created_at'][i].year == 2016:\n",
        "    if transactions4['created_at'][i].month == 6:\n",
        "      churn_windowing.loc[churn_windowing[\"customer_id\"]==j, \"Jun 16\"] = 0\n",
        "    elif transactions4['created_at'][i].month == 7:\n",
        "      churn_windowing.loc[churn_windowing[\"customer_id\"]==j, \"Jul 16\"] = 0\n",
        "    elif transactions4['created_at'][i].month == 8:\n",
        "      churn_windowing.loc[churn_windowing[\"customer_id\"]==j, \"Aug 16\"] = 0\n",
        "    elif transactions4['created_at'][i].month == 9:\n",
        "      churn_windowing.loc[churn_windowing[\"customer_id\"]==j, \"Sep 16\"] = 0\n",
        "    elif transactions4['created_at'][i].month == 10:\n",
        "      churn_windowing.loc[churn_windowing[\"customer_id\"]==j, \"Oct 16\"] = 0\n",
        "    elif transactions4['created_at'][i].month == 11:\n",
        "      churn_windowing.loc[churn_windowing[\"customer_id\"]==j, \"Nov 16\"] = 0\n",
        "    elif transactions4['created_at'][i].month == 12:\n",
        "      churn_windowing.loc[churn_windowing[\"customer_id\"]==j, \"Dec 16\"] = 0\n",
        "\n",
        "  elif transactions4['created_at'][i].year == 2017:\n",
        "    if transactions4['created_at'][i].month == 1:\n",
        "      churn_windowing.loc[churn_windowing[\"customer_id\"]==j, \"Jan 17\"] = 0\n",
        "    elif transactions4['created_at'][i].month == 2:\n",
        "      churn_windowing.loc[churn_windowing[\"customer_id\"]==j, \"Feb 17\"] = 0\n",
        "    elif transactions4['created_at'][i].month == 3:\n",
        "      churn_windowing.loc[churn_windowing[\"customer_id\"]==j, \"Mar 17\"] = 0\n",
        "    elif transactions4['created_at'][i].month == 4:\n",
        "      churn_windowing.loc[churn_windowing[\"customer_id\"]==j, \"Apr 17\"] = 0\n",
        "    elif transactions4['created_at'][i].month == 5:\n",
        "      churn_windowing.loc[churn_windowing[\"customer_id\"]==j, \"May 17\"] = 0\n",
        "    elif transactions4['created_at'][i].month == 6:\n",
        "      churn_windowing.loc[churn_windowing[\"customer_id\"]==j, \"Jun 17\"] = 0\n",
        "    elif transactions4['created_at'][i].month == 7:\n",
        "      churn_windowing.loc[churn_windowing[\"customer_id\"]==j, \"Jul 17\"] = 0\n",
        "    elif transactions4['created_at'][i].month == 8:\n",
        "      churn_windowing.loc[churn_windowing[\"customer_id\"]==j, \"Aug 17\"] = 0\n",
        "    elif transactions4['created_at'][i].month == 9:\n",
        "      churn_windowing.loc[churn_windowing[\"customer_id\"]==j, \"Sep 17\"] = 0\n",
        "    elif transactions4['created_at'][i].month == 10:\n",
        "      churn_windowing.loc[churn_windowing[\"customer_id\"]==j, \"Oct 17\"] = 0\n",
        "    elif transactions4['created_at'][i].month == 11:\n",
        "      churn_windowing.loc[churn_windowing[\"customer_id\"]==j, \"Nov 17\"] = 0\n",
        "    elif transactions4['created_at'][i].month == 12:\n",
        "      churn_windowing.loc[churn_windowing[\"customer_id\"]==j, \"Dec 17\"] = 0\n",
        "  \n",
        "  elif transactions4['created_at'][i].year == 2018:\n",
        "    if transactions4['created_at'][i].month == 1:\n",
        "      churn_windowing.loc[churn_windowing[\"customer_id\"]==j, \"Jan 18\"] = 0\n",
        "    elif transactions4['created_at'][i].month == 2:\n",
        "      churn_windowing.loc[churn_windowing[\"customer_id\"]==j, \"Feb 18\"] = 0\n",
        "    elif transactions4['created_at'][i].month == 3:\n",
        "      churn_windowing.loc[churn_windowing[\"customer_id\"]==j, \"Mar 18\"] = 0\n",
        "    elif transactions4['created_at'][i].month == 4:\n",
        "      churn_windowing.loc[churn_windowing[\"customer_id\"]==j, \"Apr 18\"] = 0\n",
        "    elif transactions4['created_at'][i].month == 5:\n",
        "      churn_windowing.loc[churn_windowing[\"customer_id\"]==j, \"May 18\"] = 0\n",
        "    elif transactions4['created_at'][i].month == 6:\n",
        "      churn_windowing.loc[churn_windowing[\"customer_id\"]==j, \"Jun 18\"] = 0\n",
        "    elif transactions4['created_at'][i].month == 7:\n",
        "      churn_windowing.loc[churn_windowing[\"customer_id\"]==j, \"Jul 18\"] = 0\n",
        "    elif transactions4['created_at'][i].month == 8:\n",
        "      churn_windowing.loc[churn_windowing[\"customer_id\"]==j, \"Aug 18\"] = 0\n",
        "    elif transactions4['created_at'][i].month == 9:\n",
        "      churn_windowing.loc[churn_windowing[\"customer_id\"]==j, \"Sep 18\"] = 0\n",
        "    elif transactions4['created_at'][i].month == 10:\n",
        "      churn_windowing.loc[churn_windowing[\"customer_id\"]==j, \"Oct 18\"] = 0\n",
        "    elif transactions4['created_at'][i].month == 11:\n",
        "      churn_windowing.loc[churn_windowing[\"customer_id\"]==j, \"Nov 18\"] = 0\n",
        "    elif transactions4['created_at'][i].month == 12:\n",
        "      churn_windowing.loc[churn_windowing[\"customer_id\"]==j, \"Dec 18\"] = 0\n",
        "  \n",
        "  elif transactions4['created_at'][i].year == 2019:\n",
        "    if transactions4['created_at'][i].month == 1:\n",
        "      churn_windowing.loc[churn_windowing[\"customer_id\"]==j, \"Jan 19\"] = 0\n",
        "    elif transactions4['created_at'][i].month == 2:\n",
        "      churn_windowing.loc[churn_windowing[\"customer_id\"]==j, \"Feb 19\"] = 0\n",
        "    elif transactions4['created_at'][i].month == 3:\n",
        "      churn_windowing.loc[churn_windowing[\"customer_id\"]==j, \"Mar 19\"] = 0\n",
        "    elif transactions4['created_at'][i].month == 4:\n",
        "      churn_windowing.loc[churn_windowing[\"customer_id\"]==j, \"Apr 19\"] = 0\n",
        "    elif transactions4['created_at'][i].month == 5:\n",
        "      churn_windowing.loc[churn_windowing[\"customer_id\"]==j, \"May 19\"] = 0\n",
        "    elif transactions4['created_at'][i].month == 6:\n",
        "      churn_windowing.loc[churn_windowing[\"customer_id\"]==j, \"Jun 19\"] = 0\n",
        "    elif transactions4['created_at'][i].month == 7:\n",
        "      churn_windowing.loc[churn_windowing[\"customer_id\"]==j, \"Jul 19\"] = 0\n",
        "    elif transactions4['created_at'][i].month == 8:\n",
        "      churn_windowing.loc[churn_windowing[\"customer_id\"]==j, \"Aug 19\"] = 0\n",
        "    elif transactions4['created_at'][i].month == 9:\n",
        "      churn_windowing.loc[churn_windowing[\"customer_id\"]==j, \"Sep 19\"] = 0\n",
        "    elif transactions4['created_at'][i].month == 10:\n",
        "      churn_windowing.loc[churn_windowing[\"customer_id\"]==j, \"Oct 19\"] = 0\n",
        "    elif transactions4['created_at'][i].month == 11:\n",
        "      churn_windowing.loc[churn_windowing[\"customer_id\"]==j, \"Nov 19\"] = 0\n",
        "    elif transactions4['created_at'][i].month == 12:\n",
        "      churn_windowing.loc[churn_windowing[\"customer_id\"]==j, \"Dec 19\"] = 0\n",
        "\n",
        "  elif transactions4['created_at'][i].year == 2020:\n",
        "    if transactions4['created_at'][i].month == 1:\n",
        "      churn_windowing.loc[churn_windowing[\"customer_id\"]==j, \"Jan 20\"] = 0\n",
        "    elif transactions4['created_at'][i].month == 2:\n",
        "      churn_windowing.loc[churn_windowing[\"customer_id\"]==j, \"Feb 20\"] = 0\n",
        "    elif transactions4['created_at'][i].month == 3:\n",
        "      churn_windowing.loc[churn_windowing[\"customer_id\"]==j, \"Mar 20\"] = 0\n",
        "    elif transactions4['created_at'][i].month == 4:\n",
        "      churn_windowing.loc[churn_windowing[\"customer_id\"]==j, \"Apr 20\"] = 0\n",
        "    elif transactions4['created_at'][i].month == 5:\n",
        "      churn_windowing.loc[churn_windowing[\"customer_id\"]==j, \"May 20\"] = 0\n",
        "    elif transactions4['created_at'][i].month == 6:\n",
        "      churn_windowing.loc[churn_windowing[\"customer_id\"]==j, \"Jun 20\"] = 0\n",
        "    elif transactions4['created_at'][i].month == 7:\n",
        "      churn_windowing.loc[churn_windowing[\"customer_id\"]==j, \"Jul 20\"] = 0\n",
        "    elif transactions4['created_at'][i].month == 8:\n",
        "      churn_windowing.loc[churn_windowing[\"customer_id\"]==j, \"Aug 20\"] = 0\n",
        "    elif transactions4['created_at'][i].month == 9:\n",
        "      churn_windowing.loc[churn_windowing[\"customer_id\"]==j, \"Sep 20\"] = 0\n",
        "    elif transactions4['created_at'][i].month == 10:\n",
        "      churn_windowing.loc[churn_windowing[\"customer_id\"]==j, \"Oct 20\"] = 0\n",
        "    elif transactions4['created_at'][i].month == 11:\n",
        "      churn_windowing.loc[churn_windowing[\"customer_id\"]==j, \"Nov 20\"] = 0\n",
        "    elif transactions4['created_at'][i].month == 12:\n",
        "      churn_windowing.loc[churn_windowing[\"customer_id\"]==j, \"Dec 20\"] = 0\n",
        "\n",
        "  elif transactions4['created_at'][i].year == 2021:\n",
        "    if transactions4['created_at'][i].month == 1:\n",
        "      churn_windowing.loc[churn_windowing[\"customer_id\"]==j, \"Jan 21\"] = 0\n",
        "    elif transactions4['created_at'][i].month == 2:\n",
        "      churn_windowing.loc[churn_windowing[\"customer_id\"]==j, \"Feb 21\"] = 0\n",
        "    elif transactions4['created_at'][i].month == 3:\n",
        "      churn_windowing.loc[churn_windowing[\"customer_id\"]==j, \"Mar 21\"] = 0\n",
        "    elif transactions4['created_at'][i].month == 4:\n",
        "      churn_windowing.loc[churn_windowing[\"customer_id\"]==j, \"Apr 21\"] = 0\n",
        "    elif transactions4['created_at'][i].month == 5:\n",
        "      churn_windowing.loc[churn_windowing[\"customer_id\"]==j, \"May 21\"] = 0\n",
        "    elif transactions4['created_at'][i].month == 6:\n",
        "      churn_windowing.loc[churn_windowing[\"customer_id\"]==j, \"Jun 21\"] = 0\n",
        "    elif transactions4['created_at'][i].month == 7:\n",
        "      churn_windowing.loc[churn_windowing[\"customer_id\"]==j, \"Jul 21\"] = 0\n",
        "    elif transactions4['created_at'][i].month == 8:\n",
        "      churn_windowing.loc[churn_windowing[\"customer_id\"]==j, \"Aug 21\"] = 0\n",
        "    elif transactions4['created_at'][i].month == 9:\n",
        "      churn_windowing.loc[churn_windowing[\"customer_id\"]==j, \"Sep 21\"] = 0\n",
        "    elif transactions4['created_at'][i].month == 10:\n",
        "      churn_windowing.loc[churn_windowing[\"customer_id\"]==j, \"Oct 21\"] = 0\n",
        "    elif transactions4['created_at'][i].month == 11:\n",
        "      churn_windowing.loc[churn_windowing[\"customer_id\"]==j, \"Nov 21\"] = 0\n",
        "    elif transactions4['created_at'][i].month == 12:\n",
        "      churn_windowing.loc[churn_windowing[\"customer_id\"]==j, \"Dec 21\"] = 0\n",
        "\n",
        "  elif transactions4['created_at'][i].year == 2022:\n",
        "    if transactions4['created_at'][i].month == 1:\n",
        "      churn_windowing.loc[churn_windowing[\"customer_id\"]==j, \"Jan 22\"] = 0\n",
        "    elif transactions4['created_at'][i].month == 2:\n",
        "      churn_windowing.loc[churn_windowing[\"customer_id\"]==j, \"Feb 22\"] = 0\n",
        "    elif transactions4['created_at'][i].month == 3:\n",
        "      churn_windowing.loc[churn_windowing[\"customer_id\"]==j, \"Mar 22\"] = 0\n",
        "    elif transactions4['created_at'][i].month == 4:\n",
        "      churn_windowing.loc[churn_windowing[\"customer_id\"]==j, \"Apr 22\"] = 0\n",
        "    elif transactions4['created_at'][i].month == 5:\n",
        "      churn_windowing.loc[churn_windowing[\"customer_id\"]==j, \"May 22\"] = 0\n",
        "    elif transactions4['created_at'][i].month == 6:\n",
        "      churn_windowing.loc[churn_windowing[\"customer_id\"]==j, \"Jun 22\"] = 0\n",
        "    elif transactions4['created_at'][i].month == 7:\n",
        "      churn_windowing.loc[churn_windowing[\"customer_id\"]==j, \"Jul 22\"] = 0\n",
        "'''"
      ]
    },
    {
      "cell_type": "code",
      "execution_count": null,
      "metadata": {
        "id": "9KhdpZzOdML_"
      },
      "outputs": [],
      "source": [
        "#churn_windowing2 = pd.read_csv(\"/content/drive/MyDrive/Datasets/churn_windowing_temp/churn_windowing.csv\")"
      ]
    },
    {
      "cell_type": "code",
      "execution_count": null,
      "metadata": {
        "id": "E-_I0w09uGmw"
      },
      "outputs": [],
      "source": [
        "#churn_windowing3 = pd.read_csv(\"/content/drive/MyDrive/Datasets/churn_windowing3.csv\")"
      ]
    },
    {
      "cell_type": "code",
      "execution_count": null,
      "metadata": {
        "id": "P6Hkkjo_Yq0D"
      },
      "outputs": [],
      "source": [
        "#churn_windowing.tail()"
      ]
    },
    {
      "cell_type": "code",
      "execution_count": null,
      "metadata": {
        "id": "M4ki2lcyZyrf"
      },
      "outputs": [],
      "source": [
        "#type(churn_windowing.loc[0, 'Aug 18'])"
      ]
    },
    {
      "cell_type": "code",
      "execution_count": null,
      "metadata": {
        "id": "X2IqoOxIcweG"
      },
      "outputs": [],
      "source": [
        "#type(pd.NA)"
      ]
    },
    {
      "cell_type": "code",
      "execution_count": null,
      "metadata": {
        "colab": {
          "base_uri": "https://localhost:8080/",
          "height": 52
        },
        "id": "V7xwE8SaWaRc",
        "outputId": "a5b5be6e-85ca-41da-bdb4-d34f6cb19a01"
      },
      "outputs": [
        {
          "data": {
            "application/vnd.google.colaboratory.intrinsic+json": {
              "type": "string"
            },
            "text/plain": [
              "'for i in range(0, len(churn_windowing)):\\n  for j in range(0, len(churn_windowing.columns)):\\n    if churn_windowing.iloc[i, j] != 0.0:\\n      churn_windowing.iloc[i, j] = 2\\n    elif churn_windowing.iloc[i, j] == 0.0:\\n      break\\n'"
            ]
          },
          "execution_count": 185,
          "metadata": {},
          "output_type": "execute_result"
        }
      ],
      "source": [
        "'''for i in range(0, len(churn_windowing)):\n",
        "  for j in range(0, len(churn_windowing.columns)):\n",
        "    if churn_windowing.iloc[i, j] != 0.0:\n",
        "      churn_windowing.iloc[i, j] = 2\n",
        "    elif churn_windowing.iloc[i, j] == 0.0:\n",
        "      break\n",
        "'''"
      ]
    },
    {
      "cell_type": "code",
      "execution_count": null,
      "metadata": {
        "colab": {
          "base_uri": "https://localhost:8080/",
          "height": 52
        },
        "id": "sMgp5W_aYEH2",
        "outputId": "8ae44280-366e-4bc1-8a32-5e174ee1ee48"
      },
      "outputs": [
        {
          "data": {
            "application/vnd.google.colaboratory.intrinsic+json": {
              "type": "string"
            },
            "text/plain": [
              "'for i in range(0, len(churn_windowing)):\\n  for j in range(0, len(churn_windowing.columns)):\\n    if churn_windowing.iloc[i, j] != 0.0 and churn_windowing.iloc[i, j] != 2.0:\\n      churn_windowing.iloc[i, j] = 1\\n'"
            ]
          },
          "execution_count": 186,
          "metadata": {},
          "output_type": "execute_result"
        }
      ],
      "source": [
        "'''for i in range(0, len(churn_windowing)):\n",
        "  for j in range(0, len(churn_windowing.columns)):\n",
        "    if churn_windowing.iloc[i, j] != 0.0 and churn_windowing.iloc[i, j] != 2.0:\n",
        "      churn_windowing.iloc[i, j] = 1\n",
        "'''"
      ]
    },
    {
      "cell_type": "code",
      "execution_count": null,
      "metadata": {
        "id": "TdQ6vSCyt4TB"
      },
      "outputs": [],
      "source": [
        "#churn_windowing4 = churn_windowing.copy()"
      ]
    },
    {
      "cell_type": "code",
      "execution_count": null,
      "metadata": {
        "id": "-OCUI9R5uzFp"
      },
      "outputs": [],
      "source": [
        "#churn_windowing4 = churn_windowing4.astype(int)"
      ]
    },
    {
      "cell_type": "code",
      "execution_count": null,
      "metadata": {
        "id": "NZFkMWx3vFic"
      },
      "outputs": [],
      "source": [
        "#churn_windowing4.drop('customer_id', axis=1, inplace=True)"
      ]
    },
    {
      "cell_type": "code",
      "execution_count": null,
      "metadata": {
        "id": "V62Rve7Au3wS"
      },
      "outputs": [],
      "source": [
        "#churn_windowing4.head()"
      ]
    },
    {
      "cell_type": "code",
      "execution_count": null,
      "metadata": {
        "id": "-96M2wQpvNMm"
      },
      "outputs": [],
      "source": [
        "#customer_id_series = churn_windowing2['customer_id']"
      ]
    },
    {
      "cell_type": "code",
      "execution_count": null,
      "metadata": {
        "id": "BxoSf4uavhgD"
      },
      "outputs": [],
      "source": [
        "#customer_id_series"
      ]
    },
    {
      "cell_type": "code",
      "execution_count": null,
      "metadata": {
        "id": "lmlvMf7OvjFp"
      },
      "outputs": [],
      "source": [
        "#churn_windowing5 = pd.concat([customer_id_series, churn_windowing4], axis=1)"
      ]
    },
    {
      "cell_type": "code",
      "execution_count": null,
      "metadata": {
        "id": "9eRbGqcJvq1W"
      },
      "outputs": [],
      "source": [
        "#churn_windowing5.tail()"
      ]
    },
    {
      "cell_type": "code",
      "execution_count": null,
      "metadata": {
        "colab": {
          "base_uri": "https://localhost:8080/",
          "height": 35
        },
        "id": "rKlUZRWl3FZI",
        "outputId": "c0948020-2f2d-403c-d171-1f9432b1d8a7"
      },
      "outputs": [
        {
          "data": {
            "application/vnd.google.colaboratory.intrinsic+json": {
              "type": "string"
            },
            "text/plain": [
              "\"for i in range(0, len(churn_windowing)):\\n  if churn_windowing.loc[i, 'Jul 22'] == 2:\\n    churn_windowing.drop(i, inplace=True)\\n\""
            ]
          },
          "execution_count": 195,
          "metadata": {},
          "output_type": "execute_result"
        }
      ],
      "source": [
        "'''for i in range(0, len(churn_windowing)):\n",
        "  if churn_windowing.loc[i, 'Jul 22'] == 2:\n",
        "    churn_windowing.drop(i, inplace=True)\n",
        "'''"
      ]
    },
    {
      "cell_type": "code",
      "execution_count": null,
      "metadata": {
        "id": "rPWDQlO5waTI"
      },
      "outputs": [],
      "source": [
        "#churn_windowing = pd.read_csv(\"/content/drive/MyDrive/Datasets/churn_windowing5.csv\")"
      ]
    },
    {
      "cell_type": "code",
      "execution_count": null,
      "metadata": {
        "id": "Ht9dFkt8whvx"
      },
      "outputs": [],
      "source": [
        "#churn_windowing.head()"
      ]
    },
    {
      "cell_type": "markdown",
      "metadata": {
        "id": "Qq_r-j7_TqSJ"
      },
      "source": [
        "1.   1 -> churn\n",
        "2.   2 -> \n",
        "3.   0 ->\n",
        "\n"
      ]
    },
    {
      "cell_type": "code",
      "execution_count": null,
      "metadata": {
        "id": "imWtp6Qt5kL2"
      },
      "outputs": [],
      "source": [
        "#churn_windowing.shape"
      ]
    },
    {
      "cell_type": "markdown",
      "metadata": {
        "id": "G-4-ThFZt0ya"
      },
      "source": [
        "terlihat bahwa dari 100000 customer yang terdaftar, terdapat 50242 customer yang melakukan pembelian ke Fashion Campus minimal satu kali dalam rentang waktu Juni 2016 - Juli 2022"
      ]
    },
    {
      "cell_type": "code",
      "execution_count": null,
      "metadata": {
        "id": "KW_Tqctx7W8G"
      },
      "outputs": [],
      "source": [
        "#churn_windowing['Jul 22'].value_counts()"
      ]
    },
    {
      "cell_type": "markdown",
      "metadata": {
        "id": "JuYrkHPUvQg5"
      },
      "source": [
        "dari 50242 customer tadi, terlihat bahwa sekitar 40268 customer (81% dari keseluruhan) melakukan churned/tidak kembali lagi untuk membeli"
      ]
    },
    {
      "cell_type": "markdown",
      "metadata": {
        "id": "2WO_mJSGVngR"
      },
      "source": [
        "<h2>New datasets after feature engineering</h2>"
      ]
    },
    {
      "cell_type": "markdown",
      "metadata": {
        "id": "TJAmvoEOzws4"
      },
      "source": [
        "<h3> Customer dataset </h3>"
      ]
    },
    {
      "cell_type": "code",
      "execution_count": null,
      "metadata": {
        "id": "ZI5GuvJhqc_K"
      },
      "outputs": [],
      "source": [
        "#customer2 = pd.read_csv(\"/content/drive/MyDrive/Datasets/customer2.csv\")\n",
        "#customer3 = customer2.copy()\n",
        "#customer3.drop('Unnamed: 0', axis=1, inplace=True)"
      ]
    },
    {
      "cell_type": "code",
      "execution_count": null,
      "metadata": {
        "id": "0O1DYSzXW3MF"
      },
      "outputs": [],
      "source": [
        "#customer3.head()"
      ]
    },
    {
      "cell_type": "code",
      "execution_count": null,
      "metadata": {
        "id": "Q4NPmltDzZGM"
      },
      "outputs": [],
      "source": [
        "#customer3.shape"
      ]
    },
    {
      "cell_type": "code",
      "execution_count": null,
      "metadata": {
        "id": "yoRUzzS0MFDf"
      },
      "outputs": [],
      "source": [
        "#customer4 = pd.merge(churn_windowing['customer_id'], customer3, how='inner',\n",
        "#            on='customer_id')"
      ]
    },
    {
      "cell_type": "code",
      "execution_count": null,
      "metadata": {
        "id": "pt5KFDpCM7r5"
      },
      "outputs": [],
      "source": [
        "#customer5 = customer4[['customer_id', 'gender', 'device_type', 'home_location',\n",
        "#                       'age', 'age_from_first_join_date']]"
      ]
    },
    {
      "cell_type": "code",
      "execution_count": null,
      "metadata": {
        "id": "uwVVTgd_NPmv"
      },
      "outputs": [],
      "source": [
        "#customer5.head()"
      ]
    },
    {
      "cell_type": "markdown",
      "metadata": {
        "id": "DUA9KiVMz1DX"
      },
      "source": [
        "<h3> Transactions dataset </h3>"
      ]
    },
    {
      "cell_type": "code",
      "execution_count": null,
      "metadata": {
        "colab": {
          "base_uri": "https://localhost:8080/",
          "height": 52
        },
        "id": "fDjkCKadXDpU",
        "outputId": "c6a66da7-91be-4ce5-ffd3-55d7a5d514ff"
      },
      "outputs": [
        {
          "data": {
            "application/vnd.google.colaboratory.intrinsic+json": {
              "type": "string"
            },
            "text/plain": [
              "'transactions2 = pd.read_csv(\"/content/drive/MyDrive/Datasets/transactions3.csv\",\\n                            parse_dates=[\\'created_at\\', \\'shipment_date_limit\\'])\\ntransactions3 = transactions2.copy()\\ntransactions3.drop([\\'Unnamed: 0\\', \\'product_metadata\\'], axis=1, inplace=True)\\n'"
            ]
          },
          "execution_count": 206,
          "metadata": {},
          "output_type": "execute_result"
        }
      ],
      "source": [
        "'''transactions2 = pd.read_csv(\"/content/drive/MyDrive/Datasets/transactions3.csv\",\n",
        "                            parse_dates=['created_at', 'shipment_date_limit'])\n",
        "transactions3 = transactions2.copy()\n",
        "transactions3.drop(['Unnamed: 0', 'product_metadata'], axis=1, inplace=True)\n",
        "'''"
      ]
    },
    {
      "cell_type": "code",
      "execution_count": null,
      "metadata": {
        "id": "IxyP-wpGXLsi"
      },
      "outputs": [],
      "source": [
        "#transactions3.head()"
      ]
    },
    {
      "cell_type": "code",
      "execution_count": null,
      "metadata": {
        "id": "is2DZnBv1QXT"
      },
      "outputs": [],
      "source": [
        "#transactions4 = transactions3[transactions3['payment_status']=='Success']"
      ]
    },
    {
      "cell_type": "code",
      "execution_count": null,
      "metadata": {
        "id": "DS6tuCg57-C6"
      },
      "outputs": [],
      "source": [
        "#customer_id_ever_bought = churn_windowing['customer_id']"
      ]
    },
    {
      "cell_type": "code",
      "execution_count": null,
      "metadata": {
        "id": "GAXaO7aW8MI4"
      },
      "outputs": [],
      "source": [
        "#id_session_ever_bought = pd.merge(customer_id_ever_bought, transactions3[['customer_id', 'session_id']],\n",
        "#                                  how='inner', on='customer_id')"
      ]
    },
    {
      "cell_type": "code",
      "execution_count": null,
      "metadata": {
        "id": "tjuLKj1p83pq"
      },
      "outputs": [],
      "source": [
        "#id_session_ever_bought"
      ]
    },
    {
      "cell_type": "code",
      "execution_count": null,
      "metadata": {
        "colab": {
          "base_uri": "https://localhost:8080/",
          "height": 52
        },
        "id": "MveNtFQw1h4l",
        "outputId": "ce89ed63-5ec2-4bd8-db40-d40764499e35"
      },
      "outputs": [
        {
          "data": {
            "application/vnd.google.colaboratory.intrinsic+json": {
              "type": "string"
            },
            "text/plain": [
              "\"transactions5 = transactions4.groupby(['customer_id']).agg(\\n    {'payment_method': pd.Series.mode,\\n     'promo_amount': 'mean',\\n     'promo_code': pd.Series.mode,\\n     'shipment_fee': 'mean',\\n     'total_amount': 'mean',\\n     'quantity': pd.Series.mean,\\n     'item_price': 'mean'})\\n\""
            ]
          },
          "execution_count": 212,
          "metadata": {},
          "output_type": "execute_result"
        }
      ],
      "source": [
        "'''transactions5 = transactions4.groupby(['customer_id']).agg(\n",
        "    {'payment_method': pd.Series.mode,\n",
        "     'promo_amount': 'mean',\n",
        "     'promo_code': pd.Series.mode,\n",
        "     'shipment_fee': 'mean',\n",
        "     'total_amount': 'mean',\n",
        "     'quantity': pd.Series.mean,\n",
        "     'item_price': 'mean'})\n",
        "'''"
      ]
    },
    {
      "cell_type": "code",
      "execution_count": null,
      "metadata": {
        "id": "FMROmC4SQDUJ"
      },
      "outputs": [],
      "source": []
    },
    {
      "cell_type": "code",
      "execution_count": null,
      "metadata": {
        "id": "nZwGbgZb5R-G"
      },
      "outputs": [],
      "source": [
        "#transactions5.head()"
      ]
    },
    {
      "cell_type": "markdown",
      "metadata": {
        "id": "VVdAWxEaz4OX"
      },
      "source": [
        "<h3> Product dataset </h3>"
      ]
    },
    {
      "cell_type": "code",
      "execution_count": null,
      "metadata": {
        "colab": {
          "base_uri": "https://localhost:8080/",
          "height": 52
        },
        "id": "Hd2XY1xzXknP",
        "outputId": "3bc38861-6a52-483f-f095-f136162222e1"
      },
      "outputs": [
        {
          "data": {
            "application/vnd.google.colaboratory.intrinsic+json": {
              "type": "string"
            },
            "text/plain": [
              "'product2 = pd.read_csv(\"/content/drive/MyDrive/Mockup Datasets/product.csv\", \\n                      on_bad_lines=\\'warn\\')\\nproduct3 = product2.copy()\\n'"
            ]
          },
          "execution_count": 214,
          "metadata": {},
          "output_type": "execute_result"
        }
      ],
      "source": [
        "'''product2 = pd.read_csv(\"/content/drive/MyDrive/Mockup Datasets/product.csv\", \n",
        "                      on_bad_lines='warn')\n",
        "product3 = product2.copy()\n",
        "'''"
      ]
    },
    {
      "cell_type": "code",
      "execution_count": null,
      "metadata": {
        "id": "dwl5lI1mXqQb"
      },
      "outputs": [],
      "source": [
        "#product3.head()"
      ]
    },
    {
      "cell_type": "markdown",
      "metadata": {
        "id": "DSY2RhWSMkeI"
      },
      "source": [
        "<h3> click_stream dataset </h3>"
      ]
    },
    {
      "cell_type": "code",
      "execution_count": null,
      "metadata": {
        "id": "vQF3DSBHXxgv"
      },
      "outputs": [],
      "source": [
        "#click_stream2 = pd.read_csv(\"/content/drive/MyDrive/Datasets/click_stream3.csv\")\n",
        "#click_stream3 = click_stream2.copy()\n",
        "#click_stream3.drop(['Unnamed: 0', 'event_metadata'], axis=1, inplace=True)"
      ]
    },
    {
      "cell_type": "code",
      "execution_count": null,
      "metadata": {
        "id": "lkvUiHVjYj2s"
      },
      "outputs": [],
      "source": [
        "#click_stream3.head()"
      ]
    },
    {
      "cell_type": "code",
      "execution_count": null,
      "metadata": {
        "id": "tGI8KPOL6tod"
      },
      "outputs": [],
      "source": [
        "#click_stream4 = pd.merge(id_session_ever_bought, click_stream3, how='inner',\n",
        "#         on='session_id')"
      ]
    },
    {
      "cell_type": "code",
      "execution_count": null,
      "metadata": {
        "colab": {
          "base_uri": "https://localhost:8080/",
          "height": 52
        },
        "id": "swl-7KWD92jQ",
        "outputId": "be4b2a10-c2a6-4b39-e745-e9b432a4b6be"
      },
      "outputs": [
        {
          "data": {
            "application/vnd.google.colaboratory.intrinsic+json": {
              "type": "string"
            },
            "text/plain": [
              "\"click_stream5 = click_stream4.groupby(['customer_id']).agg({'traffic_source': pd.Series.mode,\\n                                            'event_name': pd.Series.mode,\\n                                            'event_id': 'count'})\\n\""
            ]
          },
          "execution_count": 219,
          "metadata": {},
          "output_type": "execute_result"
        }
      ],
      "source": [
        "'''click_stream5 = click_stream4.groupby(['customer_id']).agg({'traffic_source': pd.Series.mode,\n",
        "                                            'event_name': pd.Series.mode,\n",
        "                                            'event_id': 'count'})\n",
        "'''"
      ]
    },
    {
      "cell_type": "markdown",
      "metadata": {
        "id": "HoUU6EDpMh_f"
      },
      "source": [
        "<h3> Merging all feature engineering </h3>"
      ]
    },
    {
      "cell_type": "code",
      "execution_count": null,
      "metadata": {
        "id": "HZL-7Ra6Mhf3"
      },
      "outputs": [],
      "source": [
        "#df1 = pd.merge(customer5, transactions5, how='inner', on='customer_id')"
      ]
    },
    {
      "cell_type": "code",
      "execution_count": null,
      "metadata": {
        "id": "5_C02AcCNqf6"
      },
      "outputs": [],
      "source": [
        "#df2 = pd.merge(df1, click_stream5, how='inner', on='customer_id')"
      ]
    },
    {
      "cell_type": "code",
      "execution_count": null,
      "metadata": {
        "id": "kf0oxcCANxTv"
      },
      "outputs": [],
      "source": [
        "#churned = churn_windowing[['customer_id', 'Jul 22']]"
      ]
    },
    {
      "cell_type": "code",
      "execution_count": null,
      "metadata": {
        "id": "QMr-CcFLOSHQ"
      },
      "outputs": [],
      "source": [
        "#df3 = pd.merge(df2, churned, how='inner', on='customer_id')"
      ]
    },
    {
      "cell_type": "code",
      "execution_count": null,
      "metadata": {
        "id": "Hce1M57JQhlZ"
      },
      "outputs": [],
      "source": [
        "#df3.head()"
      ]
    },
    {
      "cell_type": "code",
      "execution_count": null,
      "metadata": {
        "id": "lRdIz9o4OaEB"
      },
      "outputs": [],
      "source": [
        "#df3['Jul 22'].value_counts()"
      ]
    },
    {
      "cell_type": "code",
      "execution_count": null,
      "metadata": {
        "id": "v0MQx6FzSAns"
      },
      "outputs": [],
      "source": [
        "#df3['promo_code'][17]"
      ]
    },
    {
      "cell_type": "code",
      "execution_count": null,
      "metadata": {
        "id": "0UDn0zZsSKQY"
      },
      "outputs": [],
      "source": [
        "#type(np.array([]))"
      ]
    },
    {
      "cell_type": "code",
      "execution_count": null,
      "metadata": {
        "colab": {
          "base_uri": "https://localhost:8080/",
          "height": 52
        },
        "id": "Nrtxi4SjQ2lZ",
        "outputId": "3b023809-7778-4f9e-e429-c394981d7952"
      },
      "outputs": [
        {
          "data": {
            "application/vnd.google.colaboratory.intrinsic+json": {
              "type": "string"
            },
            "text/plain": [
              "\"temp_array = []\\ntemp_not_array = []\\n\\nfor i in range(0, len(df3)):\\n  if type(df3['payment_method'][i]) == type(np.array([])):\\n    temp_array.append(i)\\n  else:\\n    temp_not_array.append(i)\\n\""
            ]
          },
          "execution_count": 228,
          "metadata": {},
          "output_type": "execute_result"
        }
      ],
      "source": [
        "'''temp_array = []\n",
        "temp_not_array = []\n",
        "\n",
        "for i in range(0, len(df3)):\n",
        "  if type(df3['payment_method'][i]) == type(np.array([])):\n",
        "    temp_array.append(i)\n",
        "  else:\n",
        "    temp_not_array.append(i)\n",
        "'''"
      ]
    },
    {
      "cell_type": "code",
      "execution_count": null,
      "metadata": {
        "id": "k4hB7Z4YjC4O"
      },
      "outputs": [],
      "source": [
        "#payment_method_series = df3.iloc[temp_array, :]"
      ]
    },
    {
      "cell_type": "code",
      "execution_count": null,
      "metadata": {
        "id": "lTHhY0kfjaKR"
      },
      "outputs": [],
      "source": [
        "#payment_method_series_explode = payment_method_series.explode('payment_method')"
      ]
    },
    {
      "cell_type": "code",
      "execution_count": null,
      "metadata": {
        "id": "XQgc6MuZjvW7"
      },
      "outputs": [],
      "source": [
        "#payment_method_series_explode2 = payment_method_series_explode.groupby(['customer_id']).agg({'payment_method': 'last'})"
      ]
    },
    {
      "cell_type": "code",
      "execution_count": null,
      "metadata": {
        "id": "bbRqZZi0muTa"
      },
      "outputs": [],
      "source": [
        "#payment_method_series_explode2['customer_id'] = payment_method_series_explode2.index"
      ]
    },
    {
      "cell_type": "code",
      "execution_count": null,
      "metadata": {
        "id": "gNRdkeVLm5q3"
      },
      "outputs": [],
      "source": [
        "#payment_method_series_explode2.head()"
      ]
    },
    {
      "cell_type": "code",
      "execution_count": null,
      "metadata": {
        "id": "--KFdzI4liQm"
      },
      "outputs": [],
      "source": [
        "#payment_method_series_not_array_series = df3.iloc[temp_not_array, :]"
      ]
    },
    {
      "cell_type": "code",
      "execution_count": null,
      "metadata": {
        "id": "ZVAPr9Q0mWX_"
      },
      "outputs": [],
      "source": [
        "#payment_method_series_not_array_series"
      ]
    },
    {
      "cell_type": "code",
      "execution_count": null,
      "metadata": {
        "id": "CST4Fvn5l01J"
      },
      "outputs": [],
      "source": [
        "#payment_method_series_not_array_series2 = payment_method_series_not_array_series[['customer_id', 'payment_method']]"
      ]
    },
    {
      "cell_type": "code",
      "execution_count": null,
      "metadata": {
        "id": "RHRi-hqpm_4R"
      },
      "outputs": [],
      "source": [
        "#payment_method = pd.concat([payment_method_series_not_array_series2, payment_method_series_explode2])"
      ]
    },
    {
      "cell_type": "code",
      "execution_count": null,
      "metadata": {
        "id": "n7z0xaYInUAA"
      },
      "outputs": [],
      "source": [
        "#df3.drop('payment_method', axis=1, inplace=True)"
      ]
    },
    {
      "cell_type": "code",
      "execution_count": null,
      "metadata": {
        "id": "BppBAE1FnaMI"
      },
      "outputs": [],
      "source": [
        "#df4 = pd.merge(df3, payment_method, how='inner', on='customer_id')"
      ]
    },
    {
      "cell_type": "code",
      "execution_count": null,
      "metadata": {
        "id": "yoR2ZQXHoXCy"
      },
      "outputs": [],
      "source": [
        "#df4.head()"
      ]
    },
    {
      "cell_type": "code",
      "execution_count": null,
      "metadata": {
        "id": "QZD4WMjvp-mr"
      },
      "outputs": [],
      "source": [
        "#df5 = df4.explode('promo_code')"
      ]
    },
    {
      "cell_type": "code",
      "execution_count": null,
      "metadata": {
        "id": "W2uE1oTvqi_5"
      },
      "outputs": [],
      "source": [
        "#promo_code = df5.groupby(['customer_id']).agg({'promo_code': 'last'})"
      ]
    },
    {
      "cell_type": "code",
      "execution_count": null,
      "metadata": {
        "id": "3y0Isu9_q4Ub"
      },
      "outputs": [],
      "source": [
        "#df4.drop('promo_code', axis=1, inplace=True)"
      ]
    },
    {
      "cell_type": "code",
      "execution_count": null,
      "metadata": {
        "id": "kSwJIPXRq_nT"
      },
      "outputs": [],
      "source": [
        "#df5 = pd.merge(df4, promo_code, how='left', left_on='customer_id', right_on=promo_code.index)"
      ]
    },
    {
      "cell_type": "code",
      "execution_count": null,
      "metadata": {
        "id": "pULbrT27sRo9"
      },
      "outputs": [],
      "source": [
        "#df5.head()"
      ]
    },
    {
      "cell_type": "code",
      "execution_count": null,
      "metadata": {
        "id": "BY_jeM6NsL7r"
      },
      "outputs": [],
      "source": [
        "#df6 = df5.explode('event_name')"
      ]
    },
    {
      "cell_type": "code",
      "execution_count": null,
      "metadata": {
        "id": "xofbo8jkscTZ"
      },
      "outputs": [],
      "source": [
        "#event_name = df6.groupby(['customer_id']).agg({'event_name': 'last'})"
      ]
    },
    {
      "cell_type": "code",
      "execution_count": null,
      "metadata": {
        "id": "b56pUYIns52v"
      },
      "outputs": [],
      "source": [
        "#df5.drop('event_name', axis=1, inplace=True)"
      ]
    },
    {
      "cell_type": "code",
      "execution_count": null,
      "metadata": {
        "id": "NMUZSasQtC4b"
      },
      "outputs": [],
      "source": [
        "#df6 = pd.merge(df5, event_name, how='left', left_on='customer_id', right_on=event_name.index)"
      ]
    },
    {
      "cell_type": "code",
      "execution_count": null,
      "metadata": {
        "id": "a_wk69vytgCc"
      },
      "outputs": [],
      "source": [
        "#df6.head()"
      ]
    },
    {
      "cell_type": "code",
      "execution_count": null,
      "metadata": {
        "id": "aXWtQ-6KuksJ"
      },
      "outputs": [],
      "source": [
        "#df6 = pd.read_csv(\"/content/drive/MyDrive/Datasets/df_temp/df3.csv\")"
      ]
    },
    {
      "cell_type": "code",
      "execution_count": null,
      "metadata": {
        "id": "ssskcCJ-tz1H"
      },
      "outputs": [],
      "source": [
        "#df7 = df6.explode('traffic_source')"
      ]
    },
    {
      "cell_type": "code",
      "execution_count": null,
      "metadata": {
        "id": "iWJYCnKOt_-b"
      },
      "outputs": [],
      "source": [
        "#traffic_source = df7.groupby(['customer_id']).agg({'traffic_source': 'last'})"
      ]
    },
    {
      "cell_type": "code",
      "execution_count": null,
      "metadata": {
        "id": "H6fWiO10uFXB"
      },
      "outputs": [],
      "source": [
        "#df6.drop('traffic_source', axis=1, inplace=True)"
      ]
    },
    {
      "cell_type": "code",
      "execution_count": null,
      "metadata": {
        "id": "6C17znS5uV50"
      },
      "outputs": [],
      "source": [
        "#df7 = pd.merge(df6, traffic_source, how='left', left_on='customer_id', right_on=traffic_source.index)"
      ]
    },
    {
      "cell_type": "code",
      "execution_count": null,
      "metadata": {
        "id": "smU8Ods7ubBG"
      },
      "outputs": [],
      "source": [
        "#df7.rename(columns={'Jul 22': 'churned'}, inplace=True)"
      ]
    },
    {
      "cell_type": "code",
      "execution_count": null,
      "metadata": {
        "id": "VvruZ9r4wNxb"
      },
      "outputs": [],
      "source": [
        "#df7.rename(columns={'event_id': 'event_count'}, inplace=True)"
      ]
    },
    {
      "cell_type": "code",
      "execution_count": null,
      "metadata": {
        "id": "yPnuCDQqvvH8"
      },
      "outputs": [],
      "source": [
        "#df7.columns"
      ]
    },
    {
      "cell_type": "code",
      "execution_count": null,
      "metadata": {
        "colab": {
          "base_uri": "https://localhost:8080/",
          "height": 70
        },
        "id": "XU3UzWhuvs0z",
        "outputId": "da7d497e-3538-4c9f-fa68-7430a26b7bc9"
      },
      "outputs": [
        {
          "data": {
            "application/vnd.google.colaboratory.intrinsic+json": {
              "type": "string"
            },
            "text/plain": [
              "\"df7 = df7[['customer_id', 'gender', 'device_type', 'home_location', 'age',\\n           'age_from_first_join_date', 'promo_amount', 'shipment_fee', \\n           'total_amount', 'quantity', 'item_price', 'event_count',\\n           'payment_method', 'promo_code', 'event_name', 'traffic_source',\\n           'churned']]\\n\""
            ]
          },
          "execution_count": 259,
          "metadata": {},
          "output_type": "execute_result"
        }
      ],
      "source": [
        "'''df7 = df7[['customer_id', 'gender', 'device_type', 'home_location', 'age',\n",
        "           'age_from_first_join_date', 'promo_amount', 'shipment_fee', \n",
        "           'total_amount', 'quantity', 'item_price', 'event_count',\n",
        "           'payment_method', 'promo_code', 'event_name', 'traffic_source',\n",
        "           'churned']]\n",
        "'''"
      ]
    },
    {
      "cell_type": "code",
      "execution_count": null,
      "metadata": {
        "id": "Grb0vkwfwgUs"
      },
      "outputs": [],
      "source": [
        "#len(df7.columns)"
      ]
    },
    {
      "cell_type": "code",
      "execution_count": null,
      "metadata": {
        "id": "jIzZvy0cxBHr"
      },
      "outputs": [],
      "source": [
        "#y = df7['churned']"
      ]
    },
    {
      "cell_type": "code",
      "execution_count": null,
      "metadata": {
        "id": "fICPM5iLw6od"
      },
      "outputs": [],
      "source": [
        "#df8 = df7.drop('churned', axis=1)"
      ]
    },
    {
      "cell_type": "code",
      "execution_count": null,
      "metadata": {
        "id": "Qi3lRsSExK2C"
      },
      "outputs": [],
      "source": [
        "#df8"
      ]
    },
    {
      "cell_type": "markdown",
      "metadata": {
        "id": "l6nIaxsnSZD2"
      },
      "source": [
        "<h2> Final Dataset </h2>"
      ]
    },
    {
      "cell_type": "code",
      "execution_count": null,
      "metadata": {
        "id": "FlYFzu-kxS5F"
      },
      "outputs": [],
      "source": [
        "df = pd.read_csv(\"/content/drive/MyDrive/Datasets/df4.csv\")"
      ]
    },
    {
      "cell_type": "code",
      "execution_count": null,
      "metadata": {
        "id": "0SHEvdtjxgNz"
      },
      "outputs": [],
      "source": [
        "df['quantity'] = np.floor(df['quantity'])"
      ]
    },
    {
      "cell_type": "code",
      "execution_count": null,
      "metadata": {
        "colab": {
          "base_uri": "https://localhost:8080/",
          "height": 288
        },
        "id": "CiRrOlpbx9Vb",
        "outputId": "026c2fd4-2091-46d7-ea65-020f84be9d21"
      },
      "outputs": [
        {
          "output_type": "execute_result",
          "data": {
            "text/plain": [
              "   customer_id gender device_type     home_location  age  \\\n",
              "0            3      M     Android      Jakarta Raya   36   \n",
              "1            8      F     Android    Sulawesi Utara   22   \n",
              "2            9      F     Android      Jakarta Raya   16   \n",
              "3           11      M     Android  Kalimantan Timur   29   \n",
              "4           15      F     Android        Jawa Barat   39   \n",
              "\n",
              "   age_from_first_join_date  promo_amount  shipment_fee   total_amount  \\\n",
              "0                         4   2570.652174   6811.594203  658950.478261   \n",
              "1                         1    962.375000   6875.000000  594825.125000   \n",
              "2                         1      0.000000   5625.000000  514203.750000   \n",
              "3                         0   9492.000000  15000.000000  197533.000000   \n",
              "4                         3   1818.000000  10000.000000  716360.666667   \n",
              "\n",
              "   quantity     item_price  event_count payment_method   promo_code  \\\n",
              "0       1.0  242216.420290         1021    Credit Card  WEEKENDSERU   \n",
              "1       2.0  252154.875000          221    Credit Card  WEEKENDSERU   \n",
              "2       1.0  308843.125000           94          Gopay          NaN   \n",
              "3       1.0  192025.000000           14            OVO       XX2022   \n",
              "4       1.0  233470.222222          109        LinkAja      BUYMORE   \n",
              "\n",
              "    event_name traffic_source  churned  \n",
              "0  ADD_TO_CART         MOBILE        1  \n",
              "1     HOMEPAGE         MOBILE        1  \n",
              "2  ADD_TO_CART         MOBILE        1  \n",
              "3  ADD_TO_CART         MOBILE        1  \n",
              "4  ADD_TO_CART         MOBILE        1  "
            ],
            "text/html": [
              "\n",
              "  <div id=\"df-8c23fac7-f94f-4707-8580-be7f6bcb578a\">\n",
              "    <div class=\"colab-df-container\">\n",
              "      <div>\n",
              "<style scoped>\n",
              "    .dataframe tbody tr th:only-of-type {\n",
              "        vertical-align: middle;\n",
              "    }\n",
              "\n",
              "    .dataframe tbody tr th {\n",
              "        vertical-align: top;\n",
              "    }\n",
              "\n",
              "    .dataframe thead th {\n",
              "        text-align: right;\n",
              "    }\n",
              "</style>\n",
              "<table border=\"1\" class=\"dataframe\">\n",
              "  <thead>\n",
              "    <tr style=\"text-align: right;\">\n",
              "      <th></th>\n",
              "      <th>customer_id</th>\n",
              "      <th>gender</th>\n",
              "      <th>device_type</th>\n",
              "      <th>home_location</th>\n",
              "      <th>age</th>\n",
              "      <th>age_from_first_join_date</th>\n",
              "      <th>promo_amount</th>\n",
              "      <th>shipment_fee</th>\n",
              "      <th>total_amount</th>\n",
              "      <th>quantity</th>\n",
              "      <th>item_price</th>\n",
              "      <th>event_count</th>\n",
              "      <th>payment_method</th>\n",
              "      <th>promo_code</th>\n",
              "      <th>event_name</th>\n",
              "      <th>traffic_source</th>\n",
              "      <th>churned</th>\n",
              "    </tr>\n",
              "  </thead>\n",
              "  <tbody>\n",
              "    <tr>\n",
              "      <th>0</th>\n",
              "      <td>3</td>\n",
              "      <td>M</td>\n",
              "      <td>Android</td>\n",
              "      <td>Jakarta Raya</td>\n",
              "      <td>36</td>\n",
              "      <td>4</td>\n",
              "      <td>2570.652174</td>\n",
              "      <td>6811.594203</td>\n",
              "      <td>658950.478261</td>\n",
              "      <td>1.0</td>\n",
              "      <td>242216.420290</td>\n",
              "      <td>1021</td>\n",
              "      <td>Credit Card</td>\n",
              "      <td>WEEKENDSERU</td>\n",
              "      <td>ADD_TO_CART</td>\n",
              "      <td>MOBILE</td>\n",
              "      <td>1</td>\n",
              "    </tr>\n",
              "    <tr>\n",
              "      <th>1</th>\n",
              "      <td>8</td>\n",
              "      <td>F</td>\n",
              "      <td>Android</td>\n",
              "      <td>Sulawesi Utara</td>\n",
              "      <td>22</td>\n",
              "      <td>1</td>\n",
              "      <td>962.375000</td>\n",
              "      <td>6875.000000</td>\n",
              "      <td>594825.125000</td>\n",
              "      <td>2.0</td>\n",
              "      <td>252154.875000</td>\n",
              "      <td>221</td>\n",
              "      <td>Credit Card</td>\n",
              "      <td>WEEKENDSERU</td>\n",
              "      <td>HOMEPAGE</td>\n",
              "      <td>MOBILE</td>\n",
              "      <td>1</td>\n",
              "    </tr>\n",
              "    <tr>\n",
              "      <th>2</th>\n",
              "      <td>9</td>\n",
              "      <td>F</td>\n",
              "      <td>Android</td>\n",
              "      <td>Jakarta Raya</td>\n",
              "      <td>16</td>\n",
              "      <td>1</td>\n",
              "      <td>0.000000</td>\n",
              "      <td>5625.000000</td>\n",
              "      <td>514203.750000</td>\n",
              "      <td>1.0</td>\n",
              "      <td>308843.125000</td>\n",
              "      <td>94</td>\n",
              "      <td>Gopay</td>\n",
              "      <td>NaN</td>\n",
              "      <td>ADD_TO_CART</td>\n",
              "      <td>MOBILE</td>\n",
              "      <td>1</td>\n",
              "    </tr>\n",
              "    <tr>\n",
              "      <th>3</th>\n",
              "      <td>11</td>\n",
              "      <td>M</td>\n",
              "      <td>Android</td>\n",
              "      <td>Kalimantan Timur</td>\n",
              "      <td>29</td>\n",
              "      <td>0</td>\n",
              "      <td>9492.000000</td>\n",
              "      <td>15000.000000</td>\n",
              "      <td>197533.000000</td>\n",
              "      <td>1.0</td>\n",
              "      <td>192025.000000</td>\n",
              "      <td>14</td>\n",
              "      <td>OVO</td>\n",
              "      <td>XX2022</td>\n",
              "      <td>ADD_TO_CART</td>\n",
              "      <td>MOBILE</td>\n",
              "      <td>1</td>\n",
              "    </tr>\n",
              "    <tr>\n",
              "      <th>4</th>\n",
              "      <td>15</td>\n",
              "      <td>F</td>\n",
              "      <td>Android</td>\n",
              "      <td>Jawa Barat</td>\n",
              "      <td>39</td>\n",
              "      <td>3</td>\n",
              "      <td>1818.000000</td>\n",
              "      <td>10000.000000</td>\n",
              "      <td>716360.666667</td>\n",
              "      <td>1.0</td>\n",
              "      <td>233470.222222</td>\n",
              "      <td>109</td>\n",
              "      <td>LinkAja</td>\n",
              "      <td>BUYMORE</td>\n",
              "      <td>ADD_TO_CART</td>\n",
              "      <td>MOBILE</td>\n",
              "      <td>1</td>\n",
              "    </tr>\n",
              "  </tbody>\n",
              "</table>\n",
              "</div>\n",
              "      <button class=\"colab-df-convert\" onclick=\"convertToInteractive('df-8c23fac7-f94f-4707-8580-be7f6bcb578a')\"\n",
              "              title=\"Convert this dataframe to an interactive table.\"\n",
              "              style=\"display:none;\">\n",
              "        \n",
              "  <svg xmlns=\"http://www.w3.org/2000/svg\" height=\"24px\"viewBox=\"0 0 24 24\"\n",
              "       width=\"24px\">\n",
              "    <path d=\"M0 0h24v24H0V0z\" fill=\"none\"/>\n",
              "    <path d=\"M18.56 5.44l.94 2.06.94-2.06 2.06-.94-2.06-.94-.94-2.06-.94 2.06-2.06.94zm-11 1L8.5 8.5l.94-2.06 2.06-.94-2.06-.94L8.5 2.5l-.94 2.06-2.06.94zm10 10l.94 2.06.94-2.06 2.06-.94-2.06-.94-.94-2.06-.94 2.06-2.06.94z\"/><path d=\"M17.41 7.96l-1.37-1.37c-.4-.4-.92-.59-1.43-.59-.52 0-1.04.2-1.43.59L10.3 9.45l-7.72 7.72c-.78.78-.78 2.05 0 2.83L4 21.41c.39.39.9.59 1.41.59.51 0 1.02-.2 1.41-.59l7.78-7.78 2.81-2.81c.8-.78.8-2.07 0-2.86zM5.41 20L4 18.59l7.72-7.72 1.47 1.35L5.41 20z\"/>\n",
              "  </svg>\n",
              "      </button>\n",
              "      \n",
              "  <style>\n",
              "    .colab-df-container {\n",
              "      display:flex;\n",
              "      flex-wrap:wrap;\n",
              "      gap: 12px;\n",
              "    }\n",
              "\n",
              "    .colab-df-convert {\n",
              "      background-color: #E8F0FE;\n",
              "      border: none;\n",
              "      border-radius: 50%;\n",
              "      cursor: pointer;\n",
              "      display: none;\n",
              "      fill: #1967D2;\n",
              "      height: 32px;\n",
              "      padding: 0 0 0 0;\n",
              "      width: 32px;\n",
              "    }\n",
              "\n",
              "    .colab-df-convert:hover {\n",
              "      background-color: #E2EBFA;\n",
              "      box-shadow: 0px 1px 2px rgba(60, 64, 67, 0.3), 0px 1px 3px 1px rgba(60, 64, 67, 0.15);\n",
              "      fill: #174EA6;\n",
              "    }\n",
              "\n",
              "    [theme=dark] .colab-df-convert {\n",
              "      background-color: #3B4455;\n",
              "      fill: #D2E3FC;\n",
              "    }\n",
              "\n",
              "    [theme=dark] .colab-df-convert:hover {\n",
              "      background-color: #434B5C;\n",
              "      box-shadow: 0px 1px 3px 1px rgba(0, 0, 0, 0.15);\n",
              "      filter: drop-shadow(0px 1px 2px rgba(0, 0, 0, 0.3));\n",
              "      fill: #FFFFFF;\n",
              "    }\n",
              "  </style>\n",
              "\n",
              "      <script>\n",
              "        const buttonEl =\n",
              "          document.querySelector('#df-8c23fac7-f94f-4707-8580-be7f6bcb578a button.colab-df-convert');\n",
              "        buttonEl.style.display =\n",
              "          google.colab.kernel.accessAllowed ? 'block' : 'none';\n",
              "\n",
              "        async function convertToInteractive(key) {\n",
              "          const element = document.querySelector('#df-8c23fac7-f94f-4707-8580-be7f6bcb578a');\n",
              "          const dataTable =\n",
              "            await google.colab.kernel.invokeFunction('convertToInteractive',\n",
              "                                                     [key], {});\n",
              "          if (!dataTable) return;\n",
              "\n",
              "          const docLinkHtml = 'Like what you see? Visit the ' +\n",
              "            '<a target=\"_blank\" href=https://colab.research.google.com/notebooks/data_table.ipynb>data table notebook</a>'\n",
              "            + ' to learn more about interactive tables.';\n",
              "          element.innerHTML = '';\n",
              "          dataTable['output_type'] = 'display_data';\n",
              "          await google.colab.output.renderOutput(dataTable, element);\n",
              "          const docLink = document.createElement('div');\n",
              "          docLink.innerHTML = docLinkHtml;\n",
              "          element.appendChild(docLink);\n",
              "        }\n",
              "      </script>\n",
              "    </div>\n",
              "  </div>\n",
              "  "
            ]
          },
          "metadata": {},
          "execution_count": 5
        }
      ],
      "source": [
        "df.head()"
      ]
    },
    {
      "cell_type": "code",
      "execution_count": null,
      "metadata": {
        "colab": {
          "base_uri": "https://localhost:8080/"
        },
        "id": "qdmkv4d_4n1G",
        "outputId": "aa3d27f5-2ea9-44c7-fd7a-f161c260c219"
      },
      "outputs": [
        {
          "data": {
            "text/plain": [
              "Index(['customer_id', 'gender', 'device_type', 'home_location', 'age',\n",
              "       'age_from_first_join_date', 'promo_amount', 'shipment_fee',\n",
              "       'total_amount', 'quantity', 'item_price', 'event_count',\n",
              "       'payment_method', 'promo_code', 'event_name', 'traffic_source',\n",
              "       'churned'],\n",
              "      dtype='object')"
            ]
          },
          "execution_count": 267,
          "metadata": {},
          "output_type": "execute_result"
        }
      ],
      "source": [
        "df.columns"
      ]
    },
    {
      "cell_type": "code",
      "execution_count": null,
      "metadata": {
        "id": "wcEk2IYKyOJR"
      },
      "outputs": [],
      "source": [
        "df2 = df.drop('churned', axis=1)\n",
        "y = df['churned']"
      ]
    },
    {
      "cell_type": "code",
      "execution_count": null,
      "metadata": {
        "id": "TsIBYxGKwb9M"
      },
      "outputs": [],
      "source": [
        "#df2 = X_res\n",
        "#y = y_res"
      ]
    },
    {
      "cell_type": "markdown",
      "metadata": {
        "id": "RwQjZOa0zIlU"
      },
      "source": [
        "<h3> Identify features using WOE and IV </h3>"
      ]
    },
    {
      "cell_type": "code",
      "execution_count": null,
      "metadata": {
        "id": "rHJ2XTtdwugZ"
      },
      "outputs": [],
      "source": [
        "# import packages\n",
        "import pandas as pd\n",
        "import numpy as np\n",
        "import pandas.core.algorithms as algos\n",
        "from pandas import Series\n",
        "import scipy.stats.stats as stats\n",
        "import re\n",
        "import traceback\n",
        "import string\n",
        "\n",
        "max_bin = 20\n",
        "force_bin = 3\n",
        "\n",
        "# define a binning function\n",
        "def mono_bin(Y, X, n = max_bin):\n",
        "    \n",
        "    df1 = pd.DataFrame({\"X\": X, \"Y\": Y})\n",
        "    justmiss = df1[['X','Y']][df1.X.isnull()]\n",
        "    notmiss = df1[['X','Y']][df1.X.notnull()]\n",
        "    r = 0\n",
        "    while np.abs(r) < 1:\n",
        "        try:\n",
        "            d1 = pd.DataFrame({\"X\": notmiss.X, \"Y\": notmiss.Y, \"Bucket\": pd.qcut(notmiss.X, n)})\n",
        "            d2 = d1.groupby('Bucket', as_index=True)\n",
        "            r, p = stats.spearmanr(d2.mean().X, d2.mean().Y)\n",
        "            n = n - 1 \n",
        "        except Exception as e:\n",
        "            n = n - 1\n",
        "\n",
        "    if len(d2) == 1:\n",
        "        n = force_bin         \n",
        "        bins = algos.quantile(notmiss.X, np.linspace(0, 1, n))\n",
        "        if len(np.unique(bins)) == 2:\n",
        "            bins = np.insert(bins, 0, 1)\n",
        "            bins[1] = bins[1]-(bins[1]/2)\n",
        "        d1 = pd.DataFrame({\"X\": notmiss.X, \"Y\": notmiss.Y, \"Bucket\": pd.cut(notmiss.X, np.unique(bins),include_lowest=True)}) \n",
        "        d2 = d1.groupby('Bucket', as_index=True)\n",
        "    \n",
        "    d3 = pd.DataFrame({},index=[])\n",
        "    d3[\"MIN_VALUE\"] = d2.min().X\n",
        "    d3[\"MAX_VALUE\"] = d2.max().X\n",
        "    d3[\"COUNT\"] = d2.count().Y\n",
        "    d3[\"EVENT\"] = d2.sum().Y\n",
        "    d3[\"NONEVENT\"] = d2.count().Y - d2.sum().Y\n",
        "    d3=d3.reset_index(drop=True)\n",
        "    \n",
        "    if len(justmiss.index) > 0:\n",
        "        d4 = pd.DataFrame({'MIN_VALUE':np.nan},index=[0])\n",
        "        d4[\"MAX_VALUE\"] = np.nan\n",
        "        d4[\"COUNT\"] = justmiss.count().Y\n",
        "        d4[\"EVENT\"] = justmiss.sum().Y\n",
        "        d4[\"NONEVENT\"] = justmiss.count().Y - justmiss.sum().Y\n",
        "        d3 = d3.append(d4,ignore_index=True)\n",
        "    \n",
        "    d3[\"EVENT_RATE\"] = d3.EVENT/d3.COUNT\n",
        "    d3[\"NON_EVENT_RATE\"] = d3.NONEVENT/d3.COUNT\n",
        "    d3[\"DIST_EVENT\"] = d3.EVENT/d3.sum().EVENT\n",
        "    d3[\"DIST_NON_EVENT\"] = d3.NONEVENT/d3.sum().NONEVENT\n",
        "    d3[\"WOE\"] = np.log(d3.DIST_EVENT/d3.DIST_NON_EVENT)\n",
        "    d3[\"IV\"] = (d3.DIST_EVENT-d3.DIST_NON_EVENT)*np.log(d3.DIST_EVENT/d3.DIST_NON_EVENT)\n",
        "    d3[\"VAR_NAME\"] = \"VAR\"\n",
        "    d3 = d3[['VAR_NAME','MIN_VALUE', 'MAX_VALUE', 'COUNT', 'EVENT', 'EVENT_RATE', 'NONEVENT', 'NON_EVENT_RATE', 'DIST_EVENT','DIST_NON_EVENT','WOE', 'IV']]       \n",
        "    d3 = d3.replace([np.inf, -np.inf], 0)\n",
        "    d3.IV = d3.IV.sum()\n",
        "    \n",
        "    return(d3)\n",
        "\n",
        "def char_bin(Y, X):\n",
        "        \n",
        "    df1 = pd.DataFrame({\"X\": X, \"Y\": Y})\n",
        "    justmiss = df1[['X','Y']][df1.X.isnull()]\n",
        "    notmiss = df1[['X','Y']][df1.X.notnull()]    \n",
        "    df2 = notmiss.groupby('X',as_index=True)\n",
        "    \n",
        "    d3 = pd.DataFrame({},index=[])\n",
        "    d3[\"COUNT\"] = df2.count().Y\n",
        "    d3[\"MIN_VALUE\"] = df2.sum().Y.index\n",
        "    d3[\"MAX_VALUE\"] = d3[\"MIN_VALUE\"]\n",
        "    d3[\"EVENT\"] = df2.sum().Y\n",
        "    d3[\"NONEVENT\"] = df2.count().Y - df2.sum().Y\n",
        "    \n",
        "    if len(justmiss.index) > 0:\n",
        "        d4 = pd.DataFrame({'MIN_VALUE':np.nan},index=[0])\n",
        "        d4[\"MAX_VALUE\"] = np.nan\n",
        "        d4[\"COUNT\"] = justmiss.count().Y\n",
        "        d4[\"EVENT\"] = justmiss.sum().Y\n",
        "        d4[\"NONEVENT\"] = justmiss.count().Y - justmiss.sum().Y\n",
        "        d3 = d3.append(d4,ignore_index=True)\n",
        "    \n",
        "    d3[\"EVENT_RATE\"] = d3.EVENT/d3.COUNT\n",
        "    d3[\"NON_EVENT_RATE\"] = d3.NONEVENT/d3.COUNT\n",
        "    d3[\"DIST_EVENT\"] = d3.EVENT/d3.sum().EVENT\n",
        "    d3[\"DIST_NON_EVENT\"] = d3.NONEVENT/d3.sum().NONEVENT\n",
        "    d3[\"WOE\"] = np.log(d3.DIST_EVENT/d3.DIST_NON_EVENT)\n",
        "    d3[\"IV\"] = (d3.DIST_EVENT-d3.DIST_NON_EVENT)*np.log(d3.DIST_EVENT/d3.DIST_NON_EVENT)\n",
        "    d3[\"VAR_NAME\"] = \"VAR\"\n",
        "    d3 = d3[['VAR_NAME','MIN_VALUE', 'MAX_VALUE', 'COUNT', 'EVENT', 'EVENT_RATE', 'NONEVENT', 'NON_EVENT_RATE', 'DIST_EVENT','DIST_NON_EVENT','WOE', 'IV']]      \n",
        "    d3 = d3.replace([np.inf, -np.inf], 0)\n",
        "    d3.IV = d3.IV.sum()\n",
        "    d3 = d3.reset_index(drop=True)\n",
        "  \n",
        "    return(d3)\n",
        "\n",
        "def data_vars(df1, target):\n",
        "    \n",
        "    stack = traceback.extract_stack()\n",
        "    filename, lineno, function_name, code = stack[-2]\n",
        "    vars_name = re.compile(r'\\((.*?)\\).*$').search(code).groups()[0]\n",
        "    final = (re.findall(r\"[\\w']+\", vars_name))[-1]\n",
        "    \n",
        "    x = df1.dtypes.index\n",
        "    count = -1\n",
        "    \n",
        "    for i in x:\n",
        "        if i.upper() not in (final.upper()):\n",
        "            if np.issubdtype(df1[i], np.number) and len(Series.unique(df1[i])) > 2:\n",
        "                conv = mono_bin(target, df1[i])\n",
        "                conv[\"VAR_NAME\"] = i\n",
        "                count = count + 1\n",
        "            else:\n",
        "                conv = char_bin(target, df1[i])\n",
        "                conv[\"VAR_NAME\"] = i            \n",
        "                count = count + 1\n",
        "                \n",
        "            if count == 0:\n",
        "                iv_df = conv\n",
        "            else:\n",
        "                iv_df = iv_df.append(conv,ignore_index=True)\n",
        "    \n",
        "    iv = pd.DataFrame({'IV':iv_df.groupby('VAR_NAME').IV.max()})\n",
        "    iv = iv.reset_index()\n",
        "    return(iv_df,iv)"
      ]
    },
    {
      "cell_type": "code",
      "execution_count": null,
      "metadata": {
        "colab": {
          "base_uri": "https://localhost:8080/"
        },
        "id": "abr7Lc3dw16d",
        "outputId": "2b4cf1ed-c651-4b43-b296-253e4c1a74ec"
      },
      "outputs": [
        {
          "name": "stderr",
          "output_type": "stream",
          "text": [
            "/usr/local/lib/python3.7/dist-packages/ipykernel_launcher.py:92: FutureWarning: Dropping of nuisance columns in DataFrame reductions (with 'numeric_only=None') is deprecated; in a future version this will raise TypeError.  Select only valid columns before calling the reduction.\n",
            "/usr/local/lib/python3.7/dist-packages/ipykernel_launcher.py:93: FutureWarning: Dropping of nuisance columns in DataFrame reductions (with 'numeric_only=None') is deprecated; in a future version this will raise TypeError.  Select only valid columns before calling the reduction.\n"
          ]
        }
      ],
      "source": [
        "final_iv, IV = data_vars(df2, y)"
      ]
    },
    {
      "cell_type": "code",
      "execution_count": null,
      "metadata": {
        "colab": {
          "base_uri": "https://localhost:8080/",
          "height": 551
        },
        "id": "yaSe1Y6ZyYrP",
        "outputId": "1d25cf3c-41b6-479b-cd03-13936c84d26d"
      },
      "outputs": [
        {
          "data": {
            "text/html": [
              "\n",
              "  <div id=\"df-a7ddf53e-8a24-4a6d-af51-ba0dea03447d\">\n",
              "    <div class=\"colab-df-container\">\n",
              "      <div>\n",
              "<style scoped>\n",
              "    .dataframe tbody tr th:only-of-type {\n",
              "        vertical-align: middle;\n",
              "    }\n",
              "\n",
              "    .dataframe tbody tr th {\n",
              "        vertical-align: top;\n",
              "    }\n",
              "\n",
              "    .dataframe thead th {\n",
              "        text-align: right;\n",
              "    }\n",
              "</style>\n",
              "<table border=\"1\" class=\"dataframe\">\n",
              "  <thead>\n",
              "    <tr style=\"text-align: right;\">\n",
              "      <th></th>\n",
              "      <th>VAR_NAME</th>\n",
              "      <th>IV</th>\n",
              "    </tr>\n",
              "  </thead>\n",
              "  <tbody>\n",
              "    <tr>\n",
              "      <th>6</th>\n",
              "      <td>gender</td>\n",
              "      <td>0.000009</td>\n",
              "    </tr>\n",
              "    <tr>\n",
              "      <th>0</th>\n",
              "      <td>age</td>\n",
              "      <td>0.000009</td>\n",
              "    </tr>\n",
              "    <tr>\n",
              "      <th>2</th>\n",
              "      <td>customer_id</td>\n",
              "      <td>0.000096</td>\n",
              "    </tr>\n",
              "    <tr>\n",
              "      <th>3</th>\n",
              "      <td>device_type</td>\n",
              "      <td>0.000102</td>\n",
              "    </tr>\n",
              "    <tr>\n",
              "      <th>7</th>\n",
              "      <td>home_location</td>\n",
              "      <td>0.005690</td>\n",
              "    </tr>\n",
              "    <tr>\n",
              "      <th>13</th>\n",
              "      <td>shipment_fee</td>\n",
              "      <td>0.005825</td>\n",
              "    </tr>\n",
              "    <tr>\n",
              "      <th>8</th>\n",
              "      <td>item_price</td>\n",
              "      <td>0.007771</td>\n",
              "    </tr>\n",
              "    <tr>\n",
              "      <th>9</th>\n",
              "      <td>payment_method</td>\n",
              "      <td>0.009392</td>\n",
              "    </tr>\n",
              "    <tr>\n",
              "      <th>10</th>\n",
              "      <td>promo_amount</td>\n",
              "      <td>0.009434</td>\n",
              "    </tr>\n",
              "    <tr>\n",
              "      <th>15</th>\n",
              "      <td>traffic_source</td>\n",
              "      <td>0.046287</td>\n",
              "    </tr>\n",
              "    <tr>\n",
              "      <th>12</th>\n",
              "      <td>quantity</td>\n",
              "      <td>0.066857</td>\n",
              "    </tr>\n",
              "    <tr>\n",
              "      <th>11</th>\n",
              "      <td>promo_code</td>\n",
              "      <td>0.335879</td>\n",
              "    </tr>\n",
              "    <tr>\n",
              "      <th>14</th>\n",
              "      <td>total_amount</td>\n",
              "      <td>0.410443</td>\n",
              "    </tr>\n",
              "    <tr>\n",
              "      <th>1</th>\n",
              "      <td>age_from_first_join_date</td>\n",
              "      <td>0.448271</td>\n",
              "    </tr>\n",
              "    <tr>\n",
              "      <th>5</th>\n",
              "      <td>event_name</td>\n",
              "      <td>1.585044</td>\n",
              "    </tr>\n",
              "    <tr>\n",
              "      <th>4</th>\n",
              "      <td>event_count</td>\n",
              "      <td>1.902187</td>\n",
              "    </tr>\n",
              "  </tbody>\n",
              "</table>\n",
              "</div>\n",
              "      <button class=\"colab-df-convert\" onclick=\"convertToInteractive('df-a7ddf53e-8a24-4a6d-af51-ba0dea03447d')\"\n",
              "              title=\"Convert this dataframe to an interactive table.\"\n",
              "              style=\"display:none;\">\n",
              "        \n",
              "  <svg xmlns=\"http://www.w3.org/2000/svg\" height=\"24px\"viewBox=\"0 0 24 24\"\n",
              "       width=\"24px\">\n",
              "    <path d=\"M0 0h24v24H0V0z\" fill=\"none\"/>\n",
              "    <path d=\"M18.56 5.44l.94 2.06.94-2.06 2.06-.94-2.06-.94-.94-2.06-.94 2.06-2.06.94zm-11 1L8.5 8.5l.94-2.06 2.06-.94-2.06-.94L8.5 2.5l-.94 2.06-2.06.94zm10 10l.94 2.06.94-2.06 2.06-.94-2.06-.94-.94-2.06-.94 2.06-2.06.94z\"/><path d=\"M17.41 7.96l-1.37-1.37c-.4-.4-.92-.59-1.43-.59-.52 0-1.04.2-1.43.59L10.3 9.45l-7.72 7.72c-.78.78-.78 2.05 0 2.83L4 21.41c.39.39.9.59 1.41.59.51 0 1.02-.2 1.41-.59l7.78-7.78 2.81-2.81c.8-.78.8-2.07 0-2.86zM5.41 20L4 18.59l7.72-7.72 1.47 1.35L5.41 20z\"/>\n",
              "  </svg>\n",
              "      </button>\n",
              "      \n",
              "  <style>\n",
              "    .colab-df-container {\n",
              "      display:flex;\n",
              "      flex-wrap:wrap;\n",
              "      gap: 12px;\n",
              "    }\n",
              "\n",
              "    .colab-df-convert {\n",
              "      background-color: #E8F0FE;\n",
              "      border: none;\n",
              "      border-radius: 50%;\n",
              "      cursor: pointer;\n",
              "      display: none;\n",
              "      fill: #1967D2;\n",
              "      height: 32px;\n",
              "      padding: 0 0 0 0;\n",
              "      width: 32px;\n",
              "    }\n",
              "\n",
              "    .colab-df-convert:hover {\n",
              "      background-color: #E2EBFA;\n",
              "      box-shadow: 0px 1px 2px rgba(60, 64, 67, 0.3), 0px 1px 3px 1px rgba(60, 64, 67, 0.15);\n",
              "      fill: #174EA6;\n",
              "    }\n",
              "\n",
              "    [theme=dark] .colab-df-convert {\n",
              "      background-color: #3B4455;\n",
              "      fill: #D2E3FC;\n",
              "    }\n",
              "\n",
              "    [theme=dark] .colab-df-convert:hover {\n",
              "      background-color: #434B5C;\n",
              "      box-shadow: 0px 1px 3px 1px rgba(0, 0, 0, 0.15);\n",
              "      filter: drop-shadow(0px 1px 2px rgba(0, 0, 0, 0.3));\n",
              "      fill: #FFFFFF;\n",
              "    }\n",
              "  </style>\n",
              "\n",
              "      <script>\n",
              "        const buttonEl =\n",
              "          document.querySelector('#df-a7ddf53e-8a24-4a6d-af51-ba0dea03447d button.colab-df-convert');\n",
              "        buttonEl.style.display =\n",
              "          google.colab.kernel.accessAllowed ? 'block' : 'none';\n",
              "\n",
              "        async function convertToInteractive(key) {\n",
              "          const element = document.querySelector('#df-a7ddf53e-8a24-4a6d-af51-ba0dea03447d');\n",
              "          const dataTable =\n",
              "            await google.colab.kernel.invokeFunction('convertToInteractive',\n",
              "                                                     [key], {});\n",
              "          if (!dataTable) return;\n",
              "\n",
              "          const docLinkHtml = 'Like what you see? Visit the ' +\n",
              "            '<a target=\"_blank\" href=https://colab.research.google.com/notebooks/data_table.ipynb>data table notebook</a>'\n",
              "            + ' to learn more about interactive tables.';\n",
              "          element.innerHTML = '';\n",
              "          dataTable['output_type'] = 'display_data';\n",
              "          await google.colab.output.renderOutput(dataTable, element);\n",
              "          const docLink = document.createElement('div');\n",
              "          docLink.innerHTML = docLinkHtml;\n",
              "          element.appendChild(docLink);\n",
              "        }\n",
              "      </script>\n",
              "    </div>\n",
              "  </div>\n",
              "  "
            ],
            "text/plain": [
              "                    VAR_NAME        IV\n",
              "6                     gender  0.000009\n",
              "0                        age  0.000009\n",
              "2                customer_id  0.000096\n",
              "3                device_type  0.000102\n",
              "7              home_location  0.005690\n",
              "13              shipment_fee  0.005825\n",
              "8                 item_price  0.007771\n",
              "9             payment_method  0.009392\n",
              "10              promo_amount  0.009434\n",
              "15            traffic_source  0.046287\n",
              "12                  quantity  0.066857\n",
              "11                promo_code  0.335879\n",
              "14              total_amount  0.410443\n",
              "1   age_from_first_join_date  0.448271\n",
              "5                 event_name  1.585044\n",
              "4                event_count  1.902187"
            ]
          },
          "execution_count": 272,
          "metadata": {},
          "output_type": "execute_result"
        }
      ],
      "source": [
        "IV.sort_values('IV')"
      ]
    },
    {
      "cell_type": "markdown",
      "metadata": {
        "id": "IwriIE1m2Y1X"
      },
      "source": [
        "Rule of Thumb IV:\n",
        "<ol>\n",
        "  <li> < 0.02  = useless for prediction</li>\n",
        "  <li> 0.02 to 0.1 = weak prediction</li>\n",
        "  <li> 0.1 to 0.3  = medium prediction</li>\n",
        "  <li> 0.3 to 0.5  = strong prediction</li>\n",
        "  <li> > 0.5       = too good to be true prediction</li>\n",
        "</ol> \n",
        "\n",
        "Berdasarkan hal di atas, karena hanya terdapat beberapa feature yang memiliki medium/strong prediction, maka kami memutuskan untuk menggunakan semua feature yang ada dan melakukan perbaikan pada parameter machine learning model dengan dilakukan cross validation + hyperparameter tuning untuk mendapatkan akurasi optimal."
      ]
    },
    {
      "cell_type": "markdown",
      "metadata": {
        "id": "0KAbDqZx0mdt"
      },
      "source": [
        "<h1> Week 3: Feature Engineering + Baseline model </h1>"
      ]
    },
    {
      "cell_type": "code",
      "execution_count": null,
      "metadata": {
        "id": "fWkVmpw0GwVl"
      },
      "outputs": [],
      "source": [
        "df2 = df.copy()"
      ]
    },
    {
      "cell_type": "code",
      "execution_count": null,
      "metadata": {
        "id": "FuRIkkVT0mK0"
      },
      "outputs": [],
      "source": [
        "X = df2.drop(['customer_id', 'churned'], axis=1)\n",
        "y = df2['churned']"
      ]
    },
    {
      "cell_type": "code",
      "execution_count": null,
      "metadata": {
        "colab": {
          "base_uri": "https://localhost:8080/"
        },
        "id": "lseS71zFCuDH",
        "outputId": "3b5808ec-8b7c-4f5a-ef63-82c0da3ac1c3"
      },
      "outputs": [
        {
          "data": {
            "text/plain": [
              "1    0.801477\n",
              "0    0.198523\n",
              "Name: churned, dtype: float64"
            ]
          },
          "execution_count": 275,
          "metadata": {},
          "output_type": "execute_result"
        }
      ],
      "source": [
        "y.value_counts(normalize=True)"
      ]
    },
    {
      "cell_type": "markdown",
      "metadata": {
        "id": "0CieJ5U-CsdL"
      },
      "source": [
        "karena target variable tidak seimbang (80% berbanding 20%), maka kita dapat melakukan oversampling menggunakan SMOTENC (SMOTE Nominal and Continuous)"
      ]
    },
    {
      "cell_type": "code",
      "execution_count": null,
      "metadata": {
        "colab": {
          "base_uri": "https://localhost:8080/",
          "height": 287
        },
        "id": "POqjjAhRDprj",
        "outputId": "b80875a5-1037-4c15-c600-7e477bb28209"
      },
      "outputs": [
        {
          "data": {
            "text/html": [
              "\n",
              "  <div id=\"df-771d6ea9-cd39-4def-84a0-635d1822eb4e\">\n",
              "    <div class=\"colab-df-container\">\n",
              "      <div>\n",
              "<style scoped>\n",
              "    .dataframe tbody tr th:only-of-type {\n",
              "        vertical-align: middle;\n",
              "    }\n",
              "\n",
              "    .dataframe tbody tr th {\n",
              "        vertical-align: top;\n",
              "    }\n",
              "\n",
              "    .dataframe thead th {\n",
              "        text-align: right;\n",
              "    }\n",
              "</style>\n",
              "<table border=\"1\" class=\"dataframe\">\n",
              "  <thead>\n",
              "    <tr style=\"text-align: right;\">\n",
              "      <th></th>\n",
              "      <th>gender</th>\n",
              "      <th>device_type</th>\n",
              "      <th>home_location</th>\n",
              "      <th>age</th>\n",
              "      <th>age_from_first_join_date</th>\n",
              "      <th>promo_amount</th>\n",
              "      <th>shipment_fee</th>\n",
              "      <th>total_amount</th>\n",
              "      <th>quantity</th>\n",
              "      <th>item_price</th>\n",
              "      <th>event_count</th>\n",
              "      <th>payment_method</th>\n",
              "      <th>promo_code</th>\n",
              "      <th>event_name</th>\n",
              "      <th>traffic_source</th>\n",
              "    </tr>\n",
              "  </thead>\n",
              "  <tbody>\n",
              "    <tr>\n",
              "      <th>0</th>\n",
              "      <td>M</td>\n",
              "      <td>Android</td>\n",
              "      <td>Jakarta Raya</td>\n",
              "      <td>36</td>\n",
              "      <td>4</td>\n",
              "      <td>2570.652174</td>\n",
              "      <td>6811.594203</td>\n",
              "      <td>658950.478261</td>\n",
              "      <td>1.0</td>\n",
              "      <td>242216.420290</td>\n",
              "      <td>1021</td>\n",
              "      <td>Credit Card</td>\n",
              "      <td>WEEKENDSERU</td>\n",
              "      <td>ADD_TO_CART</td>\n",
              "      <td>MOBILE</td>\n",
              "    </tr>\n",
              "    <tr>\n",
              "      <th>1</th>\n",
              "      <td>F</td>\n",
              "      <td>Android</td>\n",
              "      <td>Sulawesi Utara</td>\n",
              "      <td>22</td>\n",
              "      <td>1</td>\n",
              "      <td>962.375000</td>\n",
              "      <td>6875.000000</td>\n",
              "      <td>594825.125000</td>\n",
              "      <td>2.0</td>\n",
              "      <td>252154.875000</td>\n",
              "      <td>221</td>\n",
              "      <td>Credit Card</td>\n",
              "      <td>WEEKENDSERU</td>\n",
              "      <td>HOMEPAGE</td>\n",
              "      <td>MOBILE</td>\n",
              "    </tr>\n",
              "    <tr>\n",
              "      <th>2</th>\n",
              "      <td>F</td>\n",
              "      <td>Android</td>\n",
              "      <td>Jakarta Raya</td>\n",
              "      <td>16</td>\n",
              "      <td>1</td>\n",
              "      <td>0.000000</td>\n",
              "      <td>5625.000000</td>\n",
              "      <td>514203.750000</td>\n",
              "      <td>1.0</td>\n",
              "      <td>308843.125000</td>\n",
              "      <td>94</td>\n",
              "      <td>Gopay</td>\n",
              "      <td>NaN</td>\n",
              "      <td>ADD_TO_CART</td>\n",
              "      <td>MOBILE</td>\n",
              "    </tr>\n",
              "    <tr>\n",
              "      <th>3</th>\n",
              "      <td>M</td>\n",
              "      <td>Android</td>\n",
              "      <td>Kalimantan Timur</td>\n",
              "      <td>29</td>\n",
              "      <td>0</td>\n",
              "      <td>9492.000000</td>\n",
              "      <td>15000.000000</td>\n",
              "      <td>197533.000000</td>\n",
              "      <td>1.0</td>\n",
              "      <td>192025.000000</td>\n",
              "      <td>14</td>\n",
              "      <td>OVO</td>\n",
              "      <td>XX2022</td>\n",
              "      <td>ADD_TO_CART</td>\n",
              "      <td>MOBILE</td>\n",
              "    </tr>\n",
              "    <tr>\n",
              "      <th>4</th>\n",
              "      <td>F</td>\n",
              "      <td>Android</td>\n",
              "      <td>Jawa Barat</td>\n",
              "      <td>39</td>\n",
              "      <td>3</td>\n",
              "      <td>1818.000000</td>\n",
              "      <td>10000.000000</td>\n",
              "      <td>716360.666667</td>\n",
              "      <td>1.0</td>\n",
              "      <td>233470.222222</td>\n",
              "      <td>109</td>\n",
              "      <td>LinkAja</td>\n",
              "      <td>BUYMORE</td>\n",
              "      <td>ADD_TO_CART</td>\n",
              "      <td>MOBILE</td>\n",
              "    </tr>\n",
              "  </tbody>\n",
              "</table>\n",
              "</div>\n",
              "      <button class=\"colab-df-convert\" onclick=\"convertToInteractive('df-771d6ea9-cd39-4def-84a0-635d1822eb4e')\"\n",
              "              title=\"Convert this dataframe to an interactive table.\"\n",
              "              style=\"display:none;\">\n",
              "        \n",
              "  <svg xmlns=\"http://www.w3.org/2000/svg\" height=\"24px\"viewBox=\"0 0 24 24\"\n",
              "       width=\"24px\">\n",
              "    <path d=\"M0 0h24v24H0V0z\" fill=\"none\"/>\n",
              "    <path d=\"M18.56 5.44l.94 2.06.94-2.06 2.06-.94-2.06-.94-.94-2.06-.94 2.06-2.06.94zm-11 1L8.5 8.5l.94-2.06 2.06-.94-2.06-.94L8.5 2.5l-.94 2.06-2.06.94zm10 10l.94 2.06.94-2.06 2.06-.94-2.06-.94-.94-2.06-.94 2.06-2.06.94z\"/><path d=\"M17.41 7.96l-1.37-1.37c-.4-.4-.92-.59-1.43-.59-.52 0-1.04.2-1.43.59L10.3 9.45l-7.72 7.72c-.78.78-.78 2.05 0 2.83L4 21.41c.39.39.9.59 1.41.59.51 0 1.02-.2 1.41-.59l7.78-7.78 2.81-2.81c.8-.78.8-2.07 0-2.86zM5.41 20L4 18.59l7.72-7.72 1.47 1.35L5.41 20z\"/>\n",
              "  </svg>\n",
              "      </button>\n",
              "      \n",
              "  <style>\n",
              "    .colab-df-container {\n",
              "      display:flex;\n",
              "      flex-wrap:wrap;\n",
              "      gap: 12px;\n",
              "    }\n",
              "\n",
              "    .colab-df-convert {\n",
              "      background-color: #E8F0FE;\n",
              "      border: none;\n",
              "      border-radius: 50%;\n",
              "      cursor: pointer;\n",
              "      display: none;\n",
              "      fill: #1967D2;\n",
              "      height: 32px;\n",
              "      padding: 0 0 0 0;\n",
              "      width: 32px;\n",
              "    }\n",
              "\n",
              "    .colab-df-convert:hover {\n",
              "      background-color: #E2EBFA;\n",
              "      box-shadow: 0px 1px 2px rgba(60, 64, 67, 0.3), 0px 1px 3px 1px rgba(60, 64, 67, 0.15);\n",
              "      fill: #174EA6;\n",
              "    }\n",
              "\n",
              "    [theme=dark] .colab-df-convert {\n",
              "      background-color: #3B4455;\n",
              "      fill: #D2E3FC;\n",
              "    }\n",
              "\n",
              "    [theme=dark] .colab-df-convert:hover {\n",
              "      background-color: #434B5C;\n",
              "      box-shadow: 0px 1px 3px 1px rgba(0, 0, 0, 0.15);\n",
              "      filter: drop-shadow(0px 1px 2px rgba(0, 0, 0, 0.3));\n",
              "      fill: #FFFFFF;\n",
              "    }\n",
              "  </style>\n",
              "\n",
              "      <script>\n",
              "        const buttonEl =\n",
              "          document.querySelector('#df-771d6ea9-cd39-4def-84a0-635d1822eb4e button.colab-df-convert');\n",
              "        buttonEl.style.display =\n",
              "          google.colab.kernel.accessAllowed ? 'block' : 'none';\n",
              "\n",
              "        async function convertToInteractive(key) {\n",
              "          const element = document.querySelector('#df-771d6ea9-cd39-4def-84a0-635d1822eb4e');\n",
              "          const dataTable =\n",
              "            await google.colab.kernel.invokeFunction('convertToInteractive',\n",
              "                                                     [key], {});\n",
              "          if (!dataTable) return;\n",
              "\n",
              "          const docLinkHtml = 'Like what you see? Visit the ' +\n",
              "            '<a target=\"_blank\" href=https://colab.research.google.com/notebooks/data_table.ipynb>data table notebook</a>'\n",
              "            + ' to learn more about interactive tables.';\n",
              "          element.innerHTML = '';\n",
              "          dataTable['output_type'] = 'display_data';\n",
              "          await google.colab.output.renderOutput(dataTable, element);\n",
              "          const docLink = document.createElement('div');\n",
              "          docLink.innerHTML = docLinkHtml;\n",
              "          element.appendChild(docLink);\n",
              "        }\n",
              "      </script>\n",
              "    </div>\n",
              "  </div>\n",
              "  "
            ],
            "text/plain": [
              "  gender device_type     home_location  age  age_from_first_join_date  \\\n",
              "0      M     Android      Jakarta Raya   36                         4   \n",
              "1      F     Android    Sulawesi Utara   22                         1   \n",
              "2      F     Android      Jakarta Raya   16                         1   \n",
              "3      M     Android  Kalimantan Timur   29                         0   \n",
              "4      F     Android        Jawa Barat   39                         3   \n",
              "\n",
              "   promo_amount  shipment_fee   total_amount  quantity     item_price  \\\n",
              "0   2570.652174   6811.594203  658950.478261       1.0  242216.420290   \n",
              "1    962.375000   6875.000000  594825.125000       2.0  252154.875000   \n",
              "2      0.000000   5625.000000  514203.750000       1.0  308843.125000   \n",
              "3   9492.000000  15000.000000  197533.000000       1.0  192025.000000   \n",
              "4   1818.000000  10000.000000  716360.666667       1.0  233470.222222   \n",
              "\n",
              "   event_count payment_method   promo_code   event_name traffic_source  \n",
              "0         1021    Credit Card  WEEKENDSERU  ADD_TO_CART         MOBILE  \n",
              "1          221    Credit Card  WEEKENDSERU     HOMEPAGE         MOBILE  \n",
              "2           94          Gopay          NaN  ADD_TO_CART         MOBILE  \n",
              "3           14            OVO       XX2022  ADD_TO_CART         MOBILE  \n",
              "4          109        LinkAja      BUYMORE  ADD_TO_CART         MOBILE  "
            ]
          },
          "execution_count": 276,
          "metadata": {},
          "output_type": "execute_result"
        }
      ],
      "source": [
        "X.head()"
      ]
    },
    {
      "cell_type": "code",
      "execution_count": null,
      "metadata": {
        "colab": {
          "base_uri": "https://localhost:8080/"
        },
        "id": "bqkBKJt1EY4Z",
        "outputId": "1b742ec9-4b3d-43bc-d599-1e956a2450a4"
      },
      "outputs": [
        {
          "data": {
            "text/plain": [
              "gender                          0\n",
              "device_type                     0\n",
              "home_location                   0\n",
              "age                             0\n",
              "age_from_first_join_date        0\n",
              "promo_amount                    0\n",
              "shipment_fee                    0\n",
              "total_amount                    0\n",
              "quantity                        0\n",
              "item_price                      0\n",
              "event_count                     0\n",
              "payment_method                  0\n",
              "promo_code                  11853\n",
              "event_name                      0\n",
              "traffic_source                  0\n",
              "dtype: int64"
            ]
          },
          "execution_count": 277,
          "metadata": {},
          "output_type": "execute_result"
        }
      ],
      "source": [
        "X.isnull().sum()"
      ]
    },
    {
      "cell_type": "markdown",
      "metadata": {
        "id": "t0Ucl5iciS9d"
      },
      "source": [
        "<h2> SMOTE NC (Nominal and Countinuous) </h2>"
      ]
    },
    {
      "cell_type": "code",
      "execution_count": null,
      "metadata": {
        "id": "bOYvQoh6GYmt"
      },
      "outputs": [],
      "source": [
        "# fill na value\n",
        "X['promo_code'] = X['promo_code'].fillna(method='ffill')"
      ]
    },
    {
      "cell_type": "code",
      "execution_count": null,
      "metadata": {
        "id": "SfxVigDdCrh4"
      },
      "outputs": [],
      "source": [
        "# SMOTENC oversampling\n",
        "sm = SMOTENC(random_state=0, sampling_strategy={0:40000}, \n",
        "             categorical_features=[0, 1, 2, 11, 12, 13, 14])\n",
        "X_res, y_res = sm.fit_resample(X, y)"
      ]
    },
    {
      "cell_type": "code",
      "execution_count": null,
      "metadata": {
        "colab": {
          "base_uri": "https://localhost:8080/"
        },
        "id": "FQQeBqeIIEq1",
        "outputId": "e2c178bc-a79b-4a7e-a1dc-6c81f849f74a"
      },
      "outputs": [
        {
          "output_type": "execute_result",
          "data": {
            "text/plain": [
              "1    0.801477\n",
              "0    0.198523\n",
              "Name: churned, dtype: float64"
            ]
          },
          "metadata": {},
          "execution_count": 12
        }
      ],
      "source": [
        "# target variable before oversampling\n",
        "y.value_counts(normalize=True)"
      ]
    },
    {
      "cell_type": "code",
      "execution_count": null,
      "metadata": {
        "colab": {
          "base_uri": "https://localhost:8080/"
        },
        "id": "UccNmPjhHyUY",
        "outputId": "7f9dbc0e-c30e-46e6-9104-9d8a1b2ca6ba"
      },
      "outputs": [
        {
          "output_type": "execute_result",
          "data": {
            "text/plain": [
              "1    0.501663\n",
              "0    0.498337\n",
              "Name: churned, dtype: float64"
            ]
          },
          "metadata": {},
          "execution_count": 13
        }
      ],
      "source": [
        "# target variable after oversampling\n",
        "y_res.value_counts(normalize=True)"
      ]
    },
    {
      "cell_type": "markdown",
      "metadata": {
        "id": "DQCL9kOfMaFF"
      },
      "source": [
        "terlihat bahwa target variable 'churned' sudah seimbang datanya"
      ]
    },
    {
      "cell_type": "markdown",
      "metadata": {
        "id": "sMUIQFojIXTU"
      },
      "source": [
        "<h2> Baseline model </h2>"
      ]
    },
    {
      "cell_type": "code",
      "execution_count": null,
      "metadata": {
        "id": "1mZgUUKcJRel"
      },
      "outputs": [],
      "source": [
        "# labelling numerical to categorical\n",
        "from sklearn import preprocessing\n",
        "le = preprocessing.LabelEncoder()\n",
        "\n",
        "X_res['gender'] = le.fit_transform(X_res['gender'])\n",
        "X_res['device_type'] = le.fit_transform(X_res['device_type'])\n",
        "X_res['home_location'] = le.fit_transform(X_res['home_location'])\n",
        "X_res['payment_method'] = le.fit_transform(X_res['payment_method'])\n",
        "X_res['promo_code'] = le.fit_transform(X_res['promo_code'])\n",
        "X_res['event_name'] = le.fit_transform(X_res['event_name'])\n",
        "X_res['traffic_source'] = le.fit_transform(X_res['traffic_source'])"
      ]
    },
    {
      "cell_type": "code",
      "execution_count": null,
      "metadata": {
        "id": "Ga6ylUmzJGjE"
      },
      "outputs": [],
      "source": [
        "from sklearn.model_selection import train_test_split\n",
        "X_train, X_test, y_train, y_test = train_test_split(X_res, y_res, \n",
        "                                                    test_size=0.25, \n",
        "                                                    random_state=0)"
      ]
    },
    {
      "cell_type": "markdown",
      "metadata": {
        "id": "nEws6W8IJp8R"
      },
      "source": [
        "<h3> Random Forest Classifier </h3>"
      ]
    },
    {
      "cell_type": "code",
      "execution_count": null,
      "metadata": {
        "id": "JtIFlhG_IZ3q"
      },
      "outputs": [],
      "source": [
        "from sklearn.ensemble import RandomForestClassifier\n",
        "rfc = RandomForestClassifier(random_state=0)"
      ]
    },
    {
      "cell_type": "code",
      "execution_count": null,
      "metadata": {
        "colab": {
          "base_uri": "https://localhost:8080/"
        },
        "id": "MS2TbcX2I9uX",
        "outputId": "0abfa163-8be0-42bc-e287-73c5e6594c2e"
      },
      "outputs": [
        {
          "data": {
            "text/plain": [
              "RandomForestClassifier(random_state=0)"
            ]
          },
          "execution_count": 286,
          "metadata": {},
          "output_type": "execute_result"
        }
      ],
      "source": [
        "rfc.fit(X_train, y_train)"
      ]
    },
    {
      "cell_type": "code",
      "execution_count": null,
      "metadata": {
        "id": "ytEYsrG1KWbA"
      },
      "outputs": [],
      "source": [
        "y_pred = rfc.predict(X_test)"
      ]
    },
    {
      "cell_type": "code",
      "execution_count": null,
      "metadata": {
        "colab": {
          "base_uri": "https://localhost:8080/"
        },
        "id": "9xXco_AQKbLe",
        "outputId": "4097ade9-c3bc-44f6-f081-46b2d1e6e076"
      },
      "outputs": [
        {
          "data": {
            "text/plain": [
              "array([[9726,  237],\n",
              "       [ 409, 9695]])"
            ]
          },
          "execution_count": 288,
          "metadata": {},
          "output_type": "execute_result"
        }
      ],
      "source": [
        "confusion_matrix(y_test, y_pred)"
      ]
    },
    {
      "cell_type": "code",
      "execution_count": null,
      "metadata": {
        "colab": {
          "base_uri": "https://localhost:8080/"
        },
        "id": "GLINXJpmKn-X",
        "outputId": "919e01d4-6d95-4dc9-957c-18233c54abca"
      },
      "outputs": [
        {
          "name": "stdout",
          "output_type": "stream",
          "text": [
            "              precision    recall  f1-score   support\n",
            "\n",
            "           0       0.96      0.98      0.97      9963\n",
            "           1       0.98      0.96      0.97     10104\n",
            "\n",
            "    accuracy                           0.97     20067\n",
            "   macro avg       0.97      0.97      0.97     20067\n",
            "weighted avg       0.97      0.97      0.97     20067\n",
            "\n"
          ]
        }
      ],
      "source": [
        "print(classification_report(y_test, y_pred))"
      ]
    },
    {
      "cell_type": "code",
      "execution_count": null,
      "metadata": {
        "colab": {
          "base_uri": "https://localhost:8080/",
          "height": 478
        },
        "id": "QnopMK1Vp82Y",
        "outputId": "10831c20-884f-4c0f-ee8b-c96999c41c6c"
      },
      "outputs": [
        {
          "data": {
            "text/plain": [
              "[Text(58.5, 0.5, 'Actual data'), Text(0.5, 31.5, 'Predicted data')]"
            ]
          },
          "execution_count": 290,
          "metadata": {},
          "output_type": "execute_result"
        },
        {
          "data": {
            "image/png": "[encoded data removed]",
            "text/plain": [
              "<Figure size 720x504 with 2 Axes>"
            ]
          },
          "metadata": {},
          "output_type": "display_data"
        }
      ],
      "source": [
        "plt.figure(figsize=(10, 7))\n",
        "\n",
        "cf_matrix = confusion_matrix(y_test, y_pred)\n",
        "group_names = ['True Negative', 'False Positive', 'False Negative',\n",
        "               'True Positive']\n",
        "group_counts = ['{0:0.0f}'.format(value) for value in\n",
        "                cf_matrix.flatten()]\n",
        "group_percentages = ['{0:.2%}'.format(value) for value in\n",
        "                     cf_matrix.flatten()/np.sum(cf_matrix)]\n",
        "labels = [f'{v1}\\n{v2}\\n{v3}' for v1, v2, v3 in\n",
        "          zip(group_names,group_counts,group_percentages)]\n",
        "labels = np.asarray(labels).reshape(2,2)\n",
        "\n",
        "sns.set(font_scale=1.5)\n",
        "sns.heatmap(cf_matrix, annot=labels, fmt='', cmap='Blues').set(\n",
        "    xlabel='Predicted data', ylabel='Actual data')"
      ]
    },
    {
      "cell_type": "code",
      "execution_count": null,
      "metadata": {
        "colab": {
          "base_uri": "https://localhost:8080/"
        },
        "id": "p_4o4-hAK0al",
        "outputId": "e8d619e3-87d0-4627-e3fd-ab1187bdf715"
      },
      "outputs": [
        {
          "name": "stdout",
          "output_type": "stream",
          "text": [
            "AUC score: 0.9678664830657281\n",
            "Recall score: 0.9595209817893904\n"
          ]
        }
      ],
      "source": [
        "print(f'AUC score: {roc_auc_score(y_test, y_pred)}')\n",
        "print(f'Recall score: {recall_score(y_test, y_pred)}')"
      ]
    },
    {
      "cell_type": "markdown",
      "metadata": {
        "id": "o5nSGQTuK-7_"
      },
      "source": [
        "Menurut kami, hal terpenting dari churn assessments adalah recall. <br>\n",
        "Karena kita lebih memilih; salah dalam memilih churn daripada salah dalam memilih non churn.<br>\n",
        "Bila salah memilih churn (berarti customer sebenarnya non churn), maka tidak masalah karena memang customer tersebut non churn.<br>\n",
        "Bila salah memilih non churn (berarti customer sebenarnya churn), maka kita kehilangan customer tanpa kita sadari<br>\n",
        "Walaupun di sisi lain, salah dalam memilih customer churn (berarti customer sebenarnya non churn), berarti perusahaan mengeluarkan sumber daya (misal biaya promosi) untuk customer non churn yang sebenarnya tidak perlu "
      ]
    },
    {
      "cell_type": "markdown",
      "metadata": {
        "id": "tCMA6kjrLTEV"
      },
      "source": [
        "Maka, untuk baseline model ini, dengan Random Forest Classifier, terlihat bahwa nilai AUC score = 0.96 dan recall score = 0.95 <br>\n",
        "maka, final dataset cenderung baik untuk dianalisis"
      ]
    },
    {
      "cell_type": "markdown",
      "metadata": {
        "id": "UNnD07OULhRA"
      },
      "source": [
        "<h1> Week 4: Doing another machine learning model + Cross Validation + Hyperparameter Tuning</h1>"
      ]
    },
    {
      "cell_type": "markdown",
      "metadata": {
        "id": "g_8BHhrkAvi0"
      },
      "source": [
        "<h2> Logistic Regression </h2>"
      ]
    },
    {
      "cell_type": "code",
      "execution_count": null,
      "metadata": {
        "id": "GP9iQfDB7hXM"
      },
      "outputs": [],
      "source": [
        "from sklearn.linear_model import LogisticRegression\n",
        "logreg = LogisticRegression(random_state=0)"
      ]
    },
    {
      "cell_type": "code",
      "execution_count": null,
      "metadata": {
        "id": "0lJfZgVfA7UV"
      },
      "outputs": [],
      "source": [
        "#df.head()"
      ]
    },
    {
      "cell_type": "code",
      "execution_count": null,
      "metadata": {
        "id": "5QM0sJcDsPoK"
      },
      "outputs": [],
      "source": [
        "'''f = plt.figure(figsize=(12,4))\n",
        "f.add_subplot(1,2,1)\n",
        "df['item_price'].plot(kind='kde')\n",
        "f.add_subplot(1,2,2)\n",
        "plt.boxplot(df['shipment_fee'])\n",
        "plt.show()\n",
        "'''"
      ]
    },
    {
      "cell_type": "code",
      "execution_count": null,
      "metadata": {
        "id": "hBxnK01Psb0e"
      },
      "outputs": [],
      "source": [
        "'''f = plt.figure(figsize=(12,4))\n",
        "f.add_subplot(1,2,1)\n",
        "df['shipment_fee'].plot(kind='kde')\n",
        "f.add_subplot(1,2,2)\n",
        "plt.boxplot(df['total_amount'])\n",
        "plt.show()\n",
        "'''"
      ]
    },
    {
      "cell_type": "code",
      "execution_count": null,
      "metadata": {
        "id": "THy64uX2pD00"
      },
      "outputs": [],
      "source": [
        "'''plt.scatter(df['shipment_fee'], df['total_amount'])\n",
        "plt.xlabel('shipment_fee')\n",
        "plt.ylabel('total_amount')\n",
        "plt.title('Scatter Plot shipment_fee vs total_amount')\n",
        "plt.show()\n",
        "..."
      ]
    },
    {
      "cell_type": "code",
      "execution_count": null,
      "metadata": {
        "id": "52StnmtavOCK"
      },
      "outputs": [],
      "source": [
        "#x = df['shipment_fee'].values.reshape(-1,1)\n",
        "#y = df['total_amount'].values.reshape(-1,1)"
      ]
    },
    {
      "cell_type": "code",
      "execution_count": null,
      "metadata": {
        "id": "sSBz22a62otN"
      },
      "outputs": [],
      "source": [
        "#x_train, x_test, y_train, y_test = train_test_split(x, y, test_size=0.2)"
      ]
    },
    {
      "cell_type": "code",
      "execution_count": null,
      "metadata": {
        "id": "INHHnzk6VWPN"
      },
      "outputs": [],
      "source": [
        "#log_reg = LogisticRegression()"
      ]
    },
    {
      "cell_type": "code",
      "execution_count": null,
      "metadata": {
        "id": "m1Q8PLInZjUl"
      },
      "outputs": [],
      "source": [
        "'''def inspection(dataframe):\n",
        "  import pandas as pd\n",
        "  import seaborn as sns\n",
        "  print(\"Types of the variables we are working with:\")\n",
        "  print(dataframe.dtypes)\n",
        "  \n",
        "  print(\"Total Samples with missing values:\")\n",
        "\n",
        "  print(df.isnull().any(axis=1).sum())\n",
        "\n",
        "  print(\"Total Missing Values per Variable\")\n",
        "  print(df.isnull().sum())\n",
        "  print(\"Map of missing values\")\n",
        "  sns.heatmap(dataframe.isnull())\n",
        "  '''"
      ]
    },
    {
      "cell_type": "code",
      "execution_count": null,
      "metadata": {
        "id": "26y3ye-7pDbN"
      },
      "outputs": [],
      "source": [
        "#inspection(df)"
      ]
    },
    {
      "cell_type": "code",
      "execution_count": null,
      "metadata": {
        "id": "yF9xBX05pVvm"
      },
      "outputs": [],
      "source": [
        "#df = df.dropna()"
      ]
    },
    {
      "cell_type": "code",
      "execution_count": null,
      "metadata": {
        "id": "DSb1Zb_EpeYy"
      },
      "outputs": [],
      "source": [
        "'''def encode_categories (df,variables):\n",
        "  from sklearn.preprocessing import OrdinalEncoder\n",
        "  ord_enc = OrdinalEncoder()\n",
        "  for v in variables:\n",
        "    name = v+'_code'\n",
        "    df[name] = ord_enc.fit_transform(df[[v]])\n",
        "    print('The encoded values for '+ v + ' are:')\n",
        "    print(df[name].unique())\n",
        "    '''"
      ]
    },
    {
      "cell_type": "code",
      "execution_count": null,
      "metadata": {
        "id": "p8g9jJflp5Y9"
      },
      "outputs": [],
      "source": [
        "'''def plot_scatterplots (df,cols_to_exclude,class_col):\n",
        "  #this function returns scatterplots of all the variables in the dataset\n",
        "  #against the classification variable,\n",
        "  #for a quick data visualization\n",
        "  import numpy as np\n",
        "  import seaborn as sns\n",
        "  import warnings\n",
        "  warnings.filterwarnings(\"ignore\")\n",
        "  cols=df.select_dtypes(include=np.number).columns.tolist() #finding all the numerical columns from the dataframe\n",
        "  X=df[cols] #creating a dataframe only with the numerical columns\n",
        "  X = X[X.columns.difference(cols_to_exclude)] #columns to exclude\n",
        "  for col in X.columns.difference([class_col]):\n",
        "    g = sns.FacetGrid(df)\n",
        "    g.map(sns.scatterplot, col, class_col)\n",
        "    '''"
      ]
    },
    {
      "cell_type": "code",
      "execution_count": null,
      "metadata": {
        "id": "jJh2tMkAqAPp"
      },
      "outputs": [],
      "source": [
        "#plot_scatterplots (df,['customer_id','gender', 'age'],'churned')"
      ]
    },
    {
      "cell_type": "code",
      "execution_count": null,
      "metadata": {
        "id": "mt9T1rI6qYSf"
      },
      "outputs": [],
      "source": [
        "'''def full_diagnostic(df,class_col,cols_to_exclude):\n",
        "  import seaborn as sns\n",
        "  import numpy as np\n",
        "  cols=df.select_dtypes(include=np.number).columns.tolist() #finding all the numerical columns from the dataframe\n",
        "  X=df[cols] #creating a dataframe only with the numerical columns\n",
        "  X = X[X.columns.difference(cols_to_exclude)] #columns to exclude\n",
        "  X = X[X.columns.difference([class_col])]\n",
        "  sns.pairplot(df,hue = class_col)\n",
        "  '''"
      ]
    },
    {
      "cell_type": "code",
      "execution_count": null,
      "metadata": {
        "id": "66TvsQirqdtV"
      },
      "outputs": [],
      "source": [
        "#full_diagnostic(df,class_col = 'churned',cols_to_exclude=['customer_id','gender', 'age'])"
      ]
    },
    {
      "cell_type": "code",
      "execution_count": null,
      "metadata": {
        "id": "BWHnyZ3tr_Tt"
      },
      "outputs": [],
      "source": [
        "'''def selected_diagnotic(df,class_col,cols_to_eval):\n",
        "  import seaborn as sns\n",
        "  cols_to_eval.append(class_col)\n",
        "  X = df[cols_to_eval]\n",
        "  sns.pairplot(X,hue = class_col)\n",
        "  '''"
      ]
    },
    {
      "cell_type": "code",
      "execution_count": null,
      "metadata": {
        "id": "89KEByaHsDnR"
      },
      "outputs": [],
      "source": [
        "#selected_diagnotic(df,class_col = 'churned',cols_to_eval = ['customer_id','total_amount'])"
      ]
    },
    {
      "cell_type": "code",
      "execution_count": null,
      "metadata": {
        "id": "jTVmLknZsyhp"
      },
      "outputs": [],
      "source": [
        "'''def logistic_regression(df,class_col,cols_to_exclude):\n",
        "  import statsmodels.api as sm\n",
        "  import numpy as np\n",
        "  cols=df.select_dtypes(include=np.number).columns.tolist() \n",
        "  X=df[cols]\n",
        "  X = X[X.columns.difference([class_col])]\n",
        "  X = X[X.columns.difference(cols_to_exclude)]\n",
        "\n",
        "  ## Scaling variables\n",
        "  ##from sklearn import preprocessing\n",
        "  ##scaler = preprocessing.StandardScaler().fit(X)\n",
        "  ##X_scaled = scaler.transform(X)\n",
        "\n",
        "\n",
        "  #X_Scale = scaler.transform(X)\n",
        "  y=df[class_col]\n",
        "  logit_model=sm.Logit(y,X)\n",
        "  result=logit_model.fit()\n",
        "  print(result.summary2())\n",
        "  '''"
      ]
    },
    {
      "cell_type": "code",
      "execution_count": null,
      "metadata": {
        "id": "91qAm6s9s50i"
      },
      "outputs": [],
      "source": [
        "#logistic_regression(df,class_col = 'churned',cols_to_exclude=['customer_id','gender', 'age'])"
      ]
    },
    {
      "cell_type": "code",
      "execution_count": null,
      "metadata": {
        "id": "jvBiE80OtT8L"
      },
      "outputs": [],
      "source": [
        "'''def prepare_model(df,class_col,cols_to_exclude):\n",
        "## Split in training and test set\n",
        "  from sklearn.model_selection import train_test_split\n",
        "  import numpy as np\n",
        "  ##Selecting only the numerical columns and excluding the columns we specified in the function\n",
        "  cols=df.select_dtypes(include=np.number).columns.tolist() \n",
        "  X=df[cols]\n",
        "  X = X[X.columns.difference([class_col])]\n",
        "  X = X[X.columns.difference(cols_to_exclude)]\n",
        "  ##Selecting y as a column\n",
        "  y=df[class_col]\n",
        "  global X_train, X_test, y_train, y_test #This allow us to do call these variables outside this function\n",
        "  X_train, X_test, y_train, y_test = train_test_split(X, y, test_size=0.3, random_state=0)\n",
        "  '''"
      ]
    },
    {
      "cell_type": "code",
      "execution_count": null,
      "metadata": {
        "id": "waaN53TGtbNx"
      },
      "outputs": [],
      "source": [
        "'''def run_model(X_train,X_test,y_train,y_test):\n",
        "  from sklearn.linear_model import LogisticRegression\n",
        "  from sklearn.metrics import roc_auc_score,classification_report\n",
        "  global logreg #Defines the logistic model as a global model that can be used outside of this function\n",
        "  ##Fitting the logistic regression\n",
        "  logreg = LogisticRegression(random_state = 13)\n",
        "  logreg.fit(X_train, y_train)\n",
        "  ##Predicting y values\n",
        "  global y_pred #Defines the Y_Pred as a global variable that can be used outside of this function\n",
        "  y_pred = logreg.predict(X_test)\n",
        "  logit_roc_auc = roc_auc_score(y_test, logreg.predict(X_test))\n",
        "  print(classification_report(y_test, y_pred))\n",
        "  print(\"The area under the curve is: %0.2f\"%logit_roc_auc)\n",
        "  '''"
      ]
    },
    {
      "cell_type": "code",
      "execution_count": null,
      "metadata": {
        "id": "sprYb_NwtmEs"
      },
      "outputs": [],
      "source": [
        "#prepare_model(df,class_col='churned',cols_to_exclude=['customer_id','gender', 'age'])\n",
        "#run_model(X_train,X_test,y_train,y_test)"
      ]
    },
    {
      "cell_type": "code",
      "execution_count": null,
      "metadata": {
        "id": "yJhZZivSzp_e"
      },
      "outputs": [],
      "source": [
        "from sklearn.linear_model import LogisticRegression\n",
        "logreg = LogisticRegression(random_state=0)"
      ]
    },
    {
      "cell_type": "code",
      "execution_count": null,
      "metadata": {
        "colab": {
          "base_uri": "https://localhost:8080/"
        },
        "id": "k6SRQsNHuGQc",
        "outputId": "2c24c7ce-131e-44d8-9e33-d3c0b72cae52"
      },
      "outputs": [
        {
          "data": {
            "text/plain": [
              "LogisticRegression(random_state=0)"
            ]
          },
          "execution_count": 15,
          "metadata": {},
          "output_type": "execute_result"
        }
      ],
      "source": [
        "logreg.fit(X_train, y_train)"
      ]
    },
    {
      "cell_type": "code",
      "execution_count": null,
      "metadata": {
        "id": "1dFJcBazuR2W"
      },
      "outputs": [],
      "source": [
        "y_pred1 = logreg.predict(X_test)"
      ]
    },
    {
      "cell_type": "code",
      "execution_count": null,
      "metadata": {
        "colab": {
          "base_uri": "https://localhost:8080/"
        },
        "id": "APHiQxTuuVM8",
        "outputId": "f0666668-8558-46cb-e228-b966fcbe5f3b"
      },
      "outputs": [
        {
          "data": {
            "text/plain": [
              "array([[6908, 3055],\n",
              "       [1033, 9071]])"
            ]
          },
          "execution_count": 17,
          "metadata": {},
          "output_type": "execute_result"
        }
      ],
      "source": [
        "confusion_matrix(y_test, y_pred1)"
      ]
    },
    {
      "cell_type": "code",
      "execution_count": null,
      "metadata": {
        "colab": {
          "base_uri": "https://localhost:8080/"
        },
        "id": "Wx55ycmZuYlt",
        "outputId": "6685a28b-7cb8-4118-9534-c918befc9d89"
      },
      "outputs": [
        {
          "name": "stdout",
          "output_type": "stream",
          "text": [
            "              precision    recall  f1-score   support\n",
            "\n",
            "           0       0.87      0.69      0.77      9963\n",
            "           1       0.75      0.90      0.82     10104\n",
            "\n",
            "    accuracy                           0.80     20067\n",
            "   macro avg       0.81      0.80      0.79     20067\n",
            "weighted avg       0.81      0.80      0.79     20067\n",
            "\n"
          ]
        }
      ],
      "source": [
        "print(classification_report(y_test, y_pred1))"
      ]
    },
    {
      "cell_type": "code",
      "execution_count": null,
      "metadata": {
        "colab": {
          "base_uri": "https://localhost:8080/"
        },
        "id": "UwaVPrPquc_c",
        "outputId": "ad3829bc-64f2-4e4b-c735-1ecb79e19a41"
      },
      "outputs": [
        {
          "name": "stdout",
          "output_type": "stream",
          "text": [
            "AUC score: 0.7955643571237331\n",
            "Recall score: 0.8977632620744259\n"
          ]
        }
      ],
      "source": [
        "print(f'AUC score: {roc_auc_score(y_test, y_pred1)}')\n",
        "print(f'Recall score: {recall_score(y_test, y_pred1)}')"
      ]
    },
    {
      "cell_type": "markdown",
      "metadata": {
        "id": "CILaklp1AvaA"
      },
      "source": [
        "<h2> Linear SVC </h2>"
      ]
    },
    {
      "cell_type": "code",
      "execution_count": null,
      "metadata": {
        "id": "gDAcMmRLA7zE"
      },
      "outputs": [],
      "source": [
        "from sklearn.svm import LinearSVC\n",
        "lsvc = LinearSVC(random_state=0)"
      ]
    },
    {
      "cell_type": "code",
      "execution_count": null,
      "metadata": {
        "id": "2v0GL9k7CwhN"
      },
      "outputs": [],
      "source": [
        "'''cv_results = cross_validate(lsvc, X_res, y_res, \n",
        "                            scoring=('roc_auc', 'recall', 'f1'))'''"
      ]
    },
    {
      "cell_type": "code",
      "execution_count": null,
      "metadata": {
        "id": "vIor8o7JDGXA"
      },
      "outputs": [],
      "source": [
        "#cv_results"
      ]
    },
    {
      "cell_type": "code",
      "execution_count": null,
      "metadata": {
        "id": "rt6H5-9BEnut"
      },
      "outputs": [],
      "source": [
        "#cv_results['test_recall'].mean()"
      ]
    },
    {
      "cell_type": "code",
      "execution_count": null,
      "metadata": {
        "colab": {
          "base_uri": "https://localhost:8080/"
        },
        "id": "0xkoH9verOA4",
        "outputId": "18ebe7a5-74f8-4104-d100-ca513f6ecaa7"
      },
      "outputs": [
        {
          "name": "stderr",
          "output_type": "stream",
          "text": [
            "/usr/local/lib/python3.7/dist-packages/sklearn/svm/_base.py:1208: ConvergenceWarning: Liblinear failed to converge, increase the number of iterations.\n",
            "  ConvergenceWarning,\n"
          ]
        },
        {
          "data": {
            "text/plain": [
              "LinearSVC(random_state=0)"
            ]
          },
          "execution_count": 22,
          "metadata": {},
          "output_type": "execute_result"
        }
      ],
      "source": [
        "lsvc.fit(X_train, y_train)"
      ]
    },
    {
      "cell_type": "code",
      "execution_count": null,
      "metadata": {
        "id": "4pZP5I3P3Dn-"
      },
      "outputs": [],
      "source": [
        "y_train2 = lsvc.predict(X_train)"
      ]
    },
    {
      "cell_type": "code",
      "execution_count": null,
      "metadata": {
        "id": "IgoIoomUrByN"
      },
      "outputs": [],
      "source": [
        "y_pred2 = lsvc.predict(X_test)"
      ]
    },
    {
      "cell_type": "code",
      "execution_count": null,
      "metadata": {
        "colab": {
          "base_uri": "https://localhost:8080/"
        },
        "id": "u6OPMWR1r2Pv",
        "outputId": "a5a9b709-35be-4d28-e0cf-379db5230b10"
      },
      "outputs": [
        {
          "data": {
            "text/plain": [
              "array([[4510, 5453],\n",
              "       [ 421, 9683]])"
            ]
          },
          "execution_count": 25,
          "metadata": {},
          "output_type": "execute_result"
        }
      ],
      "source": [
        "confusion_matrix(y_test, y_pred2)"
      ]
    },
    {
      "cell_type": "code",
      "execution_count": null,
      "metadata": {
        "colab": {
          "base_uri": "https://localhost:8080/"
        },
        "id": "2Ow167DH3HcT",
        "outputId": "48835c19-d6f1-4dfe-ee8b-f6a7a8516460"
      },
      "outputs": [
        {
          "name": "stdout",
          "output_type": "stream",
          "text": [
            "Traning set assessment:\n",
            "\n",
            "              precision    recall  f1-score   support\n",
            "\n",
            "           0       0.91      0.45      0.60     30037\n",
            "           1       0.64      0.96      0.76     30163\n",
            "\n",
            "    accuracy                           0.70     60200\n",
            "   macro avg       0.78      0.70      0.68     60200\n",
            "weighted avg       0.77      0.70      0.68     60200\n",
            "\n"
          ]
        }
      ],
      "source": [
        "print(\"Traning set assessment:\\n\")\n",
        "print(classification_report(y_train, y_train2))"
      ]
    },
    {
      "cell_type": "code",
      "execution_count": null,
      "metadata": {
        "colab": {
          "base_uri": "https://localhost:8080/"
        },
        "id": "A5s78nhhr9eE",
        "outputId": "74aac2a4-d588-4935-8b85-633114dfbc8a"
      },
      "outputs": [
        {
          "name": "stdout",
          "output_type": "stream",
          "text": [
            "Test set assessment:\n",
            "\n",
            "              precision    recall  f1-score   support\n",
            "\n",
            "           0       0.91      0.45      0.61      9963\n",
            "           1       0.64      0.96      0.77     10104\n",
            "\n",
            "    accuracy                           0.71     20067\n",
            "   macro avg       0.78      0.71      0.69     20067\n",
            "weighted avg       0.78      0.71      0.69     20067\n",
            "\n"
          ]
        }
      ],
      "source": [
        "print(\"Test set assessment:\\n\")\n",
        "print(classification_report(y_test, y_pred2))"
      ]
    },
    {
      "cell_type": "code",
      "execution_count": null,
      "metadata": {
        "colab": {
          "base_uri": "https://localhost:8080/"
        },
        "id": "2KqpkKjl3T2Q",
        "outputId": "650a091a-397d-44f9-811e-e4398da6f584"
      },
      "outputs": [
        {
          "name": "stdout",
          "output_type": "stream",
          "text": [
            "Traning set assessment:\n",
            "\n",
            "AUC score: 0.7055041152263375\n",
            "Recall score: 0.9583333333333334\n"
          ]
        }
      ],
      "source": [
        "print(\"Traning set assessment:\\n\")\n",
        "print(f'AUC score: {roc_auc_score(y_test, y_pred2)}')\n",
        "print(f'Recall score: {recall_score(y_test, y_pred2)}')"
      ]
    },
    {
      "cell_type": "code",
      "execution_count": null,
      "metadata": {
        "colab": {
          "base_uri": "https://localhost:8080/"
        },
        "id": "vxtzqoHdsCSg",
        "outputId": "5044f69a-9eca-437f-c699-e02e508048a9"
      },
      "outputs": [
        {
          "name": "stdout",
          "output_type": "stream",
          "text": [
            "Test set assessment:\n",
            "\n",
            "AUC score: 0.7055041152263375\n",
            "Recall score: 0.9583333333333334\n"
          ]
        }
      ],
      "source": [
        "print(\"Test set assessment:\\n\")\n",
        "print(f'AUC score: {roc_auc_score(y_test, y_pred2)}')\n",
        "print(f'Recall score: {recall_score(y_test, y_pred2)}')"
      ]
    },
    {
      "cell_type": "markdown",
      "metadata": {
        "id": "3yfnIeXMAvQc"
      },
      "source": [
        "<h2> Naive Bayes </h2>"
      ]
    },
    {
      "cell_type": "code",
      "execution_count": null,
      "metadata": {
        "id": "5Jjwqom_4-fM"
      },
      "outputs": [],
      "source": [
        "from sklearn.naive_bayes import GaussianNB\n",
        "gnb = GaussianNB()"
      ]
    },
    {
      "cell_type": "code",
      "execution_count": null,
      "metadata": {
        "colab": {
          "base_uri": "https://localhost:8080/"
        },
        "id": "84pMQ4YrA8Wc",
        "outputId": "7fe25bc1-7fa1-43b3-c6e0-f88cd5e1a6c3"
      },
      "outputs": [
        {
          "data": {
            "text/plain": [
              "GaussianNB()"
            ]
          },
          "execution_count": 31,
          "metadata": {},
          "output_type": "execute_result"
        }
      ],
      "source": [
        "gnb.fit(X_train, y_train)"
      ]
    },
    {
      "cell_type": "code",
      "execution_count": null,
      "metadata": {
        "id": "1V2L91kD2UFP"
      },
      "outputs": [],
      "source": [
        "y_train3 = gnb.predict(X_train)"
      ]
    },
    {
      "cell_type": "code",
      "execution_count": null,
      "metadata": {
        "colab": {
          "base_uri": "https://localhost:8080/"
        },
        "id": "zLFLw15SsUat",
        "outputId": "c2401302-500e-4102-ea73-666689a0499c"
      },
      "outputs": [
        {
          "data": {
            "text/plain": [
              "array([0, 1, 0, ..., 0, 1, 0])"
            ]
          },
          "execution_count": 33,
          "metadata": {},
          "output_type": "execute_result"
        }
      ],
      "source": [
        "y_pred3 = gnb.predict(X_test)\n",
        "y_pred3"
      ]
    },
    {
      "cell_type": "code",
      "execution_count": null,
      "metadata": {
        "colab": {
          "base_uri": "https://localhost:8080/"
        },
        "id": "R__syFAnsXju",
        "outputId": "fe29a551-d002-4d8c-8e76-0030dca1df34"
      },
      "outputs": [
        {
          "data": {
            "text/plain": [
              "array([[8181, 1782],\n",
              "       [3154, 6950]])"
            ]
          },
          "execution_count": 34,
          "metadata": {},
          "output_type": "execute_result"
        }
      ],
      "source": [
        "confusion_matrix(y_test, y_pred3)"
      ]
    },
    {
      "cell_type": "code",
      "execution_count": null,
      "metadata": {
        "colab": {
          "base_uri": "https://localhost:8080/"
        },
        "id": "TDexfhBK2Yvd",
        "outputId": "eb7df8d0-29dc-42ff-c4bd-dad49c0df8e6"
      },
      "outputs": [
        {
          "name": "stdout",
          "output_type": "stream",
          "text": [
            "Traning set assessment:\n",
            "\n",
            "              precision    recall  f1-score   support\n",
            "\n",
            "           0       0.72      0.82      0.77     30037\n",
            "           1       0.80      0.68      0.74     30163\n",
            "\n",
            "    accuracy                           0.75     60200\n",
            "   macro avg       0.76      0.75      0.75     60200\n",
            "weighted avg       0.76      0.75      0.75     60200\n",
            "\n"
          ]
        }
      ],
      "source": [
        "print(\"Traning set assessment:\\n\")\n",
        "print(classification_report(y_train, y_train3))"
      ]
    },
    {
      "cell_type": "code",
      "execution_count": null,
      "metadata": {
        "colab": {
          "base_uri": "https://localhost:8080/"
        },
        "id": "du2htU6Tsaen",
        "outputId": "7e3c6b45-6041-4641-f695-5a647cd3aa12"
      },
      "outputs": [
        {
          "name": "stdout",
          "output_type": "stream",
          "text": [
            "Test set assessment:\n",
            "\n",
            "              precision    recall  f1-score   support\n",
            "\n",
            "           0       0.72      0.82      0.77      9963\n",
            "           1       0.80      0.69      0.74     10104\n",
            "\n",
            "    accuracy                           0.75     20067\n",
            "   macro avg       0.76      0.75      0.75     20067\n",
            "weighted avg       0.76      0.75      0.75     20067\n",
            "\n"
          ]
        }
      ],
      "source": [
        "print(\"Test set assessment:\\n\")\n",
        "print(classification_report(y_test, y_pred3))"
      ]
    },
    {
      "cell_type": "code",
      "execution_count": null,
      "metadata": {
        "colab": {
          "base_uri": "https://localhost:8080/"
        },
        "id": "xnVfaaLn2fTu",
        "outputId": "cfd4c674-a363-4fcf-ac52-e735b7492b8d"
      },
      "outputs": [
        {
          "name": "stdout",
          "output_type": "stream",
          "text": [
            "Traning set assessment:\n",
            "AUC score: 0.7536202178989689\n",
            "Recall score: 0.6826907137884163\n"
          ]
        }
      ],
      "source": [
        "print(\"Traning set assessment:\")\n",
        "print(f'AUC score: {roc_auc_score(y_train, y_train3)}')\n",
        "print(f'Recall score: {recall_score(y_train, y_train3)}')"
      ]
    },
    {
      "cell_type": "code",
      "execution_count": null,
      "metadata": {
        "colab": {
          "base_uri": "https://localhost:8080/"
        },
        "id": "GuYAFgCksgwE",
        "outputId": "51387cd4-adc4-4613-f7b2-8b25dfe6debd"
      },
      "outputs": [
        {
          "name": "stdout",
          "output_type": "stream",
          "text": [
            "Test set assessment:\n",
            "AUC score: 0.7544923044242319\n",
            "Recall score: 0.68784639746635\n"
          ]
        }
      ],
      "source": [
        "print(\"Test set assessment:\")\n",
        "print(f'AUC score: {roc_auc_score(y_test, y_pred3)}')\n",
        "print(f'Recall score: {recall_score(y_test, y_pred3)}')"
      ]
    },
    {
      "cell_type": "markdown",
      "metadata": {
        "id": "ybuaXHaVAuTe"
      },
      "source": [
        "<h2> Random Forest Classifier </h2>"
      ]
    },
    {
      "cell_type": "markdown",
      "metadata": {
        "id": "f7-u642yO1cX"
      },
      "source": [
        "<h3> Cross Validation and Hyperparameter Tuning </h3>"
      ]
    },
    {
      "cell_type": "code",
      "execution_count": null,
      "metadata": {
        "colab": {
          "base_uri": "https://localhost:8080/",
          "height": 35
        },
        "id": "g__0MDQOyAPi",
        "outputId": "8d934ebb-98c6-485c-a16d-8b81027a09c6"
      },
      "outputs": [
        {
          "data": {
            "application/vnd.google.colaboratory.intrinsic+json": {
              "type": "string"
            },
            "text/plain": [
              "\"cv_results = cross_validate(rfc, X_res, y_res, \\n                            scoring=('roc_auc', 'recall', 'f1'))\\n                            \""
            ]
          },
          "execution_count": 345,
          "metadata": {},
          "output_type": "execute_result"
        }
      ],
      "source": [
        "'''cv_results = cross_validate(rfc, X_res, y_res, \n",
        "                            scoring=('roc_auc', 'recall', 'f1'))\n",
        "                            '''"
      ]
    },
    {
      "cell_type": "code",
      "execution_count": null,
      "metadata": {
        "id": "3bLclA-zMKFm"
      },
      "outputs": [],
      "source": [
        "#cv_results"
      ]
    },
    {
      "cell_type": "code",
      "execution_count": null,
      "metadata": {
        "id": "D4gvZnwTJQG1"
      },
      "outputs": [],
      "source": [
        "# cross validation function\n",
        "def get_score(n_estimators):\n",
        "  rfc = RandomForestClassifier(n_estimators, random_state=0, max_depth=20)\n",
        "  scores = cross_validate(rfc, X_train, y_train,\n",
        "                          scoring=('roc_auc', 'recall', 'f1'))\n",
        "  return scores['test_roc_auc'].mean(), scores['test_recall'].mean(), \\\n",
        "  scores['test_f1'].mean()"
      ]
    },
    {
      "cell_type": "code",
      "execution_count": null,
      "metadata": {
        "id": "XJPpX63xLjfh"
      },
      "outputs": [],
      "source": [
        "# hyperparameter tuning\n",
        "results = {}\n",
        "for i in range(1, 6):\n",
        "    results[100*i] = get_score(100*i)"
      ]
    },
    {
      "cell_type": "code",
      "execution_count": null,
      "metadata": {
        "colab": {
          "base_uri": "https://localhost:8080/",
          "height": 206
        },
        "id": "BDd-oMcC__0Z",
        "outputId": "7a0b7b7e-b0da-450e-e124-1a64a4de1035"
      },
      "outputs": [
        {
          "data": {
            "text/html": [
              "\n",
              "  <div id=\"df-a4c4c5b5-5541-4df0-a8a2-9d7f9062bc3e\">\n",
              "    <div class=\"colab-df-container\">\n",
              "      <div>\n",
              "<style scoped>\n",
              "    .dataframe tbody tr th:only-of-type {\n",
              "        vertical-align: middle;\n",
              "    }\n",
              "\n",
              "    .dataframe tbody tr th {\n",
              "        vertical-align: top;\n",
              "    }\n",
              "\n",
              "    .dataframe thead th {\n",
              "        text-align: right;\n",
              "    }\n",
              "</style>\n",
              "<table border=\"1\" class=\"dataframe\">\n",
              "  <thead>\n",
              "    <tr style=\"text-align: right;\">\n",
              "      <th></th>\n",
              "      <th>AUC Score</th>\n",
              "      <th>Recall Score</th>\n",
              "      <th>F1 Score</th>\n",
              "    </tr>\n",
              "  </thead>\n",
              "  <tbody>\n",
              "    <tr>\n",
              "      <th>200</th>\n",
              "      <td>0.968158</td>\n",
              "      <td>0.938564</td>\n",
              "      <td>0.943571</td>\n",
              "    </tr>\n",
              "    <tr>\n",
              "      <th>500</th>\n",
              "      <td>0.968556</td>\n",
              "      <td>0.938368</td>\n",
              "      <td>0.943607</td>\n",
              "    </tr>\n",
              "    <tr>\n",
              "      <th>400</th>\n",
              "      <td>0.968452</td>\n",
              "      <td>0.937928</td>\n",
              "      <td>0.943512</td>\n",
              "    </tr>\n",
              "    <tr>\n",
              "      <th>300</th>\n",
              "      <td>0.968281</td>\n",
              "      <td>0.937732</td>\n",
              "      <td>0.943431</td>\n",
              "    </tr>\n",
              "    <tr>\n",
              "      <th>100</th>\n",
              "      <td>0.967612</td>\n",
              "      <td>0.937488</td>\n",
              "      <td>0.942814</td>\n",
              "    </tr>\n",
              "  </tbody>\n",
              "</table>\n",
              "</div>\n",
              "      <button class=\"colab-df-convert\" onclick=\"convertToInteractive('df-a4c4c5b5-5541-4df0-a8a2-9d7f9062bc3e')\"\n",
              "              title=\"Convert this dataframe to an interactive table.\"\n",
              "              style=\"display:none;\">\n",
              "        \n",
              "  <svg xmlns=\"http://www.w3.org/2000/svg\" height=\"24px\"viewBox=\"0 0 24 24\"\n",
              "       width=\"24px\">\n",
              "    <path d=\"M0 0h24v24H0V0z\" fill=\"none\"/>\n",
              "    <path d=\"M18.56 5.44l.94 2.06.94-2.06 2.06-.94-2.06-.94-.94-2.06-.94 2.06-2.06.94zm-11 1L8.5 8.5l.94-2.06 2.06-.94-2.06-.94L8.5 2.5l-.94 2.06-2.06.94zm10 10l.94 2.06.94-2.06 2.06-.94-2.06-.94-.94-2.06-.94 2.06-2.06.94z\"/><path d=\"M17.41 7.96l-1.37-1.37c-.4-.4-.92-.59-1.43-.59-.52 0-1.04.2-1.43.59L10.3 9.45l-7.72 7.72c-.78.78-.78 2.05 0 2.83L4 21.41c.39.39.9.59 1.41.59.51 0 1.02-.2 1.41-.59l7.78-7.78 2.81-2.81c.8-.78.8-2.07 0-2.86zM5.41 20L4 18.59l7.72-7.72 1.47 1.35L5.41 20z\"/>\n",
              "  </svg>\n",
              "      </button>\n",
              "      \n",
              "  <style>\n",
              "    .colab-df-container {\n",
              "      display:flex;\n",
              "      flex-wrap:wrap;\n",
              "      gap: 12px;\n",
              "    }\n",
              "\n",
              "    .colab-df-convert {\n",
              "      background-color: #E8F0FE;\n",
              "      border: none;\n",
              "      border-radius: 50%;\n",
              "      cursor: pointer;\n",
              "      display: none;\n",
              "      fill: #1967D2;\n",
              "      height: 32px;\n",
              "      padding: 0 0 0 0;\n",
              "      width: 32px;\n",
              "    }\n",
              "\n",
              "    .colab-df-convert:hover {\n",
              "      background-color: #E2EBFA;\n",
              "      box-shadow: 0px 1px 2px rgba(60, 64, 67, 0.3), 0px 1px 3px 1px rgba(60, 64, 67, 0.15);\n",
              "      fill: #174EA6;\n",
              "    }\n",
              "\n",
              "    [theme=dark] .colab-df-convert {\n",
              "      background-color: #3B4455;\n",
              "      fill: #D2E3FC;\n",
              "    }\n",
              "\n",
              "    [theme=dark] .colab-df-convert:hover {\n",
              "      background-color: #434B5C;\n",
              "      box-shadow: 0px 1px 3px 1px rgba(0, 0, 0, 0.15);\n",
              "      filter: drop-shadow(0px 1px 2px rgba(0, 0, 0, 0.3));\n",
              "      fill: #FFFFFF;\n",
              "    }\n",
              "  </style>\n",
              "\n",
              "      <script>\n",
              "        const buttonEl =\n",
              "          document.querySelector('#df-a4c4c5b5-5541-4df0-a8a2-9d7f9062bc3e button.colab-df-convert');\n",
              "        buttonEl.style.display =\n",
              "          google.colab.kernel.accessAllowed ? 'block' : 'none';\n",
              "\n",
              "        async function convertToInteractive(key) {\n",
              "          const element = document.querySelector('#df-a4c4c5b5-5541-4df0-a8a2-9d7f9062bc3e');\n",
              "          const dataTable =\n",
              "            await google.colab.kernel.invokeFunction('convertToInteractive',\n",
              "                                                     [key], {});\n",
              "          if (!dataTable) return;\n",
              "\n",
              "          const docLinkHtml = 'Like what you see? Visit the ' +\n",
              "            '<a target=\"_blank\" href=https://colab.research.google.com/notebooks/data_table.ipynb>data table notebook</a>'\n",
              "            + ' to learn more about interactive tables.';\n",
              "          element.innerHTML = '';\n",
              "          dataTable['output_type'] = 'display_data';\n",
              "          await google.colab.output.renderOutput(dataTable, element);\n",
              "          const docLink = document.createElement('div');\n",
              "          docLink.innerHTML = docLinkHtml;\n",
              "          element.appendChild(docLink);\n",
              "        }\n",
              "      </script>\n",
              "    </div>\n",
              "  </div>\n",
              "  "
            ],
            "text/plain": [
              "     AUC Score  Recall Score  F1 Score\n",
              "200   0.968158      0.938564  0.943571\n",
              "500   0.968556      0.938368  0.943607\n",
              "400   0.968452      0.937928  0.943512\n",
              "300   0.968281      0.937732  0.943431\n",
              "100   0.967612      0.937488  0.942814"
            ]
          },
          "execution_count": 349,
          "metadata": {},
          "output_type": "execute_result"
        }
      ],
      "source": [
        "cv_results4 = pd.DataFrame(results).transpose()\n",
        "cv_results4 = cv_results4.rename(columns={0: 'AUC Score', 1: 'Recall Score', \n",
        "                                          2: 'F1 Score'})\n",
        "cv_results4.sort_values(by=['Recall Score'], ascending=False)"
      ]
    },
    {
      "cell_type": "markdown",
      "metadata": {
        "id": "uYjXxAFhUGNL"
      },
      "source": [
        "Untuk cross validation + hyperparameter tuning, parameter n_estimators terbaik untuk Random Forest Classifier adalah 200\n"
      ]
    },
    {
      "cell_type": "markdown",
      "metadata": {
        "id": "9HZM6334QDKL"
      },
      "source": [
        "<h3> Testing set </h3>"
      ]
    },
    {
      "cell_type": "code",
      "execution_count": null,
      "metadata": {
        "id": "SNrxMDlSOoYM"
      },
      "outputs": [],
      "source": [
        "from sklearn.ensemble import RandomForestClassifier"
      ]
    },
    {
      "cell_type": "code",
      "execution_count": null,
      "metadata": {
        "id": "-UWvaBBqfdxZ"
      },
      "outputs": [],
      "source": [
        "from sklearn.model_selection import train_test_split\n",
        "X_train, X_test, y_train, y_test = train_test_split(X_res, y_res, \n",
        "                                                    test_size=0.25, \n",
        "                                                    random_state=0)"
      ]
    },
    {
      "cell_type": "code",
      "execution_count": null,
      "metadata": {
        "id": "Sd4ShJslQML-"
      },
      "outputs": [],
      "source": [
        "rfc = RandomForestClassifier(max_depth=20, n_estimators=400, random_state=0)"
      ]
    },
    {
      "cell_type": "code",
      "execution_count": null,
      "metadata": {
        "colab": {
          "base_uri": "https://localhost:8080/"
        },
        "id": "vJNYRtH9QrSZ",
        "outputId": "3735251c-1899-4ca7-ae7c-1c87b0273165"
      },
      "outputs": [
        {
          "data": {
            "text/plain": [
              "RandomForestClassifier(max_depth=20, n_estimators=400, random_state=0)"
            ]
          },
          "execution_count": 44,
          "metadata": {},
          "output_type": "execute_result"
        }
      ],
      "source": [
        "rfc.fit(X_train, y_train)"
      ]
    },
    {
      "cell_type": "code",
      "execution_count": null,
      "metadata": {
        "id": "sEwzd7iZxlUG"
      },
      "outputs": [],
      "source": [
        "y_train4 = rfc.predict(X_train)"
      ]
    },
    {
      "cell_type": "code",
      "execution_count": null,
      "metadata": {
        "id": "bCk4ZAmfQzBX"
      },
      "outputs": [],
      "source": [
        "y_pred4 = rfc.predict(X_test)"
      ]
    },
    {
      "cell_type": "code",
      "execution_count": null,
      "metadata": {
        "colab": {
          "base_uri": "https://localhost:8080/"
        },
        "id": "SRAnAxuGQ5fK",
        "outputId": "c3a706c4-e909-4183-f685-f8d36f7f6a66"
      },
      "outputs": [
        {
          "data": {
            "text/plain": [
              "array([[9728,  235],\n",
              "       [ 408, 9696]])"
            ]
          },
          "execution_count": 47,
          "metadata": {},
          "output_type": "execute_result"
        }
      ],
      "source": [
        "from sklearn.metrics import confusion_matrix\n",
        "confusion_matrix(y_test, y_pred4)"
      ]
    },
    {
      "cell_type": "code",
      "execution_count": null,
      "metadata": {
        "colab": {
          "base_uri": "https://localhost:8080/"
        },
        "id": "M3dw6npix1aQ",
        "outputId": "ed5c68c1-cf6a-47de-8afc-ae650d2eb5c3"
      },
      "outputs": [
        {
          "name": "stdout",
          "output_type": "stream",
          "text": [
            "              precision    recall  f1-score   support\n",
            "\n",
            "           0       1.00      1.00      1.00     30037\n",
            "           1       1.00      1.00      1.00     30163\n",
            "\n",
            "    accuracy                           1.00     60200\n",
            "   macro avg       1.00      1.00      1.00     60200\n",
            "weighted avg       1.00      1.00      1.00     60200\n",
            "\n"
          ]
        }
      ],
      "source": [
        "# training set\n",
        "from sklearn.metrics import classification_report\n",
        "print(classification_report(y_train, y_train4))"
      ]
    },
    {
      "cell_type": "code",
      "execution_count": null,
      "metadata": {
        "colab": {
          "base_uri": "https://localhost:8080/"
        },
        "id": "asLBLBPdQ95q",
        "outputId": "ac59d1ae-2b83-43df-bbd3-8c60531c42f3"
      },
      "outputs": [
        {
          "name": "stdout",
          "output_type": "stream",
          "text": [
            "              precision    recall  f1-score   support\n",
            "\n",
            "           0       0.96      0.98      0.97      9963\n",
            "           1       0.98      0.96      0.97     10104\n",
            "\n",
            "    accuracy                           0.97     20067\n",
            "   macro avg       0.97      0.97      0.97     20067\n",
            "weighted avg       0.97      0.97      0.97     20067\n",
            "\n"
          ]
        }
      ],
      "source": [
        "# test set\n",
        "from sklearn.metrics import classification_report\n",
        "print(classification_report(y_test, y_pred4))"
      ]
    },
    {
      "cell_type": "code",
      "execution_count": null,
      "metadata": {
        "colab": {
          "base_uri": "https://localhost:8080/"
        },
        "id": "Og5og9IGyZTg",
        "outputId": "4929d514-7136-4e6a-8dda-60e0decc58e1"
      },
      "outputs": [
        {
          "name": "stdout",
          "output_type": "stream",
          "text": [
            "AUC score: 0.9983423399529224\n",
            "Recall score: 0.9966846799058449\n"
          ]
        }
      ],
      "source": [
        "print(f'AUC score: {roc_auc_score(y_train, y_train4)}')\n",
        "print(f'Recall score: {recall_score(y_train, y_train4)}')"
      ]
    },
    {
      "cell_type": "code",
      "execution_count": null,
      "metadata": {
        "colab": {
          "base_uri": "https://localhost:8080/"
        },
        "id": "Ml-ytdyzRCW1",
        "outputId": "285f011e-5866-414a-9eb3-7946791f071d"
      },
      "outputs": [
        {
          "name": "stdout",
          "output_type": "stream",
          "text": [
            "AUC score: 0.9680163397921479\n",
            "Recall score: 0.9596199524940617\n"
          ]
        }
      ],
      "source": [
        "print(f'AUC score: {roc_auc_score(y_test, y_pred4)}')\n",
        "print(f'Recall score: {recall_score(y_test, y_pred4)}')"
      ]
    },
    {
      "cell_type": "markdown",
      "metadata": {
        "id": "DG_J3D13ta62"
      },
      "source": [
        "Kita mencari model dengan akurasi terbaik"
      ]
    },
    {
      "cell_type": "code",
      "execution_count": null,
      "metadata": {
        "colab": {
          "base_uri": "https://localhost:8080/"
        },
        "id": "qmOM1W-ytfq7",
        "outputId": "c8cdc644-74b5-4255-fe6c-cb6712c2c87b"
      },
      "outputs": [
        {
          "name": "stdout",
          "output_type": "stream",
          "text": [
            "Logistic Regression:\n",
            "AUC score: 0.7955643571237331\n",
            "Recall score: 0.8977632620744259\n",
            "\n",
            "Linear SVC:\n",
            "AUC score: 0.7055041152263375\n",
            "Recall score: 0.9583333333333334\n",
            "\n",
            "Naive Bayes:\n",
            "AUC score: 0.7544923044242319\n",
            "Recall score: 0.68784639746635\n",
            "\n",
            "Random Forest Classifier:\n",
            "AUC score: 0.9680163397921479\n",
            "Recall score: 0.9596199524940617\n",
            "\n"
          ]
        }
      ],
      "source": [
        "print(\"Logistic Regression:\")\n",
        "print(f'AUC score: {roc_auc_score(y_test, y_pred1)}')\n",
        "print(f'Recall score: {recall_score(y_test, y_pred1)}\\n')\n",
        "print(\"Linear SVC:\")\n",
        "print(f'AUC score: {roc_auc_score(y_test, y_pred2)}')\n",
        "print(f'Recall score: {recall_score(y_test, y_pred2)}\\n')\n",
        "print(\"Naive Bayes:\")\n",
        "print(f'AUC score: {roc_auc_score(y_test, y_pred3)}')\n",
        "print(f'Recall score: {recall_score(y_test, y_pred3)}\\n')\n",
        "print(\"Random Forest Classifier:\")\n",
        "print(f'AUC score: {roc_auc_score(y_test, y_pred4)}')\n",
        "print(f'Recall score: {recall_score(y_test, y_pred4)}\\n')"
      ]
    },
    {
      "cell_type": "markdown",
      "metadata": {
        "id": "uh5plviBszni"
      },
      "source": [
        "Dari model-model machine learning yang sudah ada, maka model terbaik adalah Random Forest Classifier.<br>\n",
        "Maka, kami akan menggunakan model ini untuk selanjutnya."
      ]
    },
    {
      "cell_type": "markdown",
      "metadata": {
        "id": "AFsNHCMev6wQ"
      },
      "source": [
        "<h1> Week 5: Finding the best model</h1>"
      ]
    },
    {
      "cell_type": "markdown",
      "metadata": {
        "id": "FHlxTU0dXQBX"
      },
      "source": [
        "Di minggu ini, kami melakukan hyperparameter tuning untuk meningkatkan akurasi masing-masing model"
      ]
    },
    {
      "cell_type": "markdown",
      "metadata": {
        "id": "-Vu743dEXeUI"
      },
      "source": [
        "<h2> Logistic Regression </h2>"
      ]
    },
    {
      "cell_type": "code",
      "execution_count": null,
      "metadata": {
        "id": "MczRWW76wDTS"
      },
      "outputs": [],
      "source": [
        "# cross validation function\n",
        "def get_score1(C, max_iter):\n",
        "  logreg = LogisticRegression(C=C, random_state=0, dual=False, max_iter=max_iter)\n",
        "  scores = cross_validate(logreg, X_train, y_train,\n",
        "                          scoring=('roc_auc', 'recall', 'f1'), cv=10)\n",
        "  return scores['test_roc_auc'].mean(), scores['test_recall'].mean(), \\\n",
        "  scores['test_f1'].mean()"
      ]
    },
    {
      "cell_type": "code",
      "source": [
        "# hyperparameter tuning\n",
        "#solver = ['lbfgs', 'sag', 'saga']\n",
        "C = [1.0, 2.0, 3.0, 4.0, 5.0]\n",
        "results1 = {}\n",
        "for i in C:\n",
        "    results1[i, 100*i] = get_score1(i, 100*i)"
      ],
      "metadata": {
        "id": "Hau7tKkV6JMm"
      },
      "execution_count": null,
      "outputs": []
    },
    {
      "cell_type": "code",
      "execution_count": null,
      "metadata": {
        "id": "jsl5gkRrgM_a",
        "colab": {
          "base_uri": "https://localhost:8080/",
          "height": 206
        },
        "outputId": "d6dbf94e-cea1-405f-d55d-88ee083a4bd8"
      },
      "outputs": [
        {
          "output_type": "execute_result",
          "data": {
            "text/plain": [
              "     C  max_iter  AUC Score  Recall Score  F1 Score\n",
              "0  1.0     100.0   0.867994      0.901768  0.817974\n",
              "1  2.0     200.0   0.867994      0.901768  0.817974\n",
              "2  3.0     300.0   0.867994      0.901768  0.817974\n",
              "3  4.0     400.0   0.867994      0.901768  0.817974\n",
              "4  5.0     500.0   0.867994      0.901768  0.817974"
            ],
            "text/html": [
              "\n",
              "  <div id=\"df-be42f77c-05b8-4bf9-bf8d-a257ddaea45d\">\n",
              "    <div class=\"colab-df-container\">\n",
              "      <div>\n",
              "<style scoped>\n",
              "    .dataframe tbody tr th:only-of-type {\n",
              "        vertical-align: middle;\n",
              "    }\n",
              "\n",
              "    .dataframe tbody tr th {\n",
              "        vertical-align: top;\n",
              "    }\n",
              "\n",
              "    .dataframe thead th {\n",
              "        text-align: right;\n",
              "    }\n",
              "</style>\n",
              "<table border=\"1\" class=\"dataframe\">\n",
              "  <thead>\n",
              "    <tr style=\"text-align: right;\">\n",
              "      <th></th>\n",
              "      <th>C</th>\n",
              "      <th>max_iter</th>\n",
              "      <th>AUC Score</th>\n",
              "      <th>Recall Score</th>\n",
              "      <th>F1 Score</th>\n",
              "    </tr>\n",
              "  </thead>\n",
              "  <tbody>\n",
              "    <tr>\n",
              "      <th>0</th>\n",
              "      <td>1.0</td>\n",
              "      <td>100.0</td>\n",
              "      <td>0.867994</td>\n",
              "      <td>0.901768</td>\n",
              "      <td>0.817974</td>\n",
              "    </tr>\n",
              "    <tr>\n",
              "      <th>1</th>\n",
              "      <td>2.0</td>\n",
              "      <td>200.0</td>\n",
              "      <td>0.867994</td>\n",
              "      <td>0.901768</td>\n",
              "      <td>0.817974</td>\n",
              "    </tr>\n",
              "    <tr>\n",
              "      <th>2</th>\n",
              "      <td>3.0</td>\n",
              "      <td>300.0</td>\n",
              "      <td>0.867994</td>\n",
              "      <td>0.901768</td>\n",
              "      <td>0.817974</td>\n",
              "    </tr>\n",
              "    <tr>\n",
              "      <th>3</th>\n",
              "      <td>4.0</td>\n",
              "      <td>400.0</td>\n",
              "      <td>0.867994</td>\n",
              "      <td>0.901768</td>\n",
              "      <td>0.817974</td>\n",
              "    </tr>\n",
              "    <tr>\n",
              "      <th>4</th>\n",
              "      <td>5.0</td>\n",
              "      <td>500.0</td>\n",
              "      <td>0.867994</td>\n",
              "      <td>0.901768</td>\n",
              "      <td>0.817974</td>\n",
              "    </tr>\n",
              "  </tbody>\n",
              "</table>\n",
              "</div>\n",
              "      <button class=\"colab-df-convert\" onclick=\"convertToInteractive('df-be42f77c-05b8-4bf9-bf8d-a257ddaea45d')\"\n",
              "              title=\"Convert this dataframe to an interactive table.\"\n",
              "              style=\"display:none;\">\n",
              "        \n",
              "  <svg xmlns=\"http://www.w3.org/2000/svg\" height=\"24px\"viewBox=\"0 0 24 24\"\n",
              "       width=\"24px\">\n",
              "    <path d=\"M0 0h24v24H0V0z\" fill=\"none\"/>\n",
              "    <path d=\"M18.56 5.44l.94 2.06.94-2.06 2.06-.94-2.06-.94-.94-2.06-.94 2.06-2.06.94zm-11 1L8.5 8.5l.94-2.06 2.06-.94-2.06-.94L8.5 2.5l-.94 2.06-2.06.94zm10 10l.94 2.06.94-2.06 2.06-.94-2.06-.94-.94-2.06-.94 2.06-2.06.94z\"/><path d=\"M17.41 7.96l-1.37-1.37c-.4-.4-.92-.59-1.43-.59-.52 0-1.04.2-1.43.59L10.3 9.45l-7.72 7.72c-.78.78-.78 2.05 0 2.83L4 21.41c.39.39.9.59 1.41.59.51 0 1.02-.2 1.41-.59l7.78-7.78 2.81-2.81c.8-.78.8-2.07 0-2.86zM5.41 20L4 18.59l7.72-7.72 1.47 1.35L5.41 20z\"/>\n",
              "  </svg>\n",
              "      </button>\n",
              "      \n",
              "  <style>\n",
              "    .colab-df-container {\n",
              "      display:flex;\n",
              "      flex-wrap:wrap;\n",
              "      gap: 12px;\n",
              "    }\n",
              "\n",
              "    .colab-df-convert {\n",
              "      background-color: #E8F0FE;\n",
              "      border: none;\n",
              "      border-radius: 50%;\n",
              "      cursor: pointer;\n",
              "      display: none;\n",
              "      fill: #1967D2;\n",
              "      height: 32px;\n",
              "      padding: 0 0 0 0;\n",
              "      width: 32px;\n",
              "    }\n",
              "\n",
              "    .colab-df-convert:hover {\n",
              "      background-color: #E2EBFA;\n",
              "      box-shadow: 0px 1px 2px rgba(60, 64, 67, 0.3), 0px 1px 3px 1px rgba(60, 64, 67, 0.15);\n",
              "      fill: #174EA6;\n",
              "    }\n",
              "\n",
              "    [theme=dark] .colab-df-convert {\n",
              "      background-color: #3B4455;\n",
              "      fill: #D2E3FC;\n",
              "    }\n",
              "\n",
              "    [theme=dark] .colab-df-convert:hover {\n",
              "      background-color: #434B5C;\n",
              "      box-shadow: 0px 1px 3px 1px rgba(0, 0, 0, 0.15);\n",
              "      filter: drop-shadow(0px 1px 2px rgba(0, 0, 0, 0.3));\n",
              "      fill: #FFFFFF;\n",
              "    }\n",
              "  </style>\n",
              "\n",
              "      <script>\n",
              "        const buttonEl =\n",
              "          document.querySelector('#df-be42f77c-05b8-4bf9-bf8d-a257ddaea45d button.colab-df-convert');\n",
              "        buttonEl.style.display =\n",
              "          google.colab.kernel.accessAllowed ? 'block' : 'none';\n",
              "\n",
              "        async function convertToInteractive(key) {\n",
              "          const element = document.querySelector('#df-be42f77c-05b8-4bf9-bf8d-a257ddaea45d');\n",
              "          const dataTable =\n",
              "            await google.colab.kernel.invokeFunction('convertToInteractive',\n",
              "                                                     [key], {});\n",
              "          if (!dataTable) return;\n",
              "\n",
              "          const docLinkHtml = 'Like what you see? Visit the ' +\n",
              "            '<a target=\"_blank\" href=https://colab.research.google.com/notebooks/data_table.ipynb>data table notebook</a>'\n",
              "            + ' to learn more about interactive tables.';\n",
              "          element.innerHTML = '';\n",
              "          dataTable['output_type'] = 'display_data';\n",
              "          await google.colab.output.renderOutput(dataTable, element);\n",
              "          const docLink = document.createElement('div');\n",
              "          docLink.innerHTML = docLinkHtml;\n",
              "          element.appendChild(docLink);\n",
              "        }\n",
              "      </script>\n",
              "    </div>\n",
              "  </div>\n",
              "  "
            ]
          },
          "metadata": {},
          "execution_count": 58
        }
      ],
      "source": [
        "cv_results1 = pd.DataFrame(results1).transpose()\n",
        "cv_results1 = cv_results1.reset_index()\n",
        "cv_results1 = cv_results1.rename(columns={'level_0': 'C', 'level_1': 'max_iter',\n",
        "                                          0: 'AUC Score', 1: 'Recall Score', \n",
        "                                          2: 'F1 Score'})\n",
        "cv_results1 = cv_results1.sort_values(by=['Recall Score'], ascending=False)\n",
        "cv_results1"
      ]
    },
    {
      "cell_type": "markdown",
      "metadata": {
        "id": "U_8qvFgIhWjw"
      },
      "source": [
        "<h3> Testing set </h3>"
      ]
    },
    {
      "cell_type": "code",
      "execution_count": null,
      "metadata": {
        "id": "ysZO4sPIhZIO"
      },
      "outputs": [],
      "source": [
        "logreg = LogisticRegression(C=1.0, random_state=0, max_iter=100)"
      ]
    },
    {
      "cell_type": "code",
      "source": [
        "logreg.fit(X_train, y_train)"
      ],
      "metadata": {
        "colab": {
          "base_uri": "https://localhost:8080/"
        },
        "id": "pCLHCMOWazsI",
        "outputId": "9b988b97-87d2-4641-f247-2c98dca7219d"
      },
      "execution_count": null,
      "outputs": [
        {
          "output_type": "execute_result",
          "data": {
            "text/plain": [
              "LogisticRegression(random_state=0)"
            ]
          },
          "metadata": {},
          "execution_count": 15
        }
      ]
    },
    {
      "cell_type": "code",
      "source": [
        "y_pred1 = logreg.predict(X_test)"
      ],
      "metadata": {
        "id": "wA0zcYcLa2-e"
      },
      "execution_count": null,
      "outputs": []
    },
    {
      "cell_type": "code",
      "source": [
        "from sklearn.metrics import confusion_matrix\n",
        "confusion_matrix(y_test, y_pred1)"
      ],
      "metadata": {
        "colab": {
          "base_uri": "https://localhost:8080/"
        },
        "id": "eS7u7sKva8Nj",
        "outputId": "c6846221-c1db-44e0-c362-a03f1c9f501a"
      },
      "execution_count": null,
      "outputs": [
        {
          "output_type": "execute_result",
          "data": {
            "text/plain": [
              "array([[6908, 3055],\n",
              "       [1033, 9071]])"
            ]
          },
          "metadata": {},
          "execution_count": 17
        }
      ]
    },
    {
      "cell_type": "code",
      "source": [
        "plt.figure(figsize=(9, 5))\n",
        "\n",
        "cf_matrix = confusion_matrix(y_test, y_pred1)\n",
        "group_names = ['True Negative', 'False Positive', 'False Negative',\n",
        "               'True Positive']\n",
        "group_counts = ['{0:0.0f}'.format(value) for value in\n",
        "                cf_matrix.flatten()]\n",
        "group_percentages = ['{0:.2%}'.format(value) for value in\n",
        "                     cf_matrix.flatten()/np.sum(cf_matrix)]\n",
        "labels = [f'{v1}\\n{v2}\\n{v3}' for v1, v2, v3 in\n",
        "          zip(group_names,group_counts,group_percentages)]\n",
        "labels = np.asarray(labels).reshape(2,2)\n",
        "\n",
        "sns.set(font_scale=1.5)\n",
        "sns.heatmap(cf_matrix, annot=labels, fmt='', cmap='Blues').set(\n",
        "    xlabel='Predicted data', ylabel='Actual data')"
      ],
      "metadata": {
        "colab": {
          "base_uri": "https://localhost:8080/",
          "height": 369
        },
        "id": "rSsAnp2jn3Yz",
        "outputId": "380402c6-269c-48ab-c779-fb312d30d37e"
      },
      "execution_count": null,
      "outputs": [
        {
          "output_type": "execute_result",
          "data": {
            "text/plain": [
              "[Text(49.5, 0.5, 'Actual data'), Text(0.5, 13.5, 'Predicted data')]"
            ]
          },
          "metadata": {},
          "execution_count": 20
        },
        {
          "output_type": "display_data",
          "data": {
            "text/plain": [
              "<Figure size 648x360 with 2 Axes>"
            ],
            "image/png": "[encoded data removed]"
          },
          "metadata": {
            "needs_background": "light"
          }
        }
      ]
    },
    {
      "cell_type": "code",
      "source": [
        "# test set\n",
        "from sklearn.metrics import classification_report\n",
        "print(classification_report(y_test, y_pred1))"
      ],
      "metadata": {
        "colab": {
          "base_uri": "https://localhost:8080/"
        },
        "id": "j_iKTK4ia-xj",
        "outputId": "ed1c200e-d292-4d04-85da-6b40b6f9baec"
      },
      "execution_count": null,
      "outputs": [
        {
          "output_type": "stream",
          "name": "stdout",
          "text": [
            "              precision    recall  f1-score   support\n",
            "\n",
            "           0       0.87      0.69      0.77      9963\n",
            "           1       0.75      0.90      0.82     10104\n",
            "\n",
            "    accuracy                           0.80     20067\n",
            "   macro avg       0.81      0.80      0.79     20067\n",
            "weighted avg       0.81      0.80      0.79     20067\n",
            "\n"
          ]
        }
      ]
    },
    {
      "cell_type": "code",
      "source": [
        "print(f'AUC score: {roc_auc_score(y_test, y_pred1)}')\n",
        "print(f'Recall score: {recall_score(y_test, y_pred1)}')"
      ],
      "metadata": {
        "colab": {
          "base_uri": "https://localhost:8080/"
        },
        "id": "Q8vIDfgbbFvE",
        "outputId": "d435e869-8c40-4d45-9c08-649c3d6599d3"
      },
      "execution_count": null,
      "outputs": [
        {
          "output_type": "stream",
          "name": "stdout",
          "text": [
            "AUC score: 0.7955643571237331\n",
            "Recall score: 0.8977632620744259\n"
          ]
        }
      ]
    },
    {
      "cell_type": "markdown",
      "metadata": {
        "id": "bIEDQM3TZBGY"
      },
      "source": [
        "<h2> Linear SVC </h2>"
      ]
    },
    {
      "cell_type": "code",
      "execution_count": null,
      "metadata": {
        "id": "fPTt8TcmZEOc"
      },
      "outputs": [],
      "source": [
        "# cross validation function\n",
        "def get_score2(C, max_iter):\n",
        "  lsvc = LinearSVC(C=C, max_iter=max_iter, random_state=0, dual=False)\n",
        "  scores = cross_validate(lsvc, X_train, y_train,\n",
        "                          scoring=('roc_auc', 'recall', 'f1'))\n",
        "  return scores['test_roc_auc'].mean(), scores['test_recall'].mean(), \\\n",
        "  scores['test_f1'].mean()"
      ]
    },
    {
      "cell_type": "code",
      "execution_count": null,
      "metadata": {
        "id": "ONJgqWqTr7kU"
      },
      "outputs": [],
      "source": [
        "# hyperparameter tuning\n",
        "C = [1.0, 2.0, 3.0, 4.0, 5.0]\n",
        "results2 = {}\n",
        "for i in C:\n",
        "    results2[i, 1000*i] = get_score2(i, 1000*i)"
      ]
    },
    {
      "cell_type": "code",
      "execution_count": null,
      "metadata": {
        "colab": {
          "base_uri": "https://localhost:8080/",
          "height": 206
        },
        "id": "1biie6elgwN-",
        "outputId": "54d051a4-7135-41d5-fa6d-265e539662ea"
      },
      "outputs": [
        {
          "output_type": "execute_result",
          "data": {
            "text/plain": [
              "     C  max_iter  AUC Score  Recall Score  F1 Score\n",
              "3  4.0    4000.0   0.866106      0.915459  0.810053\n",
              "4  5.0    5000.0   0.866133      0.915426  0.810072\n",
              "0  1.0    1000.0   0.865560      0.915360  0.810001\n",
              "1  2.0    2000.0   0.865560      0.915360  0.810001\n",
              "2  3.0    3000.0   0.865560      0.915360  0.810001"
            ],
            "text/html": [
              "\n",
              "  <div id=\"df-f9b031f0-e9a9-4a5c-a024-daed8299ad6f\">\n",
              "    <div class=\"colab-df-container\">\n",
              "      <div>\n",
              "<style scoped>\n",
              "    .dataframe tbody tr th:only-of-type {\n",
              "        vertical-align: middle;\n",
              "    }\n",
              "\n",
              "    .dataframe tbody tr th {\n",
              "        vertical-align: top;\n",
              "    }\n",
              "\n",
              "    .dataframe thead th {\n",
              "        text-align: right;\n",
              "    }\n",
              "</style>\n",
              "<table border=\"1\" class=\"dataframe\">\n",
              "  <thead>\n",
              "    <tr style=\"text-align: right;\">\n",
              "      <th></th>\n",
              "      <th>C</th>\n",
              "      <th>max_iter</th>\n",
              "      <th>AUC Score</th>\n",
              "      <th>Recall Score</th>\n",
              "      <th>F1 Score</th>\n",
              "    </tr>\n",
              "  </thead>\n",
              "  <tbody>\n",
              "    <tr>\n",
              "      <th>3</th>\n",
              "      <td>4.0</td>\n",
              "      <td>4000.0</td>\n",
              "      <td>0.866106</td>\n",
              "      <td>0.915459</td>\n",
              "      <td>0.810053</td>\n",
              "    </tr>\n",
              "    <tr>\n",
              "      <th>4</th>\n",
              "      <td>5.0</td>\n",
              "      <td>5000.0</td>\n",
              "      <td>0.866133</td>\n",
              "      <td>0.915426</td>\n",
              "      <td>0.810072</td>\n",
              "    </tr>\n",
              "    <tr>\n",
              "      <th>0</th>\n",
              "      <td>1.0</td>\n",
              "      <td>1000.0</td>\n",
              "      <td>0.865560</td>\n",
              "      <td>0.915360</td>\n",
              "      <td>0.810001</td>\n",
              "    </tr>\n",
              "    <tr>\n",
              "      <th>1</th>\n",
              "      <td>2.0</td>\n",
              "      <td>2000.0</td>\n",
              "      <td>0.865560</td>\n",
              "      <td>0.915360</td>\n",
              "      <td>0.810001</td>\n",
              "    </tr>\n",
              "    <tr>\n",
              "      <th>2</th>\n",
              "      <td>3.0</td>\n",
              "      <td>3000.0</td>\n",
              "      <td>0.865560</td>\n",
              "      <td>0.915360</td>\n",
              "      <td>0.810001</td>\n",
              "    </tr>\n",
              "  </tbody>\n",
              "</table>\n",
              "</div>\n",
              "      <button class=\"colab-df-convert\" onclick=\"convertToInteractive('df-f9b031f0-e9a9-4a5c-a024-daed8299ad6f')\"\n",
              "              title=\"Convert this dataframe to an interactive table.\"\n",
              "              style=\"display:none;\">\n",
              "        \n",
              "  <svg xmlns=\"http://www.w3.org/2000/svg\" height=\"24px\"viewBox=\"0 0 24 24\"\n",
              "       width=\"24px\">\n",
              "    <path d=\"M0 0h24v24H0V0z\" fill=\"none\"/>\n",
              "    <path d=\"M18.56 5.44l.94 2.06.94-2.06 2.06-.94-2.06-.94-.94-2.06-.94 2.06-2.06.94zm-11 1L8.5 8.5l.94-2.06 2.06-.94-2.06-.94L8.5 2.5l-.94 2.06-2.06.94zm10 10l.94 2.06.94-2.06 2.06-.94-2.06-.94-.94-2.06-.94 2.06-2.06.94z\"/><path d=\"M17.41 7.96l-1.37-1.37c-.4-.4-.92-.59-1.43-.59-.52 0-1.04.2-1.43.59L10.3 9.45l-7.72 7.72c-.78.78-.78 2.05 0 2.83L4 21.41c.39.39.9.59 1.41.59.51 0 1.02-.2 1.41-.59l7.78-7.78 2.81-2.81c.8-.78.8-2.07 0-2.86zM5.41 20L4 18.59l7.72-7.72 1.47 1.35L5.41 20z\"/>\n",
              "  </svg>\n",
              "      </button>\n",
              "      \n",
              "  <style>\n",
              "    .colab-df-container {\n",
              "      display:flex;\n",
              "      flex-wrap:wrap;\n",
              "      gap: 12px;\n",
              "    }\n",
              "\n",
              "    .colab-df-convert {\n",
              "      background-color: #E8F0FE;\n",
              "      border: none;\n",
              "      border-radius: 50%;\n",
              "      cursor: pointer;\n",
              "      display: none;\n",
              "      fill: #1967D2;\n",
              "      height: 32px;\n",
              "      padding: 0 0 0 0;\n",
              "      width: 32px;\n",
              "    }\n",
              "\n",
              "    .colab-df-convert:hover {\n",
              "      background-color: #E2EBFA;\n",
              "      box-shadow: 0px 1px 2px rgba(60, 64, 67, 0.3), 0px 1px 3px 1px rgba(60, 64, 67, 0.15);\n",
              "      fill: #174EA6;\n",
              "    }\n",
              "\n",
              "    [theme=dark] .colab-df-convert {\n",
              "      background-color: #3B4455;\n",
              "      fill: #D2E3FC;\n",
              "    }\n",
              "\n",
              "    [theme=dark] .colab-df-convert:hover {\n",
              "      background-color: #434B5C;\n",
              "      box-shadow: 0px 1px 3px 1px rgba(0, 0, 0, 0.15);\n",
              "      filter: drop-shadow(0px 1px 2px rgba(0, 0, 0, 0.3));\n",
              "      fill: #FFFFFF;\n",
              "    }\n",
              "  </style>\n",
              "\n",
              "      <script>\n",
              "        const buttonEl =\n",
              "          document.querySelector('#df-f9b031f0-e9a9-4a5c-a024-daed8299ad6f button.colab-df-convert');\n",
              "        buttonEl.style.display =\n",
              "          google.colab.kernel.accessAllowed ? 'block' : 'none';\n",
              "\n",
              "        async function convertToInteractive(key) {\n",
              "          const element = document.querySelector('#df-f9b031f0-e9a9-4a5c-a024-daed8299ad6f');\n",
              "          const dataTable =\n",
              "            await google.colab.kernel.invokeFunction('convertToInteractive',\n",
              "                                                     [key], {});\n",
              "          if (!dataTable) return;\n",
              "\n",
              "          const docLinkHtml = 'Like what you see? Visit the ' +\n",
              "            '<a target=\"_blank\" href=https://colab.research.google.com/notebooks/data_table.ipynb>data table notebook</a>'\n",
              "            + ' to learn more about interactive tables.';\n",
              "          element.innerHTML = '';\n",
              "          dataTable['output_type'] = 'display_data';\n",
              "          await google.colab.output.renderOutput(dataTable, element);\n",
              "          const docLink = document.createElement('div');\n",
              "          docLink.innerHTML = docLinkHtml;\n",
              "          element.appendChild(docLink);\n",
              "        }\n",
              "      </script>\n",
              "    </div>\n",
              "  </div>\n",
              "  "
            ]
          },
          "metadata": {},
          "execution_count": 72
        }
      ],
      "source": [
        "cv_results2 = pd.DataFrame(results2).transpose()\n",
        "cv_results2 = cv_results2.reset_index()\n",
        "cv_results2 = cv_results2.rename(columns={'level_0': 'C', 'level_1': 'max_iter',\n",
        "                                          0: 'AUC Score', 1: 'Recall Score', \n",
        "                                          2: 'F1 Score'})\n",
        "cv_results2 = cv_results2.sort_values(by=['Recall Score'], ascending=False)\n",
        "cv_results2"
      ]
    },
    {
      "cell_type": "markdown",
      "metadata": {
        "id": "9cCFWGjGhm4Y"
      },
      "source": [
        "<h3> Testing set </h2>"
      ]
    },
    {
      "cell_type": "code",
      "source": [
        "lsvc = LinearSVC(random_state=0, C=4.0, max_iter=4000)"
      ],
      "metadata": {
        "id": "PfxjZpPoYTmS"
      },
      "execution_count": null,
      "outputs": []
    },
    {
      "cell_type": "code",
      "execution_count": null,
      "metadata": {
        "id": "O8hbMe8xhpoE",
        "colab": {
          "base_uri": "https://localhost:8080/"
        },
        "outputId": "1def9e93-c0ad-4a9f-e880-ef2bfe91d51b"
      },
      "outputs": [
        {
          "output_type": "stream",
          "name": "stderr",
          "text": [
            "/usr/local/lib/python3.7/dist-packages/sklearn/svm/_base.py:1208: ConvergenceWarning: Liblinear failed to converge, increase the number of iterations.\n",
            "  ConvergenceWarning,\n"
          ]
        },
        {
          "output_type": "execute_result",
          "data": {
            "text/plain": [
              "LinearSVC(C=4.0, max_iter=4000, random_state=0)"
            ]
          },
          "metadata": {},
          "execution_count": 22
        }
      ],
      "source": [
        "lsvc.fit(X_train, y_train)"
      ]
    },
    {
      "cell_type": "code",
      "source": [
        "y_pred2 = lsvc.predict(X_test)"
      ],
      "metadata": {
        "id": "xPIx6-X-Y5Uw"
      },
      "execution_count": null,
      "outputs": []
    },
    {
      "cell_type": "code",
      "source": [
        "from sklearn.metrics import confusion_matrix\n",
        "confusion_matrix(y_test, y_pred2)"
      ],
      "metadata": {
        "colab": {
          "base_uri": "https://localhost:8080/"
        },
        "id": "rQzHLuDcZVyO",
        "outputId": "a0329f6a-c226-4f6a-b7a3-5a897b7fffcb"
      },
      "execution_count": null,
      "outputs": [
        {
          "output_type": "execute_result",
          "data": {
            "text/plain": [
              "array([[4335, 5628],\n",
              "       [ 491, 9613]])"
            ]
          },
          "metadata": {},
          "execution_count": 24
        }
      ]
    },
    {
      "cell_type": "code",
      "source": [
        "plt.figure(figsize=(9, 5))\n",
        "\n",
        "cf_matrix = confusion_matrix(y_test, y_pred2)\n",
        "group_names = ['True Negative', 'False Positive', 'False Negative',\n",
        "               'True Positive']\n",
        "group_counts = ['{0:0.0f}'.format(value) for value in\n",
        "                cf_matrix.flatten()]\n",
        "group_percentages = ['{0:.2%}'.format(value) for value in\n",
        "                     cf_matrix.flatten()/np.sum(cf_matrix)]\n",
        "labels = [f'{v1}\\n{v2}\\n{v3}' for v1, v2, v3 in\n",
        "          zip(group_names,group_counts,group_percentages)]\n",
        "labels = np.asarray(labels).reshape(2,2)\n",
        "\n",
        "sns.set(font_scale=1.5)\n",
        "sns.heatmap(cf_matrix, annot=labels, fmt='', cmap='Blues').set(\n",
        "    xlabel='Predicted data', ylabel='Actual data')"
      ],
      "metadata": {
        "colab": {
          "base_uri": "https://localhost:8080/",
          "height": 369
        },
        "id": "i8rn0A1eo78M",
        "outputId": "a21fc8f6-58c7-4a9e-8b52-787d1e492d1b"
      },
      "execution_count": null,
      "outputs": [
        {
          "output_type": "execute_result",
          "data": {
            "text/plain": [
              "[Text(49.5, 0.5, 'Actual data'), Text(0.5, 13.5, 'Predicted data')]"
            ]
          },
          "metadata": {},
          "execution_count": 25
        },
        {
          "output_type": "display_data",
          "data": {
            "text/plain": [
              "<Figure size 648x360 with 2 Axes>"
            ],
            "image/png": "[encoded data removed]"
          },
          "metadata": {}
        }
      ]
    },
    {
      "cell_type": "code",
      "source": [
        "# test set\n",
        "from sklearn.metrics import classification_report\n",
        "print(classification_report(y_test, y_pred2))"
      ],
      "metadata": {
        "colab": {
          "base_uri": "https://localhost:8080/"
        },
        "id": "5Us9OgEzZftU",
        "outputId": "88314d13-779c-4aaa-b2b3-ee94e08dfe94"
      },
      "execution_count": null,
      "outputs": [
        {
          "output_type": "stream",
          "name": "stdout",
          "text": [
            "              precision    recall  f1-score   support\n",
            "\n",
            "           0       0.90      0.44      0.59      9963\n",
            "           1       0.63      0.95      0.76     10104\n",
            "\n",
            "    accuracy                           0.70     20067\n",
            "   macro avg       0.76      0.69      0.67     20067\n",
            "weighted avg       0.76      0.70      0.67     20067\n",
            "\n"
          ]
        }
      ]
    },
    {
      "cell_type": "code",
      "source": [
        "print(f'AUC score: {roc_auc_score(y_test, y_pred2)}')\n",
        "print(f'Recall score: {recall_score(y_test, y_pred2)}')"
      ],
      "metadata": {
        "colab": {
          "base_uri": "https://localhost:8080/"
        },
        "id": "nxhP5xOeZgXW",
        "outputId": "2c3a03ee-7521-482c-8eef-0702c430ba05"
      },
      "execution_count": null,
      "outputs": [
        {
          "output_type": "stream",
          "name": "stdout",
          "text": [
            "AUC score: 0.6932576453304782\n",
            "Recall score: 0.9514053840063341\n"
          ]
        }
      ]
    },
    {
      "cell_type": "markdown",
      "metadata": {
        "id": "Fl2ZEmwPZh7w"
      },
      "source": [
        "<h2> Naive Bayes </h2>"
      ]
    },
    {
      "cell_type": "code",
      "execution_count": null,
      "metadata": {
        "id": "aFnBZvoAZlRJ"
      },
      "outputs": [],
      "source": [
        "# cross validation function\n",
        "def get_score3(var_smoothing):\n",
        "  gnb = GaussianNB(var_smoothing=var_smoothing)\n",
        "  scores = cross_validate(gnb, X_train, y_train,\n",
        "                          scoring=('roc_auc', 'recall', 'f1'))\n",
        "  return scores['test_roc_auc'].mean(), scores['test_recall'].mean(), \\\n",
        "  scores['test_f1'].mean()"
      ]
    },
    {
      "cell_type": "code",
      "execution_count": null,
      "metadata": {
        "id": "WFUrI06CZnQu"
      },
      "outputs": [],
      "source": [
        "# hyperparameter tuning\n",
        "results3 = {}\n",
        "for i in np.logspace(0, -9, num=100):\n",
        "    results3[i] = get_score3(i)"
      ]
    },
    {
      "cell_type": "code",
      "source": [
        "cv_results3 = pd.DataFrame(results3).transpose()\n",
        "cv_results3 = cv_results3.reset_index()\n",
        "cv_results3 = cv_results3.rename(columns={'index': 'var_smoothing',\n",
        "                                          0: 'AUC Score', 1: 'Recall Score', \n",
        "                                          2: 'F1 Score'})\n",
        "cv_results3 = cv_results3.sort_values(by=['Recall Score'], ascending=False)\n",
        "cv_results3.head()"
      ],
      "metadata": {
        "colab": {
          "base_uri": "https://localhost:8080/",
          "height": 206
        },
        "id": "VtqhGDuMf5_F",
        "outputId": "5d13f4e2-7997-4cb2-8adc-82d2c6b2b8c8"
      },
      "execution_count": null,
      "outputs": [
        {
          "output_type": "execute_result",
          "data": {
            "text/plain": [
              "    var_smoothing  AUC Score  Recall Score  F1 Score\n",
              "94   2.848036e-09   0.841705      0.682856  0.734833\n",
              "96   1.873817e-09   0.841813      0.682823  0.734823\n",
              "95   2.310130e-09   0.841754      0.682823  0.734811\n",
              "93   3.511192e-09   0.841660      0.682790  0.734776\n",
              "97   1.519911e-09   0.841881      0.682790  0.734932"
            ],
            "text/html": [
              "\n",
              "  <div id=\"df-abb69fe2-9e7f-4cdd-9dba-c8525997754c\">\n",
              "    <div class=\"colab-df-container\">\n",
              "      <div>\n",
              "<style scoped>\n",
              "    .dataframe tbody tr th:only-of-type {\n",
              "        vertical-align: middle;\n",
              "    }\n",
              "\n",
              "    .dataframe tbody tr th {\n",
              "        vertical-align: top;\n",
              "    }\n",
              "\n",
              "    .dataframe thead th {\n",
              "        text-align: right;\n",
              "    }\n",
              "</style>\n",
              "<table border=\"1\" class=\"dataframe\">\n",
              "  <thead>\n",
              "    <tr style=\"text-align: right;\">\n",
              "      <th></th>\n",
              "      <th>var_smoothing</th>\n",
              "      <th>AUC Score</th>\n",
              "      <th>Recall Score</th>\n",
              "      <th>F1 Score</th>\n",
              "    </tr>\n",
              "  </thead>\n",
              "  <tbody>\n",
              "    <tr>\n",
              "      <th>94</th>\n",
              "      <td>2.848036e-09</td>\n",
              "      <td>0.841705</td>\n",
              "      <td>0.682856</td>\n",
              "      <td>0.734833</td>\n",
              "    </tr>\n",
              "    <tr>\n",
              "      <th>96</th>\n",
              "      <td>1.873817e-09</td>\n",
              "      <td>0.841813</td>\n",
              "      <td>0.682823</td>\n",
              "      <td>0.734823</td>\n",
              "    </tr>\n",
              "    <tr>\n",
              "      <th>95</th>\n",
              "      <td>2.310130e-09</td>\n",
              "      <td>0.841754</td>\n",
              "      <td>0.682823</td>\n",
              "      <td>0.734811</td>\n",
              "    </tr>\n",
              "    <tr>\n",
              "      <th>93</th>\n",
              "      <td>3.511192e-09</td>\n",
              "      <td>0.841660</td>\n",
              "      <td>0.682790</td>\n",
              "      <td>0.734776</td>\n",
              "    </tr>\n",
              "    <tr>\n",
              "      <th>97</th>\n",
              "      <td>1.519911e-09</td>\n",
              "      <td>0.841881</td>\n",
              "      <td>0.682790</td>\n",
              "      <td>0.734932</td>\n",
              "    </tr>\n",
              "  </tbody>\n",
              "</table>\n",
              "</div>\n",
              "      <button class=\"colab-df-convert\" onclick=\"convertToInteractive('df-abb69fe2-9e7f-4cdd-9dba-c8525997754c')\"\n",
              "              title=\"Convert this dataframe to an interactive table.\"\n",
              "              style=\"display:none;\">\n",
              "        \n",
              "  <svg xmlns=\"http://www.w3.org/2000/svg\" height=\"24px\"viewBox=\"0 0 24 24\"\n",
              "       width=\"24px\">\n",
              "    <path d=\"M0 0h24v24H0V0z\" fill=\"none\"/>\n",
              "    <path d=\"M18.56 5.44l.94 2.06.94-2.06 2.06-.94-2.06-.94-.94-2.06-.94 2.06-2.06.94zm-11 1L8.5 8.5l.94-2.06 2.06-.94-2.06-.94L8.5 2.5l-.94 2.06-2.06.94zm10 10l.94 2.06.94-2.06 2.06-.94-2.06-.94-.94-2.06-.94 2.06-2.06.94z\"/><path d=\"M17.41 7.96l-1.37-1.37c-.4-.4-.92-.59-1.43-.59-.52 0-1.04.2-1.43.59L10.3 9.45l-7.72 7.72c-.78.78-.78 2.05 0 2.83L4 21.41c.39.39.9.59 1.41.59.51 0 1.02-.2 1.41-.59l7.78-7.78 2.81-2.81c.8-.78.8-2.07 0-2.86zM5.41 20L4 18.59l7.72-7.72 1.47 1.35L5.41 20z\"/>\n",
              "  </svg>\n",
              "      </button>\n",
              "      \n",
              "  <style>\n",
              "    .colab-df-container {\n",
              "      display:flex;\n",
              "      flex-wrap:wrap;\n",
              "      gap: 12px;\n",
              "    }\n",
              "\n",
              "    .colab-df-convert {\n",
              "      background-color: #E8F0FE;\n",
              "      border: none;\n",
              "      border-radius: 50%;\n",
              "      cursor: pointer;\n",
              "      display: none;\n",
              "      fill: #1967D2;\n",
              "      height: 32px;\n",
              "      padding: 0 0 0 0;\n",
              "      width: 32px;\n",
              "    }\n",
              "\n",
              "    .colab-df-convert:hover {\n",
              "      background-color: #E2EBFA;\n",
              "      box-shadow: 0px 1px 2px rgba(60, 64, 67, 0.3), 0px 1px 3px 1px rgba(60, 64, 67, 0.15);\n",
              "      fill: #174EA6;\n",
              "    }\n",
              "\n",
              "    [theme=dark] .colab-df-convert {\n",
              "      background-color: #3B4455;\n",
              "      fill: #D2E3FC;\n",
              "    }\n",
              "\n",
              "    [theme=dark] .colab-df-convert:hover {\n",
              "      background-color: #434B5C;\n",
              "      box-shadow: 0px 1px 3px 1px rgba(0, 0, 0, 0.15);\n",
              "      filter: drop-shadow(0px 1px 2px rgba(0, 0, 0, 0.3));\n",
              "      fill: #FFFFFF;\n",
              "    }\n",
              "  </style>\n",
              "\n",
              "      <script>\n",
              "        const buttonEl =\n",
              "          document.querySelector('#df-abb69fe2-9e7f-4cdd-9dba-c8525997754c button.colab-df-convert');\n",
              "        buttonEl.style.display =\n",
              "          google.colab.kernel.accessAllowed ? 'block' : 'none';\n",
              "\n",
              "        async function convertToInteractive(key) {\n",
              "          const element = document.querySelector('#df-abb69fe2-9e7f-4cdd-9dba-c8525997754c');\n",
              "          const dataTable =\n",
              "            await google.colab.kernel.invokeFunction('convertToInteractive',\n",
              "                                                     [key], {});\n",
              "          if (!dataTable) return;\n",
              "\n",
              "          const docLinkHtml = 'Like what you see? Visit the ' +\n",
              "            '<a target=\"_blank\" href=https://colab.research.google.com/notebooks/data_table.ipynb>data table notebook</a>'\n",
              "            + ' to learn more about interactive tables.';\n",
              "          element.innerHTML = '';\n",
              "          dataTable['output_type'] = 'display_data';\n",
              "          await google.colab.output.renderOutput(dataTable, element);\n",
              "          const docLink = document.createElement('div');\n",
              "          docLink.innerHTML = docLinkHtml;\n",
              "          element.appendChild(docLink);\n",
              "        }\n",
              "      </script>\n",
              "    </div>\n",
              "  </div>\n",
              "  "
            ]
          },
          "metadata": {},
          "execution_count": 76
        }
      ]
    },
    {
      "cell_type": "markdown",
      "source": [
        "<h3> Testing set </h3>"
      ],
      "metadata": {
        "id": "FbWwGaQ-gOEm"
      }
    },
    {
      "cell_type": "code",
      "source": [
        "gnb = GaussianNB(var_smoothing=2.848036e-09)"
      ],
      "metadata": {
        "id": "iCgDBYFhgQWv"
      },
      "execution_count": null,
      "outputs": []
    },
    {
      "cell_type": "code",
      "source": [
        "gnb.fit(X_train, y_train)"
      ],
      "metadata": {
        "colab": {
          "base_uri": "https://localhost:8080/"
        },
        "id": "cHQRUGrrgW8O",
        "outputId": "90e7cc7f-e5ef-45d5-f3cb-fa9888709524"
      },
      "execution_count": null,
      "outputs": [
        {
          "output_type": "execute_result",
          "data": {
            "text/plain": [
              "GaussianNB(var_smoothing=2.848036e-09)"
            ]
          },
          "metadata": {},
          "execution_count": 29
        }
      ]
    },
    {
      "cell_type": "code",
      "source": [
        "y_pred3 = gnb.predict(X_test)"
      ],
      "metadata": {
        "id": "G8cxzbOXgdnA"
      },
      "execution_count": null,
      "outputs": []
    },
    {
      "cell_type": "code",
      "source": [
        "from sklearn.metrics import confusion_matrix\n",
        "confusion_matrix(y_test, y_pred3)"
      ],
      "metadata": {
        "colab": {
          "base_uri": "https://localhost:8080/"
        },
        "id": "w0VIEkvigiDk",
        "outputId": "28c541a9-666f-4b0e-ffb3-17c43568207e"
      },
      "execution_count": null,
      "outputs": [
        {
          "output_type": "execute_result",
          "data": {
            "text/plain": [
              "array([[8171, 1792],\n",
              "       [3146, 6958]])"
            ]
          },
          "metadata": {},
          "execution_count": 31
        }
      ]
    },
    {
      "cell_type": "code",
      "source": [
        "plt.figure(figsize=(9, 5))\n",
        "\n",
        "cf_matrix = confusion_matrix(y_test, y_pred3)\n",
        "group_names = ['True Negative', 'False Positive', 'False Negative',\n",
        "               'True Positive']\n",
        "group_counts = ['{0:0.0f}'.format(value) for value in\n",
        "                cf_matrix.flatten()]\n",
        "group_percentages = ['{0:.2%}'.format(value) for value in\n",
        "                     cf_matrix.flatten()/np.sum(cf_matrix)]\n",
        "labels = [f'{v1}\\n{v2}\\n{v3}' for v1, v2, v3 in\n",
        "          zip(group_names,group_counts,group_percentages)]\n",
        "labels = np.asarray(labels).reshape(2,2)\n",
        "\n",
        "sns.set(font_scale=1.5)\n",
        "sns.heatmap(cf_matrix, annot=labels, fmt='', cmap='Blues').set(\n",
        "    xlabel='Predicted data', ylabel='Actual data')"
      ],
      "metadata": {
        "colab": {
          "base_uri": "https://localhost:8080/",
          "height": 369
        },
        "id": "Z-N-TN8fqjSk",
        "outputId": "194b6c0c-c8be-4b48-f0f9-1cc803704388"
      },
      "execution_count": null,
      "outputs": [
        {
          "output_type": "execute_result",
          "data": {
            "text/plain": [
              "[Text(49.5, 0.5, 'Actual data'), Text(0.5, 13.5, 'Predicted data')]"
            ]
          },
          "metadata": {},
          "execution_count": 39
        },
        {
          "output_type": "display_data",
          "data": {
            "text/plain": [
              "<Figure size 648x360 with 2 Axes>"
            ],
            "image/png": "[encoded data removed]"
          },
          "metadata": {}
        }
      ]
    },
    {
      "cell_type": "code",
      "source": [
        "# test set\n",
        "from sklearn.metrics import classification_report\n",
        "print(classification_report(y_test, y_pred3))"
      ],
      "metadata": {
        "colab": {
          "base_uri": "https://localhost:8080/"
        },
        "id": "nHipKdxggl2m",
        "outputId": "5a8c0321-3bd1-4bb3-8cde-a93b36a3bf78"
      },
      "execution_count": null,
      "outputs": [
        {
          "output_type": "stream",
          "name": "stdout",
          "text": [
            "              precision    recall  f1-score   support\n",
            "\n",
            "           0       0.72      0.82      0.77      9963\n",
            "           1       0.80      0.69      0.74     10104\n",
            "\n",
            "    accuracy                           0.75     20067\n",
            "   macro avg       0.76      0.75      0.75     20067\n",
            "weighted avg       0.76      0.75      0.75     20067\n",
            "\n"
          ]
        }
      ]
    },
    {
      "cell_type": "code",
      "source": [
        "print(f'AUC score: {roc_auc_score(y_test, y_pred3)}')\n",
        "print(f'Recall score: {recall_score(y_test, y_pred3)}')"
      ],
      "metadata": {
        "colab": {
          "base_uri": "https://localhost:8080/"
        },
        "id": "mrZYek9kgrDa",
        "outputId": "e7191bae-1592-4ca7-9701-0255b1509d3a"
      },
      "execution_count": null,
      "outputs": [
        {
          "output_type": "stream",
          "name": "stdout",
          "text": [
            "AUC score: 0.754386330372497\n",
            "Recall score: 0.6886381631037213\n"
          ]
        }
      ]
    },
    {
      "cell_type": "markdown",
      "metadata": {
        "id": "Kc5sQEopaMcE"
      },
      "source": [
        "<h2> Random Forest Classifier </h2>"
      ]
    },
    {
      "cell_type": "code",
      "execution_count": null,
      "metadata": {
        "id": "nkMXgWmvaPy4"
      },
      "outputs": [],
      "source": [
        "# cross validation function\n",
        "def get_score4(n_estimators, max_depth):\n",
        "  rfc = RandomForestClassifier(n_estimators=n_estimators, \n",
        "                               random_state=0, max_depth=max_depth)\n",
        "  scores = cross_validate(rfc, X_train, y_train,\n",
        "                          scoring=('roc_auc', 'recall', 'f1'))\n",
        "  return scores['test_roc_auc'].mean(), scores['test_recall'].mean(), \\\n",
        "  scores['test_f1'].mean()"
      ]
    },
    {
      "cell_type": "code",
      "execution_count": null,
      "metadata": {
        "id": "eXi9tuXCaYXf"
      },
      "outputs": [],
      "source": [
        "# hyperparameter tuning\n",
        "results4 = {}\n",
        "for i in range(1, 6):\n",
        "    results4[100*i, 10*i] = get_score4(100*i, 10*i)"
      ]
    },
    {
      "cell_type": "code",
      "execution_count": null,
      "metadata": {
        "colab": {
          "base_uri": "https://localhost:8080/",
          "height": 206
        },
        "id": "sAYYMdHctu4j",
        "outputId": "456025ba-e102-4050-c229-25780b3a7fc2"
      },
      "outputs": [
        {
          "output_type": "execute_result",
          "data": {
            "text/plain": [
              "   n_estimators  max_depth  AUC Score  Recall Score  F1 Score\n",
              "4           500         50   0.995077      0.960415  0.968182\n",
              "3           400         40   0.995072      0.960150  0.968092\n",
              "2           300         30   0.995039      0.960150  0.967833\n",
              "1           200         20   0.994950      0.960017  0.968104\n",
              "0           100         10   0.994090      0.953851  0.964659"
            ],
            "text/html": [
              "\n",
              "  <div id=\"df-08d9b900-e5d5-48db-9cd3-05b63f7fac97\">\n",
              "    <div class=\"colab-df-container\">\n",
              "      <div>\n",
              "<style scoped>\n",
              "    .dataframe tbody tr th:only-of-type {\n",
              "        vertical-align: middle;\n",
              "    }\n",
              "\n",
              "    .dataframe tbody tr th {\n",
              "        vertical-align: top;\n",
              "    }\n",
              "\n",
              "    .dataframe thead th {\n",
              "        text-align: right;\n",
              "    }\n",
              "</style>\n",
              "<table border=\"1\" class=\"dataframe\">\n",
              "  <thead>\n",
              "    <tr style=\"text-align: right;\">\n",
              "      <th></th>\n",
              "      <th>n_estimators</th>\n",
              "      <th>max_depth</th>\n",
              "      <th>AUC Score</th>\n",
              "      <th>Recall Score</th>\n",
              "      <th>F1 Score</th>\n",
              "    </tr>\n",
              "  </thead>\n",
              "  <tbody>\n",
              "    <tr>\n",
              "      <th>4</th>\n",
              "      <td>500</td>\n",
              "      <td>50</td>\n",
              "      <td>0.995077</td>\n",
              "      <td>0.960415</td>\n",
              "      <td>0.968182</td>\n",
              "    </tr>\n",
              "    <tr>\n",
              "      <th>3</th>\n",
              "      <td>400</td>\n",
              "      <td>40</td>\n",
              "      <td>0.995072</td>\n",
              "      <td>0.960150</td>\n",
              "      <td>0.968092</td>\n",
              "    </tr>\n",
              "    <tr>\n",
              "      <th>2</th>\n",
              "      <td>300</td>\n",
              "      <td>30</td>\n",
              "      <td>0.995039</td>\n",
              "      <td>0.960150</td>\n",
              "      <td>0.967833</td>\n",
              "    </tr>\n",
              "    <tr>\n",
              "      <th>1</th>\n",
              "      <td>200</td>\n",
              "      <td>20</td>\n",
              "      <td>0.994950</td>\n",
              "      <td>0.960017</td>\n",
              "      <td>0.968104</td>\n",
              "    </tr>\n",
              "    <tr>\n",
              "      <th>0</th>\n",
              "      <td>100</td>\n",
              "      <td>10</td>\n",
              "      <td>0.994090</td>\n",
              "      <td>0.953851</td>\n",
              "      <td>0.964659</td>\n",
              "    </tr>\n",
              "  </tbody>\n",
              "</table>\n",
              "</div>\n",
              "      <button class=\"colab-df-convert\" onclick=\"convertToInteractive('df-08d9b900-e5d5-48db-9cd3-05b63f7fac97')\"\n",
              "              title=\"Convert this dataframe to an interactive table.\"\n",
              "              style=\"display:none;\">\n",
              "        \n",
              "  <svg xmlns=\"http://www.w3.org/2000/svg\" height=\"24px\"viewBox=\"0 0 24 24\"\n",
              "       width=\"24px\">\n",
              "    <path d=\"M0 0h24v24H0V0z\" fill=\"none\"/>\n",
              "    <path d=\"M18.56 5.44l.94 2.06.94-2.06 2.06-.94-2.06-.94-.94-2.06-.94 2.06-2.06.94zm-11 1L8.5 8.5l.94-2.06 2.06-.94-2.06-.94L8.5 2.5l-.94 2.06-2.06.94zm10 10l.94 2.06.94-2.06 2.06-.94-2.06-.94-.94-2.06-.94 2.06-2.06.94z\"/><path d=\"M17.41 7.96l-1.37-1.37c-.4-.4-.92-.59-1.43-.59-.52 0-1.04.2-1.43.59L10.3 9.45l-7.72 7.72c-.78.78-.78 2.05 0 2.83L4 21.41c.39.39.9.59 1.41.59.51 0 1.02-.2 1.41-.59l7.78-7.78 2.81-2.81c.8-.78.8-2.07 0-2.86zM5.41 20L4 18.59l7.72-7.72 1.47 1.35L5.41 20z\"/>\n",
              "  </svg>\n",
              "      </button>\n",
              "      \n",
              "  <style>\n",
              "    .colab-df-container {\n",
              "      display:flex;\n",
              "      flex-wrap:wrap;\n",
              "      gap: 12px;\n",
              "    }\n",
              "\n",
              "    .colab-df-convert {\n",
              "      background-color: #E8F0FE;\n",
              "      border: none;\n",
              "      border-radius: 50%;\n",
              "      cursor: pointer;\n",
              "      display: none;\n",
              "      fill: #1967D2;\n",
              "      height: 32px;\n",
              "      padding: 0 0 0 0;\n",
              "      width: 32px;\n",
              "    }\n",
              "\n",
              "    .colab-df-convert:hover {\n",
              "      background-color: #E2EBFA;\n",
              "      box-shadow: 0px 1px 2px rgba(60, 64, 67, 0.3), 0px 1px 3px 1px rgba(60, 64, 67, 0.15);\n",
              "      fill: #174EA6;\n",
              "    }\n",
              "\n",
              "    [theme=dark] .colab-df-convert {\n",
              "      background-color: #3B4455;\n",
              "      fill: #D2E3FC;\n",
              "    }\n",
              "\n",
              "    [theme=dark] .colab-df-convert:hover {\n",
              "      background-color: #434B5C;\n",
              "      box-shadow: 0px 1px 3px 1px rgba(0, 0, 0, 0.15);\n",
              "      filter: drop-shadow(0px 1px 2px rgba(0, 0, 0, 0.3));\n",
              "      fill: #FFFFFF;\n",
              "    }\n",
              "  </style>\n",
              "\n",
              "      <script>\n",
              "        const buttonEl =\n",
              "          document.querySelector('#df-08d9b900-e5d5-48db-9cd3-05b63f7fac97 button.colab-df-convert');\n",
              "        buttonEl.style.display =\n",
              "          google.colab.kernel.accessAllowed ? 'block' : 'none';\n",
              "\n",
              "        async function convertToInteractive(key) {\n",
              "          const element = document.querySelector('#df-08d9b900-e5d5-48db-9cd3-05b63f7fac97');\n",
              "          const dataTable =\n",
              "            await google.colab.kernel.invokeFunction('convertToInteractive',\n",
              "                                                     [key], {});\n",
              "          if (!dataTable) return;\n",
              "\n",
              "          const docLinkHtml = 'Like what you see? Visit the ' +\n",
              "            '<a target=\"_blank\" href=https://colab.research.google.com/notebooks/data_table.ipynb>data table notebook</a>'\n",
              "            + ' to learn more about interactive tables.';\n",
              "          element.innerHTML = '';\n",
              "          dataTable['output_type'] = 'display_data';\n",
              "          await google.colab.output.renderOutput(dataTable, element);\n",
              "          const docLink = document.createElement('div');\n",
              "          docLink.innerHTML = docLinkHtml;\n",
              "          element.appendChild(docLink);\n",
              "        }\n",
              "      </script>\n",
              "    </div>\n",
              "  </div>\n",
              "  "
            ]
          },
          "metadata": {},
          "execution_count": 17
        }
      ],
      "source": [
        "cv_results4 = pd.DataFrame(results4).transpose()\n",
        "cv_results4 = cv_results4.reset_index()\n",
        "cv_results4 = cv_results4.rename(columns={'level_0': 'n_estimators', \n",
        "                                          'level_1': 'max_depth',\n",
        "                                          0: 'AUC Score', 1: 'Recall Score', \n",
        "                                          2: 'F1 Score'})\n",
        "cv_results4 = cv_results4.sort_values(by=['Recall Score'], ascending=False)\n",
        "cv_results4"
      ]
    },
    {
      "cell_type": "markdown",
      "metadata": {
        "id": "nt8iagozyRx3"
      },
      "source": [
        "parameter terbaik untuk Random Forest Classifier adalah n_estimators=500 dan max_depth=50"
      ]
    },
    {
      "cell_type": "markdown",
      "metadata": {
        "id": "Ai67zT8ot79L"
      },
      "source": [
        "<h3> Testing set </h3>"
      ]
    },
    {
      "cell_type": "code",
      "execution_count": null,
      "metadata": {
        "id": "NQ7vy6zGt-Mz"
      },
      "outputs": [],
      "source": [
        "rfc = RandomForestClassifier(max_depth=50, n_estimators=500, random_state=0)"
      ]
    },
    {
      "cell_type": "code",
      "execution_count": null,
      "metadata": {
        "colab": {
          "base_uri": "https://localhost:8080/"
        },
        "id": "pYwEjRc9xvrm",
        "outputId": "b3d0b2c8-2b3c-443d-fe04-392bec5fbcea"
      },
      "outputs": [
        {
          "output_type": "execute_result",
          "data": {
            "text/plain": [
              "RandomForestClassifier(max_depth=50, n_estimators=500, random_state=0)"
            ]
          },
          "metadata": {},
          "execution_count": 35
        }
      ],
      "source": [
        "rfc.fit(X_train, y_train)"
      ]
    },
    {
      "cell_type": "code",
      "execution_count": null,
      "metadata": {
        "id": "gsxJuKVLx2-0"
      },
      "outputs": [],
      "source": [
        "y_pred4 = rfc.predict(X_test)"
      ]
    },
    {
      "cell_type": "code",
      "execution_count": null,
      "metadata": {
        "colab": {
          "base_uri": "https://localhost:8080/"
        },
        "id": "IcxJw_3ox26C",
        "outputId": "d5bc0799-6553-4725-971a-7683b5897c28"
      },
      "outputs": [
        {
          "output_type": "execute_result",
          "data": {
            "text/plain": [
              "array([[9719,  244],\n",
              "       [ 405, 9699]])"
            ]
          },
          "metadata": {},
          "execution_count": 37
        }
      ],
      "source": [
        "from sklearn.metrics import confusion_matrix\n",
        "confusion_matrix(y_test, y_pred4)"
      ]
    },
    {
      "cell_type": "code",
      "source": [
        "plt.figure(figsize=(9, 5))\n",
        "\n",
        "cf_matrix = confusion_matrix(y_test, y_pred4)\n",
        "group_names = ['True Negative', 'False Positive', 'False Negative',\n",
        "               'True Positive']\n",
        "group_counts = ['{0:0.0f}'.format(value) for value in\n",
        "                cf_matrix.flatten()]\n",
        "group_percentages = ['{0:.2%}'.format(value) for value in\n",
        "                     cf_matrix.flatten()/np.sum(cf_matrix)]\n",
        "labels = [f'{v1}\\n{v2}\\n{v3}' for v1, v2, v3 in\n",
        "          zip(group_names,group_counts,group_percentages)]\n",
        "labels = np.asarray(labels).reshape(2,2)\n",
        "\n",
        "sns.set(font_scale=1.5)\n",
        "sns.heatmap(cf_matrix, annot=labels, fmt='', cmap='Blues').set(\n",
        "    xlabel='Predicted data', ylabel='Actual data')"
      ],
      "metadata": {
        "colab": {
          "base_uri": "https://localhost:8080/",
          "height": 369
        },
        "id": "x_0UlTutrGkN",
        "outputId": "64cd18b9-aa90-4f4d-f84f-3adc6ebcc59e"
      },
      "execution_count": null,
      "outputs": [
        {
          "output_type": "execute_result",
          "data": {
            "text/plain": [
              "[Text(49.5, 0.5, 'Actual data'), Text(0.5, 13.5, 'Predicted data')]"
            ]
          },
          "metadata": {},
          "execution_count": 41
        },
        {
          "output_type": "display_data",
          "data": {
            "text/plain": [
              "<Figure size 648x360 with 2 Axes>"
            ],
            "image/png": "[encoded data removed]"
          },
          "metadata": {}
        }
      ]
    },
    {
      "cell_type": "code",
      "execution_count": null,
      "metadata": {
        "colab": {
          "base_uri": "https://localhost:8080/"
        },
        "id": "mTQXlqzayB-T",
        "outputId": "a8e0ce3c-78a6-44a4-d77d-a7e7f1366ec3"
      },
      "outputs": [
        {
          "output_type": "stream",
          "name": "stdout",
          "text": [
            "              precision    recall  f1-score   support\n",
            "\n",
            "           0       0.96      0.98      0.97      9963\n",
            "           1       0.98      0.96      0.97     10104\n",
            "\n",
            "    accuracy                           0.97     20067\n",
            "   macro avg       0.97      0.97      0.97     20067\n",
            "weighted avg       0.97      0.97      0.97     20067\n",
            "\n"
          ]
        }
      ],
      "source": [
        "# test set\n",
        "from sklearn.metrics import classification_report\n",
        "print(classification_report(y_test, y_pred4))"
      ]
    },
    {
      "cell_type": "code",
      "execution_count": null,
      "metadata": {
        "colab": {
          "base_uri": "https://localhost:8080/"
        },
        "id": "ZdcMQbuoyI4U",
        "outputId": "9911c2c1-136f-41a2-b1ef-a2ea20568617"
      },
      "outputs": [
        {
          "output_type": "stream",
          "name": "stdout",
          "text": [
            "AUC score: 0.9677131246657764\n",
            "Recall score: 0.959916864608076\n"
          ]
        }
      ],
      "source": [
        "print(f'AUC score: {roc_auc_score(y_test, y_pred4)}')\n",
        "print(f'Recall score: {recall_score(y_test, y_pred4)}')"
      ]
    },
    {
      "cell_type": "markdown",
      "metadata": {
        "id": "aRenn2A5uQuh"
      },
      "source": [
        "Assessments terbaru setelah dilakukan cross validation + hyperparameter tuning"
      ]
    },
    {
      "cell_type": "code",
      "execution_count": null,
      "metadata": {
        "id": "xpXyyLrwuPU2",
        "colab": {
          "base_uri": "https://localhost:8080/"
        },
        "outputId": "b2c0f584-151d-46ce-cf3c-22ebd07172c3"
      },
      "outputs": [
        {
          "output_type": "stream",
          "name": "stdout",
          "text": [
            "Logistic Regression:\n",
            "AUC score: 0.7955643571237331\n",
            "Recall score: 0.8977632620744259\n",
            "\n",
            "Linear SVC:\n",
            "AUC score: 0.6932576453304782\n",
            "Recall score: 0.9514053840063341\n",
            "\n",
            "Naive Bayes:\n",
            "AUC score: 0.754386330372497\n",
            "Recall score: 0.6886381631037213\n",
            "\n",
            "Random Forest Classifier:\n",
            "AUC score: 0.9677131246657764\n",
            "Recall score: 0.959916864608076\n",
            "\n"
          ]
        }
      ],
      "source": [
        "print(\"Logistic Regression:\")\n",
        "print(f'AUC score: {roc_auc_score(y_test, y_pred1)}')\n",
        "print(f'Recall score: {recall_score(y_test, y_pred1)}\\n')\n",
        "print(\"Linear SVC:\")\n",
        "print(f'AUC score: {roc_auc_score(y_test, y_pred2)}')\n",
        "print(f'Recall score: {recall_score(y_test, y_pred2)}\\n')\n",
        "print(\"Naive Bayes:\")\n",
        "print(f'AUC score: {roc_auc_score(y_test, y_pred3)}')\n",
        "print(f'Recall score: {recall_score(y_test, y_pred3)}\\n')\n",
        "print(\"Random Forest Classifier:\")\n",
        "print(f'AUC score: {roc_auc_score(y_test, y_pred4)}')\n",
        "print(f'Recall score: {recall_score(y_test, y_pred4)}\\n')"
      ]
    },
    {
      "cell_type": "markdown",
      "source": [
        "dari keempat model, assessment terbaik adalah Random Forest Classifier. <br>\n",
        "Maka, kami akan menggunakan model ini untuk prediksi churn"
      ],
      "metadata": {
        "id": "itc7McT_EBTl"
      }
    },
    {
      "cell_type": "markdown",
      "source": [
        "<h1> Week 6: Final</h1>"
      ],
      "metadata": {
        "id": "G_xU1ILdb7SK"
      }
    },
    {
      "cell_type": "markdown",
      "source": [
        "<h2> Feature importance </h2>"
      ],
      "metadata": {
        "id": "aZtdhnlGBpaW"
      }
    },
    {
      "cell_type": "code",
      "source": [
        "from sklearn.inspection import permutation_importance\n",
        "import time\n",
        "\n",
        "start_time = time.time()\n",
        "result = permutation_importance(\n",
        "    rfc, X_test, y_test, n_repeats=10, random_state=0, n_jobs=2\n",
        ")\n",
        "elapsed_time = time.time() - start_time\n",
        "print(f\"Elapsed time to compute the importances: {elapsed_time:.3f} seconds\")"
      ],
      "metadata": {
        "id": "m88MOjnyBt1C"
      },
      "execution_count": null,
      "outputs": []
    },
    {
      "cell_type": "code",
      "source": [
        "feature_names = X_res.columns\n",
        "forest_importances = pd.Series(result.importances_mean, index=feature_names)"
      ],
      "metadata": {
        "id": "vL4xTREzDVbi"
      },
      "execution_count": null,
      "outputs": []
    },
    {
      "cell_type": "code",
      "source": [
        "fig, ax = plt.subplots()\n",
        "forest_importances.plot.bar(yerr=result.importances_std, ax=ax)\n",
        "ax.set_title(\"Feature importances using permutation on full model\")\n",
        "ax.set_ylabel(\"Mean accuracy decrease\")\n",
        "fig.tight_layout()\n",
        "plt.show()"
      ],
      "metadata": {
        "colab": {
          "base_uri": "https://localhost:8080/",
          "height": 297
        },
        "id": "o-h428YeCRe9",
        "outputId": "05e7c47f-24b8-4243-ca78-5898f960f42d"
      },
      "execution_count": null,
      "outputs": [
        {
          "output_type": "display_data",
          "data": {
            "text/plain": [
              "<Figure size 432x288 with 1 Axes>"
            ],
            "image/png": "[encoded data removed]"
          },
          "metadata": {
            "needs_background": "light"
          }
        }
      ]
    },
    {
      "cell_type": "markdown",
      "source": [
        "terlihat bahwa terdapat beberapa feature yang penting untuk model Random Forest Classifier, di antaranya age_from_first_join_date, total_amount, event_name dan event_count. <br>\n",
        "Maka, kita akan menggunakan feature-feature tersebut untuk analisis churn vs non churn"
      ],
      "metadata": {
        "id": "49at4b06ED5n"
      }
    },
    {
      "cell_type": "markdown",
      "source": [
        "<h2> Churn vs non churn </h2>"
      ],
      "metadata": {
        "id": "1IZrs8eZEtrC"
      }
    },
    {
      "cell_type": "markdown",
      "source": [
        "<h3> age_from_first_join_date </h3>"
      ],
      "metadata": {
        "id": "cFvlhjQNKOj1"
      }
    },
    {
      "cell_type": "code",
      "source": [
        "df2.head()"
      ],
      "metadata": {
        "colab": {
          "base_uri": "https://localhost:8080/",
          "height": 288
        },
        "id": "xd4M9X94Essb",
        "outputId": "4a886741-0a9e-4d24-a1af-41701173df39"
      },
      "execution_count": null,
      "outputs": [
        {
          "output_type": "execute_result",
          "data": {
            "text/plain": [
              "   customer_id gender device_type     home_location  age  \\\n",
              "0            3      M     Android      Jakarta Raya   36   \n",
              "1            8      F     Android    Sulawesi Utara   22   \n",
              "2            9      F     Android      Jakarta Raya   16   \n",
              "3           11      M     Android  Kalimantan Timur   29   \n",
              "4           15      F     Android        Jawa Barat   39   \n",
              "\n",
              "   age_from_first_join_date  promo_amount  shipment_fee   total_amount  \\\n",
              "0                         4   2570.652174   6811.594203  658950.478261   \n",
              "1                         1    962.375000   6875.000000  594825.125000   \n",
              "2                         1      0.000000   5625.000000  514203.750000   \n",
              "3                         0   9492.000000  15000.000000  197533.000000   \n",
              "4                         3   1818.000000  10000.000000  716360.666667   \n",
              "\n",
              "   quantity     item_price  event_count payment_method   promo_code  \\\n",
              "0       1.0  242216.420290         1021    Credit Card  WEEKENDSERU   \n",
              "1       2.0  252154.875000          221    Credit Card  WEEKENDSERU   \n",
              "2       1.0  308843.125000           94          Gopay          NaN   \n",
              "3       1.0  192025.000000           14            OVO       XX2022   \n",
              "4       1.0  233470.222222          109        LinkAja      BUYMORE   \n",
              "\n",
              "    event_name traffic_source  churned  \n",
              "0  ADD_TO_CART         MOBILE        1  \n",
              "1     HOMEPAGE         MOBILE        1  \n",
              "2  ADD_TO_CART         MOBILE        1  \n",
              "3  ADD_TO_CART         MOBILE        1  \n",
              "4  ADD_TO_CART         MOBILE        1  "
            ],
            "text/html": [
              "\n",
              "  <div id=\"df-ebc36a17-afb6-4aa2-a876-679f95200d6d\">\n",
              "    <div class=\"colab-df-container\">\n",
              "      <div>\n",
              "<style scoped>\n",
              "    .dataframe tbody tr th:only-of-type {\n",
              "        vertical-align: middle;\n",
              "    }\n",
              "\n",
              "    .dataframe tbody tr th {\n",
              "        vertical-align: top;\n",
              "    }\n",
              "\n",
              "    .dataframe thead th {\n",
              "        text-align: right;\n",
              "    }\n",
              "</style>\n",
              "<table border=\"1\" class=\"dataframe\">\n",
              "  <thead>\n",
              "    <tr style=\"text-align: right;\">\n",
              "      <th></th>\n",
              "      <th>customer_id</th>\n",
              "      <th>gender</th>\n",
              "      <th>device_type</th>\n",
              "      <th>home_location</th>\n",
              "      <th>age</th>\n",
              "      <th>age_from_first_join_date</th>\n",
              "      <th>promo_amount</th>\n",
              "      <th>shipment_fee</th>\n",
              "      <th>total_amount</th>\n",
              "      <th>quantity</th>\n",
              "      <th>item_price</th>\n",
              "      <th>event_count</th>\n",
              "      <th>payment_method</th>\n",
              "      <th>promo_code</th>\n",
              "      <th>event_name</th>\n",
              "      <th>traffic_source</th>\n",
              "      <th>churned</th>\n",
              "    </tr>\n",
              "  </thead>\n",
              "  <tbody>\n",
              "    <tr>\n",
              "      <th>0</th>\n",
              "      <td>3</td>\n",
              "      <td>M</td>\n",
              "      <td>Android</td>\n",
              "      <td>Jakarta Raya</td>\n",
              "      <td>36</td>\n",
              "      <td>4</td>\n",
              "      <td>2570.652174</td>\n",
              "      <td>6811.594203</td>\n",
              "      <td>658950.478261</td>\n",
              "      <td>1.0</td>\n",
              "      <td>242216.420290</td>\n",
              "      <td>1021</td>\n",
              "      <td>Credit Card</td>\n",
              "      <td>WEEKENDSERU</td>\n",
              "      <td>ADD_TO_CART</td>\n",
              "      <td>MOBILE</td>\n",
              "      <td>1</td>\n",
              "    </tr>\n",
              "    <tr>\n",
              "      <th>1</th>\n",
              "      <td>8</td>\n",
              "      <td>F</td>\n",
              "      <td>Android</td>\n",
              "      <td>Sulawesi Utara</td>\n",
              "      <td>22</td>\n",
              "      <td>1</td>\n",
              "      <td>962.375000</td>\n",
              "      <td>6875.000000</td>\n",
              "      <td>594825.125000</td>\n",
              "      <td>2.0</td>\n",
              "      <td>252154.875000</td>\n",
              "      <td>221</td>\n",
              "      <td>Credit Card</td>\n",
              "      <td>WEEKENDSERU</td>\n",
              "      <td>HOMEPAGE</td>\n",
              "      <td>MOBILE</td>\n",
              "      <td>1</td>\n",
              "    </tr>\n",
              "    <tr>\n",
              "      <th>2</th>\n",
              "      <td>9</td>\n",
              "      <td>F</td>\n",
              "      <td>Android</td>\n",
              "      <td>Jakarta Raya</td>\n",
              "      <td>16</td>\n",
              "      <td>1</td>\n",
              "      <td>0.000000</td>\n",
              "      <td>5625.000000</td>\n",
              "      <td>514203.750000</td>\n",
              "      <td>1.0</td>\n",
              "      <td>308843.125000</td>\n",
              "      <td>94</td>\n",
              "      <td>Gopay</td>\n",
              "      <td>NaN</td>\n",
              "      <td>ADD_TO_CART</td>\n",
              "      <td>MOBILE</td>\n",
              "      <td>1</td>\n",
              "    </tr>\n",
              "    <tr>\n",
              "      <th>3</th>\n",
              "      <td>11</td>\n",
              "      <td>M</td>\n",
              "      <td>Android</td>\n",
              "      <td>Kalimantan Timur</td>\n",
              "      <td>29</td>\n",
              "      <td>0</td>\n",
              "      <td>9492.000000</td>\n",
              "      <td>15000.000000</td>\n",
              "      <td>197533.000000</td>\n",
              "      <td>1.0</td>\n",
              "      <td>192025.000000</td>\n",
              "      <td>14</td>\n",
              "      <td>OVO</td>\n",
              "      <td>XX2022</td>\n",
              "      <td>ADD_TO_CART</td>\n",
              "      <td>MOBILE</td>\n",
              "      <td>1</td>\n",
              "    </tr>\n",
              "    <tr>\n",
              "      <th>4</th>\n",
              "      <td>15</td>\n",
              "      <td>F</td>\n",
              "      <td>Android</td>\n",
              "      <td>Jawa Barat</td>\n",
              "      <td>39</td>\n",
              "      <td>3</td>\n",
              "      <td>1818.000000</td>\n",
              "      <td>10000.000000</td>\n",
              "      <td>716360.666667</td>\n",
              "      <td>1.0</td>\n",
              "      <td>233470.222222</td>\n",
              "      <td>109</td>\n",
              "      <td>LinkAja</td>\n",
              "      <td>BUYMORE</td>\n",
              "      <td>ADD_TO_CART</td>\n",
              "      <td>MOBILE</td>\n",
              "      <td>1</td>\n",
              "    </tr>\n",
              "  </tbody>\n",
              "</table>\n",
              "</div>\n",
              "      <button class=\"colab-df-convert\" onclick=\"convertToInteractive('df-ebc36a17-afb6-4aa2-a876-679f95200d6d')\"\n",
              "              title=\"Convert this dataframe to an interactive table.\"\n",
              "              style=\"display:none;\">\n",
              "        \n",
              "  <svg xmlns=\"http://www.w3.org/2000/svg\" height=\"24px\"viewBox=\"0 0 24 24\"\n",
              "       width=\"24px\">\n",
              "    <path d=\"M0 0h24v24H0V0z\" fill=\"none\"/>\n",
              "    <path d=\"M18.56 5.44l.94 2.06.94-2.06 2.06-.94-2.06-.94-.94-2.06-.94 2.06-2.06.94zm-11 1L8.5 8.5l.94-2.06 2.06-.94-2.06-.94L8.5 2.5l-.94 2.06-2.06.94zm10 10l.94 2.06.94-2.06 2.06-.94-2.06-.94-.94-2.06-.94 2.06-2.06.94z\"/><path d=\"M17.41 7.96l-1.37-1.37c-.4-.4-.92-.59-1.43-.59-.52 0-1.04.2-1.43.59L10.3 9.45l-7.72 7.72c-.78.78-.78 2.05 0 2.83L4 21.41c.39.39.9.59 1.41.59.51 0 1.02-.2 1.41-.59l7.78-7.78 2.81-2.81c.8-.78.8-2.07 0-2.86zM5.41 20L4 18.59l7.72-7.72 1.47 1.35L5.41 20z\"/>\n",
              "  </svg>\n",
              "      </button>\n",
              "      \n",
              "  <style>\n",
              "    .colab-df-container {\n",
              "      display:flex;\n",
              "      flex-wrap:wrap;\n",
              "      gap: 12px;\n",
              "    }\n",
              "\n",
              "    .colab-df-convert {\n",
              "      background-color: #E8F0FE;\n",
              "      border: none;\n",
              "      border-radius: 50%;\n",
              "      cursor: pointer;\n",
              "      display: none;\n",
              "      fill: #1967D2;\n",
              "      height: 32px;\n",
              "      padding: 0 0 0 0;\n",
              "      width: 32px;\n",
              "    }\n",
              "\n",
              "    .colab-df-convert:hover {\n",
              "      background-color: #E2EBFA;\n",
              "      box-shadow: 0px 1px 2px rgba(60, 64, 67, 0.3), 0px 1px 3px 1px rgba(60, 64, 67, 0.15);\n",
              "      fill: #174EA6;\n",
              "    }\n",
              "\n",
              "    [theme=dark] .colab-df-convert {\n",
              "      background-color: #3B4455;\n",
              "      fill: #D2E3FC;\n",
              "    }\n",
              "\n",
              "    [theme=dark] .colab-df-convert:hover {\n",
              "      background-color: #434B5C;\n",
              "      box-shadow: 0px 1px 3px 1px rgba(0, 0, 0, 0.15);\n",
              "      filter: drop-shadow(0px 1px 2px rgba(0, 0, 0, 0.3));\n",
              "      fill: #FFFFFF;\n",
              "    }\n",
              "  </style>\n",
              "\n",
              "      <script>\n",
              "        const buttonEl =\n",
              "          document.querySelector('#df-ebc36a17-afb6-4aa2-a876-679f95200d6d button.colab-df-convert');\n",
              "        buttonEl.style.display =\n",
              "          google.colab.kernel.accessAllowed ? 'block' : 'none';\n",
              "\n",
              "        async function convertToInteractive(key) {\n",
              "          const element = document.querySelector('#df-ebc36a17-afb6-4aa2-a876-679f95200d6d');\n",
              "          const dataTable =\n",
              "            await google.colab.kernel.invokeFunction('convertToInteractive',\n",
              "                                                     [key], {});\n",
              "          if (!dataTable) return;\n",
              "\n",
              "          const docLinkHtml = 'Like what you see? Visit the ' +\n",
              "            '<a target=\"_blank\" href=https://colab.research.google.com/notebooks/data_table.ipynb>data table notebook</a>'\n",
              "            + ' to learn more about interactive tables.';\n",
              "          element.innerHTML = '';\n",
              "          dataTable['output_type'] = 'display_data';\n",
              "          await google.colab.output.renderOutput(dataTable, element);\n",
              "          const docLink = document.createElement('div');\n",
              "          docLink.innerHTML = docLinkHtml;\n",
              "          element.appendChild(docLink);\n",
              "        }\n",
              "      </script>\n",
              "    </div>\n",
              "  </div>\n",
              "  "
            ]
          },
          "metadata": {},
          "execution_count": 28
        }
      ]
    },
    {
      "cell_type": "code",
      "source": [
        "age_from_first_join_date_0 = df2[['age_from_first_join_date', 'churned']][df2['churned']==0]"
      ],
      "metadata": {
        "id": "JrvO9BCeJL5L"
      },
      "execution_count": null,
      "outputs": []
    },
    {
      "cell_type": "code",
      "source": [
        "sns.boxplot(data=age_from_first_join_date_0, x='age_from_first_join_date').set(\n",
        "    title='not churned')"
      ],
      "metadata": {
        "colab": {
          "base_uri": "https://localhost:8080/",
          "height": 313
        },
        "id": "YTHb7mTZLAkE",
        "outputId": "af65d022-957b-4fd3-8e14-8e9a1801f7e9"
      },
      "execution_count": null,
      "outputs": [
        {
          "output_type": "execute_result",
          "data": {
            "text/plain": [
              "[Text(0.5, 1.0, 'not churned')]"
            ]
          },
          "metadata": {},
          "execution_count": 38
        },
        {
          "output_type": "display_data",
          "data": {
            "text/plain": [
              "<Figure size 432x288 with 1 Axes>"
            ],
            "image/png": "[encoded data removed]"
          },
          "metadata": {
            "needs_background": "light"
          }
        }
      ]
    },
    {
      "cell_type": "code",
      "source": [
        "age_from_first_join_date_1 = df2[['age_from_first_join_date', 'churned']][df2['churned']==1]"
      ],
      "metadata": {
        "id": "Vh6R_ryrLdd8"
      },
      "execution_count": null,
      "outputs": []
    },
    {
      "cell_type": "code",
      "source": [
        "sns.boxplot(data=age_from_first_join_date_1, x='age_from_first_join_date').set(\n",
        "    title='churned')"
      ],
      "metadata": {
        "colab": {
          "base_uri": "https://localhost:8080/",
          "height": 313
        },
        "id": "v-1bmwb6LgFF",
        "outputId": "a890302f-d00d-4ee2-d7e8-0577929e89e0"
      },
      "execution_count": null,
      "outputs": [
        {
          "output_type": "execute_result",
          "data": {
            "text/plain": [
              "[Text(0.5, 1.0, 'churned')]"
            ]
          },
          "metadata": {},
          "execution_count": 37
        },
        {
          "output_type": "display_data",
          "data": {
            "text/plain": [
              "<Figure size 432x288 with 1 Axes>"
            ],
            "image/png": "[encoded data removed]"
          },
          "metadata": {
            "needs_background": "light"
          }
        }
      ]
    },
    {
      "cell_type": "markdown",
      "source": [
        "terlihat bahwa churned customer memiliki rata-rata umur 3 tahun sedangkan non churned customer memiliki rata-rata umur 1 tahun."
      ],
      "metadata": {
        "id": "1B7bEUhU-OIs"
      }
    },
    {
      "cell_type": "markdown",
      "source": [
        "<h3> event_count </h3>"
      ],
      "metadata": {
        "id": "Q0iOlmNyMg90"
      }
    },
    {
      "cell_type": "code",
      "source": [
        "event_count_0 = df2[['event_count', 'churned']][df2['churned']==0]"
      ],
      "metadata": {
        "id": "kdjBYCa5Nmgd"
      },
      "execution_count": null,
      "outputs": []
    },
    {
      "cell_type": "code",
      "source": [
        "sns.boxplot(data=event_count_0, x='event_count').set(\n",
        "    title='not churned')"
      ],
      "metadata": {
        "colab": {
          "base_uri": "https://localhost:8080/",
          "height": 313
        },
        "id": "7KAcU4VZNzHv",
        "outputId": "4d85af5f-18de-4dbf-ef7d-93160d527587"
      },
      "execution_count": null,
      "outputs": [
        {
          "output_type": "execute_result",
          "data": {
            "text/plain": [
              "[Text(0.5, 1.0, 'not churned')]"
            ]
          },
          "metadata": {},
          "execution_count": 40
        },
        {
          "output_type": "display_data",
          "data": {
            "text/plain": [
              "<Figure size 432x288 with 1 Axes>"
            ],
            "image/png": "[encoded data removed]"
          },
          "metadata": {
            "needs_background": "light"
          }
        }
      ]
    },
    {
      "cell_type": "code",
      "source": [
        "from scipy.stats import iqr\n",
        "iqr([event_count_0['event_count']])"
      ],
      "metadata": {
        "colab": {
          "base_uri": "https://localhost:8080/"
        },
        "id": "pdgbECxXPDva",
        "outputId": "027db9cd-e469-4f32-cfcb-4ac56fa36e4f"
      },
      "execution_count": null,
      "outputs": [
        {
          "output_type": "execute_result",
          "data": {
            "text/plain": [
              "1286.75"
            ]
          },
          "metadata": {},
          "execution_count": 43
        }
      ]
    },
    {
      "cell_type": "code",
      "source": [
        "event_count_1 = df2[['event_count', 'churned']][df2['churned']==1]"
      ],
      "metadata": {
        "id": "ntUGz5A6OBlw"
      },
      "execution_count": null,
      "outputs": []
    },
    {
      "cell_type": "code",
      "source": [
        "sns.boxplot(data=event_count_1, x='event_count').set(\n",
        "    title='churned')"
      ],
      "metadata": {
        "colab": {
          "base_uri": "https://localhost:8080/",
          "height": 313
        },
        "id": "FlKABTIgOF0k",
        "outputId": "e63d0523-35f3-4104-d665-7a74a56304b5"
      },
      "execution_count": null,
      "outputs": [
        {
          "output_type": "execute_result",
          "data": {
            "text/plain": [
              "[Text(0.5, 1.0, 'churned')]"
            ]
          },
          "metadata": {},
          "execution_count": 45
        },
        {
          "output_type": "display_data",
          "data": {
            "text/plain": [
              "<Figure size 432x288 with 1 Axes>"
            ],
            "image/png": "[encoded data removed]"
          },
          "metadata": {
            "needs_background": "light"
          }
        }
      ]
    },
    {
      "cell_type": "code",
      "source": [
        "from scipy.stats import iqr\n",
        "iqr([event_count_1['event_count']])"
      ],
      "metadata": {
        "colab": {
          "base_uri": "https://localhost:8080/"
        },
        "id": "dxTLuGwPPRh1",
        "outputId": "731e755e-5bdd-4669-98b4-9c7d59793ed4"
      },
      "execution_count": null,
      "outputs": [
        {
          "output_type": "execute_result",
          "data": {
            "text/plain": [
              "211.0"
            ]
          },
          "metadata": {},
          "execution_count": 44
        }
      ]
    },
    {
      "cell_type": "markdown",
      "source": [
        "terlihat bahwa churned customer memiliki interaksi rata-rata sebanyak 211 kali sedangkan non churned customer memiliki interaksi rata-rata sebanyak 1287 kali."
      ],
      "metadata": {
        "id": "mbMuEizF-2ln"
      }
    },
    {
      "cell_type": "markdown",
      "source": [
        "<h3> event_name </h3>"
      ],
      "metadata": {
        "id": "Mlzol6xpPwSe"
      }
    },
    {
      "cell_type": "code",
      "source": [
        "event_name_0 = df2[['event_name', 'churned']][df2['churned']==0]"
      ],
      "metadata": {
        "id": "CWjQtIOhPyqv"
      },
      "execution_count": null,
      "outputs": []
    },
    {
      "cell_type": "code",
      "source": [
        "plt.figure(figsize=(10, 5))\n",
        "sns.countplot(data=event_name_0, x='event_name').set(\n",
        "    title='not churned')"
      ],
      "metadata": {
        "colab": {
          "base_uri": "https://localhost:8080/",
          "height": 368
        },
        "id": "7DeUESgjP_44",
        "outputId": "c83b35f4-0fdb-4ff3-8a85-b0139824222a"
      },
      "execution_count": null,
      "outputs": [
        {
          "output_type": "execute_result",
          "data": {
            "text/plain": [
              "[Text(0.5, 1.0, 'not churned')]"
            ]
          },
          "metadata": {},
          "execution_count": 49
        },
        {
          "output_type": "display_data",
          "data": {
            "text/plain": [
              "<Figure size 720x360 with 1 Axes>"
            ],
            "image/png": "[encoded data removed]"
          },
          "metadata": {
            "needs_background": "light"
          }
        }
      ]
    },
    {
      "cell_type": "code",
      "source": [
        "event_name_1 = df2[['event_name', 'churned']][df2['churned']==1]"
      ],
      "metadata": {
        "id": "ETebhH0bQx9W"
      },
      "execution_count": null,
      "outputs": []
    },
    {
      "cell_type": "code",
      "source": [
        "plt.figure(figsize=(10, 5))\n",
        "sns.countplot(data=event_name_1, x='event_name').set(\n",
        "    title='churned')"
      ],
      "metadata": {
        "colab": {
          "base_uri": "https://localhost:8080/",
          "height": 368
        },
        "id": "B4hm9UJdQy40",
        "outputId": "04c0e9c4-87ad-4e42-cfbe-802b9066dc45"
      },
      "execution_count": null,
      "outputs": [
        {
          "output_type": "execute_result",
          "data": {
            "text/plain": [
              "[Text(0.5, 1.0, 'churned')]"
            ]
          },
          "metadata": {},
          "execution_count": 53
        },
        {
          "output_type": "display_data",
          "data": {
            "text/plain": [
              "<Figure size 720x360 with 1 Axes>"
            ],
            "image/png": "[encoded data removed]"
          },
          "metadata": {
            "needs_background": "light"
          }
        }
      ]
    },
    {
      "cell_type": "markdown",
      "source": [
        "terlihat bahwa churned customer paling banyak event terakhirnya adalah ADD_TO_CART sedangkan non churned customer paling banyak event terakhirnya adalah CLICK. <br>\n",
        "ADD_TO_CART merupakan event di mana customer menambahkan item ke keranjang sedangkan CLICK merupakan event di mana customer melakukan klik di platform baik web maupun mobile."
      ],
      "metadata": {
        "id": "m2bPc_Z5_B0C"
      }
    },
    {
      "cell_type": "markdown",
      "source": [
        "<h3> total_amount </h3>"
      ],
      "metadata": {
        "id": "-sz-2eGvT6gM"
      }
    },
    {
      "cell_type": "code",
      "source": [
        "total_amount_0 = df2[['total_amount', 'churned']][df2['churned']==0]"
      ],
      "metadata": {
        "id": "sSp76W26T9I3"
      },
      "execution_count": null,
      "outputs": []
    },
    {
      "cell_type": "code",
      "source": [
        "#plt.figure(figsize=(10, 5))\n",
        "sns.boxplot(data=total_amount_0, x='total_amount').set(\n",
        "    title='not churned')"
      ],
      "metadata": {
        "colab": {
          "base_uri": "https://localhost:8080/",
          "height": 313
        },
        "id": "vJPAwcpfUtfQ",
        "outputId": "2a955e87-aff5-4dd0-fd40-6130e5f94ced"
      },
      "execution_count": null,
      "outputs": [
        {
          "output_type": "execute_result",
          "data": {
            "text/plain": [
              "[Text(0.5, 1.0, 'not churned')]"
            ]
          },
          "metadata": {},
          "execution_count": 90
        },
        {
          "output_type": "display_data",
          "data": {
            "text/plain": [
              "<Figure size 432x288 with 1 Axes>"
            ],
            "image/png": "[encoded data removed]"
          },
          "metadata": {
            "needs_background": "light"
          }
        }
      ]
    },
    {
      "cell_type": "code",
      "source": [
        "from scipy.stats import iqr\n",
        "iqr([total_amount_0['total_amount']])"
      ],
      "metadata": {
        "colab": {
          "base_uri": "https://localhost:8080/"
        },
        "id": "3RhVJdNPVtSl",
        "outputId": "833317ee-4822-480e-af6f-2dada1c63358"
      },
      "execution_count": null,
      "outputs": [
        {
          "output_type": "execute_result",
          "data": {
            "text/plain": [
              "696312.2966341043"
            ]
          },
          "metadata": {},
          "execution_count": 77
        }
      ]
    },
    {
      "cell_type": "code",
      "source": [
        "# Upper fence\n",
        "IQR = iqr([total_amount_0['total_amount']])\n",
        "Q3 = total_amount_0['total_amount'].quantile(0.75)\n",
        "Q3 + (1.5 * IQR)"
      ],
      "metadata": {
        "colab": {
          "base_uri": "https://localhost:8080/"
        },
        "id": "rnahsD4EvUM1",
        "outputId": "40cb9ab7-7950-4546-c1ee-728c03c45026"
      },
      "execution_count": null,
      "outputs": [
        {
          "output_type": "execute_result",
          "data": {
            "text/plain": [
              "2274005.3025900456"
            ]
          },
          "metadata": {},
          "execution_count": 86
        }
      ]
    },
    {
      "cell_type": "code",
      "source": [
        "total_amount_1 = df2[['total_amount', 'churned']][df2['churned']==1]"
      ],
      "metadata": {
        "id": "JTwUxGiSVj6j"
      },
      "execution_count": null,
      "outputs": []
    },
    {
      "cell_type": "code",
      "source": [
        "#plt.figure(figsize=(10, 5))\n",
        "sns.boxplot(data=total_amount_1, x='total_amount').set(\n",
        "    title='churned')"
      ],
      "metadata": {
        "colab": {
          "base_uri": "https://localhost:8080/",
          "height": 313
        },
        "id": "wXu0fLypVmTL",
        "outputId": "1a742d4c-0463-4b76-94f0-864808491f57"
      },
      "execution_count": null,
      "outputs": [
        {
          "output_type": "execute_result",
          "data": {
            "text/plain": [
              "[Text(0.5, 1.0, 'churned')]"
            ]
          },
          "metadata": {},
          "execution_count": 91
        },
        {
          "output_type": "display_data",
          "data": {
            "text/plain": [
              "<Figure size 432x288 with 1 Axes>"
            ],
            "image/png": "[encoded data removed]"
          },
          "metadata": {
            "needs_background": "light"
          }
        }
      ]
    },
    {
      "cell_type": "code",
      "source": [
        "from scipy.stats import iqr\n",
        "iqr([total_amount_1['total_amount']])"
      ],
      "metadata": {
        "colab": {
          "base_uri": "https://localhost:8080/"
        },
        "id": "L3kGi26rV9vM",
        "outputId": "9940f113-cf71-4c8f-dd2a-d6ead96a50c6"
      },
      "execution_count": null,
      "outputs": [
        {
          "output_type": "execute_result",
          "data": {
            "text/plain": [
              "628122.4816017316"
            ]
          },
          "metadata": {},
          "execution_count": 70
        }
      ]
    },
    {
      "cell_type": "code",
      "source": [
        "# Upper fence\n",
        "IQR = iqr([total_amount_1['total_amount']])\n",
        "Q3 = total_amount_1['total_amount'].quantile(0.75)\n",
        "Q3 + (1.5 * IQR)"
      ],
      "metadata": {
        "colab": {
          "base_uri": "https://localhost:8080/"
        },
        "id": "7PV9G-7LaMBt",
        "outputId": "50befbde-3bfa-4882-9055-6c81c6896eac"
      },
      "execution_count": null,
      "outputs": [
        {
          "output_type": "execute_result",
          "data": {
            "text/plain": [
              "1872860.2873376624"
            ]
          },
          "metadata": {},
          "execution_count": 85
        }
      ]
    },
    {
      "cell_type": "markdown",
      "source": [
        "terlihat bahwa churned customer memiliki rata-rata total pengeluaran adalah Rp628.122,00 sedangkan non churned customer Rp696.312,00."
      ],
      "metadata": {
        "id": "n8feV0bs_KTC"
      }
    },
    {
      "cell_type": "markdown",
      "source": [
        "<h2> Rekomendasi untuk Fashion Campus dalam mengurangi churn </h2>"
      ],
      "metadata": {
        "id": "xH0ACMoIvnbH"
      }
    },
    {
      "cell_type": "markdown",
      "source": [
        "1. Berdasarkan umur customer dari pertama kali mendaftar di Fashion Campus, terlihat bahwa churned customer memiliki rata-rata umur 3 tahun sedangkan non churned customer memiliki rata-rata umur 1 tahun. <br>\n",
        "Kemungkinan kebanyakan churned customer, walaupun sudah lama mendaftar, menjadi jenuh karena tidak mendapat pelayanan yang semestinya sebagai pelanggan lama. <br>\n",
        "Maka, Fashion Campus dapat membuat program loyalitas di mana bagi pelanggan lama dapat mendapatkan keistimewaan yang tidak dimiliki oleh pengguna baru seperti diskon, barang eksklusif dan sebagainya. <br>\n",
        "\n",
        "2. Berdasarkan event_count (banyaknya interaksi customer terhadap platform Fashion Campus, baik web maupun mobile), terlihat bahwa churned customer memiliki interaksi rata-rata sebanyak 211 kali sedangkan non churned customer memiliki interaksi rata-rata sebanyak 1287 kali. <br>\n",
        "Rendahnya interaksi rata-rata dari churned customer dapat disebabkan oleh platform yang kurang diminati oleh customer. <br>\n",
        "Maka, Fashion Campus dapat memperbaiki dan meningkatkan kualitas platform baik di web maupun mobile seperti peningkatan UI/UX, pembuatan UI/UX yang sesuai dengan yang disukai target umur Fashion Campus (15-35 tahun) agar customer betah, dan sebagainya. <br>\n",
        "\n",
        "3. Berdasarkan event terakhir yang dilakukan oleh customer, terlihat bahwa churned customer paling banyak event terakhirnya adalah ADD_TO_CART sedangkan non churned customer paling banyak event terakhirnya adalah CLICK. <br>\n",
        "ADD_TO_CART merupakan event di mana customer menambahkan item ke keranjang sedangkan CLICK merupakan event di mana customer melakukan klik di platform baik web maupun mobile. <br>\n",
        "Churned customer kebanyakan hanya memasukkan item-item yang mereka sukai namun belum sampai ke tahap booking (pemesanan).<br>\n",
        "Maka, Fashion Campus dapat melakukan beberapa hal ketika customer memasukkan item-item ke keranjang, seperti penawaran diskon dengan syarat adanya waktu terbatas agar customer segera membeli, mengingatkan customer bahwa barang yang ada di item akan segera habis bila tidak segera dibeli, dan sebagainya.<br>\n",
        "\n",
        "4. Berdasarkan total pengeluaran yang harus dibayar customer ketika membeli item, terlihat bahwa rata-rata churned customer maupun non churned customer hampir sama. <br>\n",
        "Churned customer memiliki rata-rata total pengeluaran adalah Rp628.122,00 sedangkan non churned customer Rp696.312,00. Rata-rata churned customer lebih rendah daripada non churned customer.<br>\n",
        "Dapat dikatakan bahwa churned customer menyukai pembelian dengan total sekitar 600 ribuan.<br>\n",
        "Maka, Fashion Campus dapat memberikan perhatian khusus terhadap customer yang membeli item dengan rata-rata 600 ribuan, seperti peningkatan kualitas item dengan harga di bawah 600 ribuan, dan sebagainya."
      ],
      "metadata": {
        "id": "LFW3d1R4vuUR"
      }
    }
  ],
  "metadata": {
    "colab": {
      "provenance": []
    },
    "kernelspec": {
      "display_name": "Python 3",
      "name": "python3"
    },
    "language_info": {
      "name": "python"
    }
  },
  "nbformat": 4,
  "nbformat_minor": 0
}